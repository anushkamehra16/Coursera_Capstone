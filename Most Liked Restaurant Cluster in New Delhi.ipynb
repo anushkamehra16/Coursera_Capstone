{
 "cells": [
  {
   "cell_type": "markdown",
   "metadata": {},
   "source": [
    "## Import libraries"
   ]
  },
  {
   "cell_type": "code",
   "execution_count": 73,
   "metadata": {},
   "outputs": [],
   "source": [
    "import pandas as pd\n",
    "import numpy as np\n",
    "import os\n",
    "import requests\n",
    "from bs4 import BeautifulSoup\n",
    "from tabulate import tabulate\n",
    "import matplotlib.cm as cm\n",
    "import matplotlib.colors as colors\n",
    "from sklearn.cluster import KMeans\n",
    "import folium \n",
    "from pandas.io.json import json_normalize\n",
    "import geopandas as gpd\n",
    "from geopy.geocoders import Nominatim\n",
    "import io\n",
    "from geopy.extra.rate_limiter import RateLimiter\n",
    "import matplotlib.pyplot as plt"
   ]
  },
  {
   "cell_type": "markdown",
   "metadata": {},
   "source": [
    "## Loading New Delhi neighborhoods data file"
   ]
  },
  {
   "cell_type": "markdown",
   "metadata": {},
   "source": [
    "#### Reading the neighborhoods file in a data frame"
   ]
  },
  {
   "cell_type": "code",
   "execution_count": 2,
   "metadata": {},
   "outputs": [],
   "source": [
    "dneigh = pd.read_csv(os.getcwd() + '/delhi-neighborhood-data/delhi_dataSet.csv')"
   ]
  },
  {
   "cell_type": "markdown",
   "metadata": {},
   "source": [
    "#### Print shape of the file"
   ]
  },
  {
   "cell_type": "code",
   "execution_count": 3,
   "metadata": {},
   "outputs": [
    {
     "data": {
      "text/plain": [
       "(185, 5)"
      ]
     },
     "execution_count": 3,
     "metadata": {},
     "output_type": "execute_result"
    }
   ],
   "source": [
    "dneigh.shape"
   ]
  },
  {
   "cell_type": "code",
   "execution_count": 4,
   "metadata": {},
   "outputs": [
    {
     "data": {
      "text/html": [
       "<div>\n",
       "<style scoped>\n",
       "    .dataframe tbody tr th:only-of-type {\n",
       "        vertical-align: middle;\n",
       "    }\n",
       "\n",
       "    .dataframe tbody tr th {\n",
       "        vertical-align: top;\n",
       "    }\n",
       "\n",
       "    .dataframe thead th {\n",
       "        text-align: right;\n",
       "    }\n",
       "</style>\n",
       "<table border=\"1\" class=\"dataframe\">\n",
       "  <thead>\n",
       "    <tr style=\"text-align: right;\">\n",
       "      <th></th>\n",
       "      <th>Unnamed: 0</th>\n",
       "      <th>Borough</th>\n",
       "      <th>Neighborhood</th>\n",
       "      <th>latitude</th>\n",
       "      <th>longitude</th>\n",
       "    </tr>\n",
       "  </thead>\n",
       "  <tbody>\n",
       "    <tr>\n",
       "      <td>0</td>\n",
       "      <td>0</td>\n",
       "      <td>North West Delhi</td>\n",
       "      <td>Adarsh Nagar</td>\n",
       "      <td>28.614192</td>\n",
       "      <td>77.071541</td>\n",
       "    </tr>\n",
       "    <tr>\n",
       "      <td>1</td>\n",
       "      <td>1</td>\n",
       "      <td>North West Delhi</td>\n",
       "      <td>Ashok Vihar</td>\n",
       "      <td>28.699453</td>\n",
       "      <td>77.184826</td>\n",
       "    </tr>\n",
       "    <tr>\n",
       "      <td>2</td>\n",
       "      <td>2</td>\n",
       "      <td>North West Delhi</td>\n",
       "      <td>Azadpur</td>\n",
       "      <td>28.707657</td>\n",
       "      <td>77.175547</td>\n",
       "    </tr>\n",
       "    <tr>\n",
       "      <td>3</td>\n",
       "      <td>3</td>\n",
       "      <td>North West Delhi</td>\n",
       "      <td>Bawana</td>\n",
       "      <td>28.799660</td>\n",
       "      <td>77.032885</td>\n",
       "    </tr>\n",
       "    <tr>\n",
       "      <td>4</td>\n",
       "      <td>4</td>\n",
       "      <td>North West Delhi</td>\n",
       "      <td>Begum Pur</td>\n",
       "      <td>NaN</td>\n",
       "      <td>NaN</td>\n",
       "    </tr>\n",
       "  </tbody>\n",
       "</table>\n",
       "</div>"
      ],
      "text/plain": [
       "   Unnamed: 0           Borough  Neighborhood   latitude  longitude\n",
       "0           0  North West Delhi  Adarsh Nagar  28.614192  77.071541\n",
       "1           1  North West Delhi   Ashok Vihar  28.699453  77.184826\n",
       "2           2  North West Delhi       Azadpur  28.707657  77.175547\n",
       "3           3  North West Delhi        Bawana  28.799660  77.032885\n",
       "4           4  North West Delhi     Begum Pur        NaN        NaN"
      ]
     },
     "execution_count": 4,
     "metadata": {},
     "output_type": "execute_result"
    }
   ],
   "source": [
    "dneigh.head()"
   ]
  },
  {
   "cell_type": "code",
   "execution_count": 5,
   "metadata": {},
   "outputs": [],
   "source": [
    "# drop Unnamed:0 column\n",
    "dneigh.drop(columns = ['Unnamed: 0'], axis = 1, inplace = True)"
   ]
  },
  {
   "cell_type": "code",
   "execution_count": 6,
   "metadata": {},
   "outputs": [
    {
     "data": {
      "text/html": [
       "<div>\n",
       "<style scoped>\n",
       "    .dataframe tbody tr th:only-of-type {\n",
       "        vertical-align: middle;\n",
       "    }\n",
       "\n",
       "    .dataframe tbody tr th {\n",
       "        vertical-align: top;\n",
       "    }\n",
       "\n",
       "    .dataframe thead th {\n",
       "        text-align: right;\n",
       "    }\n",
       "</style>\n",
       "<table border=\"1\" class=\"dataframe\">\n",
       "  <thead>\n",
       "    <tr style=\"text-align: right;\">\n",
       "      <th></th>\n",
       "      <th>Borough</th>\n",
       "      <th>Neighborhood</th>\n",
       "      <th>latitude</th>\n",
       "      <th>longitude</th>\n",
       "    </tr>\n",
       "  </thead>\n",
       "  <tbody>\n",
       "    <tr>\n",
       "      <td>0</td>\n",
       "      <td>North West Delhi</td>\n",
       "      <td>Adarsh Nagar</td>\n",
       "      <td>28.614192</td>\n",
       "      <td>77.071541</td>\n",
       "    </tr>\n",
       "    <tr>\n",
       "      <td>1</td>\n",
       "      <td>North West Delhi</td>\n",
       "      <td>Ashok Vihar</td>\n",
       "      <td>28.699453</td>\n",
       "      <td>77.184826</td>\n",
       "    </tr>\n",
       "    <tr>\n",
       "      <td>2</td>\n",
       "      <td>North West Delhi</td>\n",
       "      <td>Azadpur</td>\n",
       "      <td>28.707657</td>\n",
       "      <td>77.175547</td>\n",
       "    </tr>\n",
       "    <tr>\n",
       "      <td>3</td>\n",
       "      <td>North West Delhi</td>\n",
       "      <td>Bawana</td>\n",
       "      <td>28.799660</td>\n",
       "      <td>77.032885</td>\n",
       "    </tr>\n",
       "    <tr>\n",
       "      <td>4</td>\n",
       "      <td>North West Delhi</td>\n",
       "      <td>Begum Pur</td>\n",
       "      <td>NaN</td>\n",
       "      <td>NaN</td>\n",
       "    </tr>\n",
       "  </tbody>\n",
       "</table>\n",
       "</div>"
      ],
      "text/plain": [
       "            Borough  Neighborhood   latitude  longitude\n",
       "0  North West Delhi  Adarsh Nagar  28.614192  77.071541\n",
       "1  North West Delhi   Ashok Vihar  28.699453  77.184826\n",
       "2  North West Delhi       Azadpur  28.707657  77.175547\n",
       "3  North West Delhi        Bawana  28.799660  77.032885\n",
       "4  North West Delhi     Begum Pur        NaN        NaN"
      ]
     },
     "execution_count": 6,
     "metadata": {},
     "output_type": "execute_result"
    }
   ],
   "source": [
    "dneigh.head()"
   ]
  },
  {
   "cell_type": "code",
   "execution_count": 7,
   "metadata": {},
   "outputs": [],
   "source": [
    "# dropping rows with Latitude is Null\n",
    "indexNames = dneigh[ dneigh['latitude'].isnull()].index\n",
    " \n",
    "# Delete these row indexes from dataFrame\n",
    "dneigh.drop(indexNames , inplace=True)\n",
    "\n",
    "# dropping rows with Longitude is Null\n",
    "indexNames = dneigh[ dneigh['longitude'].isnull()].index\n",
    " \n",
    "# Delete these row indexes from dataFrame\n",
    "dneigh.drop(indexNames , inplace=True)"
   ]
  },
  {
   "cell_type": "markdown",
   "metadata": {},
   "source": [
    "### Get New Delhi Latitude and Longitude values "
   ]
  },
  {
   "cell_type": "code",
   "execution_count": 8,
   "metadata": {},
   "outputs": [
    {
     "name": "stdout",
     "output_type": "stream",
     "text": [
      "The geograpical coordinate of New Delhi are 28.6141793, 77.2022662.\n"
     ]
    }
   ],
   "source": [
    "address = 'New Delhi, IN'\n",
    "\n",
    "geolocator = Nominatim(user_agent=\"delhi_locator\")\n",
    "location = geolocator.geocode(address)\n",
    "latitude = location.latitude\n",
    "longitude = location.longitude\n",
    "print('The geograpical coordinate of New Delhi are {}, {}.'.format(latitude, longitude))"
   ]
  },
  {
   "cell_type": "markdown",
   "metadata": {},
   "source": [
    "### Create a map of New Delhi"
   ]
  },
  {
   "cell_type": "code",
   "execution_count": 9,
   "metadata": {},
   "outputs": [
    {
     "data": {
      "text/html": [
       "<div style=\"width:100%;\"><div style=\"position:relative;width:100%;height:0;padding-bottom:60%;\"><iframe src=\"about:blank\" style=\"position:absolute;width:100%;height:100%;left:0;top:0;border:none !important;\" data-html=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 onload=\"this.contentDocument.open();this.contentDocument.write(atob(this.getAttribute('data-html')));this.contentDocument.close();\" allowfullscreen webkitallowfullscreen mozallowfullscreen></iframe></div></div>"
      ],
      "text/plain": [
       "<folium.folium.Map at 0x1aaec740d48>"
      ]
     },
     "execution_count": 9,
     "metadata": {},
     "output_type": "execute_result"
    }
   ],
   "source": [
    "# create map of New Delhi using latitude and longitude values\n",
    "delhi_map = folium.Map(location=[latitude, longitude], zoom_start=10)    \n",
    "delhi_map"
   ]
  },
  {
   "cell_type": "code",
   "execution_count": 10,
   "metadata": {},
   "outputs": [
    {
     "data": {
      "text/html": [
       "<div style=\"width:100%;\"><div style=\"position:relative;width:100%;height:0;padding-bottom:60%;\"><iframe src=\"about:blank\" style=\"position:absolute;width:100%;height:100%;left:0;top:0;border:none !important;\" data-html=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 onload=\"this.contentDocument.open();this.contentDocument.write(atob(this.getAttribute('data-html')));this.contentDocument.close();\" allowfullscreen webkitallowfullscreen mozallowfullscreen></iframe></div></div>"
      ],
      "text/plain": [
       "<folium.folium.Map at 0x1aaec76cc88>"
      ]
     },
     "execution_count": 10,
     "metadata": {},
     "output_type": "execute_result"
    }
   ],
   "source": [
    "# create map of New Delhi using latitude and longitude values\n",
    "delhi_map = folium.Map(location=[latitude, longitude], zoom_start=10)\n",
    "\n",
    "# add markers to map\n",
    "for lat, lng, borough, neighborhood in zip(dneigh['latitude'], dneigh['longitude'], dneigh['Borough'], dneigh['Neighborhood']):\n",
    "    label = '{}, {}'.format(neighborhood, borough)\n",
    "    label = folium.Popup(label, parse_html=True)\n",
    "    folium.CircleMarker(\n",
    "        [lat, lng],\n",
    "        radius=5,\n",
    "        popup=label,\n",
    "        color='blue',\n",
    "        fill=True,\n",
    "        fill_color='#3186cc',\n",
    "        fill_opacity=0.7,\n",
    "        parse_html=False).add_to(delhi_map)  \n",
    "    \n",
    "delhi_map"
   ]
  },
  {
   "cell_type": "markdown",
   "metadata": {},
   "source": [
    "## Explore Borough New Delhi and South Delhi "
   ]
  },
  {
   "cell_type": "code",
   "execution_count": 11,
   "metadata": {},
   "outputs": [
    {
     "data": {
      "text/html": [
       "<div>\n",
       "<style scoped>\n",
       "    .dataframe tbody tr th:only-of-type {\n",
       "        vertical-align: middle;\n",
       "    }\n",
       "\n",
       "    .dataframe tbody tr th {\n",
       "        vertical-align: top;\n",
       "    }\n",
       "\n",
       "    .dataframe thead th {\n",
       "        text-align: right;\n",
       "    }\n",
       "</style>\n",
       "<table border=\"1\" class=\"dataframe\">\n",
       "  <thead>\n",
       "    <tr style=\"text-align: right;\">\n",
       "      <th></th>\n",
       "      <th>Borough</th>\n",
       "      <th>Neighborhood</th>\n",
       "      <th>latitude</th>\n",
       "      <th>longitude</th>\n",
       "    </tr>\n",
       "  </thead>\n",
       "  <tbody>\n",
       "    <tr>\n",
       "      <td>0</td>\n",
       "      <td>New Delhi</td>\n",
       "      <td>Barakhamba Road</td>\n",
       "      <td>28.629142</td>\n",
       "      <td>77.226149</td>\n",
       "    </tr>\n",
       "    <tr>\n",
       "      <td>1</td>\n",
       "      <td>New Delhi</td>\n",
       "      <td>Chanakyapuri</td>\n",
       "      <td>28.594678</td>\n",
       "      <td>77.188521</td>\n",
       "    </tr>\n",
       "    <tr>\n",
       "      <td>2</td>\n",
       "      <td>New Delhi</td>\n",
       "      <td>Connaught Place</td>\n",
       "      <td>28.631383</td>\n",
       "      <td>77.219792</td>\n",
       "    </tr>\n",
       "    <tr>\n",
       "      <td>3</td>\n",
       "      <td>New Delhi</td>\n",
       "      <td>Gautampuri</td>\n",
       "      <td>28.511570</td>\n",
       "      <td>77.302623</td>\n",
       "    </tr>\n",
       "    <tr>\n",
       "      <td>4</td>\n",
       "      <td>New Delhi</td>\n",
       "      <td>Gole Market</td>\n",
       "      <td>28.633719</td>\n",
       "      <td>77.205627</td>\n",
       "    </tr>\n",
       "  </tbody>\n",
       "</table>\n",
       "</div>"
      ],
      "text/plain": [
       "     Borough     Neighborhood   latitude  longitude\n",
       "0  New Delhi  Barakhamba Road  28.629142  77.226149\n",
       "1  New Delhi     Chanakyapuri  28.594678  77.188521\n",
       "2  New Delhi  Connaught Place  28.631383  77.219792\n",
       "3  New Delhi       Gautampuri  28.511570  77.302623\n",
       "4  New Delhi      Gole Market  28.633719  77.205627"
      ]
     },
     "execution_count": 11,
     "metadata": {},
     "output_type": "execute_result"
    }
   ],
   "source": [
    "# creating a subset with only New Delhi Borough\n",
    "delhi = dneigh[dneigh['Borough'] == 'New Delhi'].reset_index(drop=True)\n",
    "delhi.head()"
   ]
  },
  {
   "cell_type": "code",
   "execution_count": 12,
   "metadata": {},
   "outputs": [
    {
     "data": {
      "text/plain": [
       "(9, 4)"
      ]
     },
     "execution_count": 12,
     "metadata": {},
     "output_type": "execute_result"
    }
   ],
   "source": [
    "delhi.shape"
   ]
  },
  {
   "cell_type": "code",
   "execution_count": 13,
   "metadata": {},
   "outputs": [
    {
     "data": {
      "text/html": [
       "<div>\n",
       "<style scoped>\n",
       "    .dataframe tbody tr th:only-of-type {\n",
       "        vertical-align: middle;\n",
       "    }\n",
       "\n",
       "    .dataframe tbody tr th {\n",
       "        vertical-align: top;\n",
       "    }\n",
       "\n",
       "    .dataframe thead th {\n",
       "        text-align: right;\n",
       "    }\n",
       "</style>\n",
       "<table border=\"1\" class=\"dataframe\">\n",
       "  <thead>\n",
       "    <tr style=\"text-align: right;\">\n",
       "      <th></th>\n",
       "      <th>Borough</th>\n",
       "      <th>Neighborhood</th>\n",
       "      <th>latitude</th>\n",
       "      <th>longitude</th>\n",
       "    </tr>\n",
       "  </thead>\n",
       "  <tbody>\n",
       "    <tr>\n",
       "      <td>0</td>\n",
       "      <td>South Delhi</td>\n",
       "      <td>Alaknanda</td>\n",
       "      <td>28.529336</td>\n",
       "      <td>77.251632</td>\n",
       "    </tr>\n",
       "    <tr>\n",
       "      <td>1</td>\n",
       "      <td>South Delhi</td>\n",
       "      <td>Chhattarpur</td>\n",
       "      <td>28.507007</td>\n",
       "      <td>77.175417</td>\n",
       "    </tr>\n",
       "    <tr>\n",
       "      <td>2</td>\n",
       "      <td>South Delhi</td>\n",
       "      <td>Chittaranjan Park</td>\n",
       "      <td>28.538752</td>\n",
       "      <td>77.249249</td>\n",
       "    </tr>\n",
       "    <tr>\n",
       "      <td>3</td>\n",
       "      <td>South Delhi</td>\n",
       "      <td>Dayanand Colony</td>\n",
       "      <td>28.562200</td>\n",
       "      <td>77.247613</td>\n",
       "    </tr>\n",
       "    <tr>\n",
       "      <td>4</td>\n",
       "      <td>South Delhi</td>\n",
       "      <td>Defence Colony</td>\n",
       "      <td>28.571791</td>\n",
       "      <td>77.232010</td>\n",
       "    </tr>\n",
       "  </tbody>\n",
       "</table>\n",
       "</div>"
      ],
      "text/plain": [
       "       Borough       Neighborhood   latitude  longitude\n",
       "0  South Delhi          Alaknanda  28.529336  77.251632\n",
       "1  South Delhi        Chhattarpur  28.507007  77.175417\n",
       "2  South Delhi  Chittaranjan Park  28.538752  77.249249\n",
       "3  South Delhi    Dayanand Colony  28.562200  77.247613\n",
       "4  South Delhi     Defence Colony  28.571791  77.232010"
      ]
     },
     "execution_count": 13,
     "metadata": {},
     "output_type": "execute_result"
    }
   ],
   "source": [
    "# creating a subset with only South Delhi Borough\n",
    "southDelhi = dneigh[dneigh['Borough'] == 'South Delhi'].reset_index(drop=True)\n",
    "southDelhi.head()"
   ]
  },
  {
   "cell_type": "code",
   "execution_count": 14,
   "metadata": {},
   "outputs": [
    {
     "data": {
      "text/plain": [
       "(54, 4)"
      ]
     },
     "execution_count": 14,
     "metadata": {},
     "output_type": "execute_result"
    }
   ],
   "source": [
    "# appending southDelhi dataframe to delhi dataframe\n",
    "delhi = delhi.append(southDelhi, ignore_index = True)\n",
    "delhi.shape"
   ]
  },
  {
   "cell_type": "code",
   "execution_count": 15,
   "metadata": {},
   "outputs": [
    {
     "data": {
      "text/html": [
       "<div>\n",
       "<style scoped>\n",
       "    .dataframe tbody tr th:only-of-type {\n",
       "        vertical-align: middle;\n",
       "    }\n",
       "\n",
       "    .dataframe tbody tr th {\n",
       "        vertical-align: top;\n",
       "    }\n",
       "\n",
       "    .dataframe thead th {\n",
       "        text-align: right;\n",
       "    }\n",
       "</style>\n",
       "<table border=\"1\" class=\"dataframe\">\n",
       "  <thead>\n",
       "    <tr style=\"text-align: right;\">\n",
       "      <th></th>\n",
       "      <th>Borough</th>\n",
       "      <th>Neighborhood</th>\n",
       "      <th>latitude</th>\n",
       "      <th>longitude</th>\n",
       "    </tr>\n",
       "  </thead>\n",
       "  <tbody>\n",
       "    <tr>\n",
       "      <td>0</td>\n",
       "      <td>New Delhi</td>\n",
       "      <td>Barakhamba Road</td>\n",
       "      <td>28.629142</td>\n",
       "      <td>77.226149</td>\n",
       "    </tr>\n",
       "    <tr>\n",
       "      <td>1</td>\n",
       "      <td>New Delhi</td>\n",
       "      <td>Chanakyapuri</td>\n",
       "      <td>28.594678</td>\n",
       "      <td>77.188521</td>\n",
       "    </tr>\n",
       "    <tr>\n",
       "      <td>2</td>\n",
       "      <td>New Delhi</td>\n",
       "      <td>Connaught Place</td>\n",
       "      <td>28.631383</td>\n",
       "      <td>77.219792</td>\n",
       "    </tr>\n",
       "    <tr>\n",
       "      <td>3</td>\n",
       "      <td>New Delhi</td>\n",
       "      <td>Gautampuri</td>\n",
       "      <td>28.511570</td>\n",
       "      <td>77.302623</td>\n",
       "    </tr>\n",
       "    <tr>\n",
       "      <td>4</td>\n",
       "      <td>New Delhi</td>\n",
       "      <td>Gole Market</td>\n",
       "      <td>28.633719</td>\n",
       "      <td>77.205627</td>\n",
       "    </tr>\n",
       "    <tr>\n",
       "      <td>5</td>\n",
       "      <td>New Delhi</td>\n",
       "      <td>Golf Links</td>\n",
       "      <td>28.595970</td>\n",
       "      <td>77.231163</td>\n",
       "    </tr>\n",
       "    <tr>\n",
       "      <td>6</td>\n",
       "      <td>New Delhi</td>\n",
       "      <td>INA Colony</td>\n",
       "      <td>28.579472</td>\n",
       "      <td>77.212451</td>\n",
       "    </tr>\n",
       "  </tbody>\n",
       "</table>\n",
       "</div>"
      ],
      "text/plain": [
       "     Borough     Neighborhood   latitude  longitude\n",
       "0  New Delhi  Barakhamba Road  28.629142  77.226149\n",
       "1  New Delhi     Chanakyapuri  28.594678  77.188521\n",
       "2  New Delhi  Connaught Place  28.631383  77.219792\n",
       "3  New Delhi       Gautampuri  28.511570  77.302623\n",
       "4  New Delhi      Gole Market  28.633719  77.205627\n",
       "5  New Delhi       Golf Links  28.595970  77.231163\n",
       "6  New Delhi       INA Colony  28.579472  77.212451"
      ]
     },
     "execution_count": 15,
     "metadata": {},
     "output_type": "execute_result"
    }
   ],
   "source": [
    "delhi.head(7)"
   ]
  },
  {
   "cell_type": "code",
   "execution_count": 16,
   "metadata": {},
   "outputs": [
    {
     "data": {
      "text/html": [
       "<div style=\"width:100%;\"><div style=\"position:relative;width:100%;height:0;padding-bottom:60%;\"><iframe src=\"about:blank\" style=\"position:absolute;width:100%;height:100%;left:0;top:0;border:none !important;\" data-html=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 onload=\"this.contentDocument.open();this.contentDocument.write(atob(this.getAttribute('data-html')));this.contentDocument.close();\" allowfullscreen webkitallowfullscreen mozallowfullscreen></iframe></div></div>"
      ],
      "text/plain": [
       "<folium.folium.Map at 0x1aaec740d88>"
      ]
     },
     "execution_count": 16,
     "metadata": {},
     "output_type": "execute_result"
    }
   ],
   "source": [
    "# create map of New Delhi and South Delhi using latitude and longitude values\n",
    "delhi_borough = folium.Map(location=[latitude, longitude], zoom_start=10)\n",
    "\n",
    "# add markers to map\n",
    "for lat, lng, borough, neighborhood in zip(delhi['latitude'], delhi['longitude'], delhi['Borough'], delhi['Neighborhood']):\n",
    "    label = '{}, {}'.format(neighborhood, borough)\n",
    "    label = folium.Popup(label, parse_html=True)\n",
    "    folium.CircleMarker(\n",
    "        [lat, lng],\n",
    "        radius=5,\n",
    "        popup=label,\n",
    "        color='blue',\n",
    "        fill=True,\n",
    "        fill_color='#3186cc',\n",
    "        fill_opacity=0.7,\n",
    "        parse_html=False).add_to(delhi_borough)  \n",
    "    \n",
    "delhi_borough"
   ]
  },
  {
   "cell_type": "markdown",
   "metadata": {},
   "source": [
    "## Using FourSquare to get Restaurants list based on price range i.e 1,2,3,4 \n",
    "#### 1 being least expensive and 4 being very expensive"
   ]
  },
  {
   "cell_type": "code",
   "execution_count": 17,
   "metadata": {},
   "outputs": [
    {
     "name": "stdout",
     "output_type": "stream",
     "text": [
      "Your credentails:\n",
      "CLIENT_ID: 32R31NFZEJX05XSVG15ARLETKBKEMJG3LH4KNAD1ZBQL405Z\n",
      "CLIENT_SECRET:NAJI0UF1UPOCQUDYC3MF0SBIAY3ELS4APRLRMBBMNEUONAV4\n"
     ]
    }
   ],
   "source": [
    "CLIENT_ID = '32R31NFZEJX05XSVG15ARLETKBKEMJG3LH4KNAD1ZBQL405Z'\n",
    "CLIENT_SECRET = 'NAJI0UF1UPOCQUDYC3MF0SBIAY3ELS4APRLRMBBMNEUONAV4'\n",
    "VERSION = '20180605' \n",
    "\n",
    "print('Your credentails:')\n",
    "print('CLIENT_ID: ' + CLIENT_ID)\n",
    "print('CLIENT_SECRET:' + CLIENT_SECRET)"
   ]
  },
  {
   "cell_type": "code",
   "execution_count": 18,
   "metadata": {},
   "outputs": [
    {
     "name": "stdout",
     "output_type": "stream",
     "text": [
      "Latitude and longitude values of Barakhamba Road are 28.6291417, 77.22614890000001.\n"
     ]
    }
   ],
   "source": [
    "# get neighborhood's coordinates\n",
    "neighborhood_latitude = delhi.loc[0, 'latitude'] \n",
    "neighborhood_longitude = delhi.loc[0, 'longitude'] \n",
    "\n",
    "neighborhood_name = delhi.loc[0, 'Neighborhood'] \n",
    "\n",
    "print('Latitude and longitude values of {} are {}, {}.'.format(neighborhood_name, \n",
    "                                                               neighborhood_latitude, \n",
    "                                                               neighborhood_longitude))"
   ]
  },
  {
   "cell_type": "code",
   "execution_count": 19,
   "metadata": {},
   "outputs": [
    {
     "data": {
      "text/plain": [
       "'https://api.foursquare.com/v2/venues/explore?&client_id=32R31NFZEJX05XSVG15ARLETKBKEMJG3LH4KNAD1ZBQL405Z&client_secret=NAJI0UF1UPOCQUDYC3MF0SBIAY3ELS4APRLRMBBMNEUONAV4&v=20180605&ll=28.6291417,77.22614890000001&radius=100&limit=50'"
      ]
     },
     "execution_count": 19,
     "metadata": {},
     "output_type": "execute_result"
    }
   ],
   "source": [
    "# Fetch venues using explore endpoint\n",
    "LIMIT = 50\n",
    "radius = 100\n",
    "# create URL\n",
    "url = 'https://api.foursquare.com/v2/venues/explore?&client_id={}&client_secret={}&v={}&ll={},{}&radius={}&limit={}'.format(\n",
    "    CLIENT_ID, \n",
    "    CLIENT_SECRET, \n",
    "    VERSION, \n",
    "    neighborhood_latitude, \n",
    "    neighborhood_longitude, \n",
    "    radius, \n",
    "    LIMIT)\n",
    "url "
   ]
  },
  {
   "cell_type": "code",
   "execution_count": 20,
   "metadata": {},
   "outputs": [
    {
     "data": {
      "text/plain": [
       "{'meta': {'code': 200, 'requestId': '5ea710dc1d67cb656a660d64'},\n",
       " 'response': {'warning': {'text': \"There aren't a lot of results near you. Try something more general, reset your filters, or expand the search area.\"},\n",
       "  'headerLocation': 'N.D. Charge 1',\n",
       "  'headerFullLocation': 'N.D. Charge 1, Delhi',\n",
       "  'headerLocationGranularity': 'neighborhood',\n",
       "  'totalResults': 1,\n",
       "  'suggestedBounds': {'ne': {'lat': 28.6300417009, 'lng': 77.227172347854},\n",
       "   'sw': {'lat': 28.628241699100002, 'lng': 77.22512545214603}},\n",
       "  'groups': [{'type': 'Recommended Places',\n",
       "    'name': 'recommended',\n",
       "    'items': [{'reasons': {'count': 0,\n",
       "       'items': [{'summary': 'This spot is popular',\n",
       "         'type': 'general',\n",
       "         'reasonName': 'globalInteractionReason'}]},\n",
       "      'venue': {'id': '4bc8f2c5762beee1a7bb3d38',\n",
       "       'name': 'Hans Hotel New Delhi',\n",
       "       'location': {'address': '15 Barakhamba Road',\n",
       "        'lat': 28.628377699752495,\n",
       "        'lng': 77.22585594873043,\n",
       "        'labeledLatLngs': [{'label': 'display',\n",
       "          'lat': 28.628377699752495,\n",
       "          'lng': 77.22585594873043}],\n",
       "        'distance': 89,\n",
       "        'cc': 'IN',\n",
       "        'city': 'New Delhi',\n",
       "        'state': 'Delhi',\n",
       "        'country': 'India',\n",
       "        'formattedAddress': ['15 Barakhamba Road',\n",
       "         'New Delhi',\n",
       "         'Delhi',\n",
       "         'India']},\n",
       "       'categories': [{'id': '4bf58dd8d48988d1fa931735',\n",
       "         'name': 'Hotel',\n",
       "         'pluralName': 'Hotels',\n",
       "         'shortName': 'Hotel',\n",
       "         'icon': {'prefix': 'https://ss3.4sqi.net/img/categories_v2/travel/hotel_',\n",
       "          'suffix': '.png'},\n",
       "         'primary': True}],\n",
       "       'photos': {'count': 0, 'groups': []}},\n",
       "      'referralId': 'e-0-4bc8f2c5762beee1a7bb3d38-0'}]}]}}"
      ]
     },
     "execution_count": 20,
     "metadata": {},
     "output_type": "execute_result"
    }
   ],
   "source": [
    "# display the results of the above call in json format\n",
    "results = requests.get(url).json()\n",
    "results"
   ]
  },
  {
   "cell_type": "code",
   "execution_count": 21,
   "metadata": {},
   "outputs": [],
   "source": [
    "# function that extracts the category of the venue\n",
    "def get_category_type(row):\n",
    "    try:\n",
    "        categories_list = row['categories']\n",
    "    except:\n",
    "        categories_list = row['venue.categories']\n",
    "        \n",
    "    if len(categories_list) == 0:\n",
    "        return None\n",
    "    else:\n",
    "        return categories_list[0]['name']"
   ]
  },
  {
   "cell_type": "code",
   "execution_count": 22,
   "metadata": {},
   "outputs": [
    {
     "data": {
      "text/html": [
       "<div>\n",
       "<style scoped>\n",
       "    .dataframe tbody tr th:only-of-type {\n",
       "        vertical-align: middle;\n",
       "    }\n",
       "\n",
       "    .dataframe tbody tr th {\n",
       "        vertical-align: top;\n",
       "    }\n",
       "\n",
       "    .dataframe thead th {\n",
       "        text-align: right;\n",
       "    }\n",
       "</style>\n",
       "<table border=\"1\" class=\"dataframe\">\n",
       "  <thead>\n",
       "    <tr style=\"text-align: right;\">\n",
       "      <th></th>\n",
       "      <th>name</th>\n",
       "      <th>categories</th>\n",
       "      <th>lat</th>\n",
       "      <th>lng</th>\n",
       "      <th>id</th>\n",
       "    </tr>\n",
       "  </thead>\n",
       "  <tbody>\n",
       "    <tr>\n",
       "      <td>0</td>\n",
       "      <td>Hans Hotel New Delhi</td>\n",
       "      <td>Hotel</td>\n",
       "      <td>28.628378</td>\n",
       "      <td>77.225856</td>\n",
       "      <td>4bc8f2c5762beee1a7bb3d38</td>\n",
       "    </tr>\n",
       "  </tbody>\n",
       "</table>\n",
       "</div>"
      ],
      "text/plain": [
       "                   name categories        lat        lng  \\\n",
       "0  Hans Hotel New Delhi      Hotel  28.628378  77.225856   \n",
       "\n",
       "                         id  \n",
       "0  4bc8f2c5762beee1a7bb3d38  "
      ]
     },
     "execution_count": 22,
     "metadata": {},
     "output_type": "execute_result"
    }
   ],
   "source": [
    "# printing json data into a dataframe\n",
    "venues = results['response']['groups'][0]['items']\n",
    "    \n",
    "nearby_venues = json_normalize(venues) \n",
    "\n",
    "# filter columns\n",
    "filtered_columns = ['venue.name', 'venue.categories', 'venue.location.lat', 'venue.location.lng','venue.id']\n",
    "nearby_venues =nearby_venues.loc[:, filtered_columns]\n",
    "\n",
    "# filter the category for each row\n",
    "nearby_venues['venue.categories'] = nearby_venues.apply(get_category_type, axis=1)\n",
    "\n",
    "# clean columns\n",
    "nearby_venues.columns = [col.split(\".\")[-1] for col in nearby_venues.columns]\n",
    "\n",
    "nearby_venues.head()"
   ]
  },
  {
   "cell_type": "code",
   "execution_count": 25,
   "metadata": {},
   "outputs": [],
   "source": [
    "# get venues for all locations in New Delhi and South Delhi\n",
    "def getVenues(names, latitudes, longitudes, radius=500):\n",
    "    \n",
    "    venues_list=[]\n",
    "    for name, lat, lng in zip(names, latitudes, longitudes):\n",
    "        print(name)\n",
    "            \n",
    "        # create the API request URL\n",
    "        url = 'https://api.foursquare.com/v2/venues/explore?&client_id={}&client_secret={}&v={}&ll={},{}&radius={}&limit={}'.format(\n",
    "            CLIENT_ID, \n",
    "            CLIENT_SECRET, \n",
    "            VERSION, \n",
    "            lat, \n",
    "            lng, \n",
    "            radius, \n",
    "            LIMIT)\n",
    "            \n",
    "        # make the GET request\n",
    "        results = requests.get(url).json()[\"response\"]['groups'][0]['items']\n",
    "        \n",
    "        # return only relevant information for each nearby venue\n",
    "        venues_list.append([(\n",
    "            name, \n",
    "            lat, \n",
    "            lng, \n",
    "            v['venue']['name'], \n",
    "            v['venue']['location']['lat'], \n",
    "            v['venue']['location']['lng'],\n",
    "            v['venue']['id'],\n",
    "            v['venue']['categories'][0]['name']) for v in results])\n",
    "\n",
    "    allvenues = pd.DataFrame([item for venue_list in venues_list for item in venue_list])\n",
    "    allvenues.columns = ['Neighborhood', \n",
    "                  'Neighborhood Latitude', \n",
    "                  'Neighborhood Longitude', \n",
    "                  'Venue', \n",
    "                  'Venue Latitude', \n",
    "                  'Venue Longitude',\n",
    "                  'Venue ID',\n",
    "                  'Venue Category']\n",
    "    \n",
    "    return(allvenues)"
   ]
  },
  {
   "cell_type": "code",
   "execution_count": 26,
   "metadata": {},
   "outputs": [
    {
     "name": "stdout",
     "output_type": "stream",
     "text": [
      "Barakhamba Road\n",
      "Chanakyapuri\n",
      "Connaught Place\n",
      "Gautampuri\n",
      "Gole Market\n",
      "Golf Links\n",
      "INA Colony\n",
      "Khan Market\n",
      "Pragati Maidan\n",
      "Alaknanda\n",
      "Chhattarpur\n",
      "Chittaranjan Park\n",
      "Dayanand Colony\n",
      "Defence Colony\n",
      "East of Kailash\n",
      "Friends Colony\n",
      "Govindpuri\n",
      "Greater Kailash\n",
      "Green Park\n",
      "Gulmohar Park\n",
      "Hauz Khas\n",
      "Hauz Khas Village\n",
      "Jaitpur\n",
      "Jangpura\n",
      "Jasola\n",
      "Jor Bagh\n",
      "Kailash Colony\n",
      "Kalkaji\n",
      "Khanpur\n",
      "Khirki Village\n",
      "Lajpat Nagar\n",
      "Lodi Colony\n",
      "Maharani Bagh\n",
      "Malviya Nagar\n",
      "Mehrauli\n",
      "Neeti Bagh\n",
      "Nehru Place\n",
      "Netaji Nagar\n",
      "New Friends Colony\n",
      "Nizamuddin West\n",
      "Okhla\n",
      "Safdarjung Enclave\n",
      "Sainik Farm\n",
      "Saket\n",
      "Sangam Vihar\n",
      "Sarita Vihar\n",
      "Sarojini Nagar\n",
      "Sarvodaya Enclave\n",
      "Shahpur Jat\n",
      "Siri Fort\n",
      "South Extension\n",
      "Sriniwaspuri\n",
      "Tughlaqabad\n",
      "Badarpur\n"
     ]
    }
   ],
   "source": [
    "delhiVenues = getVenues(delhi['Neighborhood'], delhi['latitude'], delhi['longitude'])"
   ]
  },
  {
   "cell_type": "code",
   "execution_count": 27,
   "metadata": {},
   "outputs": [
    {
     "data": {
      "text/plain": [
       "(540, 8)"
      ]
     },
     "execution_count": 27,
     "metadata": {},
     "output_type": "execute_result"
    }
   ],
   "source": [
    "delhiVenues.shape"
   ]
  },
  {
   "cell_type": "code",
   "execution_count": 28,
   "metadata": {},
   "outputs": [
    {
     "data": {
      "text/html": [
       "<div>\n",
       "<style scoped>\n",
       "    .dataframe tbody tr th:only-of-type {\n",
       "        vertical-align: middle;\n",
       "    }\n",
       "\n",
       "    .dataframe tbody tr th {\n",
       "        vertical-align: top;\n",
       "    }\n",
       "\n",
       "    .dataframe thead th {\n",
       "        text-align: right;\n",
       "    }\n",
       "</style>\n",
       "<table border=\"1\" class=\"dataframe\">\n",
       "  <thead>\n",
       "    <tr style=\"text-align: right;\">\n",
       "      <th></th>\n",
       "      <th>Neighborhood</th>\n",
       "      <th>Neighborhood Latitude</th>\n",
       "      <th>Neighborhood Longitude</th>\n",
       "      <th>Venue</th>\n",
       "      <th>Venue Latitude</th>\n",
       "      <th>Venue Longitude</th>\n",
       "      <th>Venue ID</th>\n",
       "      <th>Venue Category</th>\n",
       "    </tr>\n",
       "  </thead>\n",
       "  <tbody>\n",
       "    <tr>\n",
       "      <td>0</td>\n",
       "      <td>Barakhamba Road</td>\n",
       "      <td>28.629142</td>\n",
       "      <td>77.226149</td>\n",
       "      <td>The Lalit Hotel</td>\n",
       "      <td>28.631110</td>\n",
       "      <td>77.227450</td>\n",
       "      <td>4bb46ce087aa95219724add1</td>\n",
       "      <td>Hotel</td>\n",
       "    </tr>\n",
       "    <tr>\n",
       "      <td>1</td>\n",
       "      <td>Barakhamba Road</td>\n",
       "      <td>28.629142</td>\n",
       "      <td>77.226149</td>\n",
       "      <td>Tamasha</td>\n",
       "      <td>28.629663</td>\n",
       "      <td>77.221835</td>\n",
       "      <td>56c6e01ccd10173283f8534e</td>\n",
       "      <td>Gastropub</td>\n",
       "    </tr>\n",
       "    <tr>\n",
       "      <td>2</td>\n",
       "      <td>Barakhamba Road</td>\n",
       "      <td>28.629142</td>\n",
       "      <td>77.226149</td>\n",
       "      <td>Ugrasen ki Baoli (Agrasen ki Baoli)</td>\n",
       "      <td>28.625820</td>\n",
       "      <td>77.224955</td>\n",
       "      <td>4e070cdad22d658532a39289</td>\n",
       "      <td>Historic Site</td>\n",
       "    </tr>\n",
       "    <tr>\n",
       "      <td>3</td>\n",
       "      <td>Barakhamba Road</td>\n",
       "      <td>28.629142</td>\n",
       "      <td>77.226149</td>\n",
       "      <td>Chew</td>\n",
       "      <td>28.632002</td>\n",
       "      <td>77.222706</td>\n",
       "      <td>52e226ef498e7591ee3213db</td>\n",
       "      <td>Asian Restaurant</td>\n",
       "    </tr>\n",
       "    <tr>\n",
       "      <td>4</td>\n",
       "      <td>Barakhamba Road</td>\n",
       "      <td>28.629142</td>\n",
       "      <td>77.226149</td>\n",
       "      <td>Cha Bar | चा बार</td>\n",
       "      <td>28.630920</td>\n",
       "      <td>77.222194</td>\n",
       "      <td>51690773e4b09433491d990e</td>\n",
       "      <td>Tea Room</td>\n",
       "    </tr>\n",
       "  </tbody>\n",
       "</table>\n",
       "</div>"
      ],
      "text/plain": [
       "      Neighborhood  Neighborhood Latitude  Neighborhood Longitude  \\\n",
       "0  Barakhamba Road              28.629142               77.226149   \n",
       "1  Barakhamba Road              28.629142               77.226149   \n",
       "2  Barakhamba Road              28.629142               77.226149   \n",
       "3  Barakhamba Road              28.629142               77.226149   \n",
       "4  Barakhamba Road              28.629142               77.226149   \n",
       "\n",
       "                                 Venue  Venue Latitude  Venue Longitude  \\\n",
       "0                      The Lalit Hotel       28.631110        77.227450   \n",
       "1                              Tamasha       28.629663        77.221835   \n",
       "2  Ugrasen ki Baoli (Agrasen ki Baoli)       28.625820        77.224955   \n",
       "3                                 Chew       28.632002        77.222706   \n",
       "4                     Cha Bar | चा बार       28.630920        77.222194   \n",
       "\n",
       "                   Venue ID    Venue Category  \n",
       "0  4bb46ce087aa95219724add1             Hotel  \n",
       "1  56c6e01ccd10173283f8534e         Gastropub  \n",
       "2  4e070cdad22d658532a39289     Historic Site  \n",
       "3  52e226ef498e7591ee3213db  Asian Restaurant  \n",
       "4  51690773e4b09433491d990e          Tea Room  "
      ]
     },
     "execution_count": 28,
     "metadata": {},
     "output_type": "execute_result"
    }
   ],
   "source": [
    "delhiVenues.head()"
   ]
  },
  {
   "cell_type": "code",
   "execution_count": 48,
   "metadata": {},
   "outputs": [
    {
     "data": {
      "text/plain": [
       "array(['Gastropub', 'Asian Restaurant', 'Tea Room', 'Business Service',\n",
       "       'Indian Restaurant', 'Bistro', 'Molecular Gastronomy Restaurant',\n",
       "       'Coffee Shop', 'Bakery', 'Food Truck', 'Café', 'Lounge',\n",
       "       'North Indian Restaurant', 'South Indian Restaurant',\n",
       "       'Ice Cream Shop', 'Deli / Bodega', 'BBQ Joint',\n",
       "       'Portuguese Restaurant', 'Chinese Restaurant', 'Donut Shop',\n",
       "       'Beer Garden', 'Pub', 'Italian Restaurant', 'Food & Drink Shop',\n",
       "       'Flea Market', 'Fast Food Restaurant', 'Snack Place',\n",
       "       'Japanese Restaurant', 'Fabric Shop', 'Theater', 'Antique Shop',\n",
       "       'Park', 'Art Gallery', 'Irani Cafe', 'French Restaurant',\n",
       "       'Bookstore', 'Furniture / Home Store', 'Mediterranean Restaurant',\n",
       "       'Boutique', 'Restaurant', 'Mexican Restaurant', 'Food',\n",
       "       'Dessert Shop', 'Sandwich Place', 'Eastern European Restaurant',\n",
       "       'Metro Station', 'New American Restaurant', 'Steakhouse',\n",
       "       'Pizza Place', 'Middle Eastern Restaurant', 'Bowling Alley',\n",
       "       'Indie Movie Theater', 'Burger Joint', 'Rock Club',\n",
       "       'Hot Dog Joint', 'Department Store', 'Bed & Breakfast',\n",
       "       'Nightclub', 'Korean Restaurant', 'Gym', 'Breakfast Spot',\n",
       "       'Athletics & Sports', 'Music Venue', 'Tibetan Restaurant',\n",
       "       'American Restaurant', 'Tapas Restaurant',\n",
       "       'Scandinavian Restaurant', 'Turkish Restaurant', 'Bagel Shop',\n",
       "       'Soccer Stadium', 'Soccer Field', 'Gym / Fitness Center',\n",
       "       'Shopping Mall', 'Thai Restaurant', 'Multiplex',\n",
       "       'Comfort Food Restaurant', 'Burmese Restaurant',\n",
       "       'Toy / Game Store', 'Cosmetics Shop', 'Diner', 'Food Court',\n",
       "       'History Museum', 'IT Services', 'Bengali Restaurant',\n",
       "       'Frozen Yogurt Shop', 'Electronics Store', 'Candy Store',\n",
       "       'Modern European Restaurant', 'Movie Theater',\n",
       "       'Mughlai Restaurant', 'Tex-Mex Restaurant', \"Women's Store\",\n",
       "       'Stadium', 'Australian Restaurant', 'Bridal Shop'], dtype=object)"
      ]
     },
     "execution_count": 48,
     "metadata": {},
     "output_type": "execute_result"
    }
   ],
   "source": [
    "# get all unique category values \n",
    "delhiVenues['Venue Category'].unique()"
   ]
  },
  {
   "cell_type": "code",
   "execution_count": 49,
   "metadata": {},
   "outputs": [],
   "source": [
    "# delete rows with categories not of our interest\n",
    "value = ['Hotel','Bar','Historic Site','Miscellaneous Shop','Clothing Store','Sculpture Garden','Arcade','Salon / Barbershop',\n",
    "        'Airport','Castle','ATM','Train Station','Light Rail Station','Hotel Bar','Performing Arts Venue','Trail',\n",
    "        'Bus Station','Market','Plaza','Golf Course','Neighborhood','Motorcycle Shop','Event Space','Playground',\n",
    "        'Public Art','Hospital','Clinic','Business Service',\"Women's Store\",'Stadium','Bridal Shop',\n",
    "        'Frozen Yogurt Shop', 'Electronics Store', 'Candy Store',\n",
    "        'History Museum', 'IT Services','Toy / Game Store', 'Cosmetics Shop', 'Diner', 'Food Court',\n",
    "        'Soccer Stadium', 'Soccer Field', 'Gym / Fitness Center','Shopping Mall','Athletics & Sports', 'Music Venue',\n",
    "        'Gym','Rock Club','Hot Dog Joint', 'Department Store', 'Bed & Breakfast','Nightclub',\n",
    "        'Bowling Alley','Indie Movie Theater','Metro Station','Boutique','Bookstore', 'Furniture / Home Store',\n",
    "        'Theater', 'Antique Shop','Park','Art Gallery', 'Fabric Shop','Flea Market','Lounge',]\n",
    "def dropColumns(value,df):\n",
    "    for i in value:\n",
    "        indexNames = df[ delhiVenues['Venue Category'] == i].index\n",
    "        df.drop(indexNames , inplace=True)\n",
    "    return df"
   ]
  },
  {
   "cell_type": "code",
   "execution_count": 50,
   "metadata": {},
   "outputs": [
    {
     "data": {
      "text/html": [
       "<div>\n",
       "<style scoped>\n",
       "    .dataframe tbody tr th:only-of-type {\n",
       "        vertical-align: middle;\n",
       "    }\n",
       "\n",
       "    .dataframe tbody tr th {\n",
       "        vertical-align: top;\n",
       "    }\n",
       "\n",
       "    .dataframe thead th {\n",
       "        text-align: right;\n",
       "    }\n",
       "</style>\n",
       "<table border=\"1\" class=\"dataframe\">\n",
       "  <thead>\n",
       "    <tr style=\"text-align: right;\">\n",
       "      <th></th>\n",
       "      <th>Neighborhood</th>\n",
       "      <th>Neighborhood Latitude</th>\n",
       "      <th>Neighborhood Longitude</th>\n",
       "      <th>Venue</th>\n",
       "      <th>Venue Latitude</th>\n",
       "      <th>Venue Longitude</th>\n",
       "      <th>Venue ID</th>\n",
       "      <th>Venue Category</th>\n",
       "    </tr>\n",
       "  </thead>\n",
       "  <tbody>\n",
       "    <tr>\n",
       "      <td>1</td>\n",
       "      <td>Barakhamba Road</td>\n",
       "      <td>28.629142</td>\n",
       "      <td>77.226149</td>\n",
       "      <td>Tamasha</td>\n",
       "      <td>28.629663</td>\n",
       "      <td>77.221835</td>\n",
       "      <td>56c6e01ccd10173283f8534e</td>\n",
       "      <td>Gastropub</td>\n",
       "    </tr>\n",
       "    <tr>\n",
       "      <td>3</td>\n",
       "      <td>Barakhamba Road</td>\n",
       "      <td>28.629142</td>\n",
       "      <td>77.226149</td>\n",
       "      <td>Chew</td>\n",
       "      <td>28.632002</td>\n",
       "      <td>77.222706</td>\n",
       "      <td>52e226ef498e7591ee3213db</td>\n",
       "      <td>Asian Restaurant</td>\n",
       "    </tr>\n",
       "    <tr>\n",
       "      <td>4</td>\n",
       "      <td>Barakhamba Road</td>\n",
       "      <td>28.629142</td>\n",
       "      <td>77.226149</td>\n",
       "      <td>Cha Bar | चा बार</td>\n",
       "      <td>28.630920</td>\n",
       "      <td>77.222194</td>\n",
       "      <td>51690773e4b09433491d990e</td>\n",
       "      <td>Tea Room</td>\n",
       "    </tr>\n",
       "    <tr>\n",
       "      <td>11</td>\n",
       "      <td>Connaught Place</td>\n",
       "      <td>28.631383</td>\n",
       "      <td>77.219792</td>\n",
       "      <td>Rajdhani Thali</td>\n",
       "      <td>28.629999</td>\n",
       "      <td>77.220401</td>\n",
       "      <td>4cbb2592dd41a35df95eeca0</td>\n",
       "      <td>Indian Restaurant</td>\n",
       "    </tr>\n",
       "    <tr>\n",
       "      <td>13</td>\n",
       "      <td>Connaught Place</td>\n",
       "      <td>28.631383</td>\n",
       "      <td>77.219792</td>\n",
       "      <td>Johnny Rockets</td>\n",
       "      <td>28.630457</td>\n",
       "      <td>77.219594</td>\n",
       "      <td>571a5505498ef32d7975392f</td>\n",
       "      <td>Bistro</td>\n",
       "    </tr>\n",
       "    <tr>\n",
       "      <td>...</td>\n",
       "      <td>...</td>\n",
       "      <td>...</td>\n",
       "      <td>...</td>\n",
       "      <td>...</td>\n",
       "      <td>...</td>\n",
       "      <td>...</td>\n",
       "      <td>...</td>\n",
       "      <td>...</td>\n",
       "    </tr>\n",
       "    <tr>\n",
       "      <td>525</td>\n",
       "      <td>South Extension</td>\n",
       "      <td>28.568566</td>\n",
       "      <td>77.220568</td>\n",
       "      <td>Moti Mahal Deluxe</td>\n",
       "      <td>28.568539</td>\n",
       "      <td>77.219268</td>\n",
       "      <td>4cf926b76cee236aa80feb03</td>\n",
       "      <td>Indian Restaurant</td>\n",
       "    </tr>\n",
       "    <tr>\n",
       "      <td>527</td>\n",
       "      <td>South Extension</td>\n",
       "      <td>28.568566</td>\n",
       "      <td>77.220568</td>\n",
       "      <td>Costa Coffee</td>\n",
       "      <td>28.569475</td>\n",
       "      <td>77.220533</td>\n",
       "      <td>5083dbaae4b0ca3a2b9222dc</td>\n",
       "      <td>Coffee Shop</td>\n",
       "    </tr>\n",
       "    <tr>\n",
       "      <td>528</td>\n",
       "      <td>South Extension</td>\n",
       "      <td>28.568566</td>\n",
       "      <td>77.220568</td>\n",
       "      <td>Bengali Sweets</td>\n",
       "      <td>28.569538</td>\n",
       "      <td>77.220940</td>\n",
       "      <td>4b9646a6f964a5208cc334e3</td>\n",
       "      <td>Indian Restaurant</td>\n",
       "    </tr>\n",
       "    <tr>\n",
       "      <td>529</td>\n",
       "      <td>South Extension</td>\n",
       "      <td>28.568566</td>\n",
       "      <td>77.220568</td>\n",
       "      <td>McDonald's</td>\n",
       "      <td>28.568451</td>\n",
       "      <td>77.219503</td>\n",
       "      <td>4bed2b00bac3c9b677e0fde9</td>\n",
       "      <td>Fast Food Restaurant</td>\n",
       "    </tr>\n",
       "    <tr>\n",
       "      <td>534</td>\n",
       "      <td>Sriniwaspuri</td>\n",
       "      <td>28.565220</td>\n",
       "      <td>77.254704</td>\n",
       "      <td>Nirulas</td>\n",
       "      <td>28.560938</td>\n",
       "      <td>77.255444</td>\n",
       "      <td>4c7e8b8a171b224bf6280eb1</td>\n",
       "      <td>Fast Food Restaurant</td>\n",
       "    </tr>\n",
       "  </tbody>\n",
       "</table>\n",
       "<p>334 rows × 8 columns</p>\n",
       "</div>"
      ],
      "text/plain": [
       "        Neighborhood  Neighborhood Latitude  Neighborhood Longitude  \\\n",
       "1    Barakhamba Road              28.629142               77.226149   \n",
       "3    Barakhamba Road              28.629142               77.226149   \n",
       "4    Barakhamba Road              28.629142               77.226149   \n",
       "11   Connaught Place              28.631383               77.219792   \n",
       "13   Connaught Place              28.631383               77.219792   \n",
       "..               ...                    ...                     ...   \n",
       "525  South Extension              28.568566               77.220568   \n",
       "527  South Extension              28.568566               77.220568   \n",
       "528  South Extension              28.568566               77.220568   \n",
       "529  South Extension              28.568566               77.220568   \n",
       "534     Sriniwaspuri              28.565220               77.254704   \n",
       "\n",
       "                 Venue  Venue Latitude  Venue Longitude  \\\n",
       "1              Tamasha       28.629663        77.221835   \n",
       "3                 Chew       28.632002        77.222706   \n",
       "4     Cha Bar | चा बार       28.630920        77.222194   \n",
       "11      Rajdhani Thali       28.629999        77.220401   \n",
       "13      Johnny Rockets       28.630457        77.219594   \n",
       "..                 ...             ...              ...   \n",
       "525  Moti Mahal Deluxe       28.568539        77.219268   \n",
       "527       Costa Coffee       28.569475        77.220533   \n",
       "528     Bengali Sweets       28.569538        77.220940   \n",
       "529         McDonald's       28.568451        77.219503   \n",
       "534            Nirulas       28.560938        77.255444   \n",
       "\n",
       "                     Venue ID        Venue Category  \n",
       "1    56c6e01ccd10173283f8534e             Gastropub  \n",
       "3    52e226ef498e7591ee3213db      Asian Restaurant  \n",
       "4    51690773e4b09433491d990e              Tea Room  \n",
       "11   4cbb2592dd41a35df95eeca0     Indian Restaurant  \n",
       "13   571a5505498ef32d7975392f                Bistro  \n",
       "..                        ...                   ...  \n",
       "525  4cf926b76cee236aa80feb03     Indian Restaurant  \n",
       "527  5083dbaae4b0ca3a2b9222dc           Coffee Shop  \n",
       "528  4b9646a6f964a5208cc334e3     Indian Restaurant  \n",
       "529  4bed2b00bac3c9b677e0fde9  Fast Food Restaurant  \n",
       "534  4c7e8b8a171b224bf6280eb1  Fast Food Restaurant  \n",
       "\n",
       "[334 rows x 8 columns]"
      ]
     },
     "execution_count": 50,
     "metadata": {},
     "output_type": "execute_result"
    }
   ],
   "source": [
    "dropColumns(value,delhiVenues)"
   ]
  },
  {
   "cell_type": "code",
   "execution_count": 51,
   "metadata": {},
   "outputs": [
    {
     "data": {
      "text/plain": [
       "(334, 8)"
      ]
     },
     "execution_count": 51,
     "metadata": {},
     "output_type": "execute_result"
    }
   ],
   "source": [
    "delhiVenues.shape"
   ]
  },
  {
   "cell_type": "code",
   "execution_count": 52,
   "metadata": {},
   "outputs": [
    {
     "data": {
      "text/html": [
       "<div>\n",
       "<style scoped>\n",
       "    .dataframe tbody tr th:only-of-type {\n",
       "        vertical-align: middle;\n",
       "    }\n",
       "\n",
       "    .dataframe tbody tr th {\n",
       "        vertical-align: top;\n",
       "    }\n",
       "\n",
       "    .dataframe thead th {\n",
       "        text-align: right;\n",
       "    }\n",
       "</style>\n",
       "<table border=\"1\" class=\"dataframe\">\n",
       "  <thead>\n",
       "    <tr style=\"text-align: right;\">\n",
       "      <th></th>\n",
       "      <th>index</th>\n",
       "      <th>Neighborhood</th>\n",
       "      <th>Neighborhood Latitude</th>\n",
       "      <th>Neighborhood Longitude</th>\n",
       "      <th>Venue</th>\n",
       "      <th>Venue Latitude</th>\n",
       "      <th>Venue Longitude</th>\n",
       "      <th>Venue ID</th>\n",
       "      <th>Venue Category</th>\n",
       "    </tr>\n",
       "  </thead>\n",
       "  <tbody>\n",
       "    <tr>\n",
       "      <td>0</td>\n",
       "      <td>1</td>\n",
       "      <td>Barakhamba Road</td>\n",
       "      <td>28.629142</td>\n",
       "      <td>77.226149</td>\n",
       "      <td>Tamasha</td>\n",
       "      <td>28.629663</td>\n",
       "      <td>77.221835</td>\n",
       "      <td>56c6e01ccd10173283f8534e</td>\n",
       "      <td>Gastropub</td>\n",
       "    </tr>\n",
       "    <tr>\n",
       "      <td>1</td>\n",
       "      <td>3</td>\n",
       "      <td>Barakhamba Road</td>\n",
       "      <td>28.629142</td>\n",
       "      <td>77.226149</td>\n",
       "      <td>Chew</td>\n",
       "      <td>28.632002</td>\n",
       "      <td>77.222706</td>\n",
       "      <td>52e226ef498e7591ee3213db</td>\n",
       "      <td>Asian Restaurant</td>\n",
       "    </tr>\n",
       "    <tr>\n",
       "      <td>2</td>\n",
       "      <td>4</td>\n",
       "      <td>Barakhamba Road</td>\n",
       "      <td>28.629142</td>\n",
       "      <td>77.226149</td>\n",
       "      <td>Cha Bar | चा बार</td>\n",
       "      <td>28.630920</td>\n",
       "      <td>77.222194</td>\n",
       "      <td>51690773e4b09433491d990e</td>\n",
       "      <td>Tea Room</td>\n",
       "    </tr>\n",
       "    <tr>\n",
       "      <td>3</td>\n",
       "      <td>11</td>\n",
       "      <td>Connaught Place</td>\n",
       "      <td>28.631383</td>\n",
       "      <td>77.219792</td>\n",
       "      <td>Rajdhani Thali</td>\n",
       "      <td>28.629999</td>\n",
       "      <td>77.220401</td>\n",
       "      <td>4cbb2592dd41a35df95eeca0</td>\n",
       "      <td>Indian Restaurant</td>\n",
       "    </tr>\n",
       "    <tr>\n",
       "      <td>4</td>\n",
       "      <td>13</td>\n",
       "      <td>Connaught Place</td>\n",
       "      <td>28.631383</td>\n",
       "      <td>77.219792</td>\n",
       "      <td>Johnny Rockets</td>\n",
       "      <td>28.630457</td>\n",
       "      <td>77.219594</td>\n",
       "      <td>571a5505498ef32d7975392f</td>\n",
       "      <td>Bistro</td>\n",
       "    </tr>\n",
       "    <tr>\n",
       "      <td>...</td>\n",
       "      <td>...</td>\n",
       "      <td>...</td>\n",
       "      <td>...</td>\n",
       "      <td>...</td>\n",
       "      <td>...</td>\n",
       "      <td>...</td>\n",
       "      <td>...</td>\n",
       "      <td>...</td>\n",
       "      <td>...</td>\n",
       "    </tr>\n",
       "    <tr>\n",
       "      <td>329</td>\n",
       "      <td>525</td>\n",
       "      <td>South Extension</td>\n",
       "      <td>28.568566</td>\n",
       "      <td>77.220568</td>\n",
       "      <td>Moti Mahal Deluxe</td>\n",
       "      <td>28.568539</td>\n",
       "      <td>77.219268</td>\n",
       "      <td>4cf926b76cee236aa80feb03</td>\n",
       "      <td>Indian Restaurant</td>\n",
       "    </tr>\n",
       "    <tr>\n",
       "      <td>330</td>\n",
       "      <td>527</td>\n",
       "      <td>South Extension</td>\n",
       "      <td>28.568566</td>\n",
       "      <td>77.220568</td>\n",
       "      <td>Costa Coffee</td>\n",
       "      <td>28.569475</td>\n",
       "      <td>77.220533</td>\n",
       "      <td>5083dbaae4b0ca3a2b9222dc</td>\n",
       "      <td>Coffee Shop</td>\n",
       "    </tr>\n",
       "    <tr>\n",
       "      <td>331</td>\n",
       "      <td>528</td>\n",
       "      <td>South Extension</td>\n",
       "      <td>28.568566</td>\n",
       "      <td>77.220568</td>\n",
       "      <td>Bengali Sweets</td>\n",
       "      <td>28.569538</td>\n",
       "      <td>77.220940</td>\n",
       "      <td>4b9646a6f964a5208cc334e3</td>\n",
       "      <td>Indian Restaurant</td>\n",
       "    </tr>\n",
       "    <tr>\n",
       "      <td>332</td>\n",
       "      <td>529</td>\n",
       "      <td>South Extension</td>\n",
       "      <td>28.568566</td>\n",
       "      <td>77.220568</td>\n",
       "      <td>McDonald's</td>\n",
       "      <td>28.568451</td>\n",
       "      <td>77.219503</td>\n",
       "      <td>4bed2b00bac3c9b677e0fde9</td>\n",
       "      <td>Fast Food Restaurant</td>\n",
       "    </tr>\n",
       "    <tr>\n",
       "      <td>333</td>\n",
       "      <td>534</td>\n",
       "      <td>Sriniwaspuri</td>\n",
       "      <td>28.565220</td>\n",
       "      <td>77.254704</td>\n",
       "      <td>Nirulas</td>\n",
       "      <td>28.560938</td>\n",
       "      <td>77.255444</td>\n",
       "      <td>4c7e8b8a171b224bf6280eb1</td>\n",
       "      <td>Fast Food Restaurant</td>\n",
       "    </tr>\n",
       "  </tbody>\n",
       "</table>\n",
       "<p>334 rows × 9 columns</p>\n",
       "</div>"
      ],
      "text/plain": [
       "     index     Neighborhood  Neighborhood Latitude  Neighborhood Longitude  \\\n",
       "0        1  Barakhamba Road              28.629142               77.226149   \n",
       "1        3  Barakhamba Road              28.629142               77.226149   \n",
       "2        4  Barakhamba Road              28.629142               77.226149   \n",
       "3       11  Connaught Place              28.631383               77.219792   \n",
       "4       13  Connaught Place              28.631383               77.219792   \n",
       "..     ...              ...                    ...                     ...   \n",
       "329    525  South Extension              28.568566               77.220568   \n",
       "330    527  South Extension              28.568566               77.220568   \n",
       "331    528  South Extension              28.568566               77.220568   \n",
       "332    529  South Extension              28.568566               77.220568   \n",
       "333    534     Sriniwaspuri              28.565220               77.254704   \n",
       "\n",
       "                 Venue  Venue Latitude  Venue Longitude  \\\n",
       "0              Tamasha       28.629663        77.221835   \n",
       "1                 Chew       28.632002        77.222706   \n",
       "2     Cha Bar | चा बार       28.630920        77.222194   \n",
       "3       Rajdhani Thali       28.629999        77.220401   \n",
       "4       Johnny Rockets       28.630457        77.219594   \n",
       "..                 ...             ...              ...   \n",
       "329  Moti Mahal Deluxe       28.568539        77.219268   \n",
       "330       Costa Coffee       28.569475        77.220533   \n",
       "331     Bengali Sweets       28.569538        77.220940   \n",
       "332         McDonald's       28.568451        77.219503   \n",
       "333            Nirulas       28.560938        77.255444   \n",
       "\n",
       "                     Venue ID        Venue Category  \n",
       "0    56c6e01ccd10173283f8534e             Gastropub  \n",
       "1    52e226ef498e7591ee3213db      Asian Restaurant  \n",
       "2    51690773e4b09433491d990e              Tea Room  \n",
       "3    4cbb2592dd41a35df95eeca0     Indian Restaurant  \n",
       "4    571a5505498ef32d7975392f                Bistro  \n",
       "..                        ...                   ...  \n",
       "329  4cf926b76cee236aa80feb03     Indian Restaurant  \n",
       "330  5083dbaae4b0ca3a2b9222dc           Coffee Shop  \n",
       "331  4b9646a6f964a5208cc334e3     Indian Restaurant  \n",
       "332  4bed2b00bac3c9b677e0fde9  Fast Food Restaurant  \n",
       "333  4c7e8b8a171b224bf6280eb1  Fast Food Restaurant  \n",
       "\n",
       "[334 rows x 9 columns]"
      ]
     },
     "execution_count": 52,
     "metadata": {},
     "output_type": "execute_result"
    }
   ],
   "source": [
    "delhiVenues.reset_index()"
   ]
  },
  {
   "cell_type": "markdown",
   "metadata": {},
   "source": [
    "### Fetch likes for venues in Borough New Delhi and South Delhi"
   ]
  },
  {
   "cell_type": "code",
   "execution_count": 53,
   "metadata": {},
   "outputs": [],
   "source": [
    "# dictionary storing likes count based on the venue ID\n",
    "likes = {'Venue ID': [], 'Likes Count':[]}"
   ]
  },
  {
   "cell_type": "code",
   "execution_count": 54,
   "metadata": {},
   "outputs": [],
   "source": [
    "# function reads the json output and fetches relevant values i.e. likes count and append it to dictionary\n",
    "def getLikes(data):\n",
    "    results = requests.get(url).json()[\"response\"]\n",
    "    count = results['likes']['count']\n",
    "    likes['Likes Count'].append(count)\n",
    "    return likes"
   ]
  },
  {
   "cell_type": "code",
   "execution_count": 55,
   "metadata": {},
   "outputs": [],
   "source": [
    "# make GET request to likes endpoint\n",
    "for venue_id in delhiVenues['Venue ID']:\n",
    "        url = 'https://api.foursquare.com/v2/venues/{}/likes?&client_id={}&client_secret={}&v={}'.format(\n",
    "        venue_id,\n",
    "        CLIENT_ID, \n",
    "        CLIENT_SECRET, \n",
    "        VERSION\n",
    "        )\n",
    "        getLikes(likes)\n",
    "        likes['Venue ID'].append(venue_id)"
   ]
  },
  {
   "cell_type": "code",
   "execution_count": 56,
   "metadata": {},
   "outputs": [],
   "source": [
    "likesDf = pd.DataFrame()\n",
    "likesDf['Venue ID'] = likes['Venue ID']\n",
    "likesDf['Likes Count'] = likes['Likes Count']"
   ]
  },
  {
   "cell_type": "code",
   "execution_count": 57,
   "metadata": {},
   "outputs": [
    {
     "data": {
      "text/plain": [
       "(334, 2)"
      ]
     },
     "execution_count": 57,
     "metadata": {},
     "output_type": "execute_result"
    }
   ],
   "source": [
    "likesDf.shape"
   ]
  },
  {
   "cell_type": "code",
   "execution_count": 58,
   "metadata": {},
   "outputs": [],
   "source": [
    "# join likesDf to delhiVenues on Venue ID\n",
    "newDf = delhiVenues.join(likesDf.set_index('Venue ID'), on='Venue ID')"
   ]
  },
  {
   "cell_type": "code",
   "execution_count": 59,
   "metadata": {},
   "outputs": [],
   "source": [
    "newDf.dropna(inplace = True)"
   ]
  },
  {
   "cell_type": "code",
   "execution_count": 60,
   "metadata": {},
   "outputs": [
    {
     "data": {
      "text/plain": [
       "(364, 9)"
      ]
     },
     "execution_count": 60,
     "metadata": {},
     "output_type": "execute_result"
    }
   ],
   "source": [
    "newDf.shape"
   ]
  },
  {
   "cell_type": "code",
   "execution_count": 61,
   "metadata": {},
   "outputs": [
    {
     "data": {
      "text/plain": [
       "array([ 20,  26,  74,  25,   8,  28, 374, 174,   6,  14,  48,  99,  22,\n",
       "        29,  30,  53,  89,   7,  56, 106,  31,  71, 178,  38,  10,  97,\n",
       "         3,  12,  15,   5,   0,   2, 251,  39,  27, 121,   9,  23,  55,\n",
       "        37,  32,  16,  11,   1,   4,  34,  18,  13,  42,  92,  72,  33,\n",
       "        24, 170, 197,  46, 109, 285,  44, 124,  19, 107,  35,  52,  61],\n",
       "      dtype=int64)"
      ]
     },
     "execution_count": 61,
     "metadata": {},
     "output_type": "execute_result"
    }
   ],
   "source": [
    "newDf['Likes Count'].unique()"
   ]
  },
  {
   "cell_type": "code",
   "execution_count": 62,
   "metadata": {},
   "outputs": [
    {
     "data": {
      "text/html": [
       "<div>\n",
       "<style scoped>\n",
       "    .dataframe tbody tr th:only-of-type {\n",
       "        vertical-align: middle;\n",
       "    }\n",
       "\n",
       "    .dataframe tbody tr th {\n",
       "        vertical-align: top;\n",
       "    }\n",
       "\n",
       "    .dataframe thead th {\n",
       "        text-align: right;\n",
       "    }\n",
       "</style>\n",
       "<table border=\"1\" class=\"dataframe\">\n",
       "  <thead>\n",
       "    <tr style=\"text-align: right;\">\n",
       "      <th></th>\n",
       "      <th>Neighborhood</th>\n",
       "      <th>Neighborhood Latitude</th>\n",
       "      <th>Neighborhood Longitude</th>\n",
       "      <th>Venue</th>\n",
       "      <th>Venue Latitude</th>\n",
       "      <th>Venue Longitude</th>\n",
       "      <th>Venue ID</th>\n",
       "      <th>Venue Category</th>\n",
       "      <th>Likes Count</th>\n",
       "    </tr>\n",
       "  </thead>\n",
       "  <tbody>\n",
       "    <tr>\n",
       "      <td>1</td>\n",
       "      <td>Barakhamba Road</td>\n",
       "      <td>28.629142</td>\n",
       "      <td>77.226149</td>\n",
       "      <td>Tamasha</td>\n",
       "      <td>28.629663</td>\n",
       "      <td>77.221835</td>\n",
       "      <td>56c6e01ccd10173283f8534e</td>\n",
       "      <td>Gastropub</td>\n",
       "      <td>20</td>\n",
       "    </tr>\n",
       "    <tr>\n",
       "      <td>1</td>\n",
       "      <td>Barakhamba Road</td>\n",
       "      <td>28.629142</td>\n",
       "      <td>77.226149</td>\n",
       "      <td>Tamasha</td>\n",
       "      <td>28.629663</td>\n",
       "      <td>77.221835</td>\n",
       "      <td>56c6e01ccd10173283f8534e</td>\n",
       "      <td>Gastropub</td>\n",
       "      <td>20</td>\n",
       "    </tr>\n",
       "    <tr>\n",
       "      <td>3</td>\n",
       "      <td>Barakhamba Road</td>\n",
       "      <td>28.629142</td>\n",
       "      <td>77.226149</td>\n",
       "      <td>Chew</td>\n",
       "      <td>28.632002</td>\n",
       "      <td>77.222706</td>\n",
       "      <td>52e226ef498e7591ee3213db</td>\n",
       "      <td>Asian Restaurant</td>\n",
       "      <td>26</td>\n",
       "    </tr>\n",
       "    <tr>\n",
       "      <td>3</td>\n",
       "      <td>Barakhamba Road</td>\n",
       "      <td>28.629142</td>\n",
       "      <td>77.226149</td>\n",
       "      <td>Chew</td>\n",
       "      <td>28.632002</td>\n",
       "      <td>77.222706</td>\n",
       "      <td>52e226ef498e7591ee3213db</td>\n",
       "      <td>Asian Restaurant</td>\n",
       "      <td>26</td>\n",
       "    </tr>\n",
       "    <tr>\n",
       "      <td>4</td>\n",
       "      <td>Barakhamba Road</td>\n",
       "      <td>28.629142</td>\n",
       "      <td>77.226149</td>\n",
       "      <td>Cha Bar | चा बार</td>\n",
       "      <td>28.630920</td>\n",
       "      <td>77.222194</td>\n",
       "      <td>51690773e4b09433491d990e</td>\n",
       "      <td>Tea Room</td>\n",
       "      <td>74</td>\n",
       "    </tr>\n",
       "  </tbody>\n",
       "</table>\n",
       "</div>"
      ],
      "text/plain": [
       "      Neighborhood  Neighborhood Latitude  Neighborhood Longitude  \\\n",
       "1  Barakhamba Road              28.629142               77.226149   \n",
       "1  Barakhamba Road              28.629142               77.226149   \n",
       "3  Barakhamba Road              28.629142               77.226149   \n",
       "3  Barakhamba Road              28.629142               77.226149   \n",
       "4  Barakhamba Road              28.629142               77.226149   \n",
       "\n",
       "              Venue  Venue Latitude  Venue Longitude  \\\n",
       "1           Tamasha       28.629663        77.221835   \n",
       "1           Tamasha       28.629663        77.221835   \n",
       "3              Chew       28.632002        77.222706   \n",
       "3              Chew       28.632002        77.222706   \n",
       "4  Cha Bar | चा बार       28.630920        77.222194   \n",
       "\n",
       "                   Venue ID    Venue Category  Likes Count  \n",
       "1  56c6e01ccd10173283f8534e         Gastropub           20  \n",
       "1  56c6e01ccd10173283f8534e         Gastropub           20  \n",
       "3  52e226ef498e7591ee3213db  Asian Restaurant           26  \n",
       "3  52e226ef498e7591ee3213db  Asian Restaurant           26  \n",
       "4  51690773e4b09433491d990e          Tea Room           74  "
      ]
     },
     "execution_count": 62,
     "metadata": {},
     "output_type": "execute_result"
    }
   ],
   "source": [
    "newDf.head()"
   ]
  },
  {
   "cell_type": "code",
   "execution_count": 68,
   "metadata": {},
   "outputs": [
    {
     "data": {
      "text/html": [
       "<div>\n",
       "<style scoped>\n",
       "    .dataframe tbody tr th:only-of-type {\n",
       "        vertical-align: middle;\n",
       "    }\n",
       "\n",
       "    .dataframe tbody tr th {\n",
       "        vertical-align: top;\n",
       "    }\n",
       "\n",
       "    .dataframe thead th {\n",
       "        text-align: right;\n",
       "    }\n",
       "</style>\n",
       "<table border=\"1\" class=\"dataframe\">\n",
       "  <thead>\n",
       "    <tr style=\"text-align: right;\">\n",
       "      <th></th>\n",
       "      <th>Neighborhood</th>\n",
       "      <th>Neighborhood Latitude</th>\n",
       "      <th>Neighborhood Longitude</th>\n",
       "      <th>Venue Latitude</th>\n",
       "      <th>Venue Longitude</th>\n",
       "      <th>Likes Count</th>\n",
       "    </tr>\n",
       "  </thead>\n",
       "  <tbody>\n",
       "    <tr>\n",
       "      <td>0</td>\n",
       "      <td>Alaknanda</td>\n",
       "      <td>28.529336</td>\n",
       "      <td>77.251632</td>\n",
       "      <td>28.528475</td>\n",
       "      <td>77.249834</td>\n",
       "      <td>2.181818</td>\n",
       "    </tr>\n",
       "    <tr>\n",
       "      <td>1</td>\n",
       "      <td>Barakhamba Road</td>\n",
       "      <td>28.629142</td>\n",
       "      <td>77.226149</td>\n",
       "      <td>28.630862</td>\n",
       "      <td>77.222245</td>\n",
       "      <td>40.000000</td>\n",
       "    </tr>\n",
       "    <tr>\n",
       "      <td>2</td>\n",
       "      <td>Chhattarpur</td>\n",
       "      <td>28.507007</td>\n",
       "      <td>77.175417</td>\n",
       "      <td>28.506753</td>\n",
       "      <td>77.175013</td>\n",
       "      <td>0.500000</td>\n",
       "    </tr>\n",
       "    <tr>\n",
       "      <td>3</td>\n",
       "      <td>Chittaranjan Park</td>\n",
       "      <td>28.538752</td>\n",
       "      <td>77.249249</td>\n",
       "      <td>28.536478</td>\n",
       "      <td>77.253399</td>\n",
       "      <td>0.000000</td>\n",
       "    </tr>\n",
       "    <tr>\n",
       "      <td>4</td>\n",
       "      <td>Connaught Place</td>\n",
       "      <td>28.631383</td>\n",
       "      <td>77.219792</td>\n",
       "      <td>28.631872</td>\n",
       "      <td>77.219801</td>\n",
       "      <td>49.880952</td>\n",
       "    </tr>\n",
       "  </tbody>\n",
       "</table>\n",
       "</div>"
      ],
      "text/plain": [
       "        Neighborhood  Neighborhood Latitude  Neighborhood Longitude  \\\n",
       "0          Alaknanda              28.529336               77.251632   \n",
       "1    Barakhamba Road              28.629142               77.226149   \n",
       "2        Chhattarpur              28.507007               77.175417   \n",
       "3  Chittaranjan Park              28.538752               77.249249   \n",
       "4    Connaught Place              28.631383               77.219792   \n",
       "\n",
       "   Venue Latitude  Venue Longitude  Likes Count  \n",
       "0       28.528475        77.249834     2.181818  \n",
       "1       28.630862        77.222245    40.000000  \n",
       "2       28.506753        77.175013     0.500000  \n",
       "3       28.536478        77.253399     0.000000  \n",
       "4       28.631872        77.219801    49.880952  "
      ]
     },
     "execution_count": 68,
     "metadata": {},
     "output_type": "execute_result"
    }
   ],
   "source": [
    "# group on Neighborhood\n",
    "delhi_grouped = newDf.groupby('Neighborhood').mean().reset_index()\n",
    "delhi_grouped.head()"
   ]
  },
  {
   "cell_type": "markdown",
   "metadata": {},
   "source": [
    "## Clustering"
   ]
  },
  {
   "cell_type": "code",
   "execution_count": 69,
   "metadata": {},
   "outputs": [],
   "source": [
    "# drop columns other than likes column\n",
    "clusterDf = delhi_grouped.drop(columns = ['Neighborhood','Neighborhood Latitude','Neighborhood Longitude','Venue Latitude'\n",
    "                                         ,'Venue Longitude'], axis = 1)"
   ]
  },
  {
   "cell_type": "code",
   "execution_count": 86,
   "metadata": {},
   "outputs": [
    {
     "data": {
      "text/plain": [
       "(39, 1)"
      ]
     },
     "execution_count": 86,
     "metadata": {},
     "output_type": "execute_result"
    }
   ],
   "source": [
    "clusterDf.shape"
   ]
  },
  {
   "cell_type": "code",
   "execution_count": 71,
   "metadata": {},
   "outputs": [
    {
     "name": "stdout",
     "output_type": "stream",
     "text": [
      "1 2 3 4 5 6 7 8 9 "
     ]
    }
   ],
   "source": [
    "# Use elbow technique to get apt number of clusters\n",
    "sum_of_squared_distances = []\n",
    "K = range(1,10)\n",
    "for k in K:\n",
    "    print(k, end=' ')\n",
    "    kmeans = KMeans(n_clusters=k).fit(clusterDf)\n",
    "    sum_of_squared_distances.append(kmeans.inertia_)"
   ]
  },
  {
   "cell_type": "code",
   "execution_count": 74,
   "metadata": {},
   "outputs": [
    {
     "data": {
      "image/png": "[encoded data removed]",
      "text/plain": [
       "<Figure size 432x288 with 1 Axes>"
      ]
     },
     "metadata": {
      "needs_background": "light"
     },
     "output_type": "display_data"
    }
   ],
   "source": [
    "plt.plot(K, sum_of_squared_distances, 'bx-')\n",
    "plt.xlabel('k')\n",
    "plt.ylabel('sum_of_squared_distances')\n",
    "plt.title('Elbow Method For Optimal k');"
   ]
  },
  {
   "cell_type": "markdown",
   "metadata": {},
   "source": [
    "#### From the above graph, k = 3 is ideal number of cluster"
   ]
  },
  {
   "cell_type": "code",
   "execution_count": 83,
   "metadata": {},
   "outputs": [],
   "source": [
    "# fit on the dataset with 3 clusters\n",
    "kmeans = KMeans(n_clusters=3, random_state = 0).fit(clusterDf)"
   ]
  },
  {
   "cell_type": "code",
   "execution_count": 85,
   "metadata": {},
   "outputs": [
    {
     "data": {
      "text/plain": [
       "array([0, 1, 0, 0, 1, 0, 2, 0, 0, 0])"
      ]
     },
     "execution_count": 85,
     "metadata": {},
     "output_type": "execute_result"
    }
   ],
   "source": [
    "kmeans.labels_[0:10]"
   ]
  },
  {
   "cell_type": "code",
   "execution_count": 87,
   "metadata": {},
   "outputs": [],
   "source": [
    "# append cluster column to delhi_grouped \n",
    "delhi_grouped.insert(0,'Cluster',kmeans.labels_)"
   ]
  },
  {
   "cell_type": "code",
   "execution_count": 88,
   "metadata": {},
   "outputs": [
    {
     "data": {
      "text/html": [
       "<div>\n",
       "<style scoped>\n",
       "    .dataframe tbody tr th:only-of-type {\n",
       "        vertical-align: middle;\n",
       "    }\n",
       "\n",
       "    .dataframe tbody tr th {\n",
       "        vertical-align: top;\n",
       "    }\n",
       "\n",
       "    .dataframe thead th {\n",
       "        text-align: right;\n",
       "    }\n",
       "</style>\n",
       "<table border=\"1\" class=\"dataframe\">\n",
       "  <thead>\n",
       "    <tr style=\"text-align: right;\">\n",
       "      <th></th>\n",
       "      <th>Cluster</th>\n",
       "      <th>Neighborhood</th>\n",
       "      <th>Neighborhood Latitude</th>\n",
       "      <th>Neighborhood Longitude</th>\n",
       "      <th>Venue Latitude</th>\n",
       "      <th>Venue Longitude</th>\n",
       "      <th>Likes Count</th>\n",
       "    </tr>\n",
       "  </thead>\n",
       "  <tbody>\n",
       "    <tr>\n",
       "      <td>0</td>\n",
       "      <td>0</td>\n",
       "      <td>Alaknanda</td>\n",
       "      <td>28.529336</td>\n",
       "      <td>77.251632</td>\n",
       "      <td>28.528475</td>\n",
       "      <td>77.249834</td>\n",
       "      <td>2.181818</td>\n",
       "    </tr>\n",
       "    <tr>\n",
       "      <td>1</td>\n",
       "      <td>1</td>\n",
       "      <td>Barakhamba Road</td>\n",
       "      <td>28.629142</td>\n",
       "      <td>77.226149</td>\n",
       "      <td>28.630862</td>\n",
       "      <td>77.222245</td>\n",
       "      <td>40.000000</td>\n",
       "    </tr>\n",
       "    <tr>\n",
       "      <td>2</td>\n",
       "      <td>0</td>\n",
       "      <td>Chhattarpur</td>\n",
       "      <td>28.507007</td>\n",
       "      <td>77.175417</td>\n",
       "      <td>28.506753</td>\n",
       "      <td>77.175013</td>\n",
       "      <td>0.500000</td>\n",
       "    </tr>\n",
       "    <tr>\n",
       "      <td>3</td>\n",
       "      <td>0</td>\n",
       "      <td>Chittaranjan Park</td>\n",
       "      <td>28.538752</td>\n",
       "      <td>77.249249</td>\n",
       "      <td>28.536478</td>\n",
       "      <td>77.253399</td>\n",
       "      <td>0.000000</td>\n",
       "    </tr>\n",
       "    <tr>\n",
       "      <td>4</td>\n",
       "      <td>1</td>\n",
       "      <td>Connaught Place</td>\n",
       "      <td>28.631383</td>\n",
       "      <td>77.219792</td>\n",
       "      <td>28.631872</td>\n",
       "      <td>77.219801</td>\n",
       "      <td>49.880952</td>\n",
       "    </tr>\n",
       "  </tbody>\n",
       "</table>\n",
       "</div>"
      ],
      "text/plain": [
       "   Cluster       Neighborhood  Neighborhood Latitude  Neighborhood Longitude  \\\n",
       "0        0          Alaknanda              28.529336               77.251632   \n",
       "1        1    Barakhamba Road              28.629142               77.226149   \n",
       "2        0        Chhattarpur              28.507007               77.175417   \n",
       "3        0  Chittaranjan Park              28.538752               77.249249   \n",
       "4        1    Connaught Place              28.631383               77.219792   \n",
       "\n",
       "   Venue Latitude  Venue Longitude  Likes Count  \n",
       "0       28.528475        77.249834     2.181818  \n",
       "1       28.630862        77.222245    40.000000  \n",
       "2       28.506753        77.175013     0.500000  \n",
       "3       28.536478        77.253399     0.000000  \n",
       "4       28.631872        77.219801    49.880952  "
      ]
     },
     "execution_count": 88,
     "metadata": {},
     "output_type": "execute_result"
    }
   ],
   "source": [
    "delhi_grouped.head()"
   ]
  },
  {
   "cell_type": "code",
   "execution_count": 94,
   "metadata": {},
   "outputs": [
    {
     "data": {
      "text/html": [
       "<div style=\"width:100%;\"><div style=\"position:relative;width:100%;height:0;padding-bottom:60%;\"><iframe src=\"about:blank\" style=\"position:absolute;width:100%;height:100%;left:0;top:0;border:none !important;\" data-html=PCFET0NUWVBFIGh0bWw+CjxoZWFkPiAgICAKICAgIDxtZXRhIGh0dHAtZXF1aXY9ImNvbnRlbnQtdHlwZSIgY29udGVudD0idGV4dC9odG1sOyBjaGFyc2V0PVVURi04IiAvPgogICAgPHNjcmlwdD5MX1BSRUZFUl9DQU5WQVMgPSBmYWxzZTsgTF9OT19UT1VDSCA9IGZhbHNlOyBMX0RJU0FCTEVfM0QgPSBmYWxzZTs8L3NjcmlwdD4KICAgIDxzY3JpcHQgc3JjPSJodHRwczovL2Nkbi5qc2RlbGl2ci5uZXQvbnBtL2xlYWZsZXRAMS4yLjAvZGlzdC9sZWFmbGV0LmpzIj48L3NjcmlwdD4KICAgIDxzY3JpcHQgc3JjPSJodHRwczovL2FqYXguZ29vZ2xlYXBpcy5jb20vYWpheC9saWJzL2pxdWVyeS8xLjExLjEvanF1ZXJ5Lm1pbi5qcyI+PC9zY3JpcHQ+CiAgICA8c2NyaXB0IHNyYz0iaHR0cHM6Ly9tYXhjZG4uYm9vdHN0cmFwY2RuLmNvbS9ib290c3RyYXAvMy4yLjAvanMvYm9vdHN0cmFwLm1pbi5qcyI+PC9zY3JpcHQ+CiAgICA8c2NyaXB0IHNyYz0iaHR0cHM6Ly9jZG5qcy5jbG91ZGZsYXJlLmNvbS9hamF4L2xpYnMvTGVhZmxldC5hd2Vzb21lLW1hcmtlcnMvMi4wLjIvbGVhZmxldC5hd2Vzb21lLW1hcmtlcnMuanMiPjwvc2NyaXB0PgogICAgPGxpbmsgcmVsPSJzdHlsZXNoZWV0IiBocmVmPSJodHRwczovL2Nkbi5qc2RlbGl2ci5uZXQvbnBtL2xlYWZsZXRAMS4yLjAvZGlzdC9sZWFmbGV0LmNzcyIvPgogICAgPGxpbmsgcmVsPSJzdHlsZXNoZWV0IiBocmVmPSJodHRwczovL21heGNkbi5ib290c3RyYXBjZG4uY29tL2Jvb3RzdHJhcC8zLjIuMC9jc3MvYm9vdHN0cmFwLm1pbi5jc3MiLz4KICAgIDxsaW5rIHJlbD0ic3R5bGVzaGVldCIgaHJlZj0iaHR0cHM6Ly9tYXhjZG4uYm9vdHN0cmFwY2RuLmNvbS9ib290c3RyYXAvMy4yLjAvY3NzL2Jvb3RzdHJhcC10aGVtZS5taW4uY3NzIi8+CiAgICA8bGluayByZWw9InN0eWxlc2hlZXQiIGhyZWY9Imh0dHBzOi8vbWF4Y2RuLmJvb3RzdHJhcGNkbi5jb20vZm9udC1hd2Vzb21lLzQuNi4zL2Nzcy9mb250LWF3ZXNvbWUubWluLmNzcyIvPgogICAgPGxpbmsgcmVsPSJzdHlsZXNoZWV0IiBocmVmPSJodHRwczovL2NkbmpzLmNsb3VkZmxhcmUuY29tL2FqYXgvbGlicy9MZWFmbGV0LmF3ZXNvbWUtbWFya2Vycy8yLjAuMi9sZWFmbGV0LmF3ZXNvbWUtbWFya2Vycy5jc3MiLz4KICAgIDxsaW5rIHJlbD0ic3R5bGVzaGVldCIgaHJlZj0iaHR0cHM6Ly9yYXdnaXQuY29tL3B5dGhvbi12aXN1YWxpemF0aW9uL2ZvbGl1bS9tYXN0ZXIvZm9saXVtL3RlbXBsYXRlcy9sZWFmbGV0LmF3ZXNvbWUucm90YXRlLmNzcyIvPgogICAgPHN0eWxlPmh0bWwsIGJvZHkge3dpZHRoOiAxMDAlO2hlaWdodDogMTAwJTttYXJnaW46IDA7cGFkZGluZzogMDt9PC9zdHlsZT4KICAgIDxzdHlsZT4jbWFwIHtwb3NpdGlvbjphYnNvbHV0ZTt0b3A6MDtib3R0b206MDtyaWdodDowO2xlZnQ6MDt9PC9zdHlsZT4KICAgIAogICAgICAgICAgICA8c3R5bGU+ICNtYXBfMjkzNTA0YTgwOTViNDNhNzk5NjA5Mjc0NWZkOTg1ZDUgewogICAgICAgICAgICAgICAgcG9zaXRpb24gOiByZWxhdGl2ZTsKICAgICAgICAgICAgICAgIHdpZHRoIDogMTAwLjAlOwogICAgICAgICAgICAgICAgaGVpZ2h0OiAxMDAuMCU7CiAgICAgICAgICAgICAgICBsZWZ0OiAwLjAlOwogICAgICAgICAgICAgICAgdG9wOiAwLjAlOwogICAgICAgICAgICAgICAgfQogICAgICAgICAgICA8L3N0eWxlPgogICAgICAgIAo8L2hlYWQ+Cjxib2R5PiAgICAKICAgIAogICAgICAgICAgICA8ZGl2IGNsYXNzPSJmb2xpdW0tbWFwIiBpZD0ibWFwXzI5MzUwNGE4MDk1YjQzYTc5OTYwOTI3NDVmZDk4NWQ1IiA+PC9kaXY+CiAgICAgICAgCjwvYm9keT4KPHNjcmlwdD4gICAgCiAgICAKCiAgICAgICAgICAgIAogICAgICAgICAgICAgICAgdmFyIGJvdW5kcyA9IG51bGw7CiAgICAgICAgICAgIAoKICAgICAgICAgICAgdmFyIG1hcF8yOTM1MDRhODA5NWI0M2E3OTk2MDkyNzQ1ZmQ5ODVkNSA9IEwubWFwKAogICAgICAgICAgICAgICAgICAgICAgICAgICAgICAgICAgJ21hcF8yOTM1MDRhODA5NWI0M2E3OTk2MDkyNzQ1ZmQ5ODVkNScsCiAgICAgICAgICAgICAgICAgICAgICAgICAgICAgICAgICB7Y2VudGVyOiBbMjguNjE0MTc5Myw3Ny4yMDIyNjYyXSwKICAgICAgICAgICAgICAgICAgICAgICAgICAgICAgICAgIHpvb206IDExLAogICAgICAgICAgICAgICAgICAgICAgICAgICAgICAgICAgbWF4Qm91bmRzOiBib3VuZHMsCiAgICAgICAgICAgICAgICAgICAgICAgICAgICAgICAgICBsYXllcnM6IFtdLAogICAgICAgICAgICAgICAgICAgICAgICAgICAgICAgICAgd29ybGRDb3B5SnVtcDogZmFsc2UsCiAgICAgICAgICAgICAgICAgICAgICAgICAgICAgICAgICBjcnM6IEwuQ1JTLkVQU0czODU3CiAgICAgICAgICAgICAgICAgICAgICAgICAgICAgICAgIH0pOwogICAgICAgICAgICAKICAgICAgICAKICAgIAogICAgICAgICAgICB2YXIgdGlsZV9sYXllcl84MjkxMDZjZjQyNWE0NGI1OWI0MTFkNjcxODkxZTMzMSA9IEwudGlsZUxheWVyKAogICAgICAgICAgICAgICAgJ2h0dHBzOi8ve3N9LnRpbGUub3BlbnN0cmVldG1hcC5vcmcve3p9L3t4fS97eX0ucG5nJywKICAgICAgICAgICAgICAgIHsKICAiYXR0cmlidXRpb24iOiBudWxsLAogICJkZXRlY3RSZXRpbmEiOiBmYWxzZSwKICAibWF4Wm9vbSI6IDE4LAogICJtaW5ab29tIjogMSwKICAibm9XcmFwIjogZmFsc2UsCiAgInN1YmRvbWFpbnMiOiAiYWJjIgp9CiAgICAgICAgICAgICAgICApLmFkZFRvKG1hcF8yOTM1MDRhODA5NWI0M2E3OTk2MDkyNzQ1ZmQ5ODVkNSk7CiAgICAgICAgCiAgICAKICAgICAgICAgICAgdmFyIGNpcmNsZV9tYXJrZXJfNTRiYmI2Mzk4YjE2NDdiZDk4ZTMxMTUwZTY1YmU3NzggPSBMLmNpcmNsZU1hcmtlcigKICAgICAgICAgICAgICAgIFsyOC41MjkzMzY0LDc3LjI1MTYzMjNdLAogICAgICAgICAgICAgICAgewogICJidWJibGluZ01vdXNlRXZlbnRzIjogdHJ1ZSwKICAiY29sb3IiOiAiI2ZmMDAwMCIsCiAgImRhc2hBcnJheSI6IG51bGwsCiAgImRhc2hPZmZzZXQiOiBudWxsLAogICJmaWxsIjogdHJ1ZSwKICAiZmlsbENvbG9yIjogIiNmZjAwMDAiLAogICJmaWxsT3BhY2l0eSI6IDAuNywKICAiZmlsbFJ1bGUiOiAiZXZlbm9kZCIsCiAgImxpbmVDYXAiOiAicm91bmQiLAogICJsaW5lSm9pbiI6ICJyb3VuZCIsCiAgIm9wYWNpdHkiOiAxLjAsCiAgInJhZGl1cyI6IDUsCiAgInN0cm9rZSI6IHRydWUsCiAgIndlaWdodCI6IDMKfQogICAgICAgICAgICAgICAgKS5hZGRUbyhtYXBfMjkzNTA0YTgwOTViNDNhNzk5NjA5Mjc0NWZkOTg1ZDUpOwogICAgICAgICAgICAKICAgIAogICAgICAgICAgICB2YXIgcG9wdXBfMWQ0NDNhNDJlMmY3NDI3ODljMDdjZWQ5Zjc1N2M4MWQgPSBMLnBvcHVwKHttYXhXaWR0aDogJzMwMCd9KTsKCiAgICAgICAgICAgIAogICAgICAgICAgICAgICAgdmFyIGh0bWxfOWJlYjU4NGJhNDkzNDlkMWIzNDE5ZTBiMmUwYzI0MjggPSAkKCc8ZGl2IGlkPSJodG1sXzliZWI1ODRiYTQ5MzQ5ZDFiMzQxOWUwYjJlMGMyNDI4IiBzdHlsZT0id2lkdGg6IDEwMC4wJTsgaGVpZ2h0OiAxMDAuMCU7Ij5BbGFrbmFuZGEgQ2x1c3RlciAwPC9kaXY+JylbMF07CiAgICAgICAgICAgICAgICBwb3B1cF8xZDQ0M2E0MmUyZjc0Mjc4OWMwN2NlZDlmNzU3YzgxZC5zZXRDb250ZW50KGh0bWxfOWJlYjU4NGJhNDkzNDlkMWIzNDE5ZTBiMmUwYzI0MjgpOwogICAgICAgICAgICAKCiAgICAgICAgICAgIGNpcmNsZV9tYXJrZXJfNTRiYmI2Mzk4YjE2NDdiZDk4ZTMxMTUwZTY1YmU3NzguYmluZFBvcHVwKHBvcHVwXzFkNDQzYTQyZTJmNzQyNzg5YzA3Y2VkOWY3NTdjODFkKTsKCiAgICAgICAgICAgIAogICAgICAgIAogICAgCiAgICAgICAgICAgIHZhciBjaXJjbGVfbWFya2VyXzQzYWMxNzI4ZGU1NTRkZDA4MDU5ZmNmODUyYWQwZjlmID0gTC5jaXJjbGVNYXJrZXIoCiAgICAgICAgICAgICAgICBbMjguNjI5MTQxNyw3Ny4yMjYxNDg5MDAwMDAwMV0sCiAgICAgICAgICAgICAgICB7CiAgImJ1YmJsaW5nTW91c2VFdmVudHMiOiB0cnVlLAogICJjb2xvciI6ICIjODAwMGZmIiwKICAiZGFzaEFycmF5IjogbnVsbCwKICAiZGFzaE9mZnNldCI6IG51bGwsCiAgImZpbGwiOiB0cnVlLAogICJmaWxsQ29sb3IiOiAiIzgwMDBmZiIsCiAgImZpbGxPcGFjaXR5IjogMC43LAogICJmaWxsUnVsZSI6ICJldmVub2RkIiwKICAibGluZUNhcCI6ICJyb3VuZCIsCiAgImxpbmVKb2luIjogInJvdW5kIiwKICAib3BhY2l0eSI6IDEuMCwKICAicmFkaXVzIjogNSwKICAic3Ryb2tlIjogdHJ1ZSwKICAid2VpZ2h0IjogMwp9CiAgICAgICAgICAgICAgICApLmFkZFRvKG1hcF8yOTM1MDRhODA5NWI0M2E3OTk2MDkyNzQ1ZmQ5ODVkNSk7CiAgICAgICAgICAgIAogICAgCiAgICAgICAgICAgIHZhciBwb3B1cF8zMTg0NTI1NDc4ZTY0MDAzYmYzODI3NDY4Nzg3ZTA1NiA9IEwucG9wdXAoe21heFdpZHRoOiAnMzAwJ30pOwoKICAgICAgICAgICAgCiAgICAgICAgICAgICAgICB2YXIgaHRtbF8zNGZjNGY5ZTY4ZGY0ODNmODFmMDcwZjk1NzQ1Y2ZjMyA9ICQoJzxkaXYgaWQ9Imh0bWxfMzRmYzRmOWU2OGRmNDgzZjgxZjA3MGY5NTc0NWNmYzMiIHN0eWxlPSJ3aWR0aDogMTAwLjAlOyBoZWlnaHQ6IDEwMC4wJTsiPkJhcmFraGFtYmEgUm9hZCBDbHVzdGVyIDE8L2Rpdj4nKVswXTsKICAgICAgICAgICAgICAgIHBvcHVwXzMxODQ1MjU0NzhlNjQwMDNiZjM4Mjc0Njg3ODdlMDU2LnNldENvbnRlbnQoaHRtbF8zNGZjNGY5ZTY4ZGY0ODNmODFmMDcwZjk1NzQ1Y2ZjMyk7CiAgICAgICAgICAgIAoKICAgICAgICAgICAgY2lyY2xlX21hcmtlcl80M2FjMTcyOGRlNTU0ZGQwODA1OWZjZjg1MmFkMGY5Zi5iaW5kUG9wdXAocG9wdXBfMzE4NDUyNTQ3OGU2NDAwM2JmMzgyNzQ2ODc4N2UwNTYpOwoKICAgICAgICAgICAgCiAgICAgICAgCiAgICAKICAgICAgICAgICAgdmFyIGNpcmNsZV9tYXJrZXJfN2NmZmQyMGEzYTU0NGMxOWE2NjIwZjBjY2EyMDllZmEgPSBMLmNpcmNsZU1hcmtlcigKICAgICAgICAgICAgICAgIFsyOC41MDcwMDczMDAwMDAwMDUsNzcuMTc1NDE3MV0sCiAgICAgICAgICAgICAgICB7CiAgImJ1YmJsaW5nTW91c2VFdmVudHMiOiB0cnVlLAogICJjb2xvciI6ICIjZmYwMDAwIiwKICAiZGFzaEFycmF5IjogbnVsbCwKICAiZGFzaE9mZnNldCI6IG51bGwsCiAgImZpbGwiOiB0cnVlLAogICJmaWxsQ29sb3IiOiAiI2ZmMDAwMCIsCiAgImZpbGxPcGFjaXR5IjogMC43LAogICJmaWxsUnVsZSI6ICJldmVub2RkIiwKICAibGluZUNhcCI6ICJyb3VuZCIsCiAgImxpbmVKb2luIjogInJvdW5kIiwKICAib3BhY2l0eSI6IDEuMCwKICAicmFkaXVzIjogNSwKICAic3Ryb2tlIjogdHJ1ZSwKICAid2VpZ2h0IjogMwp9CiAgICAgICAgICAgICAgICApLmFkZFRvKG1hcF8yOTM1MDRhODA5NWI0M2E3OTk2MDkyNzQ1ZmQ5ODVkNSk7CiAgICAgICAgICAgIAogICAgCiAgICAgICAgICAgIHZhciBwb3B1cF9hNGY5MDRmY2Q2MGE0ZjhhOWQzMzJiZTI5YzkyYTliMiA9IEwucG9wdXAoe21heFdpZHRoOiAnMzAwJ30pOwoKICAgICAgICAgICAgCiAgICAgICAgICAgICAgICB2YXIgaHRtbF8wZDdhNGEwMzI1M2U0NGIyOTUxYTg5NTI2MzAxZjBhMyA9ICQoJzxkaXYgaWQ9Imh0bWxfMGQ3YTRhMDMyNTNlNDRiMjk1MWE4OTUyNjMwMWYwYTMiIHN0eWxlPSJ3aWR0aDogMTAwLjAlOyBoZWlnaHQ6IDEwMC4wJTsiPkNoaGF0dGFycHVyIENsdXN0ZXIgMDwvZGl2PicpWzBdOwogICAgICAgICAgICAgICAgcG9wdXBfYTRmOTA0ZmNkNjBhNGY4YTlkMzMyYmUyOWM5MmE5YjIuc2V0Q29udGVudChodG1sXzBkN2E0YTAzMjUzZTQ0YjI5NTFhODk1MjYzMDFmMGEzKTsKICAgICAgICAgICAgCgogICAgICAgICAgICBjaXJjbGVfbWFya2VyXzdjZmZkMjBhM2E1NDRjMTlhNjYyMGYwY2NhMjA5ZWZhLmJpbmRQb3B1cChwb3B1cF9hNGY5MDRmY2Q2MGE0ZjhhOWQzMzJiZTI5YzkyYTliMik7CgogICAgICAgICAgICAKICAgICAgICAKICAgIAogICAgICAgICAgICB2YXIgY2lyY2xlX21hcmtlcl8yOTU1M2NmMzE2MmY0YjZlOThhYzc1OTM2YzIwOTEwMyA9IEwuY2lyY2xlTWFya2VyKAogICAgICAgICAgICAgICAgWzI4LjUzODc1MjMsNzcuMjQ5MjQ5MzQ1MTU1N10sCiAgICAgICAgICAgICAgICB7CiAgImJ1YmJsaW5nTW91c2VFdmVudHMiOiB0cnVlLAogICJjb2xvciI6ICIjZmYwMDAwIiwKICAiZGFzaEFycmF5IjogbnVsbCwKICAiZGFzaE9mZnNldCI6IG51bGwsCiAgImZpbGwiOiB0cnVlLAogICJmaWxsQ29sb3IiOiAiI2ZmMDAwMCIsCiAgImZpbGxPcGFjaXR5IjogMC43LAogICJmaWxsUnVsZSI6ICJldmVub2RkIiwKICAibGluZUNhcCI6ICJyb3VuZCIsCiAgImxpbmVKb2luIjogInJvdW5kIiwKICAib3BhY2l0eSI6IDEuMCwKICAicmFkaXVzIjogNSwKICAic3Ryb2tlIjogdHJ1ZSwKICAid2VpZ2h0IjogMwp9CiAgICAgICAgICAgICAgICApLmFkZFRvKG1hcF8yOTM1MDRhODA5NWI0M2E3OTk2MDkyNzQ1ZmQ5ODVkNSk7CiAgICAgICAgICAgIAogICAgCiAgICAgICAgICAgIHZhciBwb3B1cF8zYjc0NTVjNzAwMWU0MDQ1OTlkNzQxMzhjZTVkMmU5NyA9IEwucG9wdXAoe21heFdpZHRoOiAnMzAwJ30pOwoKICAgICAgICAgICAgCiAgICAgICAgICAgICAgICB2YXIgaHRtbF9iMTMyNGM5MjY5ZmE0MDI1YTk0YzljNjY5ODEwNDc1MSA9ICQoJzxkaXYgaWQ9Imh0bWxfYjEzMjRjOTI2OWZhNDAyNWE5NGM5YzY2OTgxMDQ3NTEiIHN0eWxlPSJ3aWR0aDogMTAwLjAlOyBoZWlnaHQ6IDEwMC4wJTsiPkNoaXR0YXJhbmphbiBQYXJrIENsdXN0ZXIgMDwvZGl2PicpWzBdOwogICAgICAgICAgICAgICAgcG9wdXBfM2I3NDU1YzcwMDFlNDA0NTk5ZDc0MTM4Y2U1ZDJlOTcuc2V0Q29udGVudChodG1sX2IxMzI0YzkyNjlmYTQwMjVhOTRjOWM2Njk4MTA0NzUxKTsKICAgICAgICAgICAgCgogICAgICAgICAgICBjaXJjbGVfbWFya2VyXzI5NTUzY2YzMTYyZjRiNmU5OGFjNzU5MzZjMjA5MTAzLmJpbmRQb3B1cChwb3B1cF8zYjc0NTVjNzAwMWU0MDQ1OTlkNzQxMzhjZTVkMmU5Nyk7CgogICAgICAgICAgICAKICAgICAgICAKICAgIAogICAgICAgICAgICB2YXIgY2lyY2xlX21hcmtlcl8xMTNkZGY3OGE1NGE0ZjYzOTg0OTgxNWI5NWNlNzM4MSA9IEwuY2lyY2xlTWFya2VyKAogICAgICAgICAgICAgICAgWzI4LjYzMTM4MjY5OTk5OTk5Niw3Ny4yMTk3OTI0MDAwMDAwNl0sCiAgICAgICAgICAgICAgICB7CiAgImJ1YmJsaW5nTW91c2VFdmVudHMiOiB0cnVlLAogICJjb2xvciI6ICIjODAwMGZmIiwKICAiZGFzaEFycmF5IjogbnVsbCwKICAiZGFzaE9mZnNldCI6IG51bGwsCiAgImZpbGwiOiB0cnVlLAogICJmaWxsQ29sb3IiOiAiIzgwMDBmZiIsCiAgImZpbGxPcGFjaXR5IjogMC43LAogICJmaWxsUnVsZSI6ICJldmVub2RkIiwKICAibGluZUNhcCI6ICJyb3VuZCIsCiAgImxpbmVKb2luIjogInJvdW5kIiwKICAib3BhY2l0eSI6IDEuMCwKICAicmFkaXVzIjogNSwKICAic3Ryb2tlIjogdHJ1ZSwKICAid2VpZ2h0IjogMwp9CiAgICAgICAgICAgICAgICApLmFkZFRvKG1hcF8yOTM1MDRhODA5NWI0M2E3OTk2MDkyNzQ1ZmQ5ODVkNSk7CiAgICAgICAgICAgIAogICAgCiAgICAgICAgICAgIHZhciBwb3B1cF8xZmNiYjlmM2QwMzI0NTNlODQ2NjM5ODMyZWMwODViMSA9IEwucG9wdXAoe21heFdpZHRoOiAnMzAwJ30pOwoKICAgICAgICAgICAgCiAgICAgICAgICAgICAgICB2YXIgaHRtbF9kYWFhN2JhMDU2MzQ0NzQ2YjQyNDNkZTAyMjgwMzM0OSA9ICQoJzxkaXYgaWQ9Imh0bWxfZGFhYTdiYTA1NjM0NDc0NmI0MjQzZGUwMjI4MDMzNDkiIHN0eWxlPSJ3aWR0aDogMTAwLjAlOyBoZWlnaHQ6IDEwMC4wJTsiPkNvbm5hdWdodCBQbGFjZSBDbHVzdGVyIDE8L2Rpdj4nKVswXTsKICAgICAgICAgICAgICAgIHBvcHVwXzFmY2JiOWYzZDAzMjQ1M2U4NDY2Mzk4MzJlYzA4NWIxLnNldENvbnRlbnQoaHRtbF9kYWFhN2JhMDU2MzQ0NzQ2YjQyNDNkZTAyMjgwMzM0OSk7CiAgICAgICAgICAgIAoKICAgICAgICAgICAgY2lyY2xlX21hcmtlcl8xMTNkZGY3OGE1NGE0ZjYzOTg0OTgxNWI5NWNlNzM4MS5iaW5kUG9wdXAocG9wdXBfMWZjYmI5ZjNkMDMyNDUzZTg0NjYzOTgzMmVjMDg1YjEpOwoKICAgICAgICAgICAgCiAgICAgICAgCiAgICAKICAgICAgICAgICAgdmFyIGNpcmNsZV9tYXJrZXJfMmI4N2E5N2RkM2MyNDVhN2FkOGFjMDRkOWE4Y2VhN2MgPSBMLmNpcmNsZU1hcmtlcigKICAgICAgICAgICAgICAgIFsyOC41NjIxOTk3LDc3LjI0NzYxMzA5OTk5OTk4XSwKICAgICAgICAgICAgICAgIHsKICAiYnViYmxpbmdNb3VzZUV2ZW50cyI6IHRydWUsCiAgImNvbG9yIjogIiNmZjAwMDAiLAogICJkYXNoQXJyYXkiOiBudWxsLAogICJkYXNoT2Zmc2V0IjogbnVsbCwKICAiZmlsbCI6IHRydWUsCiAgImZpbGxDb2xvciI6ICIjZmYwMDAwIiwKICAiZmlsbE9wYWNpdHkiOiAwLjcsCiAgImZpbGxSdWxlIjogImV2ZW5vZGQiLAogICJsaW5lQ2FwIjogInJvdW5kIiwKICAibGluZUpvaW4iOiAicm91bmQiLAogICJvcGFjaXR5IjogMS4wLAogICJyYWRpdXMiOiA1LAogICJzdHJva2UiOiB0cnVlLAogICJ3ZWlnaHQiOiAzCn0KICAgICAgICAgICAgICAgICkuYWRkVG8obWFwXzI5MzUwNGE4MDk1YjQzYTc5OTYwOTI3NDVmZDk4NWQ1KTsKICAgICAgICAgICAgCiAgICAKICAgICAgICAgICAgdmFyIHBvcHVwX2ZhZTEwZTUyMjAzYzQ2ZTQ5NDI2MGY3YmU0M2IzNWNlID0gTC5wb3B1cCh7bWF4V2lkdGg6ICczMDAnfSk7CgogICAgICAgICAgICAKICAgICAgICAgICAgICAgIHZhciBodG1sX2U0OTQxOGQ1MjZlYjRlNDJhNjRhN2MyMGIwZjA1NWYzID0gJCgnPGRpdiBpZD0iaHRtbF9lNDk0MThkNTI2ZWI0ZTQyYTY0YTdjMjBiMGYwNTVmMyIgc3R5bGU9IndpZHRoOiAxMDAuMCU7IGhlaWdodDogMTAwLjAlOyI+RGF5YW5hbmQgQ29sb255IENsdXN0ZXIgMDwvZGl2PicpWzBdOwogICAgICAgICAgICAgICAgcG9wdXBfZmFlMTBlNTIyMDNjNDZlNDk0MjYwZjdiZTQzYjM1Y2Uuc2V0Q29udGVudChodG1sX2U0OTQxOGQ1MjZlYjRlNDJhNjRhN2MyMGIwZjA1NWYzKTsKICAgICAgICAgICAgCgogICAgICAgICAgICBjaXJjbGVfbWFya2VyXzJiODdhOTdkZDNjMjQ1YTdhZDhhYzA0ZDlhOGNlYTdjLmJpbmRQb3B1cChwb3B1cF9mYWUxMGU1MjIwM2M0NmU0OTQyNjBmN2JlNDNiMzVjZSk7CgogICAgICAgICAgICAKICAgICAgICAKICAgIAogICAgICAgICAgICB2YXIgY2lyY2xlX21hcmtlcl9hYWI1NmZhZmVhYmM0ODdhYWU2ZWI5MDY2MzhkN2RiMSA9IEwuY2lyY2xlTWFya2VyKAogICAgICAgICAgICAgICAgWzI4LjU3MTc5MDksNzcuMjMyMDEwMjAwMDAwMDJdLAogICAgICAgICAgICAgICAgewogICJidWJibGluZ01vdXNlRXZlbnRzIjogdHJ1ZSwKICAiY29sb3IiOiAiIzgwZmZiNCIsCiAgImRhc2hBcnJheSI6IG51bGwsCiAgImRhc2hPZmZzZXQiOiBudWxsLAogICJmaWxsIjogdHJ1ZSwKICAiZmlsbENvbG9yIjogIiM4MGZmYjQiLAogICJmaWxsT3BhY2l0eSI6IDAuNywKICAiZmlsbFJ1bGUiOiAiZXZlbm9kZCIsCiAgImxpbmVDYXAiOiAicm91bmQiLAogICJsaW5lSm9pbiI6ICJyb3VuZCIsCiAgIm9wYWNpdHkiOiAxLjAsCiAgInJhZGl1cyI6IDUsCiAgInN0cm9rZSI6IHRydWUsCiAgIndlaWdodCI6IDMKfQogICAgICAgICAgICAgICAgKS5hZGRUbyhtYXBfMjkzNTA0YTgwOTViNDNhNzk5NjA5Mjc0NWZkOTg1ZDUpOwogICAgICAgICAgICAKICAgIAogICAgICAgICAgICB2YXIgcG9wdXBfOWEzYjQ2YmQ5NTVmNGI0M2FmNTQ4MTk2MGZhMWY0YmEgPSBMLnBvcHVwKHttYXhXaWR0aDogJzMwMCd9KTsKCiAgICAgICAgICAgIAogICAgICAgICAgICAgICAgdmFyIGh0bWxfZjI1OGFiZTU1YmIxNDE1NzljNzJlNmM0ZDg0YTIxYzMgPSAkKCc8ZGl2IGlkPSJodG1sX2YyNThhYmU1NWJiMTQxNTc5YzcyZTZjNGQ4NGEyMWMzIiBzdHlsZT0id2lkdGg6IDEwMC4wJTsgaGVpZ2h0OiAxMDAuMCU7Ij5EZWZlbmNlIENvbG9ueSBDbHVzdGVyIDI8L2Rpdj4nKVswXTsKICAgICAgICAgICAgICAgIHBvcHVwXzlhM2I0NmJkOTU1ZjRiNDNhZjU0ODE5NjBmYTFmNGJhLnNldENvbnRlbnQoaHRtbF9mMjU4YWJlNTViYjE0MTU3OWM3MmU2YzRkODRhMjFjMyk7CiAgICAgICAgICAgIAoKICAgICAgICAgICAgY2lyY2xlX21hcmtlcl9hYWI1NmZhZmVhYmM0ODdhYWU2ZWI5MDY2MzhkN2RiMS5iaW5kUG9wdXAocG9wdXBfOWEzYjQ2YmQ5NTVmNGI0M2FmNTQ4MTk2MGZhMWY0YmEpOwoKICAgICAgICAgICAgCiAgICAgICAgCiAgICAKICAgICAgICAgICAgdmFyIGNpcmNsZV9tYXJrZXJfYzZlMGQ1YmM5ZTgzNDliNzg5Y2E1ODkxNzdkNTcwMGQgPSBMLmNpcmNsZU1hcmtlcigKICAgICAgICAgICAgICAgIFsyOC41NTcwMzIyMDAwMDAwMDIsNzcuMjQ0NjEzOTIwNjg1M10sCiAgICAgICAgICAgICAgICB7CiAgImJ1YmJsaW5nTW91c2VFdmVudHMiOiB0cnVlLAogICJjb2xvciI6ICIjZmYwMDAwIiwKICAiZGFzaEFycmF5IjogbnVsbCwKICAiZGFzaE9mZnNldCI6IG51bGwsCiAgImZpbGwiOiB0cnVlLAogICJmaWxsQ29sb3IiOiAiI2ZmMDAwMCIsCiAgImZpbGxPcGFjaXR5IjogMC43LAogICJmaWxsUnVsZSI6ICJldmVub2RkIiwKICAibGluZUNhcCI6ICJyb3VuZCIsCiAgImxpbmVKb2luIjogInJvdW5kIiwKICAib3BhY2l0eSI6IDEuMCwKICAicmFkaXVzIjogNSwKICAic3Ryb2tlIjogdHJ1ZSwKICAid2VpZ2h0IjogMwp9CiAgICAgICAgICAgICAgICApLmFkZFRvKG1hcF8yOTM1MDRhODA5NWI0M2E3OTk2MDkyNzQ1ZmQ5ODVkNSk7CiAgICAgICAgICAgIAogICAgCiAgICAgICAgICAgIHZhciBwb3B1cF84N2QwNWNiNzU1N2Y0NGJkYmUxZjE2NjJhMDg0MTViMSA9IEwucG9wdXAoe21heFdpZHRoOiAnMzAwJ30pOwoKICAgICAgICAgICAgCiAgICAgICAgICAgICAgICB2YXIgaHRtbF85NDIyMDdlYWRiNzA0NGNkYjg0YzM3Yzk5ZmM3MDhiYSA9ICQoJzxkaXYgaWQ9Imh0bWxfOTQyMjA3ZWFkYjcwNDRjZGI4NGMzN2M5OWZjNzA4YmEiIHN0eWxlPSJ3aWR0aDogMTAwLjAlOyBoZWlnaHQ6IDEwMC4wJTsiPkVhc3Qgb2YgS2FpbGFzaCBDbHVzdGVyIDA8L2Rpdj4nKVswXTsKICAgICAgICAgICAgICAgIHBvcHVwXzg3ZDA1Y2I3NTU3ZjQ0YmRiZTFmMTY2MmEwODQxNWIxLnNldENvbnRlbnQoaHRtbF85NDIyMDdlYWRiNzA0NGNkYjg0YzM3Yzk5ZmM3MDhiYSk7CiAgICAgICAgICAgIAoKICAgICAgICAgICAgY2lyY2xlX21hcmtlcl9jNmUwZDViYzllODM0OWI3ODljYTU4OTE3N2Q1NzAwZC5iaW5kUG9wdXAocG9wdXBfODdkMDVjYjc1NTdmNDRiZGJlMWYxNjYyYTA4NDE1YjEpOwoKICAgICAgICAgICAgCiAgICAgICAgCiAgICAKICAgICAgICAgICAgdmFyIGNpcmNsZV9tYXJrZXJfMWM4MWE5YTg4YjU1NDFhNGJlNTQyYjdiMzRkYWNiMjggPSBMLmNpcmNsZU1hcmtlcigKICAgICAgICAgICAgICAgIFsyOC41NjY3NTEzMDAwMDAwMDQsNzcuMjYxOTE4MV0sCiAgICAgICAgICAgICAgICB7CiAgImJ1YmJsaW5nTW91c2VFdmVudHMiOiB0cnVlLAogICJjb2xvciI6ICIjZmYwMDAwIiwKICAiZGFzaEFycmF5IjogbnVsbCwKICAiZGFzaE9mZnNldCI6IG51bGwsCiAgImZpbGwiOiB0cnVlLAogICJmaWxsQ29sb3IiOiAiI2ZmMDAwMCIsCiAgImZpbGxPcGFjaXR5IjogMC43LAogICJmaWxsUnVsZSI6ICJldmVub2RkIiwKICAibGluZUNhcCI6ICJyb3VuZCIsCiAgImxpbmVKb2luIjogInJvdW5kIiwKICAib3BhY2l0eSI6IDEuMCwKICAicmFkaXVzIjogNSwKICAic3Ryb2tlIjogdHJ1ZSwKICAid2VpZ2h0IjogMwp9CiAgICAgICAgICAgICAgICApLmFkZFRvKG1hcF8yOTM1MDRhODA5NWI0M2E3OTk2MDkyNzQ1ZmQ5ODVkNSk7CiAgICAgICAgICAgIAogICAgCiAgICAgICAgICAgIHZhciBwb3B1cF8xMDlmYzQ3MTIyNzk0Yjg0OGZjMzZkZWNiNTQzZTgwMSA9IEwucG9wdXAoe21heFdpZHRoOiAnMzAwJ30pOwoKICAgICAgICAgICAgCiAgICAgICAgICAgICAgICB2YXIgaHRtbF85ZGU0MWU0YzM0YjY0YmExYjFjNTNlOTNjZGJmNGRiOCA9ICQoJzxkaXYgaWQ9Imh0bWxfOWRlNDFlNGMzNGI2NGJhMWIxYzUzZTkzY2RiZjRkYjgiIHN0eWxlPSJ3aWR0aDogMTAwLjAlOyBoZWlnaHQ6IDEwMC4wJTsiPkZyaWVuZHMgQ29sb255IENsdXN0ZXIgMDwvZGl2PicpWzBdOwogICAgICAgICAgICAgICAgcG9wdXBfMTA5ZmM0NzEyMjc5NGI4NDhmYzM2ZGVjYjU0M2U4MDEuc2V0Q29udGVudChodG1sXzlkZTQxZTRjMzRiNjRiYTFiMWM1M2U5M2NkYmY0ZGI4KTsKICAgICAgICAgICAgCgogICAgICAgICAgICBjaXJjbGVfbWFya2VyXzFjODFhOWE4OGI1NTQxYTRiZTU0MmI3YjM0ZGFjYjI4LmJpbmRQb3B1cChwb3B1cF8xMDlmYzQ3MTIyNzk0Yjg0OGZjMzZkZWNiNTQzZTgwMSk7CgogICAgICAgICAgICAKICAgICAgICAKICAgIAogICAgICAgICAgICB2YXIgY2lyY2xlX21hcmtlcl82YzM2OTk2YjU4ODk0ODc3YTllYjNmZGE4MDcyZDcwYiA9IEwuY2lyY2xlTWFya2VyKAogICAgICAgICAgICAgICAgWzI4LjYzMzcxODY1LDc3LjIwNTYyNjYyMDk4MjA5XSwKICAgICAgICAgICAgICAgIHsKICAiYnViYmxpbmdNb3VzZUV2ZW50cyI6IHRydWUsCiAgImNvbG9yIjogIiNmZjAwMDAiLAogICJkYXNoQXJyYXkiOiBudWxsLAogICJkYXNoT2Zmc2V0IjogbnVsbCwKICAiZmlsbCI6IHRydWUsCiAgImZpbGxDb2xvciI6ICIjZmYwMDAwIiwKICAiZmlsbE9wYWNpdHkiOiAwLjcsCiAgImZpbGxSdWxlIjogImV2ZW5vZGQiLAogICJsaW5lQ2FwIjogInJvdW5kIiwKICAibGluZUpvaW4iOiAicm91bmQiLAogICJvcGFjaXR5IjogMS4wLAogICJyYWRpdXMiOiA1LAogICJzdHJva2UiOiB0cnVlLAogICJ3ZWlnaHQiOiAzCn0KICAgICAgICAgICAgICAgICkuYWRkVG8obWFwXzI5MzUwNGE4MDk1YjQzYTc5OTYwOTI3NDVmZDk4NWQ1KTsKICAgICAgICAgICAgCiAgICAKICAgICAgICAgICAgdmFyIHBvcHVwXzE3YjQxMTZmNjI5ZDRmNzFhODEzNzVhNGQ2MWIxNmMzID0gTC5wb3B1cCh7bWF4V2lkdGg6ICczMDAnfSk7CgogICAgICAgICAgICAKICAgICAgICAgICAgICAgIHZhciBodG1sXzFmYzk5Zjk1OWYwODQ2ZjhhOTk4MzQ3MTJkOWJiNmJiID0gJCgnPGRpdiBpZD0iaHRtbF8xZmM5OWY5NTlmMDg0NmY4YTk5ODM0NzEyZDliYjZiYiIgc3R5bGU9IndpZHRoOiAxMDAuMCU7IGhlaWdodDogMTAwLjAlOyI+R29sZSBNYXJrZXQgQ2x1c3RlciAwPC9kaXY+JylbMF07CiAgICAgICAgICAgICAgICBwb3B1cF8xN2I0MTE2ZjYyOWQ0ZjcxYTgxMzc1YTRkNjFiMTZjMy5zZXRDb250ZW50KGh0bWxfMWZjOTlmOTU5ZjA4NDZmOGE5OTgzNDcxMmQ5YmI2YmIpOwogICAgICAgICAgICAKCiAgICAgICAgICAgIGNpcmNsZV9tYXJrZXJfNmMzNjk5NmI1ODg5NDg3N2E5ZWIzZmRhODA3MmQ3MGIuYmluZFBvcHVwKHBvcHVwXzE3YjQxMTZmNjI5ZDRmNzFhODEzNzVhNGQ2MWIxNmMzKTsKCiAgICAgICAgICAgIAogICAgICAgIAogICAgCiAgICAgICAgICAgIHZhciBjaXJjbGVfbWFya2VyXzZiN2IxZDQ4N2NlYjRhYjBiYmYxMWNkZGRkNmExMDVjID0gTC5jaXJjbGVNYXJrZXIoCiAgICAgICAgICAgICAgICBbMjguNTU0NjMyNzAwMDAwMDA2LDc3LjIyODU2OThdLAogICAgICAgICAgICAgICAgewogICJidWJibGluZ01vdXNlRXZlbnRzIjogdHJ1ZSwKICAiY29sb3IiOiAiI2ZmMDAwMCIsCiAgImRhc2hBcnJheSI6IG51bGwsCiAgImRhc2hPZmZzZXQiOiBudWxsLAogICJmaWxsIjogdHJ1ZSwKICAiZmlsbENvbG9yIjogIiNmZjAwMDAiLAogICJmaWxsT3BhY2l0eSI6IDAuNywKICAiZmlsbFJ1bGUiOiAiZXZlbm9kZCIsCiAgImxpbmVDYXAiOiAicm91bmQiLAogICJsaW5lSm9pbiI6ICJyb3VuZCIsCiAgIm9wYWNpdHkiOiAxLjAsCiAgInJhZGl1cyI6IDUsCiAgInN0cm9rZSI6IHRydWUsCiAgIndlaWdodCI6IDMKfQogICAgICAgICAgICAgICAgKS5hZGRUbyhtYXBfMjkzNTA0YTgwOTViNDNhNzk5NjA5Mjc0NWZkOTg1ZDUpOwogICAgICAgICAgICAKICAgIAogICAgICAgICAgICB2YXIgcG9wdXBfZjkyMjJhYjYzYTMyNDc1ZjgxMmYyN2I3OGQ3ZDI3MjYgPSBMLnBvcHVwKHttYXhXaWR0aDogJzMwMCd9KTsKCiAgICAgICAgICAgIAogICAgICAgICAgICAgICAgdmFyIGh0bWxfM2I3MjMyMTE1MzE1NDk1YWIxNzJkOTEzYjYwZGRhOGIgPSAkKCc8ZGl2IGlkPSJodG1sXzNiNzIzMjExNTMxNTQ5NWFiMTcyZDkxM2I2MGRkYThiIiBzdHlsZT0id2lkdGg6IDEwMC4wJTsgaGVpZ2h0OiAxMDAuMCU7Ij5HcmVhdGVyIEthaWxhc2ggQ2x1c3RlciAwPC9kaXY+JylbMF07CiAgICAgICAgICAgICAgICBwb3B1cF9mOTIyMmFiNjNhMzI0NzVmODEyZjI3Yjc4ZDdkMjcyNi5zZXRDb250ZW50KGh0bWxfM2I3MjMyMTE1MzE1NDk1YWIxNzJkOTEzYjYwZGRhOGIpOwogICAgICAgICAgICAKCiAgICAgICAgICAgIGNpcmNsZV9tYXJrZXJfNmI3YjFkNDg3Y2ViNGFiMGJiZjExY2RkZGQ2YTEwNWMuYmluZFBvcHVwKHBvcHVwX2Y5MjIyYWI2M2EzMjQ3NWY4MTJmMjdiNzhkN2QyNzI2KTsKCiAgICAgICAgICAgIAogICAgICAgIAogICAgCiAgICAgICAgICAgIHZhciBjaXJjbGVfbWFya2VyX2RmY2I2MjdmNzYyNDQyNWI5NzE4M2ZlMTk4ZmM0YmNjID0gTC5jaXJjbGVNYXJrZXIoCiAgICAgICAgICAgICAgICBbMjguNTU4MDAyMTk5OTk5OTk0LDc3LjIwNjgyMTFdLAogICAgICAgICAgICAgICAgewogICJidWJibGluZ01vdXNlRXZlbnRzIjogdHJ1ZSwKICAiY29sb3IiOiAiI2ZmMDAwMCIsCiAgImRhc2hBcnJheSI6IG51bGwsCiAgImRhc2hPZmZzZXQiOiBudWxsLAogICJmaWxsIjogdHJ1ZSwKICAiZmlsbENvbG9yIjogIiNmZjAwMDAiLAogICJmaWxsT3BhY2l0eSI6IDAuNywKICAiZmlsbFJ1bGUiOiAiZXZlbm9kZCIsCiAgImxpbmVDYXAiOiAicm91bmQiLAogICJsaW5lSm9pbiI6ICJyb3VuZCIsCiAgIm9wYWNpdHkiOiAxLjAsCiAgInJhZGl1cyI6IDUsCiAgInN0cm9rZSI6IHRydWUsCiAgIndlaWdodCI6IDMKfQogICAgICAgICAgICAgICAgKS5hZGRUbyhtYXBfMjkzNTA0YTgwOTViNDNhNzk5NjA5Mjc0NWZkOTg1ZDUpOwogICAgICAgICAgICAKICAgIAogICAgICAgICAgICB2YXIgcG9wdXBfMTllYWJhMzAzYjNiNDI1N2FhZTdjMzY2MTFjMzBiOGIgPSBMLnBvcHVwKHttYXhXaWR0aDogJzMwMCd9KTsKCiAgICAgICAgICAgIAogICAgICAgICAgICAgICAgdmFyIGh0bWxfMzFjNGMxNjVjZTBhNGM0NThhZThkMWY3M2MwYmMwODcgPSAkKCc8ZGl2IGlkPSJodG1sXzMxYzRjMTY1Y2UwYTRjNDU4YWU4ZDFmNzNjMGJjMDg3IiBzdHlsZT0id2lkdGg6IDEwMC4wJTsgaGVpZ2h0OiAxMDAuMCU7Ij5HcmVlbiBQYXJrIENsdXN0ZXIgMDwvZGl2PicpWzBdOwogICAgICAgICAgICAgICAgcG9wdXBfMTllYWJhMzAzYjNiNDI1N2FhZTdjMzY2MTFjMzBiOGIuc2V0Q29udGVudChodG1sXzMxYzRjMTY1Y2UwYTRjNDU4YWU4ZDFmNzNjMGJjMDg3KTsKICAgICAgICAgICAgCgogICAgICAgICAgICBjaXJjbGVfbWFya2VyX2RmY2I2MjdmNzYyNDQyNWI5NzE4M2ZlMTk4ZmM0YmNjLmJpbmRQb3B1cChwb3B1cF8xOWVhYmEzMDNiM2I0MjU3YWFlN2MzNjYxMWMzMGI4Yik7CgogICAgICAgICAgICAKICAgICAgICAKICAgIAogICAgICAgICAgICB2YXIgY2lyY2xlX21hcmtlcl9lZDNmM2M4ZTRmZGQ0MDZlODVkZmM2ZDNlMTk3MmZkNyA9IEwuY2lyY2xlTWFya2VyKAogICAgICAgICAgICAgICAgWzI4LjU0NDI1NjQwMDAwMDAwMiw3Ny4yMDY3MDcyMDAwMDAwMV0sCiAgICAgICAgICAgICAgICB7CiAgImJ1YmJsaW5nTW91c2VFdmVudHMiOiB0cnVlLAogICJjb2xvciI6ICIjODBmZmI0IiwKICAiZGFzaEFycmF5IjogbnVsbCwKICAiZGFzaE9mZnNldCI6IG51bGwsCiAgImZpbGwiOiB0cnVlLAogICJmaWxsQ29sb3IiOiAiIzgwZmZiNCIsCiAgImZpbGxPcGFjaXR5IjogMC43LAogICJmaWxsUnVsZSI6ICJldmVub2RkIiwKICAibGluZUNhcCI6ICJyb3VuZCIsCiAgImxpbmVKb2luIjogInJvdW5kIiwKICAib3BhY2l0eSI6IDEuMCwKICAicmFkaXVzIjogNSwKICAic3Ryb2tlIjogdHJ1ZSwKICAid2VpZ2h0IjogMwp9CiAgICAgICAgICAgICAgICApLmFkZFRvKG1hcF8yOTM1MDRhODA5NWI0M2E3OTk2MDkyNzQ1ZmQ5ODVkNSk7CiAgICAgICAgICAgIAogICAgCiAgICAgICAgICAgIHZhciBwb3B1cF85MWIxOGJkN2JiZTI0YzllYTIzOWIyMzJkZDNkZDAzZiA9IEwucG9wdXAoe21heFdpZHRoOiAnMzAwJ30pOwoKICAgICAgICAgICAgCiAgICAgICAgICAgICAgICB2YXIgaHRtbF9kOGM3MTYzM2Y0YzM0MGYyOWExODZlZGJmZThkNThjYiA9ICQoJzxkaXYgaWQ9Imh0bWxfZDhjNzE2MzNmNGMzNDBmMjlhMTg2ZWRiZmU4ZDU4Y2IiIHN0eWxlPSJ3aWR0aDogMTAwLjAlOyBoZWlnaHQ6IDEwMC4wJTsiPkhhdXogS2hhcyBDbHVzdGVyIDI8L2Rpdj4nKVswXTsKICAgICAgICAgICAgICAgIHBvcHVwXzkxYjE4YmQ3YmJlMjRjOWVhMjM5YjIzMmRkM2RkMDNmLnNldENvbnRlbnQoaHRtbF9kOGM3MTYzM2Y0YzM0MGYyOWExODZlZGJmZThkNThjYik7CiAgICAgICAgICAgIAoKICAgICAgICAgICAgY2lyY2xlX21hcmtlcl9lZDNmM2M4ZTRmZGQ0MDZlODVkZmM2ZDNlMTk3MmZkNy5iaW5kUG9wdXAocG9wdXBfOTFiMThiZDdiYmUyNGM5ZWEyMzliMjMyZGQzZGQwM2YpOwoKICAgICAgICAgICAgCiAgICAgICAgCiAgICAKICAgICAgICAgICAgdmFyIGNpcmNsZV9tYXJrZXJfYjFkNTAxNGQ2MGQ3NDJiY2I4M2IzMWQxOGZhZmIzN2IgPSBMLmNpcmNsZU1hcmtlcigKICAgICAgICAgICAgICAgIFsyOC41NTM4NTQ4NTAwMDAwMDQsNzcuMTk0NzEyNzU4NTI5OTJdLAogICAgICAgICAgICAgICAgewogICJidWJibGluZ01vdXNlRXZlbnRzIjogdHJ1ZSwKICAiY29sb3IiOiAiIzgwZmZiNCIsCiAgImRhc2hBcnJheSI6IG51bGwsCiAgImRhc2hPZmZzZXQiOiBudWxsLAogICJmaWxsIjogdHJ1ZSwKICAiZmlsbENvbG9yIjogIiM4MGZmYjQiLAogICJmaWxsT3BhY2l0eSI6IDAuNywKICAiZmlsbFJ1bGUiOiAiZXZlbm9kZCIsCiAgImxpbmVDYXAiOiAicm91bmQiLAogICJsaW5lSm9pbiI6ICJyb3VuZCIsCiAgIm9wYWNpdHkiOiAxLjAsCiAgInJhZGl1cyI6IDUsCiAgInN0cm9rZSI6IHRydWUsCiAgIndlaWdodCI6IDMKfQogICAgICAgICAgICAgICAgKS5hZGRUbyhtYXBfMjkzNTA0YTgwOTViNDNhNzk5NjA5Mjc0NWZkOTg1ZDUpOwogICAgICAgICAgICAKICAgIAogICAgICAgICAgICB2YXIgcG9wdXBfNGJmNmU5OWQ0ODk0NGU3NWFiNzFiYjUxODA4YWQzYjYgPSBMLnBvcHVwKHttYXhXaWR0aDogJzMwMCd9KTsKCiAgICAgICAgICAgIAogICAgICAgICAgICAgICAgdmFyIGh0bWxfZDI4ZWI5ZDhlODVhNDFlZTgyYzM0ZWIwZmViMjE2ZjkgPSAkKCc8ZGl2IGlkPSJodG1sX2QyOGViOWQ4ZTg1YTQxZWU4MmMzNGViMGZlYjIxNmY5IiBzdHlsZT0id2lkdGg6IDEwMC4wJTsgaGVpZ2h0OiAxMDAuMCU7Ij5IYXV6IEtoYXMgVmlsbGFnZSBDbHVzdGVyIDI8L2Rpdj4nKVswXTsKICAgICAgICAgICAgICAgIHBvcHVwXzRiZjZlOTlkNDg5NDRlNzVhYjcxYmI1MTgwOGFkM2I2LnNldENvbnRlbnQoaHRtbF9kMjhlYjlkOGU4NWE0MWVlODJjMzRlYjBmZWIyMTZmOSk7CiAgICAgICAgICAgIAoKICAgICAgICAgICAgY2lyY2xlX21hcmtlcl9iMWQ1MDE0ZDYwZDc0MmJjYjgzYjMxZDE4ZmFmYjM3Yi5iaW5kUG9wdXAocG9wdXBfNGJmNmU5OWQ0ODk0NGU3NWFiNzFiYjUxODA4YWQzYjYpOwoKICAgICAgICAgICAgCiAgICAgICAgCiAgICAKICAgICAgICAgICAgdmFyIGNpcmNsZV9tYXJrZXJfZDU2NTA4ZjU0YWZhNGVjZmI4MTc1ZWMxNDdkOWEwYWIgPSBMLmNpcmNsZU1hcmtlcigKICAgICAgICAgICAgICAgIFsyOC41ODI0NTcwNDk5OTk5OTUsNzcuMjQxNTAwMDcyNzM4NF0sCiAgICAgICAgICAgICAgICB7CiAgImJ1YmJsaW5nTW91c2VFdmVudHMiOiB0cnVlLAogICJjb2xvciI6ICIjZmYwMDAwIiwKICAiZGFzaEFycmF5IjogbnVsbCwKICAiZGFzaE9mZnNldCI6IG51bGwsCiAgImZpbGwiOiB0cnVlLAogICJmaWxsQ29sb3IiOiAiI2ZmMDAwMCIsCiAgImZpbGxPcGFjaXR5IjogMC43LAogICJmaWxsUnVsZSI6ICJldmVub2RkIiwKICAibGluZUNhcCI6ICJyb3VuZCIsCiAgImxpbmVKb2luIjogInJvdW5kIiwKICAib3BhY2l0eSI6IDEuMCwKICAicmFkaXVzIjogNSwKICAic3Ryb2tlIjogdHJ1ZSwKICAid2VpZ2h0IjogMwp9CiAgICAgICAgICAgICAgICApLmFkZFRvKG1hcF8yOTM1MDRhODA5NWI0M2E3OTk2MDkyNzQ1ZmQ5ODVkNSk7CiAgICAgICAgICAgIAogICAgCiAgICAgICAgICAgIHZhciBwb3B1cF8zNjdlMmFlMTZjMWU0ODQwYjhkODdjNzNlNjhmZDRiYyA9IEwucG9wdXAoe21heFdpZHRoOiAnMzAwJ30pOwoKICAgICAgICAgICAgCiAgICAgICAgICAgICAgICB2YXIgaHRtbF85MmIyY2MxODk0NjU0NzlmOTYzNmZlOWFmNDUwYTBmZCA9ICQoJzxkaXYgaWQ9Imh0bWxfOTJiMmNjMTg5NDY1NDc5Zjk2MzZmZTlhZjQ1MGEwZmQiIHN0eWxlPSJ3aWR0aDogMTAwLjAlOyBoZWlnaHQ6IDEwMC4wJTsiPkphbmdwdXJhIENsdXN0ZXIgMDwvZGl2PicpWzBdOwogICAgICAgICAgICAgICAgcG9wdXBfMzY3ZTJhZTE2YzFlNDg0MGI4ZDg3YzczZTY4ZmQ0YmMuc2V0Q29udGVudChodG1sXzkyYjJjYzE4OTQ2NTQ3OWY5NjM2ZmU5YWY0NTBhMGZkKTsKICAgICAgICAgICAgCgogICAgICAgICAgICBjaXJjbGVfbWFya2VyX2Q1NjUwOGY1NGFmYTRlY2ZiODE3NWVjMTQ3ZDlhMGFiLmJpbmRQb3B1cChwb3B1cF8zNjdlMmFlMTZjMWU0ODQwYjhkODdjNzNlNjhmZDRiYyk7CgogICAgICAgICAgICAKICAgICAgICAKICAgIAogICAgICAgICAgICB2YXIgY2lyY2xlX21hcmtlcl8zZWY3YTgzMjc5ZWU0ZjAwYmNhNDYxMGFjYmM2NDI2ZSA9IEwuY2lyY2xlTWFya2VyKAogICAgICAgICAgICAgICAgWzI4LjU0MjIzMjcsNzcuMjk0Mzg1NTk5NzY0NV0sCiAgICAgICAgICAgICAgICB7CiAgImJ1YmJsaW5nTW91c2VFdmVudHMiOiB0cnVlLAogICJjb2xvciI6ICIjZmYwMDAwIiwKICAiZGFzaEFycmF5IjogbnVsbCwKICAiZGFzaE9mZnNldCI6IG51bGwsCiAgImZpbGwiOiB0cnVlLAogICJmaWxsQ29sb3IiOiAiI2ZmMDAwMCIsCiAgImZpbGxPcGFjaXR5IjogMC43LAogICJmaWxsUnVsZSI6ICJldmVub2RkIiwKICAibGluZUNhcCI6ICJyb3VuZCIsCiAgImxpbmVKb2luIjogInJvdW5kIiwKICAib3BhY2l0eSI6IDEuMCwKICAicmFkaXVzIjogNSwKICAic3Ryb2tlIjogdHJ1ZSwKICAid2VpZ2h0IjogMwp9CiAgICAgICAgICAgICAgICApLmFkZFRvKG1hcF8yOTM1MDRhODA5NWI0M2E3OTk2MDkyNzQ1ZmQ5ODVkNSk7CiAgICAgICAgICAgIAogICAgCiAgICAgICAgICAgIHZhciBwb3B1cF82ZTYwMzE3ZTUyYjY0ZjM4YjcwMTI5ODZlYjYxNTBkOCA9IEwucG9wdXAoe21heFdpZHRoOiAnMzAwJ30pOwoKICAgICAgICAgICAgCiAgICAgICAgICAgICAgICB2YXIgaHRtbF84MWNhMmI0MTNmNGE0NzA1ODgwOGM3YmQ1MzliNzJjNyA9ICQoJzxkaXYgaWQ9Imh0bWxfODFjYTJiNDEzZjRhNDcwNTg4MDhjN2JkNTM5YjcyYzciIHN0eWxlPSJ3aWR0aDogMTAwLjAlOyBoZWlnaHQ6IDEwMC4wJTsiPkphc29sYSBDbHVzdGVyIDA8L2Rpdj4nKVswXTsKICAgICAgICAgICAgICAgIHBvcHVwXzZlNjAzMTdlNTJiNjRmMzhiNzAxMjk4NmViNjE1MGQ4LnNldENvbnRlbnQoaHRtbF84MWNhMmI0MTNmNGE0NzA1ODgwOGM3YmQ1MzliNzJjNyk7CiAgICAgICAgICAgIAoKICAgICAgICAgICAgY2lyY2xlX21hcmtlcl8zZWY3YTgzMjc5ZWU0ZjAwYmNhNDYxMGFjYmM2NDI2ZS5iaW5kUG9wdXAocG9wdXBfNmU2MDMxN2U1MmI2NGYzOGI3MDEyOTg2ZWI2MTUwZDgpOwoKICAgICAgICAgICAgCiAgICAgICAgCiAgICAKICAgICAgICAgICAgdmFyIGNpcmNsZV9tYXJrZXJfZThlOGM4N2FkMDNiNGNiNGFhY2I5NzM2MTA2MjY2YTcgPSBMLmNpcmNsZU1hcmtlcigKICAgICAgICAgICAgICAgIFsyOC41NTMwNTIyLDc3LjI0Mjk2OTRdLAogICAgICAgICAgICAgICAgewogICJidWJibGluZ01vdXNlRXZlbnRzIjogdHJ1ZSwKICAiY29sb3IiOiAiIzgwMDBmZiIsCiAgImRhc2hBcnJheSI6IG51bGwsCiAgImRhc2hPZmZzZXQiOiBudWxsLAogICJmaWxsIjogdHJ1ZSwKICAiZmlsbENvbG9yIjogIiM4MDAwZmYiLAogICJmaWxsT3BhY2l0eSI6IDAuNywKICAiZmlsbFJ1bGUiOiAiZXZlbm9kZCIsCiAgImxpbmVDYXAiOiAicm91bmQiLAogICJsaW5lSm9pbiI6ICJyb3VuZCIsCiAgIm9wYWNpdHkiOiAxLjAsCiAgInJhZGl1cyI6IDUsCiAgInN0cm9rZSI6IHRydWUsCiAgIndlaWdodCI6IDMKfQogICAgICAgICAgICAgICAgKS5hZGRUbyhtYXBfMjkzNTA0YTgwOTViNDNhNzk5NjA5Mjc0NWZkOTg1ZDUpOwogICAgICAgICAgICAKICAgIAogICAgICAgICAgICB2YXIgcG9wdXBfODI5NzViNDJhMzRiNDA2Nzg2NTI3NjQ0ZDU0YzIzNjMgPSBMLnBvcHVwKHttYXhXaWR0aDogJzMwMCd9KTsKCiAgICAgICAgICAgIAogICAgICAgICAgICAgICAgdmFyIGh0bWxfMzMxZjFhYzMzN2IyNDQ3Y2JhNjg5ZGFhMjY3ODI0NmIgPSAkKCc8ZGl2IGlkPSJodG1sXzMzMWYxYWMzMzdiMjQ0N2NiYTY4OWRhYTI2NzgyNDZiIiBzdHlsZT0id2lkdGg6IDEwMC4wJTsgaGVpZ2h0OiAxMDAuMCU7Ij5LYWlsYXNoIENvbG9ueSBDbHVzdGVyIDE8L2Rpdj4nKVswXTsKICAgICAgICAgICAgICAgIHBvcHVwXzgyOTc1YjQyYTM0YjQwNjc4NjUyNzY0NGQ1NGMyMzYzLnNldENvbnRlbnQoaHRtbF8zMzFmMWFjMzM3YjI0NDdjYmE2ODlkYWEyNjc4MjQ2Yik7CiAgICAgICAgICAgIAoKICAgICAgICAgICAgY2lyY2xlX21hcmtlcl9lOGU4Yzg3YWQwM2I0Y2I0YWFjYjk3MzYxMDYyNjZhNy5iaW5kUG9wdXAocG9wdXBfODI5NzViNDJhMzRiNDA2Nzg2NTI3NjQ0ZDU0YzIzNjMpOwoKICAgICAgICAgICAgCiAgICAgICAgCiAgICAKICAgICAgICAgICAgdmFyIGNpcmNsZV9tYXJrZXJfODg4ZGI2ZWFkMTIyNDAwYmJjMGQyZmY1NzllMWJiNTIgPSBMLmNpcmNsZU1hcmtlcigKICAgICAgICAgICAgICAgIFsyOC42MDAxMzU0LDc3LjIyNjQ5MDY0MDg3MzYyXSwKICAgICAgICAgICAgICAgIHsKICAiYnViYmxpbmdNb3VzZUV2ZW50cyI6IHRydWUsCiAgImNvbG9yIjogIiM4MGZmYjQiLAogICJkYXNoQXJyYXkiOiBudWxsLAogICJkYXNoT2Zmc2V0IjogbnVsbCwKICAiZmlsbCI6IHRydWUsCiAgImZpbGxDb2xvciI6ICIjODBmZmI0IiwKICAiZmlsbE9wYWNpdHkiOiAwLjcsCiAgImZpbGxSdWxlIjogImV2ZW5vZGQiLAogICJsaW5lQ2FwIjogInJvdW5kIiwKICAibGluZUpvaW4iOiAicm91bmQiLAogICJvcGFjaXR5IjogMS4wLAogICJyYWRpdXMiOiA1LAogICJzdHJva2UiOiB0cnVlLAogICJ3ZWlnaHQiOiAzCn0KICAgICAgICAgICAgICAgICkuYWRkVG8obWFwXzI5MzUwNGE4MDk1YjQzYTc5OTYwOTI3NDVmZDk4NWQ1KTsKICAgICAgICAgICAgCiAgICAKICAgICAgICAgICAgdmFyIHBvcHVwXzI3ZmI0YTg1MzMxMTQ4ZDVhYjU3OWQzNTMzMDlmZGU3ID0gTC5wb3B1cCh7bWF4V2lkdGg6ICczMDAnfSk7CgogICAgICAgICAgICAKICAgICAgICAgICAgICAgIHZhciBodG1sXzQ0NTg3N2NkMWU5NTQ2Y2RhYjgyN2YwZmJhNzE3OGYxID0gJCgnPGRpdiBpZD0iaHRtbF80NDU4NzdjZDFlOTU0NmNkYWI4MjdmMGZiYTcxNzhmMSIgc3R5bGU9IndpZHRoOiAxMDAuMCU7IGhlaWdodDogMTAwLjAlOyI+S2hhbiBNYXJrZXQgQ2x1c3RlciAyPC9kaXY+JylbMF07CiAgICAgICAgICAgICAgICBwb3B1cF8yN2ZiNGE4NTMzMTE0OGQ1YWI1NzlkMzUzMzA5ZmRlNy5zZXRDb250ZW50KGh0bWxfNDQ1ODc3Y2QxZTk1NDZjZGFiODI3ZjBmYmE3MTc4ZjEpOwogICAgICAgICAgICAKCiAgICAgICAgICAgIGNpcmNsZV9tYXJrZXJfODg4ZGI2ZWFkMTIyNDAwYmJjMGQyZmY1NzllMWJiNTIuYmluZFBvcHVwKHBvcHVwXzI3ZmI0YTg1MzMxMTQ4ZDVhYjU3OWQzNTMzMDlmZGU3KTsKCiAgICAgICAgICAgIAogICAgICAgIAogICAgCiAgICAgICAgICAgIHZhciBjaXJjbGVfbWFya2VyXzI4MGNiOTM1YTNiYzQ4OTBhZjA4YmRiNWU2ZjM0Mjc0ID0gTC5jaXJjbGVNYXJrZXIoCiAgICAgICAgICAgICAgICBbMjguNTEyNzk4MjAwMDAwMDAyLDc3LjIzMjM5NDldLAogICAgICAgICAgICAgICAgewogICJidWJibGluZ01vdXNlRXZlbnRzIjogdHJ1ZSwKICAiY29sb3IiOiAiI2ZmMDAwMCIsCiAgImRhc2hBcnJheSI6IG51bGwsCiAgImRhc2hPZmZzZXQiOiBudWxsLAogICJmaWxsIjogdHJ1ZSwKICAiZmlsbENvbG9yIjogIiNmZjAwMDAiLAogICJmaWxsT3BhY2l0eSI6IDAuNywKICAiZmlsbFJ1bGUiOiAiZXZlbm9kZCIsCiAgImxpbmVDYXAiOiAicm91bmQiLAogICJsaW5lSm9pbiI6ICJyb3VuZCIsCiAgIm9wYWNpdHkiOiAxLjAsCiAgInJhZGl1cyI6IDUsCiAgInN0cm9rZSI6IHRydWUsCiAgIndlaWdodCI6IDMKfQogICAgICAgICAgICAgICAgKS5hZGRUbyhtYXBfMjkzNTA0YTgwOTViNDNhNzk5NjA5Mjc0NWZkOTg1ZDUpOwogICAgICAgICAgICAKICAgIAogICAgICAgICAgICB2YXIgcG9wdXBfMzJjY2U2ZDkzOGFhNDY5NTkxYTRkZGMyNTI4YjUzMDIgPSBMLnBvcHVwKHttYXhXaWR0aDogJzMwMCd9KTsKCiAgICAgICAgICAgIAogICAgICAgICAgICAgICAgdmFyIGh0bWxfNWJiYTM5MTM1Zjg3NDk3MTgzMWJiZjlmMDYzNzI5NGUgPSAkKCc8ZGl2IGlkPSJodG1sXzViYmEzOTEzNWY4NzQ5NzE4MzFiYmY5ZjA2MzcyOTRlIiBzdHlsZT0id2lkdGg6IDEwMC4wJTsgaGVpZ2h0OiAxMDAuMCU7Ij5LaGFucHVyIENsdXN0ZXIgMDwvZGl2PicpWzBdOwogICAgICAgICAgICAgICAgcG9wdXBfMzJjY2U2ZDkzOGFhNDY5NTkxYTRkZGMyNTI4YjUzMDIuc2V0Q29udGVudChodG1sXzViYmEzOTEzNWY4NzQ5NzE4MzFiYmY5ZjA2MzcyOTRlKTsKICAgICAgICAgICAgCgogICAgICAgICAgICBjaXJjbGVfbWFya2VyXzI4MGNiOTM1YTNiYzQ4OTBhZjA4YmRiNWU2ZjM0Mjc0LmJpbmRQb3B1cChwb3B1cF8zMmNjZTZkOTM4YWE0Njk1OTFhNGRkYzI1MjhiNTMwMik7CgogICAgICAgICAgICAKICAgICAgICAKICAgIAogICAgICAgICAgICB2YXIgY2lyY2xlX21hcmtlcl9kYTllOGE0NGYzZmI0ZWZhYjYxMWVjMmQ0ODg4N2JmYiA9IEwuY2lyY2xlTWFya2VyKAogICAgICAgICAgICAgICAgWzI4LjUyOTg4NTE5OTk5OTk5NSw3Ny4yMTgwNzcwOTk5OTk5N10sCiAgICAgICAgICAgICAgICB7CiAgImJ1YmJsaW5nTW91c2VFdmVudHMiOiB0cnVlLAogICJjb2xvciI6ICIjODAwMGZmIiwKICAiZGFzaEFycmF5IjogbnVsbCwKICAiZGFzaE9mZnNldCI6IG51bGwsCiAgImZpbGwiOiB0cnVlLAogICJmaWxsQ29sb3IiOiAiIzgwMDBmZiIsCiAgImZpbGxPcGFjaXR5IjogMC43LAogICJmaWxsUnVsZSI6ICJldmVub2RkIiwKICAibGluZUNhcCI6ICJyb3VuZCIsCiAgImxpbmVKb2luIjogInJvdW5kIiwKICAib3BhY2l0eSI6IDEuMCwKICAicmFkaXVzIjogNSwKICAic3Ryb2tlIjogdHJ1ZSwKICAid2VpZ2h0IjogMwp9CiAgICAgICAgICAgICAgICApLmFkZFRvKG1hcF8yOTM1MDRhODA5NWI0M2E3OTk2MDkyNzQ1ZmQ5ODVkNSk7CiAgICAgICAgICAgIAogICAgCiAgICAgICAgICAgIHZhciBwb3B1cF8zNjU1MjcwNTdmNTY0YTU1YTZjNWQ5ZWY4ZmMzMTdhYSA9IEwucG9wdXAoe21heFdpZHRoOiAnMzAwJ30pOwoKICAgICAgICAgICAgCiAgICAgICAgICAgICAgICB2YXIgaHRtbF81YmUzN2NhYjQyYjc0ZGNkYTNlNmE1MTMwYTY0YzIwOCA9ICQoJzxkaXYgaWQ9Imh0bWxfNWJlMzdjYWI0MmI3NGRjZGEzZTZhNTEzMGE2NGMyMDgiIHN0eWxlPSJ3aWR0aDogMTAwLjAlOyBoZWlnaHQ6IDEwMC4wJTsiPktoaXJraSBWaWxsYWdlIENsdXN0ZXIgMTwvZGl2PicpWzBdOwogICAgICAgICAgICAgICAgcG9wdXBfMzY1NTI3MDU3ZjU2NGE1NWE2YzVkOWVmOGZjMzE3YWEuc2V0Q29udGVudChodG1sXzViZTM3Y2FiNDJiNzRkY2RhM2U2YTUxMzBhNjRjMjA4KTsKICAgICAgICAgICAgCgogICAgICAgICAgICBjaXJjbGVfbWFya2VyX2RhOWU4YTQ0ZjNmYjRlZmFiNjExZWMyZDQ4ODg3YmZiLmJpbmRQb3B1cChwb3B1cF8zNjU1MjcwNTdmNTY0YTU1YTZjNWQ5ZWY4ZmMzMTdhYSk7CgogICAgICAgICAgICAKICAgICAgICAKICAgIAogICAgICAgICAgICB2YXIgY2lyY2xlX21hcmtlcl9lZjVlZTBjMDgwY2M0ZDExODhkMDg2OTc4NWRkNzcyYyA9IEwuY2lyY2xlTWFya2VyKAogICAgICAgICAgICAgICAgWzI4LjU2NTQ2MjI5OTk5OTk5Nyw3Ny4yNDU2MjcxOTk5OTk5OV0sCiAgICAgICAgICAgICAgICB7CiAgImJ1YmJsaW5nTW91c2VFdmVudHMiOiB0cnVlLAogICJjb2xvciI6ICIjZmYwMDAwIiwKICAiZGFzaEFycmF5IjogbnVsbCwKICAiZGFzaE9mZnNldCI6IG51bGwsCiAgImZpbGwiOiB0cnVlLAogICJmaWxsQ29sb3IiOiAiI2ZmMDAwMCIsCiAgImZpbGxPcGFjaXR5IjogMC43LAogICJmaWxsUnVsZSI6ICJldmVub2RkIiwKICAibGluZUNhcCI6ICJyb3VuZCIsCiAgImxpbmVKb2luIjogInJvdW5kIiwKICAib3BhY2l0eSI6IDEuMCwKICAicmFkaXVzIjogNSwKICAic3Ryb2tlIjogdHJ1ZSwKICAid2VpZ2h0IjogMwp9CiAgICAgICAgICAgICAgICApLmFkZFRvKG1hcF8yOTM1MDRhODA5NWI0M2E3OTk2MDkyNzQ1ZmQ5ODVkNSk7CiAgICAgICAgICAgIAogICAgCiAgICAgICAgICAgIHZhciBwb3B1cF85MDdhNzFlNWFjMGU0YjFlOTNmZTY4OGY4MmI0NjVjMSA9IEwucG9wdXAoe21heFdpZHRoOiAnMzAwJ30pOwoKICAgICAgICAgICAgCiAgICAgICAgICAgICAgICB2YXIgaHRtbF8yOTRjZjhhNzVkMjI0YzM1YjdmZTc0YzI4NDBjNDRmNSA9ICQoJzxkaXYgaWQ9Imh0bWxfMjk0Y2Y4YTc1ZDIyNGMzNWI3ZmU3NGMyODQwYzQ0ZjUiIHN0eWxlPSJ3aWR0aDogMTAwLjAlOyBoZWlnaHQ6IDEwMC4wJTsiPkxhanBhdCBOYWdhciBDbHVzdGVyIDA8L2Rpdj4nKVswXTsKICAgICAgICAgICAgICAgIHBvcHVwXzkwN2E3MWU1YWMwZTRiMWU5M2ZlNjg4ZjgyYjQ2NWMxLnNldENvbnRlbnQoaHRtbF8yOTRjZjhhNzVkMjI0YzM1YjdmZTc0YzI4NDBjNDRmNSk7CiAgICAgICAgICAgIAoKICAgICAgICAgICAgY2lyY2xlX21hcmtlcl9lZjVlZTBjMDgwY2M0ZDExODhkMDg2OTc4NWRkNzcyYy5iaW5kUG9wdXAocG9wdXBfOTA3YTcxZTVhYzBlNGIxZTkzZmU2ODhmODJiNDY1YzEpOwoKICAgICAgICAgICAgCiAgICAgICAgCiAgICAKICAgICAgICAgICAgdmFyIGNpcmNsZV9tYXJrZXJfZGViOTZjMWI2ZjQ4NDgwZGJjYjJjYTFmYWJkYjIyNDYgPSBMLmNpcmNsZU1hcmtlcigKICAgICAgICAgICAgICAgIFsyOC41OTA3MDIxNSw3Ny4yMjA5MjA1NzMxNTg3OV0sCiAgICAgICAgICAgICAgICB7CiAgImJ1YmJsaW5nTW91c2VFdmVudHMiOiB0cnVlLAogICJjb2xvciI6ICIjZmYwMDAwIiwKICAiZGFzaEFycmF5IjogbnVsbCwKICAiZGFzaE9mZnNldCI6IG51bGwsCiAgImZpbGwiOiB0cnVlLAogICJmaWxsQ29sb3IiOiAiI2ZmMDAwMCIsCiAgImZpbGxPcGFjaXR5IjogMC43LAogICJmaWxsUnVsZSI6ICJldmVub2RkIiwKICAibGluZUNhcCI6ICJyb3VuZCIsCiAgImxpbmVKb2luIjogInJvdW5kIiwKICAib3BhY2l0eSI6IDEuMCwKICAicmFkaXVzIjogNSwKICAic3Ryb2tlIjogdHJ1ZSwKICAid2VpZ2h0IjogMwp9CiAgICAgICAgICAgICAgICApLmFkZFRvKG1hcF8yOTM1MDRhODA5NWI0M2E3OTk2MDkyNzQ1ZmQ5ODVkNSk7CiAgICAgICAgICAgIAogICAgCiAgICAgICAgICAgIHZhciBwb3B1cF9hNmJkOWNlYzhiM2E0ZmUyYjFhNGVlMTRmZjVkMzdmNSA9IEwucG9wdXAoe21heFdpZHRoOiAnMzAwJ30pOwoKICAgICAgICAgICAgCiAgICAgICAgICAgICAgICB2YXIgaHRtbF8xYTZhNGVmMGEwY2Y0ZDgyYmZhMGM2N2YwZTQ4MjU0MSA9ICQoJzxkaXYgaWQ9Imh0bWxfMWE2YTRlZjBhMGNmNGQ4MmJmYTBjNjdmMGU0ODI1NDEiIHN0eWxlPSJ3aWR0aDogMTAwLjAlOyBoZWlnaHQ6IDEwMC4wJTsiPkxvZGkgQ29sb255IENsdXN0ZXIgMDwvZGl2PicpWzBdOwogICAgICAgICAgICAgICAgcG9wdXBfYTZiZDljZWM4YjNhNGZlMmIxYTRlZTE0ZmY1ZDM3ZjUuc2V0Q29udGVudChodG1sXzFhNmE0ZWYwYTBjZjRkODJiZmEwYzY3ZjBlNDgyNTQxKTsKICAgICAgICAgICAgCgogICAgICAgICAgICBjaXJjbGVfbWFya2VyX2RlYjk2YzFiNmY0ODQ4MGRiY2IyY2ExZmFiZGIyMjQ2LmJpbmRQb3B1cChwb3B1cF9hNmJkOWNlYzhiM2E0ZmUyYjFhNGVlMTRmZjVkMzdmNSk7CgogICAgICAgICAgICAKICAgICAgICAKICAgIAogICAgICAgICAgICB2YXIgY2lyY2xlX21hcmtlcl85MTY3Njc3OTE2MGE0OWFjOTg0ZjBkMWEyZWRjMGJkNSA9IEwuY2lyY2xlTWFya2VyKAogICAgICAgICAgICAgICAgWzI4LjU3MjAwMTMwMDAwMDAwNCw3Ny4yNjMzNzE4XSwKICAgICAgICAgICAgICAgIHsKICAiYnViYmxpbmdNb3VzZUV2ZW50cyI6IHRydWUsCiAgImNvbG9yIjogIiNmZjAwMDAiLAogICJkYXNoQXJyYXkiOiBudWxsLAogICJkYXNoT2Zmc2V0IjogbnVsbCwKICAiZmlsbCI6IHRydWUsCiAgImZpbGxDb2xvciI6ICIjZmYwMDAwIiwKICAiZmlsbE9wYWNpdHkiOiAwLjcsCiAgImZpbGxSdWxlIjogImV2ZW5vZGQiLAogICJsaW5lQ2FwIjogInJvdW5kIiwKICAibGluZUpvaW4iOiAicm91bmQiLAogICJvcGFjaXR5IjogMS4wLAogICJyYWRpdXMiOiA1LAogICJzdHJva2UiOiB0cnVlLAogICJ3ZWlnaHQiOiAzCn0KICAgICAgICAgICAgICAgICkuYWRkVG8obWFwXzI5MzUwNGE4MDk1YjQzYTc5OTYwOTI3NDVmZDk4NWQ1KTsKICAgICAgICAgICAgCiAgICAKICAgICAgICAgICAgdmFyIHBvcHVwX2U2YWIxZmIzOTcxZjQ1NWU4ODJiMTJhNzExNDIxZjM4ID0gTC5wb3B1cCh7bWF4V2lkdGg6ICczMDAnfSk7CgogICAgICAgICAgICAKICAgICAgICAgICAgICAgIHZhciBodG1sXzNkZDY3NGM4ZDVmNDQ3YjhhNjg1MWZiMDYwMGQyYWRhID0gJCgnPGRpdiBpZD0iaHRtbF8zZGQ2NzRjOGQ1ZjQ0N2I4YTY4NTFmYjA2MDBkMmFkYSIgc3R5bGU9IndpZHRoOiAxMDAuMCU7IGhlaWdodDogMTAwLjAlOyI+TWFoYXJhbmkgQmFnaCBDbHVzdGVyIDA8L2Rpdj4nKVswXTsKICAgICAgICAgICAgICAgIHBvcHVwX2U2YWIxZmIzOTcxZjQ1NWU4ODJiMTJhNzExNDIxZjM4LnNldENvbnRlbnQoaHRtbF8zZGQ2NzRjOGQ1ZjQ0N2I4YTY4NTFmYjA2MDBkMmFkYSk7CiAgICAgICAgICAgIAoKICAgICAgICAgICAgY2lyY2xlX21hcmtlcl85MTY3Njc3OTE2MGE0OWFjOTg0ZjBkMWEyZWRjMGJkNS5iaW5kUG9wdXAocG9wdXBfZTZhYjFmYjM5NzFmNDU1ZTg4MmIxMmE3MTE0MjFmMzgpOwoKICAgICAgICAgICAgCiAgICAgICAgCiAgICAKICAgICAgICAgICAgdmFyIGNpcmNsZV9tYXJrZXJfYWQ3YzY5YzQ3MzFkNDkxYmFhZWQ3YWEzMTA0NGU3MTQgPSBMLmNpcmNsZU1hcmtlcigKICAgICAgICAgICAgICAgIFsyOC41MzM5MjAwOTk5OTk5OTYsNzcuMjEyNDQ3Mzk5OTk5OTldLAogICAgICAgICAgICAgICAgewogICJidWJibGluZ01vdXNlRXZlbnRzIjogdHJ1ZSwKICAiY29sb3IiOiAiI2ZmMDAwMCIsCiAgImRhc2hBcnJheSI6IG51bGwsCiAgImRhc2hPZmZzZXQiOiBudWxsLAogICJmaWxsIjogdHJ1ZSwKICAiZmlsbENvbG9yIjogIiNmZjAwMDAiLAogICJmaWxsT3BhY2l0eSI6IDAuNywKICAiZmlsbFJ1bGUiOiAiZXZlbm9kZCIsCiAgImxpbmVDYXAiOiAicm91bmQiLAogICJsaW5lSm9pbiI6ICJyb3VuZCIsCiAgIm9wYWNpdHkiOiAxLjAsCiAgInJhZGl1cyI6IDUsCiAgInN0cm9rZSI6IHRydWUsCiAgIndlaWdodCI6IDMKfQogICAgICAgICAgICAgICAgKS5hZGRUbyhtYXBfMjkzNTA0YTgwOTViNDNhNzk5NjA5Mjc0NWZkOTg1ZDUpOwogICAgICAgICAgICAKICAgIAogICAgICAgICAgICB2YXIgcG9wdXBfYzY3NzdlMjc5Y2ZiNDM1ZDk4YmVkZTAzNDkxZjE3ZTEgPSBMLnBvcHVwKHttYXhXaWR0aDogJzMwMCd9KTsKCiAgICAgICAgICAgIAogICAgICAgICAgICAgICAgdmFyIGh0bWxfNGE3Nzg4MjY4YWQ0NGQxM2IzMmMwZGM3ZDI3OTM3ZDEgPSAkKCc8ZGl2IGlkPSJodG1sXzRhNzc4ODI2OGFkNDRkMTNiMzJjMGRjN2QyNzkzN2QxIiBzdHlsZT0id2lkdGg6IDEwMC4wJTsgaGVpZ2h0OiAxMDAuMCU7Ij5NYWx2aXlhIE5hZ2FyIENsdXN0ZXIgMDwvZGl2PicpWzBdOwogICAgICAgICAgICAgICAgcG9wdXBfYzY3NzdlMjc5Y2ZiNDM1ZDk4YmVkZTAzNDkxZjE3ZTEuc2V0Q29udGVudChodG1sXzRhNzc4ODI2OGFkNDRkMTNiMzJjMGRjN2QyNzkzN2QxKTsKICAgICAgICAgICAgCgogICAgICAgICAgICBjaXJjbGVfbWFya2VyX2FkN2M2OWM0NzMxZDQ5MWJhYWVkN2FhMzEwNDRlNzE0LmJpbmRQb3B1cChwb3B1cF9jNjc3N2UyNzljZmI0MzVkOThiZWRlMDM0OTFmMTdlMSk7CgogICAgICAgICAgICAKICAgICAgICAKICAgIAogICAgICAgICAgICB2YXIgY2lyY2xlX21hcmtlcl84N2E5MWUzMjFjY2I0ZTlmODNlYTIxNGJmMWJkNjFlMyA9IEwuY2lyY2xlTWFya2VyKAogICAgICAgICAgICAgICAgWzI4LjUyMTgyNjIwMDAwMDAwMyw3Ny4xNzgzMjMyMDAwMDAwMV0sCiAgICAgICAgICAgICAgICB7CiAgImJ1YmJsaW5nTW91c2VFdmVudHMiOiB0cnVlLAogICJjb2xvciI6ICIjZmYwMDAwIiwKICAiZGFzaEFycmF5IjogbnVsbCwKICAiZGFzaE9mZnNldCI6IG51bGwsCiAgImZpbGwiOiB0cnVlLAogICJmaWxsQ29sb3IiOiAiI2ZmMDAwMCIsCiAgImZpbGxPcGFjaXR5IjogMC43LAogICJmaWxsUnVsZSI6ICJldmVub2RkIiwKICAibGluZUNhcCI6ICJyb3VuZCIsCiAgImxpbmVKb2luIjogInJvdW5kIiwKICAib3BhY2l0eSI6IDEuMCwKICAicmFkaXVzIjogNSwKICAic3Ryb2tlIjogdHJ1ZSwKICAid2VpZ2h0IjogMwp9CiAgICAgICAgICAgICAgICApLmFkZFRvKG1hcF8yOTM1MDRhODA5NWI0M2E3OTk2MDkyNzQ1ZmQ5ODVkNSk7CiAgICAgICAgICAgIAogICAgCiAgICAgICAgICAgIHZhciBwb3B1cF80Nzc1NzY4NzQ5NWI0MjZjYjgxOWU2ZjgzNzE0YTE1NyA9IEwucG9wdXAoe21heFdpZHRoOiAnMzAwJ30pOwoKICAgICAgICAgICAgCiAgICAgICAgICAgICAgICB2YXIgaHRtbF9iNzZhNjVhZDI4Yjg0MzEzYTNjZmRlNTYyMWU4ZWJiYSA9ICQoJzxkaXYgaWQ9Imh0bWxfYjc2YTY1YWQyOGI4NDMxM2EzY2ZkZTU2MjFlOGViYmEiIHN0eWxlPSJ3aWR0aDogMTAwLjAlOyBoZWlnaHQ6IDEwMC4wJTsiPk1laHJhdWxpIENsdXN0ZXIgMDwvZGl2PicpWzBdOwogICAgICAgICAgICAgICAgcG9wdXBfNDc3NTc2ODc0OTViNDI2Y2I4MTllNmY4MzcxNGExNTcuc2V0Q29udGVudChodG1sX2I3NmE2NWFkMjhiODQzMTNhM2NmZGU1NjIxZThlYmJhKTsKICAgICAgICAgICAgCgogICAgICAgICAgICBjaXJjbGVfbWFya2VyXzg3YTkxZTMyMWNjYjRlOWY4M2VhMjE0YmYxYmQ2MWUzLmJpbmRQb3B1cChwb3B1cF80Nzc1NzY4NzQ5NWI0MjZjYjgxOWU2ZjgzNzE0YTE1Nyk7CgogICAgICAgICAgICAKICAgICAgICAKICAgIAogICAgICAgICAgICB2YXIgY2lyY2xlX21hcmtlcl85YzhiYjM2ODRhNzg0NjY2OGEwODlmOWNkODU2MzdiYSA9IEwuY2lyY2xlTWFya2VyKAogICAgICAgICAgICAgICAgWzI4LjU1OTI1MTEsNzcuMjE2MTY2NV0sCiAgICAgICAgICAgICAgICB7CiAgImJ1YmJsaW5nTW91c2VFdmVudHMiOiB0cnVlLAogICJjb2xvciI6ICIjODBmZmI0IiwKICAiZGFzaEFycmF5IjogbnVsbCwKICAiZGFzaE9mZnNldCI6IG51bGwsCiAgImZpbGwiOiB0cnVlLAogICJmaWxsQ29sb3IiOiAiIzgwZmZiNCIsCiAgImZpbGxPcGFjaXR5IjogMC43LAogICJmaWxsUnVsZSI6ICJldmVub2RkIiwKICAibGluZUNhcCI6ICJyb3VuZCIsCiAgImxpbmVKb2luIjogInJvdW5kIiwKICAib3BhY2l0eSI6IDEuMCwKICAicmFkaXVzIjogNSwKICAic3Ryb2tlIjogdHJ1ZSwKICAid2VpZ2h0IjogMwp9CiAgICAgICAgICAgICAgICApLmFkZFRvKG1hcF8yOTM1MDRhODA5NWI0M2E3OTk2MDkyNzQ1ZmQ5ODVkNSk7CiAgICAgICAgICAgIAogICAgCiAgICAgICAgICAgIHZhciBwb3B1cF82N2I4MjE0NzEzZmI0MjQ5ODFhNDk5ZTQwZDJhM2NhMyA9IEwucG9wdXAoe21heFdpZHRoOiAnMzAwJ30pOwoKICAgICAgICAgICAgCiAgICAgICAgICAgICAgICB2YXIgaHRtbF83ZGZkMDBiMmRmYmE0YjIyOGRiZmJlYzg1NzY1NzI2YyA9ICQoJzxkaXYgaWQ9Imh0bWxfN2RmZDAwYjJkZmJhNGIyMjhkYmZiZWM4NTc2NTcyNmMiIHN0eWxlPSJ3aWR0aDogMTAwLjAlOyBoZWlnaHQ6IDEwMC4wJTsiPk5lZXRpIEJhZ2ggQ2x1c3RlciAyPC9kaXY+JylbMF07CiAgICAgICAgICAgICAgICBwb3B1cF82N2I4MjE0NzEzZmI0MjQ5ODFhNDk5ZTQwZDJhM2NhMy5zZXRDb250ZW50KGh0bWxfN2RmZDAwYjJkZmJhNGIyMjhkYmZiZWM4NTc2NTcyNmMpOwogICAgICAgICAgICAKCiAgICAgICAgICAgIGNpcmNsZV9tYXJrZXJfOWM4YmIzNjg0YTc4NDY2NjhhMDg5ZjljZDg1NjM3YmEuYmluZFBvcHVwKHBvcHVwXzY3YjgyMTQ3MTNmYjQyNDk4MWE0OTllNDBkMmEzY2EzKTsKCiAgICAgICAgICAgIAogICAgICAgIAogICAgCiAgICAgICAgICAgIHZhciBjaXJjbGVfbWFya2VyX2Y4NjA3NjE2MzBlYjQ1MGQ5ZmQ1ODA4N2VhMGRkNzJhID0gTC5jaXJjbGVNYXJrZXIoCiAgICAgICAgICAgICAgICBbMjguNTQ5MjU3MzUsNzcuMjUyOTUxOTk1MDg4MjFdLAogICAgICAgICAgICAgICAgewogICJidWJibGluZ01vdXNlRXZlbnRzIjogdHJ1ZSwKICAiY29sb3IiOiAiIzgwZmZiNCIsCiAgImRhc2hBcnJheSI6IG51bGwsCiAgImRhc2hPZmZzZXQiOiBudWxsLAogICJmaWxsIjogdHJ1ZSwKICAiZmlsbENvbG9yIjogIiM4MGZmYjQiLAogICJmaWxsT3BhY2l0eSI6IDAuNywKICAiZmlsbFJ1bGUiOiAiZXZlbm9kZCIsCiAgImxpbmVDYXAiOiAicm91bmQiLAogICJsaW5lSm9pbiI6ICJyb3VuZCIsCiAgIm9wYWNpdHkiOiAxLjAsCiAgInJhZGl1cyI6IDUsCiAgInN0cm9rZSI6IHRydWUsCiAgIndlaWdodCI6IDMKfQogICAgICAgICAgICAgICAgKS5hZGRUbyhtYXBfMjkzNTA0YTgwOTViNDNhNzk5NjA5Mjc0NWZkOTg1ZDUpOwogICAgICAgICAgICAKICAgIAogICAgICAgICAgICB2YXIgcG9wdXBfZGMyNTIzMDQ1MWI0NDMzOTg5NTY4NjcxMTg5OGVjZDQgPSBMLnBvcHVwKHttYXhXaWR0aDogJzMwMCd9KTsKCiAgICAgICAgICAgIAogICAgICAgICAgICAgICAgdmFyIGh0bWxfZDlkZTU4YmFiNTA3NGQwNGI5Nzk0OTQwNmFlNGQ5ZmMgPSAkKCc8ZGl2IGlkPSJodG1sX2Q5ZGU1OGJhYjUwNzRkMDRiOTc5NDk0MDZhZTRkOWZjIiBzdHlsZT0id2lkdGg6IDEwMC4wJTsgaGVpZ2h0OiAxMDAuMCU7Ij5OZWhydSBQbGFjZSBDbHVzdGVyIDI8L2Rpdj4nKVswXTsKICAgICAgICAgICAgICAgIHBvcHVwX2RjMjUyMzA0NTFiNDQzMzk4OTU2ODY3MTE4OThlY2Q0LnNldENvbnRlbnQoaHRtbF9kOWRlNThiYWI1MDc0ZDA0Yjk3OTQ5NDA2YWU0ZDlmYyk7CiAgICAgICAgICAgIAoKICAgICAgICAgICAgY2lyY2xlX21hcmtlcl9mODYwNzYxNjMwZWI0NTBkOWZkNTgwODdlYTBkZDcyYS5iaW5kUG9wdXAocG9wdXBfZGMyNTIzMDQ1MWI0NDMzOTg5NTY4NjcxMTg5OGVjZDQpOwoKICAgICAgICAgICAgCiAgICAgICAgCiAgICAKICAgICAgICAgICAgdmFyIGNpcmNsZV9tYXJrZXJfNTk1MTVhYmZkM2I0NDc0OWI0ODUxODVmYjAxODgxNzggPSBMLmNpcmNsZU1hcmtlcigKICAgICAgICAgICAgICAgIFsyOC41NzM1MzQyOTk5OTk5OTUsNzcuMTg2MzU5Mjk5OTk5OTldLAogICAgICAgICAgICAgICAgewogICJidWJibGluZ01vdXNlRXZlbnRzIjogdHJ1ZSwKICAiY29sb3IiOiAiI2ZmMDAwMCIsCiAgImRhc2hBcnJheSI6IG51bGwsCiAgImRhc2hPZmZzZXQiOiBudWxsLAogICJmaWxsIjogdHJ1ZSwKICAiZmlsbENvbG9yIjogIiNmZjAwMDAiLAogICJmaWxsT3BhY2l0eSI6IDAuNywKICAiZmlsbFJ1bGUiOiAiZXZlbm9kZCIsCiAgImxpbmVDYXAiOiAicm91bmQiLAogICJsaW5lSm9pbiI6ICJyb3VuZCIsCiAgIm9wYWNpdHkiOiAxLjAsCiAgInJhZGl1cyI6IDUsCiAgInN0cm9rZSI6IHRydWUsCiAgIndlaWdodCI6IDMKfQogICAgICAgICAgICAgICAgKS5hZGRUbyhtYXBfMjkzNTA0YTgwOTViNDNhNzk5NjA5Mjc0NWZkOTg1ZDUpOwogICAgICAgICAgICAKICAgIAogICAgICAgICAgICB2YXIgcG9wdXBfNjJjM2QwYWIzMzliNDA3ZmEyNWJkMDcwYWE4OTFmYWIgPSBMLnBvcHVwKHttYXhXaWR0aDogJzMwMCd9KTsKCiAgICAgICAgICAgIAogICAgICAgICAgICAgICAgdmFyIGh0bWxfNTlmMTAwMDhhMTk3NDdiNGI0ZTMwZWY2NTAzMWU5NjUgPSAkKCc8ZGl2IGlkPSJodG1sXzU5ZjEwMDA4YTE5NzQ3YjRiNGUzMGVmNjUwMzFlOTY1IiBzdHlsZT0id2lkdGg6IDEwMC4wJTsgaGVpZ2h0OiAxMDAuMCU7Ij5OZXRhamkgTmFnYXIgQ2x1c3RlciAwPC9kaXY+JylbMF07CiAgICAgICAgICAgICAgICBwb3B1cF82MmMzZDBhYjMzOWI0MDdmYTI1YmQwNzBhYTg5MWZhYi5zZXRDb250ZW50KGh0bWxfNTlmMTAwMDhhMTk3NDdiNGI0ZTMwZWY2NTAzMWU5NjUpOwogICAgICAgICAgICAKCiAgICAgICAgICAgIGNpcmNsZV9tYXJrZXJfNTk1MTVhYmZkM2I0NDc0OWI0ODUxODVmYjAxODgxNzguYmluZFBvcHVwKHBvcHVwXzYyYzNkMGFiMzM5YjQwN2ZhMjViZDA3MGFhODkxZmFiKTsKCiAgICAgICAgICAgIAogICAgICAgIAogICAgCiAgICAgICAgICAgIHZhciBjaXJjbGVfbWFya2VyX2JmYWE5ZmQ0ODU3NTRmNWZiNmRiMjJlMzkzZGE4Njg5ID0gTC5jaXJjbGVNYXJrZXIoCiAgICAgICAgICAgICAgICBbMjguNTY3MTAwODAwMDAwMDAyLDc3LjI2OTc2NDI5OTk5OTk5XSwKICAgICAgICAgICAgICAgIHsKICAiYnViYmxpbmdNb3VzZUV2ZW50cyI6IHRydWUsCiAgImNvbG9yIjogIiNmZjAwMDAiLAogICJkYXNoQXJyYXkiOiBudWxsLAogICJkYXNoT2Zmc2V0IjogbnVsbCwKICAiZmlsbCI6IHRydWUsCiAgImZpbGxDb2xvciI6ICIjZmYwMDAwIiwKICAiZmlsbE9wYWNpdHkiOiAwLjcsCiAgImZpbGxSdWxlIjogImV2ZW5vZGQiLAogICJsaW5lQ2FwIjogInJvdW5kIiwKICAibGluZUpvaW4iOiAicm91bmQiLAogICJvcGFjaXR5IjogMS4wLAogICJyYWRpdXMiOiA1LAogICJzdHJva2UiOiB0cnVlLAogICJ3ZWlnaHQiOiAzCn0KICAgICAgICAgICAgICAgICkuYWRkVG8obWFwXzI5MzUwNGE4MDk1YjQzYTc5OTYwOTI3NDVmZDk4NWQ1KTsKICAgICAgICAgICAgCiAgICAKICAgICAgICAgICAgdmFyIHBvcHVwX2JmNzE4MWUyMTJkNDQ1ZGZiMDBkZDZlNWI0ZmM5ZGRmID0gTC5wb3B1cCh7bWF4V2lkdGg6ICczMDAnfSk7CgogICAgICAgICAgICAKICAgICAgICAgICAgICAgIHZhciBodG1sXzE3MDEwZDRkODVhYjQwMzliN2JjZmQ5Yjg2MGRlNjA0ID0gJCgnPGRpdiBpZD0iaHRtbF8xNzAxMGQ0ZDg1YWI0MDM5YjdiY2ZkOWI4NjBkZTYwNCIgc3R5bGU9IndpZHRoOiAxMDAuMCU7IGhlaWdodDogMTAwLjAlOyI+TmV3IEZyaWVuZHMgQ29sb255IENsdXN0ZXIgMDwvZGl2PicpWzBdOwogICAgICAgICAgICAgICAgcG9wdXBfYmY3MTgxZTIxMmQ0NDVkZmIwMGRkNmU1YjRmYzlkZGYuc2V0Q29udGVudChodG1sXzE3MDEwZDRkODVhYjQwMzliN2JjZmQ5Yjg2MGRlNjA0KTsKICAgICAgICAgICAgCgogICAgICAgICAgICBjaXJjbGVfbWFya2VyX2JmYWE5ZmQ0ODU3NTRmNWZiNmRiMjJlMzkzZGE4Njg5LmJpbmRQb3B1cChwb3B1cF9iZjcxODFlMjEyZDQ0NWRmYjAwZGQ2ZTViNGZjOWRkZik7CgogICAgICAgICAgICAKICAgICAgICAKICAgIAogICAgICAgICAgICB2YXIgY2lyY2xlX21hcmtlcl8xNzBiYzUwZjgyMDI0NzE0YThhOTYzYzE3NmYyY2VjYiA9IEwuY2lyY2xlTWFya2VyKAogICAgICAgICAgICAgICAgWzI4LjU4ODM2NSw3Ny4yNDQ5NTQ2XSwKICAgICAgICAgICAgICAgIHsKICAiYnViYmxpbmdNb3VzZUV2ZW50cyI6IHRydWUsCiAgImNvbG9yIjogIiM4MGZmYjQiLAogICJkYXNoQXJyYXkiOiBudWxsLAogICJkYXNoT2Zmc2V0IjogbnVsbCwKICAiZmlsbCI6IHRydWUsCiAgImZpbGxDb2xvciI6ICIjODBmZmI0IiwKICAiZmlsbE9wYWNpdHkiOiAwLjcsCiAgImZpbGxSdWxlIjogImV2ZW5vZGQiLAogICJsaW5lQ2FwIjogInJvdW5kIiwKICAibGluZUpvaW4iOiAicm91bmQiLAogICJvcGFjaXR5IjogMS4wLAogICJyYWRpdXMiOiA1LAogICJzdHJva2UiOiB0cnVlLAogICJ3ZWlnaHQiOiAzCn0KICAgICAgICAgICAgICAgICkuYWRkVG8obWFwXzI5MzUwNGE4MDk1YjQzYTc5OTYwOTI3NDVmZDk4NWQ1KTsKICAgICAgICAgICAgCiAgICAKICAgICAgICAgICAgdmFyIHBvcHVwX2Q1NGRlNGVkNjk4MjQ3YzliOGIxNDE0YTdmYmU5NzE2ID0gTC5wb3B1cCh7bWF4V2lkdGg6ICczMDAnfSk7CgogICAgICAgICAgICAKICAgICAgICAgICAgICAgIHZhciBodG1sX2RhNmU3NGY2YWE5YzRlMzBiZGEyZmIxM2JkM2FmYTk1ID0gJCgnPGRpdiBpZD0iaHRtbF9kYTZlNzRmNmFhOWM0ZTMwYmRhMmZiMTNiZDNhZmE5NSIgc3R5bGU9IndpZHRoOiAxMDAuMCU7IGhlaWdodDogMTAwLjAlOyI+Tml6YW11ZGRpbiBXZXN0IENsdXN0ZXIgMjwvZGl2PicpWzBdOwogICAgICAgICAgICAgICAgcG9wdXBfZDU0ZGU0ZWQ2OTgyNDdjOWI4YjE0MTRhN2ZiZTk3MTYuc2V0Q29udGVudChodG1sX2RhNmU3NGY2YWE5YzRlMzBiZGEyZmIxM2JkM2FmYTk1KTsKICAgICAgICAgICAgCgogICAgICAgICAgICBjaXJjbGVfbWFya2VyXzE3MGJjNTBmODIwMjQ3MTRhOGE5NjNjMTc2ZjJjZWNiLmJpbmRQb3B1cChwb3B1cF9kNTRkZTRlZDY5ODI0N2M5YjhiMTQxNGE3ZmJlOTcxNik7CgogICAgICAgICAgICAKICAgICAgICAKICAgIAogICAgICAgICAgICB2YXIgY2lyY2xlX21hcmtlcl9hMjJlMzViYzE1N2Q0OGY3ODEwOTc0YjczYjAwMDZjNyA9IEwuY2lyY2xlTWFya2VyKAogICAgICAgICAgICAgICAgWzI4LjU2MzY2MTYwMDAwMDAwMyw3Ny4yODkwNTQ2XSwKICAgICAgICAgICAgICAgIHsKICAiYnViYmxpbmdNb3VzZUV2ZW50cyI6IHRydWUsCiAgImNvbG9yIjogIiNmZjAwMDAiLAogICJkYXNoQXJyYXkiOiBudWxsLAogICJkYXNoT2Zmc2V0IjogbnVsbCwKICAiZmlsbCI6IHRydWUsCiAgImZpbGxDb2xvciI6ICIjZmYwMDAwIiwKICAiZmlsbE9wYWNpdHkiOiAwLjcsCiAgImZpbGxSdWxlIjogImV2ZW5vZGQiLAogICJsaW5lQ2FwIjogInJvdW5kIiwKICAibGluZUpvaW4iOiAicm91bmQiLAogICJvcGFjaXR5IjogMS4wLAogICJyYWRpdXMiOiA1LAogICJzdHJva2UiOiB0cnVlLAogICJ3ZWlnaHQiOiAzCn0KICAgICAgICAgICAgICAgICkuYWRkVG8obWFwXzI5MzUwNGE4MDk1YjQzYTc5OTYwOTI3NDVmZDk4NWQ1KTsKICAgICAgICAgICAgCiAgICAKICAgICAgICAgICAgdmFyIHBvcHVwXzM0MmJhOWRiY2VlYjRlMTRiZjZlZjE5YjE1MWQ3NThiID0gTC5wb3B1cCh7bWF4V2lkdGg6ICczMDAnfSk7CgogICAgICAgICAgICAKICAgICAgICAgICAgICAgIHZhciBodG1sXzBmYTYyMzIzODNmOTQyMzhhMDAzZjBkM2RiNGE5ZDFiID0gJCgnPGRpdiBpZD0iaHRtbF8wZmE2MjMyMzgzZjk0MjM4YTAwM2YwZDNkYjRhOWQxYiIgc3R5bGU9IndpZHRoOiAxMDAuMCU7IGhlaWdodDogMTAwLjAlOyI+T2tobGEgQ2x1c3RlciAwPC9kaXY+JylbMF07CiAgICAgICAgICAgICAgICBwb3B1cF8zNDJiYTlkYmNlZWI0ZTE0YmY2ZWYxOWIxNTFkNzU4Yi5zZXRDb250ZW50KGh0bWxfMGZhNjIzMjM4M2Y5NDIzOGEwMDNmMGQzZGI0YTlkMWIpOwogICAgICAgICAgICAKCiAgICAgICAgICAgIGNpcmNsZV9tYXJrZXJfYTIyZTM1YmMxNTdkNDhmNzgxMDk3NGI3M2IwMDA2YzcuYmluZFBvcHVwKHBvcHVwXzM0MmJhOWRiY2VlYjRlMTRiZjZlZjE5YjE1MWQ3NThiKTsKCiAgICAgICAgICAgIAogICAgICAgIAogICAgCiAgICAgICAgICAgIHZhciBjaXJjbGVfbWFya2VyXzM1NmJlMTJhOGZhMzQ0ZTQ5OTU0ODA2NDU3NmY1NTA4ID0gTC5jaXJjbGVNYXJrZXIoCiAgICAgICAgICAgICAgICBbMjguNTY1NjQxOSw3Ny4xOTM0MzgyMDAwMDAwMl0sCiAgICAgICAgICAgICAgICB7CiAgImJ1YmJsaW5nTW91c2VFdmVudHMiOiB0cnVlLAogICJjb2xvciI6ICIjZmYwMDAwIiwKICAiZGFzaEFycmF5IjogbnVsbCwKICAiZGFzaE9mZnNldCI6IG51bGwsCiAgImZpbGwiOiB0cnVlLAogICJmaWxsQ29sb3IiOiAiI2ZmMDAwMCIsCiAgImZpbGxPcGFjaXR5IjogMC43LAogICJmaWxsUnVsZSI6ICJldmVub2RkIiwKICAibGluZUNhcCI6ICJyb3VuZCIsCiAgImxpbmVKb2luIjogInJvdW5kIiwKICAib3BhY2l0eSI6IDEuMCwKICAicmFkaXVzIjogNSwKICAic3Ryb2tlIjogdHJ1ZSwKICAid2VpZ2h0IjogMwp9CiAgICAgICAgICAgICAgICApLmFkZFRvKG1hcF8yOTM1MDRhODA5NWI0M2E3OTk2MDkyNzQ1ZmQ5ODVkNSk7CiAgICAgICAgICAgIAogICAgCiAgICAgICAgICAgIHZhciBwb3B1cF8wMmJhNWQ3NzliMDY0ZGFkYWViYWZhMmQ1NTVlMWIwMiA9IEwucG9wdXAoe21heFdpZHRoOiAnMzAwJ30pOwoKICAgICAgICAgICAgCiAgICAgICAgICAgICAgICB2YXIgaHRtbF8wZTMwMjA3NzQxMDU0MjQyODY2N2ZhYWYxMTQ3M2JlMyA9ICQoJzxkaXYgaWQ9Imh0bWxfMGUzMDIwNzc0MTA1NDI0Mjg2NjdmYWFmMTE0NzNiZTMiIHN0eWxlPSJ3aWR0aDogMTAwLjAlOyBoZWlnaHQ6IDEwMC4wJTsiPlNhZmRhcmp1bmcgRW5jbGF2ZSBDbHVzdGVyIDA8L2Rpdj4nKVswXTsKICAgICAgICAgICAgICAgIHBvcHVwXzAyYmE1ZDc3OWIwNjRkYWRhZWJhZmEyZDU1NWUxYjAyLnNldENvbnRlbnQoaHRtbF8wZTMwMjA3NzQxMDU0MjQyODY2N2ZhYWYxMTQ3M2JlMyk7CiAgICAgICAgICAgIAoKICAgICAgICAgICAgY2lyY2xlX21hcmtlcl8zNTZiZTEyYThmYTM0NGU0OTk1NDgwNjQ1NzZmNTUwOC5iaW5kUG9wdXAocG9wdXBfMDJiYTVkNzc5YjA2NGRhZGFlYmFmYTJkNTU1ZTFiMDIpOwoKICAgICAgICAgICAgCiAgICAgICAgCiAgICAKICAgICAgICAgICAgdmFyIGNpcmNsZV9tYXJrZXJfYjEyM2ExYWExMjU1NGJmNzgzYWUxOGRiY2E1ZTM0YjIgPSBMLmNpcmNsZU1hcmtlcigKICAgICAgICAgICAgICAgIFsyOC41MjQ0MTA2OTk5OTk5OSw3Ny4yMTM3MjUzMDAwMDAwMV0sCiAgICAgICAgICAgICAgICB7CiAgImJ1YmJsaW5nTW91c2VFdmVudHMiOiB0cnVlLAogICJjb2xvciI6ICIjODAwMGZmIiwKICAiZGFzaEFycmF5IjogbnVsbCwKICAiZGFzaE9mZnNldCI6IG51bGwsCiAgImZpbGwiOiB0cnVlLAogICJmaWxsQ29sb3IiOiAiIzgwMDBmZiIsCiAgImZpbGxPcGFjaXR5IjogMC43LAogICJmaWxsUnVsZSI6ICJldmVub2RkIiwKICAibGluZUNhcCI6ICJyb3VuZCIsCiAgImxpbmVKb2luIjogInJvdW5kIiwKICAib3BhY2l0eSI6IDEuMCwKICAicmFkaXVzIjogNSwKICAic3Ryb2tlIjogdHJ1ZSwKICAid2VpZ2h0IjogMwp9CiAgICAgICAgICAgICAgICApLmFkZFRvKG1hcF8yOTM1MDRhODA5NWI0M2E3OTk2MDkyNzQ1ZmQ5ODVkNSk7CiAgICAgICAgICAgIAogICAgCiAgICAgICAgICAgIHZhciBwb3B1cF9hMjdkNmVmZTRlMTk0ODIxYjY4NWMxNWMwNTIzZTlkNiA9IEwucG9wdXAoe21heFdpZHRoOiAnMzAwJ30pOwoKICAgICAgICAgICAgCiAgICAgICAgICAgICAgICB2YXIgaHRtbF9mY2MyNjg2M2NkYzk0ZDg5OWYwMjllZTYzNTVhNDQyZSA9ICQoJzxkaXYgaWQ9Imh0bWxfZmNjMjY4NjNjZGM5NGQ4OTlmMDI5ZWU2MzU1YTQ0MmUiIHN0eWxlPSJ3aWR0aDogMTAwLjAlOyBoZWlnaHQ6IDEwMC4wJTsiPlNha2V0IENsdXN0ZXIgMTwvZGl2PicpWzBdOwogICAgICAgICAgICAgICAgcG9wdXBfYTI3ZDZlZmU0ZTE5NDgyMWI2ODVjMTVjMDUyM2U5ZDYuc2V0Q29udGVudChodG1sX2ZjYzI2ODYzY2RjOTRkODk5ZjAyOWVlNjM1NWE0NDJlKTsKICAgICAgICAgICAgCgogICAgICAgICAgICBjaXJjbGVfbWFya2VyX2IxMjNhMWFhMTI1NTRiZjc4M2FlMThkYmNhNWUzNGIyLmJpbmRQb3B1cChwb3B1cF9hMjdkNmVmZTRlMTk0ODIxYjY4NWMxNWMwNTIzZTlkNik7CgogICAgICAgICAgICAKICAgICAgICAKICAgIAogICAgICAgICAgICB2YXIgY2lyY2xlX21hcmtlcl82MGViNGVjZmE4M2I0ZWVkYWY3OGU2ZWU2MThlMTY4NCA9IEwuY2lyY2xlTWFya2VyKAogICAgICAgICAgICAgICAgWzI4LjUzMzQ3ODQ5OTk5OTk5OCw3Ny4yOTM1MjMyMDAwMDAwMV0sCiAgICAgICAgICAgICAgICB7CiAgImJ1YmJsaW5nTW91c2VFdmVudHMiOiB0cnVlLAogICJjb2xvciI6ICIjZmYwMDAwIiwKICAiZGFzaEFycmF5IjogbnVsbCwKICAiZGFzaE9mZnNldCI6IG51bGwsCiAgImZpbGwiOiB0cnVlLAogICJmaWxsQ29sb3IiOiAiI2ZmMDAwMCIsCiAgImZpbGxPcGFjaXR5IjogMC43LAogICJmaWxsUnVsZSI6ICJldmVub2RkIiwKICAibGluZUNhcCI6ICJyb3VuZCIsCiAgImxpbmVKb2luIjogInJvdW5kIiwKICAib3BhY2l0eSI6IDEuMCwKICAicmFkaXVzIjogNSwKICAic3Ryb2tlIjogdHJ1ZSwKICAid2VpZ2h0IjogMwp9CiAgICAgICAgICAgICAgICApLmFkZFRvKG1hcF8yOTM1MDRhODA5NWI0M2E3OTk2MDkyNzQ1ZmQ5ODVkNSk7CiAgICAgICAgICAgIAogICAgCiAgICAgICAgICAgIHZhciBwb3B1cF9hYjA5ODdhMzE1ZDQ0MDc2OWMyNDM2MjA3YTE4ZWFkZiA9IEwucG9wdXAoe21heFdpZHRoOiAnMzAwJ30pOwoKICAgICAgICAgICAgCiAgICAgICAgICAgICAgICB2YXIgaHRtbF81ODgwNjc4M2U3ZDk0MTA3YTY4YTczZjlmNGFhNjg4OCA9ICQoJzxkaXYgaWQ9Imh0bWxfNTg4MDY3ODNlN2Q5NDEwN2E2OGE3M2Y5ZjRhYTY4ODgiIHN0eWxlPSJ3aWR0aDogMTAwLjAlOyBoZWlnaHQ6IDEwMC4wJTsiPlNhcml0YSBWaWhhciBDbHVzdGVyIDA8L2Rpdj4nKVswXTsKICAgICAgICAgICAgICAgIHBvcHVwX2FiMDk4N2EzMTVkNDQwNzY5YzI0MzYyMDdhMThlYWRmLnNldENvbnRlbnQoaHRtbF81ODgwNjc4M2U3ZDk0MTA3YTY4YTczZjlmNGFhNjg4OCk7CiAgICAgICAgICAgIAoKICAgICAgICAgICAgY2lyY2xlX21hcmtlcl82MGViNGVjZmE4M2I0ZWVkYWY3OGU2ZWU2MThlMTY4NC5iaW5kUG9wdXAocG9wdXBfYWIwOTg3YTMxNWQ0NDA3NjljMjQzNjIwN2ExOGVhZGYpOwoKICAgICAgICAgICAgCiAgICAgICAgCiAgICAKICAgICAgICAgICAgdmFyIGNpcmNsZV9tYXJrZXJfZjEwNWZlZDBjZWFiNDFhM2E2MzA2Y2E2ODk0ZjQ3MzMgPSBMLmNpcmNsZU1hcmtlcigKICAgICAgICAgICAgICAgIFsyOC41NzQxNTc1MDAwMDAwMDUsNzcuMTk1MzcwM10sCiAgICAgICAgICAgICAgICB7CiAgImJ1YmJsaW5nTW91c2VFdmVudHMiOiB0cnVlLAogICJjb2xvciI6ICIjZmYwMDAwIiwKICAiZGFzaEFycmF5IjogbnVsbCwKICAiZGFzaE9mZnNldCI6IG51bGwsCiAgImZpbGwiOiB0cnVlLAogICJmaWxsQ29sb3IiOiAiI2ZmMDAwMCIsCiAgImZpbGxPcGFjaXR5IjogMC43LAogICJmaWxsUnVsZSI6ICJldmVub2RkIiwKICAibGluZUNhcCI6ICJyb3VuZCIsCiAgImxpbmVKb2luIjogInJvdW5kIiwKICAib3BhY2l0eSI6IDEuMCwKICAicmFkaXVzIjogNSwKICAic3Ryb2tlIjogdHJ1ZSwKICAid2VpZ2h0IjogMwp9CiAgICAgICAgICAgICAgICApLmFkZFRvKG1hcF8yOTM1MDRhODA5NWI0M2E3OTk2MDkyNzQ1ZmQ5ODVkNSk7CiAgICAgICAgICAgIAogICAgCiAgICAgICAgICAgIHZhciBwb3B1cF8xZWFkODUwOGQ3M2I0MmU0OWI1NDM4ZWQ1ZmQyODQ1ZSA9IEwucG9wdXAoe21heFdpZHRoOiAnMzAwJ30pOwoKICAgICAgICAgICAgCiAgICAgICAgICAgICAgICB2YXIgaHRtbF9mNWMyN2YyZDUxYTE0NGU4YjkzMTkxZjUzYzIxZTdkZSA9ICQoJzxkaXYgaWQ9Imh0bWxfZjVjMjdmMmQ1MWExNDRlOGI5MzE5MWY1M2MyMWU3ZGUiIHN0eWxlPSJ3aWR0aDogMTAwLjAlOyBoZWlnaHQ6IDEwMC4wJTsiPlNhcm9qaW5pIE5hZ2FyIENsdXN0ZXIgMDwvZGl2PicpWzBdOwogICAgICAgICAgICAgICAgcG9wdXBfMWVhZDg1MDhkNzNiNDJlNDliNTQzOGVkNWZkMjg0NWUuc2V0Q29udGVudChodG1sX2Y1YzI3ZjJkNTFhMTQ0ZThiOTMxOTFmNTNjMjFlN2RlKTsKICAgICAgICAgICAgCgogICAgICAgICAgICBjaXJjbGVfbWFya2VyX2YxMDVmZWQwY2VhYjQxYTNhNjMwNmNhNjg5NGY0NzMzLmJpbmRQb3B1cChwb3B1cF8xZWFkODUwOGQ3M2I0MmU0OWI1NDM4ZWQ1ZmQyODQ1ZSk7CgogICAgICAgICAgICAKICAgICAgICAKICAgIAogICAgICAgICAgICB2YXIgY2lyY2xlX21hcmtlcl85OWZlMDllOTM2YTk0NWY4Yjc0YjJmZGE4NWZlODVhMCA9IEwuY2lyY2xlTWFya2VyKAogICAgICAgICAgICAgICAgWzI4LjUzNzQ3ODI5OTk5OTk5Nyw3Ny4yMDIwODg4XSwKICAgICAgICAgICAgICAgIHsKICAiYnViYmxpbmdNb3VzZUV2ZW50cyI6IHRydWUsCiAgImNvbG9yIjogIiM4MGZmYjQiLAogICJkYXNoQXJyYXkiOiBudWxsLAogICJkYXNoT2Zmc2V0IjogbnVsbCwKICAiZmlsbCI6IHRydWUsCiAgImZpbGxDb2xvciI6ICIjODBmZmI0IiwKICAiZmlsbE9wYWNpdHkiOiAwLjcsCiAgImZpbGxSdWxlIjogImV2ZW5vZGQiLAogICJsaW5lQ2FwIjogInJvdW5kIiwKICAibGluZUpvaW4iOiAicm91bmQiLAogICJvcGFjaXR5IjogMS4wLAogICJyYWRpdXMiOiA1LAogICJzdHJva2UiOiB0cnVlLAogICJ3ZWlnaHQiOiAzCn0KICAgICAgICAgICAgICAgICkuYWRkVG8obWFwXzI5MzUwNGE4MDk1YjQzYTc5OTYwOTI3NDVmZDk4NWQ1KTsKICAgICAgICAgICAgCiAgICAKICAgICAgICAgICAgdmFyIHBvcHVwX2E0Y2NlNzNlODI0MTQ1MjFhNTYxMzg5ZDlmNTJhM2ZmID0gTC5wb3B1cCh7bWF4V2lkdGg6ICczMDAnfSk7CgogICAgICAgICAgICAKICAgICAgICAgICAgICAgIHZhciBodG1sXzNlMGYwZTQyY2U5OTRlNTE5YTA2NDVhZjc4MTRkMzY3ID0gJCgnPGRpdiBpZD0iaHRtbF8zZTBmMGU0MmNlOTk0ZTUxOWEwNjQ1YWY3ODE0ZDM2NyIgc3R5bGU9IndpZHRoOiAxMDAuMCU7IGhlaWdodDogMTAwLjAlOyI+U2Fydm9kYXlhIEVuY2xhdmUgQ2x1c3RlciAyPC9kaXY+JylbMF07CiAgICAgICAgICAgICAgICBwb3B1cF9hNGNjZTczZTgyNDE0NTIxYTU2MTM4OWQ5ZjUyYTNmZi5zZXRDb250ZW50KGh0bWxfM2UwZjBlNDJjZTk5NGU1MTlhMDY0NWFmNzgxNGQzNjcpOwogICAgICAgICAgICAKCiAgICAgICAgICAgIGNpcmNsZV9tYXJrZXJfOTlmZTA5ZTkzNmE5NDVmOGI3NGIyZmRhODVmZTg1YTAuYmluZFBvcHVwKHBvcHVwX2E0Y2NlNzNlODI0MTQ1MjFhNTYxMzg5ZDlmNTJhM2ZmKTsKCiAgICAgICAgICAgIAogICAgICAgIAogICAgCiAgICAgICAgICAgIHZhciBjaXJjbGVfbWFya2VyX2Y2MWNlMzAxMTRkOTQ0MDI5OTBiZjhkODNmZmM3MWVlID0gTC5jaXJjbGVNYXJrZXIoCiAgICAgICAgICAgICAgICBbMjguNTQ4MzMwMyw3Ny4yMTQxMDRdLAogICAgICAgICAgICAgICAgewogICJidWJibGluZ01vdXNlRXZlbnRzIjogdHJ1ZSwKICAiY29sb3IiOiAiIzgwZmZiNCIsCiAgImRhc2hBcnJheSI6IG51bGwsCiAgImRhc2hPZmZzZXQiOiBudWxsLAogICJmaWxsIjogdHJ1ZSwKICAiZmlsbENvbG9yIjogIiM4MGZmYjQiLAogICJmaWxsT3BhY2l0eSI6IDAuNywKICAiZmlsbFJ1bGUiOiAiZXZlbm9kZCIsCiAgImxpbmVDYXAiOiAicm91bmQiLAogICJsaW5lSm9pbiI6ICJyb3VuZCIsCiAgIm9wYWNpdHkiOiAxLjAsCiAgInJhZGl1cyI6IDUsCiAgInN0cm9rZSI6IHRydWUsCiAgIndlaWdodCI6IDMKfQogICAgICAgICAgICAgICAgKS5hZGRUbyhtYXBfMjkzNTA0YTgwOTViNDNhNzk5NjA5Mjc0NWZkOTg1ZDUpOwogICAgICAgICAgICAKICAgIAogICAgICAgICAgICB2YXIgcG9wdXBfNmQ5ZDUxM2U1ODk4NDE4ZThlM2EzMTNhMzZmZjIxY2EgPSBMLnBvcHVwKHttYXhXaWR0aDogJzMwMCd9KTsKCiAgICAgICAgICAgIAogICAgICAgICAgICAgICAgdmFyIGh0bWxfOTlhOGQ5ZjVmZDBiNDg1Njk2MGI1MDlmYTRhNGZkOWEgPSAkKCc8ZGl2IGlkPSJodG1sXzk5YThkOWY1ZmQwYjQ4NTY5NjBiNTA5ZmE0YTRmZDlhIiBzdHlsZT0id2lkdGg6IDEwMC4wJTsgaGVpZ2h0OiAxMDAuMCU7Ij5TaGFocHVyIEphdCBDbHVzdGVyIDI8L2Rpdj4nKVswXTsKICAgICAgICAgICAgICAgIHBvcHVwXzZkOWQ1MTNlNTg5ODQxOGU4ZTNhMzEzYTM2ZmYyMWNhLnNldENvbnRlbnQoaHRtbF85OWE4ZDlmNWZkMGI0ODU2OTYwYjUwOWZhNGE0ZmQ5YSk7CiAgICAgICAgICAgIAoKICAgICAgICAgICAgY2lyY2xlX21hcmtlcl9mNjFjZTMwMTE0ZDk0NDAyOTkwYmY4ZDgzZmZjNzFlZS5iaW5kUG9wdXAocG9wdXBfNmQ5ZDUxM2U1ODk4NDE4ZThlM2EzMTNhMzZmZjIxY2EpOwoKICAgICAgICAgICAgCiAgICAgICAgCiAgICAKICAgICAgICAgICAgdmFyIGNpcmNsZV9tYXJrZXJfMzhkYzI4N2JhYTQzNDM5MDgyYWRjZmQ5MzhjZjY3NDIgPSBMLmNpcmNsZU1hcmtlcigKICAgICAgICAgICAgICAgIFsyOC41Njg1NjY0LDc3LjIyMDU2NzddLAogICAgICAgICAgICAgICAgewogICJidWJibGluZ01vdXNlRXZlbnRzIjogdHJ1ZSwKICAiY29sb3IiOiAiI2ZmMDAwMCIsCiAgImRhc2hBcnJheSI6IG51bGwsCiAgImRhc2hPZmZzZXQiOiBudWxsLAogICJmaWxsIjogdHJ1ZSwKICAiZmlsbENvbG9yIjogIiNmZjAwMDAiLAogICJmaWxsT3BhY2l0eSI6IDAuNywKICAiZmlsbFJ1bGUiOiAiZXZlbm9kZCIsCiAgImxpbmVDYXAiOiAicm91bmQiLAogICJsaW5lSm9pbiI6ICJyb3VuZCIsCiAgIm9wYWNpdHkiOiAxLjAsCiAgInJhZGl1cyI6IDUsCiAgInN0cm9rZSI6IHRydWUsCiAgIndlaWdodCI6IDMKfQogICAgICAgICAgICAgICAgKS5hZGRUbyhtYXBfMjkzNTA0YTgwOTViNDNhNzk5NjA5Mjc0NWZkOTg1ZDUpOwogICAgICAgICAgICAKICAgIAogICAgICAgICAgICB2YXIgcG9wdXBfMjZiOTA1MDU4YzJhNGQ1ZTg1ZGNkZjQ4M2JiMmNlNGUgPSBMLnBvcHVwKHttYXhXaWR0aDogJzMwMCd9KTsKCiAgICAgICAgICAgIAogICAgICAgICAgICAgICAgdmFyIGh0bWxfMmJhYzdkOThiNDM4NGIyMGI2ZTFhYmRjMTQ0NTEzZmYgPSAkKCc8ZGl2IGlkPSJodG1sXzJiYWM3ZDk4YjQzODRiMjBiNmUxYWJkYzE0NDUxM2ZmIiBzdHlsZT0id2lkdGg6IDEwMC4wJTsgaGVpZ2h0OiAxMDAuMCU7Ij5Tb3V0aCBFeHRlbnNpb24gQ2x1c3RlciAwPC9kaXY+JylbMF07CiAgICAgICAgICAgICAgICBwb3B1cF8yNmI5MDUwNThjMmE0ZDVlODVkY2RmNDgzYmIyY2U0ZS5zZXRDb250ZW50KGh0bWxfMmJhYzdkOThiNDM4NGIyMGI2ZTFhYmRjMTQ0NTEzZmYpOwogICAgICAgICAgICAKCiAgICAgICAgICAgIGNpcmNsZV9tYXJrZXJfMzhkYzI4N2JhYTQzNDM5MDgyYWRjZmQ5MzhjZjY3NDIuYmluZFBvcHVwKHBvcHVwXzI2YjkwNTA1OGMyYTRkNWU4NWRjZGY0ODNiYjJjZTRlKTsKCiAgICAgICAgICAgIAogICAgICAgIAogICAgCiAgICAgICAgICAgIHZhciBjaXJjbGVfbWFya2VyXzIzMTU2ZmU1ODQxZDQ5ZDliODlmNzk1M2ExYzQwYjdjID0gTC5jaXJjbGVNYXJrZXIoCiAgICAgICAgICAgICAgICBbMjguNTY1MjIwMzk5OTk5OTk4LDc3LjI1NDcwNDFdLAogICAgICAgICAgICAgICAgewogICJidWJibGluZ01vdXNlRXZlbnRzIjogdHJ1ZSwKICAiY29sb3IiOiAiI2ZmMDAwMCIsCiAgImRhc2hBcnJheSI6IG51bGwsCiAgImRhc2hPZmZzZXQiOiBudWxsLAogICJmaWxsIjogdHJ1ZSwKICAiZmlsbENvbG9yIjogIiNmZjAwMDAiLAogICJmaWxsT3BhY2l0eSI6IDAuNywKICAiZmlsbFJ1bGUiOiAiZXZlbm9kZCIsCiAgImxpbmVDYXAiOiAicm91bmQiLAogICJsaW5lSm9pbiI6ICJyb3VuZCIsCiAgIm9wYWNpdHkiOiAxLjAsCiAgInJhZGl1cyI6IDUsCiAgInN0cm9rZSI6IHRydWUsCiAgIndlaWdodCI6IDMKfQogICAgICAgICAgICAgICAgKS5hZGRUbyhtYXBfMjkzNTA0YTgwOTViNDNhNzk5NjA5Mjc0NWZkOTg1ZDUpOwogICAgICAgICAgICAKICAgIAogICAgICAgICAgICB2YXIgcG9wdXBfZTAzZmRkMjQzYjJiNDI0NWJlNTkzODcxYjQ0YWYwM2MgPSBMLnBvcHVwKHttYXhXaWR0aDogJzMwMCd9KTsKCiAgICAgICAgICAgIAogICAgICAgICAgICAgICAgdmFyIGh0bWxfOWZlNzQwZDQ1MTY2NGU5Njk5MTc3NGI0NTA2YTU3NWUgPSAkKCc8ZGl2IGlkPSJodG1sXzlmZTc0MGQ0NTE2NjRlOTY5OTE3NzRiNDUwNmE1NzVlIiBzdHlsZT0id2lkdGg6IDEwMC4wJTsgaGVpZ2h0OiAxMDAuMCU7Ij5TcmluaXdhc3B1cmkgQ2x1c3RlciAwPC9kaXY+JylbMF07CiAgICAgICAgICAgICAgICBwb3B1cF9lMDNmZGQyNDNiMmI0MjQ1YmU1OTM4NzFiNDRhZjAzYy5zZXRDb250ZW50KGh0bWxfOWZlNzQwZDQ1MTY2NGU5Njk5MTc3NGI0NTA2YTU3NWUpOwogICAgICAgICAgICAKCiAgICAgICAgICAgIGNpcmNsZV9tYXJrZXJfMjMxNTZmZTU4NDFkNDlkOWI4OWY3OTUzYTFjNDBiN2MuYmluZFBvcHVwKHBvcHVwX2UwM2ZkZDI0M2IyYjQyNDViZTU5Mzg3MWI0NGFmMDNjKTsKCiAgICAgICAgICAgIAogICAgICAgIAo8L3NjcmlwdD4= onload=\"this.contentDocument.open();this.contentDocument.write(atob(this.getAttribute('data-html')));this.contentDocument.close();\" allowfullscreen webkitallowfullscreen mozallowfullscreen></iframe></div></div>"
      ],
      "text/plain": [
       "<folium.folium.Map at 0x1aaee71a2c8>"
      ]
     },
     "execution_count": 94,
     "metadata": {},
     "output_type": "execute_result"
    }
   ],
   "source": [
    "kclusters = 3\n",
    "# create map\n",
    "map_clusters = folium.Map(location=[latitude, longitude], zoom_start=11)\n",
    "\n",
    "# set color scheme for the clusters\n",
    "x = np.arange(kclusters)\n",
    "ys = [i + x + (i*x)**2 for i in range(kclusters)]\n",
    "colors_array = cm.rainbow(np.linspace(0, 1, len(ys)))\n",
    "rainbow = [colors.rgb2hex(i) for i in colors_array]\n",
    "\n",
    "# add markers to the map\n",
    "markers_colors = []\n",
    "for lat, lon, poi, cluster in zip(delhi_grouped['Neighborhood Latitude'], delhi_grouped['Neighborhood Longitude'], delhi_grouped['Neighborhood'], delhi_grouped['Cluster']):\n",
    "    label = folium.Popup(str(poi) + ' Cluster ' + str(cluster), parse_html=True)\n",
    "    folium.CircleMarker(\n",
    "        [lat, lon],\n",
    "        radius=5,\n",
    "        popup=label,\n",
    "        color=rainbow[cluster-1],\n",
    "        fill=True,\n",
    "        fill_color=rainbow[cluster-1],\n",
    "        fill_opacity=0.7).add_to(map_clusters)\n",
    "       \n",
    "map_clusters"
   ]
  },
  {
   "cell_type": "code",
   "execution_count": 96,
   "metadata": {},
   "outputs": [
    {
     "data": {
      "text/html": [
       "<div>\n",
       "<style scoped>\n",
       "    .dataframe tbody tr th:only-of-type {\n",
       "        vertical-align: middle;\n",
       "    }\n",
       "\n",
       "    .dataframe tbody tr th {\n",
       "        vertical-align: top;\n",
       "    }\n",
       "\n",
       "    .dataframe thead th {\n",
       "        text-align: right;\n",
       "    }\n",
       "</style>\n",
       "<table border=\"1\" class=\"dataframe\">\n",
       "  <thead>\n",
       "    <tr style=\"text-align: right;\">\n",
       "      <th></th>\n",
       "      <th>Neighborhood</th>\n",
       "      <th>Venue Longitude</th>\n",
       "      <th>Likes Count</th>\n",
       "    </tr>\n",
       "  </thead>\n",
       "  <tbody>\n",
       "    <tr>\n",
       "      <td>0</td>\n",
       "      <td>Alaknanda</td>\n",
       "      <td>77.249834</td>\n",
       "      <td>2.181818</td>\n",
       "    </tr>\n",
       "    <tr>\n",
       "      <td>2</td>\n",
       "      <td>Chhattarpur</td>\n",
       "      <td>77.175013</td>\n",
       "      <td>0.500000</td>\n",
       "    </tr>\n",
       "    <tr>\n",
       "      <td>3</td>\n",
       "      <td>Chittaranjan Park</td>\n",
       "      <td>77.253399</td>\n",
       "      <td>0.000000</td>\n",
       "    </tr>\n",
       "    <tr>\n",
       "      <td>5</td>\n",
       "      <td>Dayanand Colony</td>\n",
       "      <td>77.245805</td>\n",
       "      <td>5.000000</td>\n",
       "    </tr>\n",
       "    <tr>\n",
       "      <td>7</td>\n",
       "      <td>East of Kailash</td>\n",
       "      <td>77.244871</td>\n",
       "      <td>2.285714</td>\n",
       "    </tr>\n",
       "    <tr>\n",
       "      <td>8</td>\n",
       "      <td>Friends Colony</td>\n",
       "      <td>77.261516</td>\n",
       "      <td>0.000000</td>\n",
       "    </tr>\n",
       "    <tr>\n",
       "      <td>9</td>\n",
       "      <td>Gole Market</td>\n",
       "      <td>77.207874</td>\n",
       "      <td>3.600000</td>\n",
       "    </tr>\n",
       "    <tr>\n",
       "      <td>10</td>\n",
       "      <td>Greater Kailash</td>\n",
       "      <td>77.232282</td>\n",
       "      <td>4.875000</td>\n",
       "    </tr>\n",
       "    <tr>\n",
       "      <td>11</td>\n",
       "      <td>Green Park</td>\n",
       "      <td>77.204860</td>\n",
       "      <td>7.300000</td>\n",
       "    </tr>\n",
       "    <tr>\n",
       "      <td>14</td>\n",
       "      <td>Jangpura</td>\n",
       "      <td>77.242569</td>\n",
       "      <td>5.875000</td>\n",
       "    </tr>\n",
       "    <tr>\n",
       "      <td>15</td>\n",
       "      <td>Jasola</td>\n",
       "      <td>77.296519</td>\n",
       "      <td>5.666667</td>\n",
       "    </tr>\n",
       "    <tr>\n",
       "      <td>18</td>\n",
       "      <td>Khanpur</td>\n",
       "      <td>77.232052</td>\n",
       "      <td>1.000000</td>\n",
       "    </tr>\n",
       "    <tr>\n",
       "      <td>20</td>\n",
       "      <td>Lajpat Nagar</td>\n",
       "      <td>77.245697</td>\n",
       "      <td>6.000000</td>\n",
       "    </tr>\n",
       "    <tr>\n",
       "      <td>21</td>\n",
       "      <td>Lodi Colony</td>\n",
       "      <td>77.222404</td>\n",
       "      <td>4.500000</td>\n",
       "    </tr>\n",
       "    <tr>\n",
       "      <td>22</td>\n",
       "      <td>Maharani Bagh</td>\n",
       "      <td>77.264767</td>\n",
       "      <td>0.000000</td>\n",
       "    </tr>\n",
       "    <tr>\n",
       "      <td>23</td>\n",
       "      <td>Malviya Nagar</td>\n",
       "      <td>77.210564</td>\n",
       "      <td>6.285714</td>\n",
       "    </tr>\n",
       "    <tr>\n",
       "      <td>24</td>\n",
       "      <td>Mehrauli</td>\n",
       "      <td>77.180588</td>\n",
       "      <td>6.666667</td>\n",
       "    </tr>\n",
       "    <tr>\n",
       "      <td>27</td>\n",
       "      <td>Netaji Nagar</td>\n",
       "      <td>77.185345</td>\n",
       "      <td>3.666667</td>\n",
       "    </tr>\n",
       "    <tr>\n",
       "      <td>28</td>\n",
       "      <td>New Friends Colony</td>\n",
       "      <td>77.268915</td>\n",
       "      <td>2.000000</td>\n",
       "    </tr>\n",
       "    <tr>\n",
       "      <td>30</td>\n",
       "      <td>Okhla</td>\n",
       "      <td>77.290815</td>\n",
       "      <td>1.000000</td>\n",
       "    </tr>\n",
       "    <tr>\n",
       "      <td>31</td>\n",
       "      <td>Safdarjung Enclave</td>\n",
       "      <td>77.192545</td>\n",
       "      <td>3.000000</td>\n",
       "    </tr>\n",
       "    <tr>\n",
       "      <td>33</td>\n",
       "      <td>Sarita Vihar</td>\n",
       "      <td>77.292036</td>\n",
       "      <td>4.000000</td>\n",
       "    </tr>\n",
       "    <tr>\n",
       "      <td>34</td>\n",
       "      <td>Sarojini Nagar</td>\n",
       "      <td>77.194986</td>\n",
       "      <td>2.444444</td>\n",
       "    </tr>\n",
       "    <tr>\n",
       "      <td>37</td>\n",
       "      <td>South Extension</td>\n",
       "      <td>77.219655</td>\n",
       "      <td>7.666667</td>\n",
       "    </tr>\n",
       "    <tr>\n",
       "      <td>38</td>\n",
       "      <td>Sriniwaspuri</td>\n",
       "      <td>77.255444</td>\n",
       "      <td>1.000000</td>\n",
       "    </tr>\n",
       "  </tbody>\n",
       "</table>\n",
       "</div>"
      ],
      "text/plain": [
       "          Neighborhood  Venue Longitude  Likes Count\n",
       "0            Alaknanda        77.249834     2.181818\n",
       "2          Chhattarpur        77.175013     0.500000\n",
       "3    Chittaranjan Park        77.253399     0.000000\n",
       "5      Dayanand Colony        77.245805     5.000000\n",
       "7      East of Kailash        77.244871     2.285714\n",
       "8       Friends Colony        77.261516     0.000000\n",
       "9          Gole Market        77.207874     3.600000\n",
       "10     Greater Kailash        77.232282     4.875000\n",
       "11          Green Park        77.204860     7.300000\n",
       "14            Jangpura        77.242569     5.875000\n",
       "15              Jasola        77.296519     5.666667\n",
       "18             Khanpur        77.232052     1.000000\n",
       "20        Lajpat Nagar        77.245697     6.000000\n",
       "21         Lodi Colony        77.222404     4.500000\n",
       "22       Maharani Bagh        77.264767     0.000000\n",
       "23       Malviya Nagar        77.210564     6.285714\n",
       "24            Mehrauli        77.180588     6.666667\n",
       "27        Netaji Nagar        77.185345     3.666667\n",
       "28  New Friends Colony        77.268915     2.000000\n",
       "30               Okhla        77.290815     1.000000\n",
       "31  Safdarjung Enclave        77.192545     3.000000\n",
       "33        Sarita Vihar        77.292036     4.000000\n",
       "34      Sarojini Nagar        77.194986     2.444444\n",
       "37     South Extension        77.219655     7.666667\n",
       "38        Sriniwaspuri        77.255444     1.000000"
      ]
     },
     "execution_count": 96,
     "metadata": {},
     "output_type": "execute_result"
    }
   ],
   "source": [
    "# Cluster 1\n",
    "delhi_grouped.loc[delhi_grouped['Cluster'] == 0, delhi_grouped.columns[[1] + list(range(5, delhi_grouped.shape[1]))]]"
   ]
  },
  {
   "cell_type": "code",
   "execution_count": 97,
   "metadata": {},
   "outputs": [
    {
     "data": {
      "text/html": [
       "<div>\n",
       "<style scoped>\n",
       "    .dataframe tbody tr th:only-of-type {\n",
       "        vertical-align: middle;\n",
       "    }\n",
       "\n",
       "    .dataframe tbody tr th {\n",
       "        vertical-align: top;\n",
       "    }\n",
       "\n",
       "    .dataframe thead th {\n",
       "        text-align: right;\n",
       "    }\n",
       "</style>\n",
       "<table border=\"1\" class=\"dataframe\">\n",
       "  <thead>\n",
       "    <tr style=\"text-align: right;\">\n",
       "      <th></th>\n",
       "      <th>Neighborhood</th>\n",
       "      <th>Venue Longitude</th>\n",
       "      <th>Likes Count</th>\n",
       "    </tr>\n",
       "  </thead>\n",
       "  <tbody>\n",
       "    <tr>\n",
       "      <td>1</td>\n",
       "      <td>Barakhamba Road</td>\n",
       "      <td>77.222245</td>\n",
       "      <td>40.000000</td>\n",
       "    </tr>\n",
       "    <tr>\n",
       "      <td>4</td>\n",
       "      <td>Connaught Place</td>\n",
       "      <td>77.219801</td>\n",
       "      <td>49.880952</td>\n",
       "    </tr>\n",
       "    <tr>\n",
       "      <td>16</td>\n",
       "      <td>Kailash Colony</td>\n",
       "      <td>77.242023</td>\n",
       "      <td>50.500000</td>\n",
       "    </tr>\n",
       "    <tr>\n",
       "      <td>19</td>\n",
       "      <td>Khirki Village</td>\n",
       "      <td>77.218093</td>\n",
       "      <td>41.621622</td>\n",
       "    </tr>\n",
       "    <tr>\n",
       "      <td>32</td>\n",
       "      <td>Saket</td>\n",
       "      <td>77.216635</td>\n",
       "      <td>63.333333</td>\n",
       "    </tr>\n",
       "  </tbody>\n",
       "</table>\n",
       "</div>"
      ],
      "text/plain": [
       "       Neighborhood  Venue Longitude  Likes Count\n",
       "1   Barakhamba Road        77.222245    40.000000\n",
       "4   Connaught Place        77.219801    49.880952\n",
       "16   Kailash Colony        77.242023    50.500000\n",
       "19   Khirki Village        77.218093    41.621622\n",
       "32            Saket        77.216635    63.333333"
      ]
     },
     "execution_count": 97,
     "metadata": {},
     "output_type": "execute_result"
    }
   ],
   "source": [
    "# Cluster 2\n",
    "delhi_grouped.loc[delhi_grouped['Cluster'] == 1, delhi_grouped.columns[[1] + list(range(5, delhi_grouped.shape[1]))]]"
   ]
  },
  {
   "cell_type": "code",
   "execution_count": 98,
   "metadata": {},
   "outputs": [
    {
     "data": {
      "text/html": [
       "<div>\n",
       "<style scoped>\n",
       "    .dataframe tbody tr th:only-of-type {\n",
       "        vertical-align: middle;\n",
       "    }\n",
       "\n",
       "    .dataframe tbody tr th {\n",
       "        vertical-align: top;\n",
       "    }\n",
       "\n",
       "    .dataframe thead th {\n",
       "        text-align: right;\n",
       "    }\n",
       "</style>\n",
       "<table border=\"1\" class=\"dataframe\">\n",
       "  <thead>\n",
       "    <tr style=\"text-align: right;\">\n",
       "      <th></th>\n",
       "      <th>Neighborhood</th>\n",
       "      <th>Venue Longitude</th>\n",
       "      <th>Likes Count</th>\n",
       "    </tr>\n",
       "  </thead>\n",
       "  <tbody>\n",
       "    <tr>\n",
       "      <td>6</td>\n",
       "      <td>Defence Colony</td>\n",
       "      <td>77.230621</td>\n",
       "      <td>9.812500</td>\n",
       "    </tr>\n",
       "    <tr>\n",
       "      <td>12</td>\n",
       "      <td>Hauz Khas</td>\n",
       "      <td>77.208543</td>\n",
       "      <td>16.000000</td>\n",
       "    </tr>\n",
       "    <tr>\n",
       "      <td>13</td>\n",
       "      <td>Hauz Khas Village</td>\n",
       "      <td>77.194606</td>\n",
       "      <td>13.815789</td>\n",
       "    </tr>\n",
       "    <tr>\n",
       "      <td>17</td>\n",
       "      <td>Khan Market</td>\n",
       "      <td>77.227050</td>\n",
       "      <td>24.264706</td>\n",
       "    </tr>\n",
       "    <tr>\n",
       "      <td>25</td>\n",
       "      <td>Neeti Bagh</td>\n",
       "      <td>77.218301</td>\n",
       "      <td>12.500000</td>\n",
       "    </tr>\n",
       "    <tr>\n",
       "      <td>26</td>\n",
       "      <td>Nehru Place</td>\n",
       "      <td>77.251831</td>\n",
       "      <td>19.882353</td>\n",
       "    </tr>\n",
       "    <tr>\n",
       "      <td>29</td>\n",
       "      <td>Nizamuddin West</td>\n",
       "      <td>77.243570</td>\n",
       "      <td>10.666667</td>\n",
       "    </tr>\n",
       "    <tr>\n",
       "      <td>35</td>\n",
       "      <td>Sarvodaya Enclave</td>\n",
       "      <td>77.198587</td>\n",
       "      <td>13.000000</td>\n",
       "    </tr>\n",
       "    <tr>\n",
       "      <td>36</td>\n",
       "      <td>Shahpur Jat</td>\n",
       "      <td>77.214227</td>\n",
       "      <td>20.500000</td>\n",
       "    </tr>\n",
       "  </tbody>\n",
       "</table>\n",
       "</div>"
      ],
      "text/plain": [
       "         Neighborhood  Venue Longitude  Likes Count\n",
       "6      Defence Colony        77.230621     9.812500\n",
       "12          Hauz Khas        77.208543    16.000000\n",
       "13  Hauz Khas Village        77.194606    13.815789\n",
       "17        Khan Market        77.227050    24.264706\n",
       "25         Neeti Bagh        77.218301    12.500000\n",
       "26        Nehru Place        77.251831    19.882353\n",
       "29    Nizamuddin West        77.243570    10.666667\n",
       "35  Sarvodaya Enclave        77.198587    13.000000\n",
       "36        Shahpur Jat        77.214227    20.500000"
      ]
     },
     "execution_count": 98,
     "metadata": {},
     "output_type": "execute_result"
    }
   ],
   "source": [
    "# Cluster 3\n",
    "delhi_grouped.loc[delhi_grouped['Cluster'] == 2, delhi_grouped.columns[[1] + list(range(5, delhi_grouped.shape[1]))]]"
   ]
  },
  {
   "cell_type": "code",
   "execution_count": null,
   "metadata": {},
   "outputs": [],
   "source": []
  }
 ],
 "metadata": {
  "kernelspec": {
   "display_name": "Python 3",
   "language": "python",
   "name": "python3"
  },
  "language_info": {
   "codemirror_mode": {
    "name": "ipython",
    "version": 3
   },
   "file_extension": ".py",
   "mimetype": "text/x-python",
   "name": "python",
   "nbconvert_exporter": "python",
   "pygments_lexer": "ipython3",
   "version": "3.7.4"
  }
 },
 "nbformat": 4,
 "nbformat_minor": 2
}
