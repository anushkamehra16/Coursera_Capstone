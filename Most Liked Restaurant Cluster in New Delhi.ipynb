{
 "cells": [
  {
   "cell_type": "markdown",
   "metadata": {},
   "source": [
    "## Import libraries"
   ]
  },
  {
   "cell_type": "code",
   "execution_count": 1,
   "metadata": {},
   "outputs": [],
   "source": [
    "import pandas as pd\n",
    "import numpy as np\n",
    "import os\n",
    "import requests\n",
    "from bs4 import BeautifulSoup\n",
    "from tabulate import tabulate\n",
    "import matplotlib.cm as cm\n",
    "import matplotlib.colors as colors\n",
    "from sklearn.cluster import KMeans\n",
    "import folium \n",
    "from pandas.io.json import json_normalize\n",
    "import geopandas as gpd\n",
    "from geopy.geocoders import Nominatim\n",
    "import io\n",
    "from geopy.extra.rate_limiter import RateLimiter\n",
    "import matplotlib.pyplot as plt"
   ]
  },
  {
   "cell_type": "markdown",
   "metadata": {},
   "source": [
    "## Loading New Delhi neighborhoods data file"
   ]
  },
  {
   "cell_type": "markdown",
   "metadata": {},
   "source": [
    "#### Reading the neighborhoods file in a data frame"
   ]
  },
  {
   "cell_type": "code",
   "execution_count": 2,
   "metadata": {},
   "outputs": [],
   "source": [
    "dneigh = pd.read_csv(os.getcwd() + '/delhi-neighborhood-data/delhi_dataSet.csv')"
   ]
  },
  {
   "cell_type": "markdown",
   "metadata": {},
   "source": [
    "#### Print shape of the file"
   ]
  },
  {
   "cell_type": "code",
   "execution_count": 3,
   "metadata": {},
   "outputs": [
    {
     "data": {
      "text/plain": [
       "(185, 5)"
      ]
     },
     "execution_count": 3,
     "metadata": {},
     "output_type": "execute_result"
    }
   ],
   "source": [
    "dneigh.shape"
   ]
  },
  {
   "cell_type": "code",
   "execution_count": 4,
   "metadata": {},
   "outputs": [
    {
     "data": {
      "text/html": [
       "<div>\n",
       "<style scoped>\n",
       "    .dataframe tbody tr th:only-of-type {\n",
       "        vertical-align: middle;\n",
       "    }\n",
       "\n",
       "    .dataframe tbody tr th {\n",
       "        vertical-align: top;\n",
       "    }\n",
       "\n",
       "    .dataframe thead th {\n",
       "        text-align: right;\n",
       "    }\n",
       "</style>\n",
       "<table border=\"1\" class=\"dataframe\">\n",
       "  <thead>\n",
       "    <tr style=\"text-align: right;\">\n",
       "      <th></th>\n",
       "      <th>Unnamed: 0</th>\n",
       "      <th>Borough</th>\n",
       "      <th>Neighborhood</th>\n",
       "      <th>latitude</th>\n",
       "      <th>longitude</th>\n",
       "    </tr>\n",
       "  </thead>\n",
       "  <tbody>\n",
       "    <tr>\n",
       "      <td>0</td>\n",
       "      <td>0</td>\n",
       "      <td>North West Delhi</td>\n",
       "      <td>Adarsh Nagar</td>\n",
       "      <td>28.614192</td>\n",
       "      <td>77.071541</td>\n",
       "    </tr>\n",
       "    <tr>\n",
       "      <td>1</td>\n",
       "      <td>1</td>\n",
       "      <td>North West Delhi</td>\n",
       "      <td>Ashok Vihar</td>\n",
       "      <td>28.699453</td>\n",
       "      <td>77.184826</td>\n",
       "    </tr>\n",
       "    <tr>\n",
       "      <td>2</td>\n",
       "      <td>2</td>\n",
       "      <td>North West Delhi</td>\n",
       "      <td>Azadpur</td>\n",
       "      <td>28.707657</td>\n",
       "      <td>77.175547</td>\n",
       "    </tr>\n",
       "    <tr>\n",
       "      <td>3</td>\n",
       "      <td>3</td>\n",
       "      <td>North West Delhi</td>\n",
       "      <td>Bawana</td>\n",
       "      <td>28.799660</td>\n",
       "      <td>77.032885</td>\n",
       "    </tr>\n",
       "    <tr>\n",
       "      <td>4</td>\n",
       "      <td>4</td>\n",
       "      <td>North West Delhi</td>\n",
       "      <td>Begum Pur</td>\n",
       "      <td>NaN</td>\n",
       "      <td>NaN</td>\n",
       "    </tr>\n",
       "  </tbody>\n",
       "</table>\n",
       "</div>"
      ],
      "text/plain": [
       "   Unnamed: 0           Borough  Neighborhood   latitude  longitude\n",
       "0           0  North West Delhi  Adarsh Nagar  28.614192  77.071541\n",
       "1           1  North West Delhi   Ashok Vihar  28.699453  77.184826\n",
       "2           2  North West Delhi       Azadpur  28.707657  77.175547\n",
       "3           3  North West Delhi        Bawana  28.799660  77.032885\n",
       "4           4  North West Delhi     Begum Pur        NaN        NaN"
      ]
     },
     "execution_count": 4,
     "metadata": {},
     "output_type": "execute_result"
    }
   ],
   "source": [
    "dneigh.head()"
   ]
  },
  {
   "cell_type": "code",
   "execution_count": 5,
   "metadata": {},
   "outputs": [],
   "source": [
    "# drop Unnamed:0 column\n",
    "dneigh.drop(columns = ['Unnamed: 0'], axis = 1, inplace = True)"
   ]
  },
  {
   "cell_type": "code",
   "execution_count": 6,
   "metadata": {},
   "outputs": [
    {
     "data": {
      "text/html": [
       "<div>\n",
       "<style scoped>\n",
       "    .dataframe tbody tr th:only-of-type {\n",
       "        vertical-align: middle;\n",
       "    }\n",
       "\n",
       "    .dataframe tbody tr th {\n",
       "        vertical-align: top;\n",
       "    }\n",
       "\n",
       "    .dataframe thead th {\n",
       "        text-align: right;\n",
       "    }\n",
       "</style>\n",
       "<table border=\"1\" class=\"dataframe\">\n",
       "  <thead>\n",
       "    <tr style=\"text-align: right;\">\n",
       "      <th></th>\n",
       "      <th>Borough</th>\n",
       "      <th>Neighborhood</th>\n",
       "      <th>latitude</th>\n",
       "      <th>longitude</th>\n",
       "    </tr>\n",
       "  </thead>\n",
       "  <tbody>\n",
       "    <tr>\n",
       "      <td>0</td>\n",
       "      <td>North West Delhi</td>\n",
       "      <td>Adarsh Nagar</td>\n",
       "      <td>28.614192</td>\n",
       "      <td>77.071541</td>\n",
       "    </tr>\n",
       "    <tr>\n",
       "      <td>1</td>\n",
       "      <td>North West Delhi</td>\n",
       "      <td>Ashok Vihar</td>\n",
       "      <td>28.699453</td>\n",
       "      <td>77.184826</td>\n",
       "    </tr>\n",
       "    <tr>\n",
       "      <td>2</td>\n",
       "      <td>North West Delhi</td>\n",
       "      <td>Azadpur</td>\n",
       "      <td>28.707657</td>\n",
       "      <td>77.175547</td>\n",
       "    </tr>\n",
       "    <tr>\n",
       "      <td>3</td>\n",
       "      <td>North West Delhi</td>\n",
       "      <td>Bawana</td>\n",
       "      <td>28.799660</td>\n",
       "      <td>77.032885</td>\n",
       "    </tr>\n",
       "    <tr>\n",
       "      <td>4</td>\n",
       "      <td>North West Delhi</td>\n",
       "      <td>Begum Pur</td>\n",
       "      <td>NaN</td>\n",
       "      <td>NaN</td>\n",
       "    </tr>\n",
       "  </tbody>\n",
       "</table>\n",
       "</div>"
      ],
      "text/plain": [
       "            Borough  Neighborhood   latitude  longitude\n",
       "0  North West Delhi  Adarsh Nagar  28.614192  77.071541\n",
       "1  North West Delhi   Ashok Vihar  28.699453  77.184826\n",
       "2  North West Delhi       Azadpur  28.707657  77.175547\n",
       "3  North West Delhi        Bawana  28.799660  77.032885\n",
       "4  North West Delhi     Begum Pur        NaN        NaN"
      ]
     },
     "execution_count": 6,
     "metadata": {},
     "output_type": "execute_result"
    }
   ],
   "source": [
    "dneigh.head()"
   ]
  },
  {
   "cell_type": "code",
   "execution_count": 7,
   "metadata": {},
   "outputs": [],
   "source": [
    "# dropping rows with Latitude is Null\n",
    "indexNames = dneigh[ dneigh['latitude'].isnull()].index\n",
    " \n",
    "# Delete these row indexes from dataFrame\n",
    "dneigh.drop(indexNames , inplace=True)\n",
    "\n",
    "# dropping rows with Longitude is Null\n",
    "indexNames = dneigh[ dneigh['longitude'].isnull()].index\n",
    " \n",
    "# Delete these row indexes from dataFrame\n",
    "dneigh.drop(indexNames , inplace=True)"
   ]
  },
  {
   "cell_type": "markdown",
   "metadata": {},
   "source": [
    "### Get New Delhi Latitude and Longitude values "
   ]
  },
  {
   "cell_type": "code",
   "execution_count": 8,
   "metadata": {},
   "outputs": [
    {
     "name": "stdout",
     "output_type": "stream",
     "text": [
      "The geograpical coordinate of New Delhi are 28.6141793, 77.2022662.\n"
     ]
    }
   ],
   "source": [
    "address = 'New Delhi, IN'\n",
    "\n",
    "geolocator = Nominatim(user_agent=\"delhi_locator\")\n",
    "location = geolocator.geocode(address)\n",
    "latitude = location.latitude\n",
    "longitude = location.longitude\n",
    "print('The geograpical coordinate of New Delhi are {}, {}.'.format(latitude, longitude))"
   ]
  },
  {
   "cell_type": "markdown",
   "metadata": {},
   "source": [
    "### Create a map of New Delhi"
   ]
  },
  {
   "cell_type": "code",
   "execution_count": 9,
   "metadata": {},
   "outputs": [
    {
     "data": {
      "text/html": [
       "<div style=\"width:100%;\"><div style=\"position:relative;width:100%;height:0;padding-bottom:60%;\"><iframe src=\"about:blank\" style=\"position:absolute;width:100%;height:100%;left:0;top:0;border:none !important;\" data-html=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 onload=\"this.contentDocument.open();this.contentDocument.write(atob(this.getAttribute('data-html')));this.contentDocument.close();\" allowfullscreen webkitallowfullscreen mozallowfullscreen></iframe></div></div>"
      ],
      "text/plain": [
       "<folium.folium.Map at 0x1b70ef85288>"
      ]
     },
     "execution_count": 9,
     "metadata": {},
     "output_type": "execute_result"
    }
   ],
   "source": [
    "# create map of New Delhi using latitude and longitude values\n",
    "delhi_map = folium.Map(location=[latitude, longitude], zoom_start=10)    \n",
    "delhi_map"
   ]
  },
  {
   "cell_type": "code",
   "execution_count": 10,
   "metadata": {},
   "outputs": [
    {
     "data": {
      "text/html": [
       "<div style=\"width:100%;\"><div style=\"position:relative;width:100%;height:0;padding-bottom:60%;\"><iframe src=\"about:blank\" style=\"position:absolute;width:100%;height:100%;left:0;top:0;border:none !important;\" data-html=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 onload=\"this.contentDocument.open();this.contentDocument.write(atob(this.getAttribute('data-html')));this.contentDocument.close();\" allowfullscreen webkitallowfullscreen mozallowfullscreen></iframe></div></div>"
      ],
      "text/plain": [
       "<folium.folium.Map at 0x1b70efae308>"
      ]
     },
     "execution_count": 10,
     "metadata": {},
     "output_type": "execute_result"
    }
   ],
   "source": [
    "# create map of New Delhi using latitude and longitude values\n",
    "delhi_map = folium.Map(location=[latitude, longitude], zoom_start=10)\n",
    "\n",
    "# add markers to map\n",
    "for lat, lng, borough, neighborhood in zip(dneigh['latitude'], dneigh['longitude'], dneigh['Borough'], dneigh['Neighborhood']):\n",
    "    label = '{}, {}'.format(neighborhood, borough)\n",
    "    label = folium.Popup(label, parse_html=True)\n",
    "    folium.CircleMarker(\n",
    "        [lat, lng],\n",
    "        radius=5,\n",
    "        popup=label,\n",
    "        color='blue',\n",
    "        fill=True,\n",
    "        fill_color='#3186cc',\n",
    "        fill_opacity=0.7,\n",
    "        parse_html=False).add_to(delhi_map)  \n",
    "    \n",
    "delhi_map"
   ]
  },
  {
   "cell_type": "markdown",
   "metadata": {},
   "source": [
    "## Explore Borough New Delhi and South Delhi "
   ]
  },
  {
   "cell_type": "code",
   "execution_count": 11,
   "metadata": {},
   "outputs": [
    {
     "data": {
      "text/html": [
       "<div>\n",
       "<style scoped>\n",
       "    .dataframe tbody tr th:only-of-type {\n",
       "        vertical-align: middle;\n",
       "    }\n",
       "\n",
       "    .dataframe tbody tr th {\n",
       "        vertical-align: top;\n",
       "    }\n",
       "\n",
       "    .dataframe thead th {\n",
       "        text-align: right;\n",
       "    }\n",
       "</style>\n",
       "<table border=\"1\" class=\"dataframe\">\n",
       "  <thead>\n",
       "    <tr style=\"text-align: right;\">\n",
       "      <th></th>\n",
       "      <th>Borough</th>\n",
       "      <th>Neighborhood</th>\n",
       "      <th>latitude</th>\n",
       "      <th>longitude</th>\n",
       "    </tr>\n",
       "  </thead>\n",
       "  <tbody>\n",
       "    <tr>\n",
       "      <td>0</td>\n",
       "      <td>New Delhi</td>\n",
       "      <td>Barakhamba Road</td>\n",
       "      <td>28.629142</td>\n",
       "      <td>77.226149</td>\n",
       "    </tr>\n",
       "    <tr>\n",
       "      <td>1</td>\n",
       "      <td>New Delhi</td>\n",
       "      <td>Chanakyapuri</td>\n",
       "      <td>28.594678</td>\n",
       "      <td>77.188521</td>\n",
       "    </tr>\n",
       "    <tr>\n",
       "      <td>2</td>\n",
       "      <td>New Delhi</td>\n",
       "      <td>Connaught Place</td>\n",
       "      <td>28.631383</td>\n",
       "      <td>77.219792</td>\n",
       "    </tr>\n",
       "    <tr>\n",
       "      <td>3</td>\n",
       "      <td>New Delhi</td>\n",
       "      <td>Gautampuri</td>\n",
       "      <td>28.511570</td>\n",
       "      <td>77.302623</td>\n",
       "    </tr>\n",
       "    <tr>\n",
       "      <td>4</td>\n",
       "      <td>New Delhi</td>\n",
       "      <td>Gole Market</td>\n",
       "      <td>28.633719</td>\n",
       "      <td>77.205627</td>\n",
       "    </tr>\n",
       "  </tbody>\n",
       "</table>\n",
       "</div>"
      ],
      "text/plain": [
       "     Borough     Neighborhood   latitude  longitude\n",
       "0  New Delhi  Barakhamba Road  28.629142  77.226149\n",
       "1  New Delhi     Chanakyapuri  28.594678  77.188521\n",
       "2  New Delhi  Connaught Place  28.631383  77.219792\n",
       "3  New Delhi       Gautampuri  28.511570  77.302623\n",
       "4  New Delhi      Gole Market  28.633719  77.205627"
      ]
     },
     "execution_count": 11,
     "metadata": {},
     "output_type": "execute_result"
    }
   ],
   "source": [
    "# creating a subset with only New Delhi Borough\n",
    "delhi = dneigh[dneigh['Borough'] == 'New Delhi'].reset_index(drop=True)\n",
    "delhi.head()"
   ]
  },
  {
   "cell_type": "code",
   "execution_count": 12,
   "metadata": {},
   "outputs": [
    {
     "data": {
      "text/plain": [
       "(9, 4)"
      ]
     },
     "execution_count": 12,
     "metadata": {},
     "output_type": "execute_result"
    }
   ],
   "source": [
    "delhi.shape"
   ]
  },
  {
   "cell_type": "code",
   "execution_count": 13,
   "metadata": {},
   "outputs": [
    {
     "data": {
      "text/html": [
       "<div>\n",
       "<style scoped>\n",
       "    .dataframe tbody tr th:only-of-type {\n",
       "        vertical-align: middle;\n",
       "    }\n",
       "\n",
       "    .dataframe tbody tr th {\n",
       "        vertical-align: top;\n",
       "    }\n",
       "\n",
       "    .dataframe thead th {\n",
       "        text-align: right;\n",
       "    }\n",
       "</style>\n",
       "<table border=\"1\" class=\"dataframe\">\n",
       "  <thead>\n",
       "    <tr style=\"text-align: right;\">\n",
       "      <th></th>\n",
       "      <th>Borough</th>\n",
       "      <th>Neighborhood</th>\n",
       "      <th>latitude</th>\n",
       "      <th>longitude</th>\n",
       "    </tr>\n",
       "  </thead>\n",
       "  <tbody>\n",
       "    <tr>\n",
       "      <td>0</td>\n",
       "      <td>South Delhi</td>\n",
       "      <td>Alaknanda</td>\n",
       "      <td>28.529336</td>\n",
       "      <td>77.251632</td>\n",
       "    </tr>\n",
       "    <tr>\n",
       "      <td>1</td>\n",
       "      <td>South Delhi</td>\n",
       "      <td>Chhattarpur</td>\n",
       "      <td>28.507007</td>\n",
       "      <td>77.175417</td>\n",
       "    </tr>\n",
       "    <tr>\n",
       "      <td>2</td>\n",
       "      <td>South Delhi</td>\n",
       "      <td>Chittaranjan Park</td>\n",
       "      <td>28.538752</td>\n",
       "      <td>77.249249</td>\n",
       "    </tr>\n",
       "    <tr>\n",
       "      <td>3</td>\n",
       "      <td>South Delhi</td>\n",
       "      <td>Dayanand Colony</td>\n",
       "      <td>28.562200</td>\n",
       "      <td>77.247613</td>\n",
       "    </tr>\n",
       "    <tr>\n",
       "      <td>4</td>\n",
       "      <td>South Delhi</td>\n",
       "      <td>Defence Colony</td>\n",
       "      <td>28.571791</td>\n",
       "      <td>77.232010</td>\n",
       "    </tr>\n",
       "  </tbody>\n",
       "</table>\n",
       "</div>"
      ],
      "text/plain": [
       "       Borough       Neighborhood   latitude  longitude\n",
       "0  South Delhi          Alaknanda  28.529336  77.251632\n",
       "1  South Delhi        Chhattarpur  28.507007  77.175417\n",
       "2  South Delhi  Chittaranjan Park  28.538752  77.249249\n",
       "3  South Delhi    Dayanand Colony  28.562200  77.247613\n",
       "4  South Delhi     Defence Colony  28.571791  77.232010"
      ]
     },
     "execution_count": 13,
     "metadata": {},
     "output_type": "execute_result"
    }
   ],
   "source": [
    "# creating a subset with only South Delhi Borough\n",
    "southDelhi = dneigh[dneigh['Borough'] == 'South Delhi'].reset_index(drop=True)\n",
    "southDelhi.head()"
   ]
  },
  {
   "cell_type": "code",
   "execution_count": 14,
   "metadata": {},
   "outputs": [
    {
     "data": {
      "text/plain": [
       "(54, 4)"
      ]
     },
     "execution_count": 14,
     "metadata": {},
     "output_type": "execute_result"
    }
   ],
   "source": [
    "# appending southDelhi dataframe to delhi dataframe\n",
    "delhi = delhi.append(southDelhi, ignore_index = True)\n",
    "delhi.shape"
   ]
  },
  {
   "cell_type": "code",
   "execution_count": 15,
   "metadata": {},
   "outputs": [
    {
     "data": {
      "text/html": [
       "<div>\n",
       "<style scoped>\n",
       "    .dataframe tbody tr th:only-of-type {\n",
       "        vertical-align: middle;\n",
       "    }\n",
       "\n",
       "    .dataframe tbody tr th {\n",
       "        vertical-align: top;\n",
       "    }\n",
       "\n",
       "    .dataframe thead th {\n",
       "        text-align: right;\n",
       "    }\n",
       "</style>\n",
       "<table border=\"1\" class=\"dataframe\">\n",
       "  <thead>\n",
       "    <tr style=\"text-align: right;\">\n",
       "      <th></th>\n",
       "      <th>Borough</th>\n",
       "      <th>Neighborhood</th>\n",
       "      <th>latitude</th>\n",
       "      <th>longitude</th>\n",
       "    </tr>\n",
       "  </thead>\n",
       "  <tbody>\n",
       "    <tr>\n",
       "      <td>0</td>\n",
       "      <td>New Delhi</td>\n",
       "      <td>Barakhamba Road</td>\n",
       "      <td>28.629142</td>\n",
       "      <td>77.226149</td>\n",
       "    </tr>\n",
       "    <tr>\n",
       "      <td>1</td>\n",
       "      <td>New Delhi</td>\n",
       "      <td>Chanakyapuri</td>\n",
       "      <td>28.594678</td>\n",
       "      <td>77.188521</td>\n",
       "    </tr>\n",
       "    <tr>\n",
       "      <td>2</td>\n",
       "      <td>New Delhi</td>\n",
       "      <td>Connaught Place</td>\n",
       "      <td>28.631383</td>\n",
       "      <td>77.219792</td>\n",
       "    </tr>\n",
       "    <tr>\n",
       "      <td>3</td>\n",
       "      <td>New Delhi</td>\n",
       "      <td>Gautampuri</td>\n",
       "      <td>28.511570</td>\n",
       "      <td>77.302623</td>\n",
       "    </tr>\n",
       "    <tr>\n",
       "      <td>4</td>\n",
       "      <td>New Delhi</td>\n",
       "      <td>Gole Market</td>\n",
       "      <td>28.633719</td>\n",
       "      <td>77.205627</td>\n",
       "    </tr>\n",
       "    <tr>\n",
       "      <td>5</td>\n",
       "      <td>New Delhi</td>\n",
       "      <td>Golf Links</td>\n",
       "      <td>28.595970</td>\n",
       "      <td>77.231163</td>\n",
       "    </tr>\n",
       "    <tr>\n",
       "      <td>6</td>\n",
       "      <td>New Delhi</td>\n",
       "      <td>INA Colony</td>\n",
       "      <td>28.579472</td>\n",
       "      <td>77.212451</td>\n",
       "    </tr>\n",
       "  </tbody>\n",
       "</table>\n",
       "</div>"
      ],
      "text/plain": [
       "     Borough     Neighborhood   latitude  longitude\n",
       "0  New Delhi  Barakhamba Road  28.629142  77.226149\n",
       "1  New Delhi     Chanakyapuri  28.594678  77.188521\n",
       "2  New Delhi  Connaught Place  28.631383  77.219792\n",
       "3  New Delhi       Gautampuri  28.511570  77.302623\n",
       "4  New Delhi      Gole Market  28.633719  77.205627\n",
       "5  New Delhi       Golf Links  28.595970  77.231163\n",
       "6  New Delhi       INA Colony  28.579472  77.212451"
      ]
     },
     "execution_count": 15,
     "metadata": {},
     "output_type": "execute_result"
    }
   ],
   "source": [
    "delhi.head(7)"
   ]
  },
  {
   "cell_type": "code",
   "execution_count": 16,
   "metadata": {},
   "outputs": [
    {
     "data": {
      "text/html": [
       "<div style=\"width:100%;\"><div style=\"position:relative;width:100%;height:0;padding-bottom:60%;\"><iframe src=\"about:blank\" style=\"position:absolute;width:100%;height:100%;left:0;top:0;border:none !important;\" data-html=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 onload=\"this.contentDocument.open();this.contentDocument.write(atob(this.getAttribute('data-html')));this.contentDocument.close();\" allowfullscreen webkitallowfullscreen mozallowfullscreen></iframe></div></div>"
      ],
      "text/plain": [
       "<folium.folium.Map at 0x1b70efae808>"
      ]
     },
     "execution_count": 16,
     "metadata": {},
     "output_type": "execute_result"
    }
   ],
   "source": [
    "# create map of New Delhi and South Delhi using latitude and longitude values\n",
    "delhi_borough = folium.Map(location=[latitude, longitude], zoom_start=10)\n",
    "\n",
    "# add markers to map\n",
    "for lat, lng, borough, neighborhood in zip(delhi['latitude'], delhi['longitude'], delhi['Borough'], delhi['Neighborhood']):\n",
    "    label = '{}, {}'.format(neighborhood, borough)\n",
    "    label = folium.Popup(label, parse_html=True)\n",
    "    folium.CircleMarker(\n",
    "        [lat, lng],\n",
    "        radius=5,\n",
    "        popup=label,\n",
    "        color='blue',\n",
    "        fill=True,\n",
    "        fill_color='#3186cc',\n",
    "        fill_opacity=0.7,\n",
    "        parse_html=False).add_to(delhi_borough)  \n",
    "    \n",
    "delhi_borough"
   ]
  },
  {
   "cell_type": "markdown",
   "metadata": {},
   "source": [
    "## Using FourSquare to get Restaurants list based on price range i.e 1,2,3,4 \n",
    "#### 1 being least expensive and 4 being very expensive"
   ]
  },
  {
   "cell_type": "code",
   "execution_count": 17,
   "metadata": {},
   "outputs": [
    {
     "name": "stdout",
     "output_type": "stream",
     "text": [
      "Your credentails:\n",
      "CLIENT_ID: 32R31NFZEJX05XSVG15ARLETKBKEMJG3LH4KNAD1ZBQL405Z\n",
      "CLIENT_SECRET:NAJI0UF1UPOCQUDYC3MF0SBIAY3ELS4APRLRMBBMNEUONAV4\n"
     ]
    }
   ],
   "source": [
    "CLIENT_ID = '32R31NFZEJX05XSVG15ARLETKBKEMJG3LH4KNAD1ZBQL405Z'\n",
    "CLIENT_SECRET = 'NAJI0UF1UPOCQUDYC3MF0SBIAY3ELS4APRLRMBBMNEUONAV4'\n",
    "VERSION = '20180605' \n",
    "\n",
    "print('Your credentails:')\n",
    "print('CLIENT_ID: ' + CLIENT_ID)\n",
    "print('CLIENT_SECRET:' + CLIENT_SECRET)"
   ]
  },
  {
   "cell_type": "code",
   "execution_count": 18,
   "metadata": {},
   "outputs": [
    {
     "name": "stdout",
     "output_type": "stream",
     "text": [
      "Latitude and longitude values of Barakhamba Road are 28.6291417, 77.22614890000001.\n"
     ]
    }
   ],
   "source": [
    "# get neighborhood's coordinates\n",
    "neighborhood_latitude = delhi.loc[0, 'latitude'] \n",
    "neighborhood_longitude = delhi.loc[0, 'longitude'] \n",
    "\n",
    "neighborhood_name = delhi.loc[0, 'Neighborhood'] \n",
    "\n",
    "print('Latitude and longitude values of {} are {}, {}.'.format(neighborhood_name, \n",
    "                                                               neighborhood_latitude, \n",
    "                                                               neighborhood_longitude))"
   ]
  },
  {
   "cell_type": "code",
   "execution_count": 19,
   "metadata": {},
   "outputs": [
    {
     "data": {
      "text/plain": [
       "'https://api.foursquare.com/v2/venues/explore?&client_id=32R31NFZEJX05XSVG15ARLETKBKEMJG3LH4KNAD1ZBQL405Z&client_secret=NAJI0UF1UPOCQUDYC3MF0SBIAY3ELS4APRLRMBBMNEUONAV4&v=20180605&ll=28.6291417,77.22614890000001&radius=100&limit=50'"
      ]
     },
     "execution_count": 19,
     "metadata": {},
     "output_type": "execute_result"
    }
   ],
   "source": [
    "# Fetch venues using explore endpoint\n",
    "LIMIT = 50\n",
    "radius = 100\n",
    "# create URL\n",
    "url = 'https://api.foursquare.com/v2/venues/explore?&client_id={}&client_secret={}&v={}&ll={},{}&radius={}&limit={}'.format(\n",
    "    CLIENT_ID, \n",
    "    CLIENT_SECRET, \n",
    "    VERSION, \n",
    "    neighborhood_latitude, \n",
    "    neighborhood_longitude, \n",
    "    radius, \n",
    "    LIMIT)\n",
    "url "
   ]
  },
  {
   "cell_type": "code",
   "execution_count": 20,
   "metadata": {},
   "outputs": [
    {
     "data": {
      "text/plain": [
       "{'meta': {'code': 200, 'requestId': '5eaa19e5216785001b8a39e6'},\n",
       " 'response': {'warning': {'text': \"There aren't a lot of results near you. Try something more general, reset your filters, or expand the search area.\"},\n",
       "  'headerLocation': 'N.D. Charge 1',\n",
       "  'headerFullLocation': 'N.D. Charge 1, Delhi',\n",
       "  'headerLocationGranularity': 'neighborhood',\n",
       "  'totalResults': 2,\n",
       "  'suggestedBounds': {'ne': {'lat': 28.6300417009, 'lng': 77.227172347854},\n",
       "   'sw': {'lat': 28.628241699100002, 'lng': 77.22512545214603}},\n",
       "  'groups': [{'type': 'Recommended Places',\n",
       "    'name': 'recommended',\n",
       "    'items': [{'reasons': {'count': 0,\n",
       "       'items': [{'summary': 'This spot is popular',\n",
       "         'type': 'general',\n",
       "         'reasonName': 'globalInteractionReason'}]},\n",
       "      'venue': {'id': '4bc8f2c5762beee1a7bb3d38',\n",
       "       'name': 'Hans Hotel New Delhi',\n",
       "       'location': {'address': '15 Barakhamba Road',\n",
       "        'lat': 28.628377699752495,\n",
       "        'lng': 77.22585594873043,\n",
       "        'labeledLatLngs': [{'label': 'display',\n",
       "          'lat': 28.628377699752495,\n",
       "          'lng': 77.22585594873043}],\n",
       "        'distance': 89,\n",
       "        'cc': 'IN',\n",
       "        'city': 'New Delhi',\n",
       "        'state': 'Delhi',\n",
       "        'country': 'India',\n",
       "        'formattedAddress': ['15 Barakhamba Road',\n",
       "         'New Delhi',\n",
       "         'Delhi',\n",
       "         'India']},\n",
       "       'categories': [{'id': '4bf58dd8d48988d1fa931735',\n",
       "         'name': 'Hotel',\n",
       "         'pluralName': 'Hotels',\n",
       "         'shortName': 'Hotel',\n",
       "         'icon': {'prefix': 'https://ss3.4sqi.net/img/categories_v2/travel/hotel_',\n",
       "          'suffix': '.png'},\n",
       "         'primary': True}],\n",
       "       'photos': {'count': 0, 'groups': []}},\n",
       "      'referralId': 'e-0-4bc8f2c5762beee1a7bb3d38-0'},\n",
       "     {'reasons': {'count': 0,\n",
       "       'items': [{'summary': 'This spot is popular',\n",
       "         'type': 'general',\n",
       "         'reasonName': 'globalInteractionReason'}]},\n",
       "      'venue': {'id': '4ecccbc9e5fa85e5eca863e6',\n",
       "       'name': 'India Coffee House',\n",
       "       'location': {'lat': 28.629262642261203,\n",
       "        'lng': 77.22663074474096,\n",
       "        'labeledLatLngs': [{'label': 'display',\n",
       "          'lat': 28.629262642261203,\n",
       "          'lng': 77.22663074474096}],\n",
       "        'distance': 48,\n",
       "        'cc': 'IN',\n",
       "        'country': 'India',\n",
       "        'formattedAddress': ['India']},\n",
       "       'categories': [{'id': '4bf58dd8d48988d16d941735',\n",
       "         'name': 'Café',\n",
       "         'pluralName': 'Cafés',\n",
       "         'shortName': 'Café',\n",
       "         'icon': {'prefix': 'https://ss3.4sqi.net/img/categories_v2/food/cafe_',\n",
       "          'suffix': '.png'},\n",
       "         'primary': True}],\n",
       "       'photos': {'count': 0, 'groups': []}},\n",
       "      'referralId': 'e-0-4ecccbc9e5fa85e5eca863e6-1'}]}]}}"
      ]
     },
     "execution_count": 20,
     "metadata": {},
     "output_type": "execute_result"
    }
   ],
   "source": [
    "# display the results of the above call in json format\n",
    "results = requests.get(url).json()\n",
    "results"
   ]
  },
  {
   "cell_type": "code",
   "execution_count": 21,
   "metadata": {},
   "outputs": [],
   "source": [
    "# function that extracts the category of the venue\n",
    "def get_category_type(row):\n",
    "    try:\n",
    "        categories_list = row['categories']\n",
    "    except:\n",
    "        categories_list = row['venue.categories']\n",
    "        \n",
    "    if len(categories_list) == 0:\n",
    "        return None\n",
    "    else:\n",
    "        return categories_list[0]['name']"
   ]
  },
  {
   "cell_type": "code",
   "execution_count": 22,
   "metadata": {},
   "outputs": [
    {
     "data": {
      "text/html": [
       "<div>\n",
       "<style scoped>\n",
       "    .dataframe tbody tr th:only-of-type {\n",
       "        vertical-align: middle;\n",
       "    }\n",
       "\n",
       "    .dataframe tbody tr th {\n",
       "        vertical-align: top;\n",
       "    }\n",
       "\n",
       "    .dataframe thead th {\n",
       "        text-align: right;\n",
       "    }\n",
       "</style>\n",
       "<table border=\"1\" class=\"dataframe\">\n",
       "  <thead>\n",
       "    <tr style=\"text-align: right;\">\n",
       "      <th></th>\n",
       "      <th>name</th>\n",
       "      <th>categories</th>\n",
       "      <th>lat</th>\n",
       "      <th>lng</th>\n",
       "      <th>id</th>\n",
       "    </tr>\n",
       "  </thead>\n",
       "  <tbody>\n",
       "    <tr>\n",
       "      <td>0</td>\n",
       "      <td>Hans Hotel New Delhi</td>\n",
       "      <td>Hotel</td>\n",
       "      <td>28.628378</td>\n",
       "      <td>77.225856</td>\n",
       "      <td>4bc8f2c5762beee1a7bb3d38</td>\n",
       "    </tr>\n",
       "    <tr>\n",
       "      <td>1</td>\n",
       "      <td>India Coffee House</td>\n",
       "      <td>Café</td>\n",
       "      <td>28.629263</td>\n",
       "      <td>77.226631</td>\n",
       "      <td>4ecccbc9e5fa85e5eca863e6</td>\n",
       "    </tr>\n",
       "  </tbody>\n",
       "</table>\n",
       "</div>"
      ],
      "text/plain": [
       "                   name categories        lat        lng  \\\n",
       "0  Hans Hotel New Delhi      Hotel  28.628378  77.225856   \n",
       "1    India Coffee House       Café  28.629263  77.226631   \n",
       "\n",
       "                         id  \n",
       "0  4bc8f2c5762beee1a7bb3d38  \n",
       "1  4ecccbc9e5fa85e5eca863e6  "
      ]
     },
     "execution_count": 22,
     "metadata": {},
     "output_type": "execute_result"
    }
   ],
   "source": [
    "# printing json data into a dataframe\n",
    "venues = results['response']['groups'][0]['items']\n",
    "    \n",
    "nearby_venues = json_normalize(venues) \n",
    "\n",
    "# filter columns\n",
    "filtered_columns = ['venue.name', 'venue.categories', 'venue.location.lat', 'venue.location.lng','venue.id']\n",
    "nearby_venues =nearby_venues.loc[:, filtered_columns]\n",
    "\n",
    "# filter the category for each row\n",
    "nearby_venues['venue.categories'] = nearby_venues.apply(get_category_type, axis=1)\n",
    "\n",
    "# clean columns\n",
    "nearby_venues.columns = [col.split(\".\")[-1] for col in nearby_venues.columns]\n",
    "\n",
    "nearby_venues.head()"
   ]
  },
  {
   "cell_type": "code",
   "execution_count": 23,
   "metadata": {},
   "outputs": [],
   "source": [
    "# get venues for all locations in New Delhi and South Delhi\n",
    "def getVenues(names, latitudes, longitudes, radius=500):\n",
    "    \n",
    "    venues_list=[]\n",
    "    for name, lat, lng in zip(names, latitudes, longitudes):\n",
    "        print(name)\n",
    "            \n",
    "        # create the API request URL\n",
    "        url = 'https://api.foursquare.com/v2/venues/explore?&client_id={}&client_secret={}&v={}&ll={},{}&radius={}&limit={}'.format(\n",
    "            CLIENT_ID, \n",
    "            CLIENT_SECRET, \n",
    "            VERSION, \n",
    "            lat, \n",
    "            lng, \n",
    "            radius, \n",
    "            LIMIT)\n",
    "            \n",
    "        # make the GET request\n",
    "        results = requests.get(url).json()[\"response\"]['groups'][0]['items']\n",
    "        \n",
    "        # return only relevant information for each nearby venue\n",
    "        venues_list.append([(\n",
    "            name, \n",
    "            lat, \n",
    "            lng, \n",
    "            v['venue']['name'], \n",
    "            v['venue']['location']['lat'], \n",
    "            v['venue']['location']['lng'],\n",
    "            v['venue']['id'],\n",
    "            v['venue']['categories'][0]['name']) for v in results])\n",
    "\n",
    "    allvenues = pd.DataFrame([item for venue_list in venues_list for item in venue_list])\n",
    "    allvenues.columns = ['Neighborhood', \n",
    "                  'Neighborhood Latitude', \n",
    "                  'Neighborhood Longitude', \n",
    "                  'Venue', \n",
    "                  'Venue Latitude', \n",
    "                  'Venue Longitude',\n",
    "                  'Venue ID',\n",
    "                  'Venue Category']\n",
    "    \n",
    "    return(allvenues)"
   ]
  },
  {
   "cell_type": "code",
   "execution_count": 24,
   "metadata": {},
   "outputs": [
    {
     "name": "stdout",
     "output_type": "stream",
     "text": [
      "Barakhamba Road\n",
      "Chanakyapuri\n",
      "Connaught Place\n",
      "Gautampuri\n",
      "Gole Market\n",
      "Golf Links\n",
      "INA Colony\n",
      "Khan Market\n",
      "Pragati Maidan\n",
      "Alaknanda\n",
      "Chhattarpur\n",
      "Chittaranjan Park\n",
      "Dayanand Colony\n",
      "Defence Colony\n",
      "East of Kailash\n",
      "Friends Colony\n",
      "Govindpuri\n",
      "Greater Kailash\n",
      "Green Park\n",
      "Gulmohar Park\n",
      "Hauz Khas\n",
      "Hauz Khas Village\n",
      "Jaitpur\n",
      "Jangpura\n",
      "Jasola\n",
      "Jor Bagh\n",
      "Kailash Colony\n",
      "Kalkaji\n",
      "Khanpur\n",
      "Khirki Village\n",
      "Lajpat Nagar\n",
      "Lodi Colony\n",
      "Maharani Bagh\n",
      "Malviya Nagar\n",
      "Mehrauli\n",
      "Neeti Bagh\n",
      "Nehru Place\n",
      "Netaji Nagar\n",
      "New Friends Colony\n",
      "Nizamuddin West\n",
      "Okhla\n",
      "Safdarjung Enclave\n",
      "Sainik Farm\n",
      "Saket\n",
      "Sangam Vihar\n",
      "Sarita Vihar\n",
      "Sarojini Nagar\n",
      "Sarvodaya Enclave\n",
      "Shahpur Jat\n",
      "Siri Fort\n",
      "South Extension\n",
      "Sriniwaspuri\n",
      "Tughlaqabad\n",
      "Badarpur\n"
     ]
    }
   ],
   "source": [
    "delhiVenues = getVenues(delhi['Neighborhood'], delhi['latitude'], delhi['longitude'])"
   ]
  },
  {
   "cell_type": "code",
   "execution_count": 25,
   "metadata": {},
   "outputs": [
    {
     "data": {
      "text/plain": [
       "(539, 8)"
      ]
     },
     "execution_count": 25,
     "metadata": {},
     "output_type": "execute_result"
    }
   ],
   "source": [
    "delhiVenues.shape"
   ]
  },
  {
   "cell_type": "code",
   "execution_count": 26,
   "metadata": {},
   "outputs": [
    {
     "data": {
      "text/html": [
       "<div>\n",
       "<style scoped>\n",
       "    .dataframe tbody tr th:only-of-type {\n",
       "        vertical-align: middle;\n",
       "    }\n",
       "\n",
       "    .dataframe tbody tr th {\n",
       "        vertical-align: top;\n",
       "    }\n",
       "\n",
       "    .dataframe thead th {\n",
       "        text-align: right;\n",
       "    }\n",
       "</style>\n",
       "<table border=\"1\" class=\"dataframe\">\n",
       "  <thead>\n",
       "    <tr style=\"text-align: right;\">\n",
       "      <th></th>\n",
       "      <th>Neighborhood</th>\n",
       "      <th>Neighborhood Latitude</th>\n",
       "      <th>Neighborhood Longitude</th>\n",
       "      <th>Venue</th>\n",
       "      <th>Venue Latitude</th>\n",
       "      <th>Venue Longitude</th>\n",
       "      <th>Venue ID</th>\n",
       "      <th>Venue Category</th>\n",
       "    </tr>\n",
       "  </thead>\n",
       "  <tbody>\n",
       "    <tr>\n",
       "      <td>0</td>\n",
       "      <td>Barakhamba Road</td>\n",
       "      <td>28.629142</td>\n",
       "      <td>77.226149</td>\n",
       "      <td>The Lalit Hotel</td>\n",
       "      <td>28.631110</td>\n",
       "      <td>77.227450</td>\n",
       "      <td>4bb46ce087aa95219724add1</td>\n",
       "      <td>Hotel</td>\n",
       "    </tr>\n",
       "    <tr>\n",
       "      <td>1</td>\n",
       "      <td>Barakhamba Road</td>\n",
       "      <td>28.629142</td>\n",
       "      <td>77.226149</td>\n",
       "      <td>Tamasha</td>\n",
       "      <td>28.629663</td>\n",
       "      <td>77.221835</td>\n",
       "      <td>56c6e01ccd10173283f8534e</td>\n",
       "      <td>Gastropub</td>\n",
       "    </tr>\n",
       "    <tr>\n",
       "      <td>2</td>\n",
       "      <td>Barakhamba Road</td>\n",
       "      <td>28.629142</td>\n",
       "      <td>77.226149</td>\n",
       "      <td>Ugrasen ki Baoli (Agrasen ki Baoli)</td>\n",
       "      <td>28.625820</td>\n",
       "      <td>77.224955</td>\n",
       "      <td>4e070cdad22d658532a39289</td>\n",
       "      <td>Historic Site</td>\n",
       "    </tr>\n",
       "    <tr>\n",
       "      <td>3</td>\n",
       "      <td>Barakhamba Road</td>\n",
       "      <td>28.629142</td>\n",
       "      <td>77.226149</td>\n",
       "      <td>Chew</td>\n",
       "      <td>28.632002</td>\n",
       "      <td>77.222706</td>\n",
       "      <td>52e226ef498e7591ee3213db</td>\n",
       "      <td>Asian Restaurant</td>\n",
       "    </tr>\n",
       "    <tr>\n",
       "      <td>4</td>\n",
       "      <td>Barakhamba Road</td>\n",
       "      <td>28.629142</td>\n",
       "      <td>77.226149</td>\n",
       "      <td>Cha Bar | चा बार</td>\n",
       "      <td>28.630920</td>\n",
       "      <td>77.222194</td>\n",
       "      <td>51690773e4b09433491d990e</td>\n",
       "      <td>Tea Room</td>\n",
       "    </tr>\n",
       "  </tbody>\n",
       "</table>\n",
       "</div>"
      ],
      "text/plain": [
       "      Neighborhood  Neighborhood Latitude  Neighborhood Longitude  \\\n",
       "0  Barakhamba Road              28.629142               77.226149   \n",
       "1  Barakhamba Road              28.629142               77.226149   \n",
       "2  Barakhamba Road              28.629142               77.226149   \n",
       "3  Barakhamba Road              28.629142               77.226149   \n",
       "4  Barakhamba Road              28.629142               77.226149   \n",
       "\n",
       "                                 Venue  Venue Latitude  Venue Longitude  \\\n",
       "0                      The Lalit Hotel       28.631110        77.227450   \n",
       "1                              Tamasha       28.629663        77.221835   \n",
       "2  Ugrasen ki Baoli (Agrasen ki Baoli)       28.625820        77.224955   \n",
       "3                                 Chew       28.632002        77.222706   \n",
       "4                     Cha Bar | चा बार       28.630920        77.222194   \n",
       "\n",
       "                   Venue ID    Venue Category  \n",
       "0  4bb46ce087aa95219724add1             Hotel  \n",
       "1  56c6e01ccd10173283f8534e         Gastropub  \n",
       "2  4e070cdad22d658532a39289     Historic Site  \n",
       "3  52e226ef498e7591ee3213db  Asian Restaurant  \n",
       "4  51690773e4b09433491d990e          Tea Room  "
      ]
     },
     "execution_count": 26,
     "metadata": {},
     "output_type": "execute_result"
    }
   ],
   "source": [
    "delhiVenues.head()"
   ]
  },
  {
   "cell_type": "code",
   "execution_count": 27,
   "metadata": {},
   "outputs": [
    {
     "data": {
      "text/plain": [
       "array(['Hotel', 'Gastropub', 'Historic Site', 'Asian Restaurant',\n",
       "       'Tea Room', 'Salon / Barbershop', 'Hotel Bar',\n",
       "       'Performing Arts Venue', 'Trail', 'Plaza', 'Indian Restaurant',\n",
       "       'Clothing Store', 'Bistro', 'Molecular Gastronomy Restaurant',\n",
       "       'Coffee Shop', 'Bakery', 'Food Truck', 'Café', 'Lounge',\n",
       "       'North Indian Restaurant', 'South Indian Restaurant',\n",
       "       'Ice Cream Shop', 'Deli / Bodega', 'BBQ Joint',\n",
       "       'Portuguese Restaurant', 'Chinese Restaurant', 'Donut Shop',\n",
       "       'Beer Garden', 'Bar', 'Pub', 'Italian Restaurant',\n",
       "       'Food & Drink Shop', 'Flea Market', 'Fast Food Restaurant',\n",
       "       'Snack Place', 'Japanese Restaurant', 'Fabric Shop', 'Theater',\n",
       "       'Golf Course', 'Spa', 'Antique Shop', 'Park', 'Art Gallery',\n",
       "       'Airport', 'Light Rail Station', 'Market', 'Irani Cafe',\n",
       "       'French Restaurant', 'Bookstore', 'Furniture / Home Store',\n",
       "       'Mediterranean Restaurant', 'Boutique', 'Restaurant',\n",
       "       'Mexican Restaurant', 'Food', 'Dessert Shop', 'Sandwich Place',\n",
       "       'Eastern European Restaurant', 'New American Restaurant',\n",
       "       'Steakhouse', 'Pizza Place', 'Middle Eastern Restaurant',\n",
       "       'Public Art', 'Metro Station', 'Indie Movie Theater',\n",
       "       'Burger Joint', 'Hot Dog Joint', 'Department Store',\n",
       "       'Bed & Breakfast', 'Nightclub', 'Dim Sum Restaurant',\n",
       "       'Korean Restaurant', 'Athletics & Sports', 'Music Venue',\n",
       "       'Tibetan Restaurant', 'American Restaurant', 'Tapas Restaurant',\n",
       "       'Scandinavian Restaurant', 'Turkish Restaurant', 'Bagel Shop',\n",
       "       \"Women's Store\", 'Soccer Stadium', 'Soccer Field',\n",
       "       'Gym / Fitness Center', 'Shopping Mall', 'Thai Restaurant',\n",
       "       'Multiplex', 'Comfort Food Restaurant', 'Burmese Restaurant',\n",
       "       'Toy / Game Store', 'Cosmetics Shop', 'Diner', 'Food Court',\n",
       "       'History Museum', 'Event Space', 'Neighborhood', 'Gym',\n",
       "       'Sculpture Garden', 'Miscellaneous Shop', 'Bengali Restaurant',\n",
       "       'Frozen Yogurt Shop', 'Arcade', 'Modern European Restaurant',\n",
       "       'Mughlai Restaurant', 'Awadhi Restaurant', 'Playground',\n",
       "       'Concert Hall', 'Tex-Mex Restaurant', 'ATM', 'Stadium',\n",
       "       'Australian Restaurant', 'Wine Bar', 'Castle', 'Train Station'],\n",
       "      dtype=object)"
      ]
     },
     "execution_count": 27,
     "metadata": {},
     "output_type": "execute_result"
    }
   ],
   "source": [
    "# get all unique category values \n",
    "delhiVenues['Venue Category'].unique()"
   ]
  },
  {
   "cell_type": "code",
   "execution_count": 28,
   "metadata": {},
   "outputs": [],
   "source": [
    "# delete rows with categories not of our interest\n",
    "value = ['Hotel','Bar','Historic Site','Miscellaneous Shop','Clothing Store','Sculpture Garden','Arcade','Salon / Barbershop',\n",
    "        'Airport','Castle','ATM','Train Station','Light Rail Station','Hotel Bar','Performing Arts Venue','Trail',\n",
    "        'Bus Station','Market','Plaza','Golf Course','Neighborhood','Motorcycle Shop','Event Space','Playground',\n",
    "        'Public Art','Hospital','Clinic','Business Service',\"Women's Store\",'Stadium','Bridal Shop',\n",
    "        'Frozen Yogurt Shop', 'Electronics Store', 'Candy Store',\n",
    "        'History Museum', 'IT Services','Toy / Game Store', 'Cosmetics Shop', 'Diner', 'Food Court',\n",
    "        'Soccer Stadium', 'Soccer Field', 'Gym / Fitness Center','Shopping Mall','Athletics & Sports', 'Music Venue',\n",
    "        'Gym','Rock Club','Hot Dog Joint', 'Department Store', 'Bed & Breakfast','Nightclub',\n",
    "        'Bowling Alley','Indie Movie Theater','Metro Station','Boutique','Bookstore', 'Furniture / Home Store',\n",
    "        'Theater', 'Antique Shop','Park','Art Gallery', 'Fabric Shop','Flea Market','Lounge',]\n",
    "def dropColumns(value,df):\n",
    "    for i in value:\n",
    "        indexNames = df[ delhiVenues['Venue Category'] == i].index\n",
    "        df.drop(indexNames , inplace=True)\n",
    "    return df"
   ]
  },
  {
   "cell_type": "code",
   "execution_count": 29,
   "metadata": {},
   "outputs": [
    {
     "data": {
      "text/html": [
       "<div>\n",
       "<style scoped>\n",
       "    .dataframe tbody tr th:only-of-type {\n",
       "        vertical-align: middle;\n",
       "    }\n",
       "\n",
       "    .dataframe tbody tr th {\n",
       "        vertical-align: top;\n",
       "    }\n",
       "\n",
       "    .dataframe thead th {\n",
       "        text-align: right;\n",
       "    }\n",
       "</style>\n",
       "<table border=\"1\" class=\"dataframe\">\n",
       "  <thead>\n",
       "    <tr style=\"text-align: right;\">\n",
       "      <th></th>\n",
       "      <th>Neighborhood</th>\n",
       "      <th>Neighborhood Latitude</th>\n",
       "      <th>Neighborhood Longitude</th>\n",
       "      <th>Venue</th>\n",
       "      <th>Venue Latitude</th>\n",
       "      <th>Venue Longitude</th>\n",
       "      <th>Venue ID</th>\n",
       "      <th>Venue Category</th>\n",
       "    </tr>\n",
       "  </thead>\n",
       "  <tbody>\n",
       "    <tr>\n",
       "      <td>1</td>\n",
       "      <td>Barakhamba Road</td>\n",
       "      <td>28.629142</td>\n",
       "      <td>77.226149</td>\n",
       "      <td>Tamasha</td>\n",
       "      <td>28.629663</td>\n",
       "      <td>77.221835</td>\n",
       "      <td>56c6e01ccd10173283f8534e</td>\n",
       "      <td>Gastropub</td>\n",
       "    </tr>\n",
       "    <tr>\n",
       "      <td>3</td>\n",
       "      <td>Barakhamba Road</td>\n",
       "      <td>28.629142</td>\n",
       "      <td>77.226149</td>\n",
       "      <td>Chew</td>\n",
       "      <td>28.632002</td>\n",
       "      <td>77.222706</td>\n",
       "      <td>52e226ef498e7591ee3213db</td>\n",
       "      <td>Asian Restaurant</td>\n",
       "    </tr>\n",
       "    <tr>\n",
       "      <td>4</td>\n",
       "      <td>Barakhamba Road</td>\n",
       "      <td>28.629142</td>\n",
       "      <td>77.226149</td>\n",
       "      <td>Cha Bar | चा बार</td>\n",
       "      <td>28.630920</td>\n",
       "      <td>77.222194</td>\n",
       "      <td>51690773e4b09433491d990e</td>\n",
       "      <td>Tea Room</td>\n",
       "    </tr>\n",
       "    <tr>\n",
       "      <td>10</td>\n",
       "      <td>Connaught Place</td>\n",
       "      <td>28.631383</td>\n",
       "      <td>77.219792</td>\n",
       "      <td>Rajdhani Thali</td>\n",
       "      <td>28.629999</td>\n",
       "      <td>77.220401</td>\n",
       "      <td>4cbb2592dd41a35df95eeca0</td>\n",
       "      <td>Indian Restaurant</td>\n",
       "    </tr>\n",
       "    <tr>\n",
       "      <td>12</td>\n",
       "      <td>Connaught Place</td>\n",
       "      <td>28.631383</td>\n",
       "      <td>77.219792</td>\n",
       "      <td>Johnny Rockets</td>\n",
       "      <td>28.630457</td>\n",
       "      <td>77.219594</td>\n",
       "      <td>571a5505498ef32d7975392f</td>\n",
       "      <td>Bistro</td>\n",
       "    </tr>\n",
       "    <tr>\n",
       "      <td>...</td>\n",
       "      <td>...</td>\n",
       "      <td>...</td>\n",
       "      <td>...</td>\n",
       "      <td>...</td>\n",
       "      <td>...</td>\n",
       "      <td>...</td>\n",
       "      <td>...</td>\n",
       "      <td>...</td>\n",
       "    </tr>\n",
       "    <tr>\n",
       "      <td>528</td>\n",
       "      <td>South Extension</td>\n",
       "      <td>28.568566</td>\n",
       "      <td>77.220568</td>\n",
       "      <td>Bengali Sweets</td>\n",
       "      <td>28.569538</td>\n",
       "      <td>77.220940</td>\n",
       "      <td>4b9646a6f964a5208cc334e3</td>\n",
       "      <td>Indian Restaurant</td>\n",
       "    </tr>\n",
       "    <tr>\n",
       "      <td>529</td>\n",
       "      <td>South Extension</td>\n",
       "      <td>28.568566</td>\n",
       "      <td>77.220568</td>\n",
       "      <td>McDonald's</td>\n",
       "      <td>28.568451</td>\n",
       "      <td>77.219503</td>\n",
       "      <td>4bed2b00bac3c9b677e0fde9</td>\n",
       "      <td>Fast Food Restaurant</td>\n",
       "    </tr>\n",
       "    <tr>\n",
       "      <td>530</td>\n",
       "      <td>South Extension</td>\n",
       "      <td>28.568566</td>\n",
       "      <td>77.220568</td>\n",
       "      <td>Pind Balluchi</td>\n",
       "      <td>28.569525</td>\n",
       "      <td>77.224301</td>\n",
       "      <td>4c9a40ba78fc236a28f53397</td>\n",
       "      <td>Food Truck</td>\n",
       "    </tr>\n",
       "    <tr>\n",
       "      <td>532</td>\n",
       "      <td>Sriniwaspuri</td>\n",
       "      <td>28.565220</td>\n",
       "      <td>77.254704</td>\n",
       "      <td>AIESEC Delhi IIT Office</td>\n",
       "      <td>28.562111</td>\n",
       "      <td>77.251912</td>\n",
       "      <td>4dbfe4d91e72dd48b1fb6de3</td>\n",
       "      <td>Wine Bar</td>\n",
       "    </tr>\n",
       "    <tr>\n",
       "      <td>533</td>\n",
       "      <td>Sriniwaspuri</td>\n",
       "      <td>28.565220</td>\n",
       "      <td>77.254704</td>\n",
       "      <td>Ravi Bajaj Café</td>\n",
       "      <td>28.561066</td>\n",
       "      <td>77.255532</td>\n",
       "      <td>4d32d86ec6cba35d7651257a</td>\n",
       "      <td>Café</td>\n",
       "    </tr>\n",
       "  </tbody>\n",
       "</table>\n",
       "<p>351 rows × 8 columns</p>\n",
       "</div>"
      ],
      "text/plain": [
       "        Neighborhood  Neighborhood Latitude  Neighborhood Longitude  \\\n",
       "1    Barakhamba Road              28.629142               77.226149   \n",
       "3    Barakhamba Road              28.629142               77.226149   \n",
       "4    Barakhamba Road              28.629142               77.226149   \n",
       "10   Connaught Place              28.631383               77.219792   \n",
       "12   Connaught Place              28.631383               77.219792   \n",
       "..               ...                    ...                     ...   \n",
       "528  South Extension              28.568566               77.220568   \n",
       "529  South Extension              28.568566               77.220568   \n",
       "530  South Extension              28.568566               77.220568   \n",
       "532     Sriniwaspuri              28.565220               77.254704   \n",
       "533     Sriniwaspuri              28.565220               77.254704   \n",
       "\n",
       "                       Venue  Venue Latitude  Venue Longitude  \\\n",
       "1                    Tamasha       28.629663        77.221835   \n",
       "3                       Chew       28.632002        77.222706   \n",
       "4           Cha Bar | चा बार       28.630920        77.222194   \n",
       "10            Rajdhani Thali       28.629999        77.220401   \n",
       "12            Johnny Rockets       28.630457        77.219594   \n",
       "..                       ...             ...              ...   \n",
       "528           Bengali Sweets       28.569538        77.220940   \n",
       "529               McDonald's       28.568451        77.219503   \n",
       "530            Pind Balluchi       28.569525        77.224301   \n",
       "532  AIESEC Delhi IIT Office       28.562111        77.251912   \n",
       "533          Ravi Bajaj Café       28.561066        77.255532   \n",
       "\n",
       "                     Venue ID        Venue Category  \n",
       "1    56c6e01ccd10173283f8534e             Gastropub  \n",
       "3    52e226ef498e7591ee3213db      Asian Restaurant  \n",
       "4    51690773e4b09433491d990e              Tea Room  \n",
       "10   4cbb2592dd41a35df95eeca0     Indian Restaurant  \n",
       "12   571a5505498ef32d7975392f                Bistro  \n",
       "..                        ...                   ...  \n",
       "528  4b9646a6f964a5208cc334e3     Indian Restaurant  \n",
       "529  4bed2b00bac3c9b677e0fde9  Fast Food Restaurant  \n",
       "530  4c9a40ba78fc236a28f53397            Food Truck  \n",
       "532  4dbfe4d91e72dd48b1fb6de3              Wine Bar  \n",
       "533  4d32d86ec6cba35d7651257a                  Café  \n",
       "\n",
       "[351 rows x 8 columns]"
      ]
     },
     "execution_count": 29,
     "metadata": {},
     "output_type": "execute_result"
    }
   ],
   "source": [
    "dropColumns(value,delhiVenues)"
   ]
  },
  {
   "cell_type": "code",
   "execution_count": 30,
   "metadata": {},
   "outputs": [
    {
     "data": {
      "text/plain": [
       "(351, 8)"
      ]
     },
     "execution_count": 30,
     "metadata": {},
     "output_type": "execute_result"
    }
   ],
   "source": [
    "delhiVenues.shape"
   ]
  },
  {
   "cell_type": "code",
   "execution_count": 31,
   "metadata": {},
   "outputs": [
    {
     "data": {
      "text/html": [
       "<div>\n",
       "<style scoped>\n",
       "    .dataframe tbody tr th:only-of-type {\n",
       "        vertical-align: middle;\n",
       "    }\n",
       "\n",
       "    .dataframe tbody tr th {\n",
       "        vertical-align: top;\n",
       "    }\n",
       "\n",
       "    .dataframe thead th {\n",
       "        text-align: right;\n",
       "    }\n",
       "</style>\n",
       "<table border=\"1\" class=\"dataframe\">\n",
       "  <thead>\n",
       "    <tr style=\"text-align: right;\">\n",
       "      <th></th>\n",
       "      <th>index</th>\n",
       "      <th>Neighborhood</th>\n",
       "      <th>Neighborhood Latitude</th>\n",
       "      <th>Neighborhood Longitude</th>\n",
       "      <th>Venue</th>\n",
       "      <th>Venue Latitude</th>\n",
       "      <th>Venue Longitude</th>\n",
       "      <th>Venue ID</th>\n",
       "      <th>Venue Category</th>\n",
       "    </tr>\n",
       "  </thead>\n",
       "  <tbody>\n",
       "    <tr>\n",
       "      <td>0</td>\n",
       "      <td>1</td>\n",
       "      <td>Barakhamba Road</td>\n",
       "      <td>28.629142</td>\n",
       "      <td>77.226149</td>\n",
       "      <td>Tamasha</td>\n",
       "      <td>28.629663</td>\n",
       "      <td>77.221835</td>\n",
       "      <td>56c6e01ccd10173283f8534e</td>\n",
       "      <td>Gastropub</td>\n",
       "    </tr>\n",
       "    <tr>\n",
       "      <td>1</td>\n",
       "      <td>3</td>\n",
       "      <td>Barakhamba Road</td>\n",
       "      <td>28.629142</td>\n",
       "      <td>77.226149</td>\n",
       "      <td>Chew</td>\n",
       "      <td>28.632002</td>\n",
       "      <td>77.222706</td>\n",
       "      <td>52e226ef498e7591ee3213db</td>\n",
       "      <td>Asian Restaurant</td>\n",
       "    </tr>\n",
       "    <tr>\n",
       "      <td>2</td>\n",
       "      <td>4</td>\n",
       "      <td>Barakhamba Road</td>\n",
       "      <td>28.629142</td>\n",
       "      <td>77.226149</td>\n",
       "      <td>Cha Bar | चा बार</td>\n",
       "      <td>28.630920</td>\n",
       "      <td>77.222194</td>\n",
       "      <td>51690773e4b09433491d990e</td>\n",
       "      <td>Tea Room</td>\n",
       "    </tr>\n",
       "    <tr>\n",
       "      <td>3</td>\n",
       "      <td>10</td>\n",
       "      <td>Connaught Place</td>\n",
       "      <td>28.631383</td>\n",
       "      <td>77.219792</td>\n",
       "      <td>Rajdhani Thali</td>\n",
       "      <td>28.629999</td>\n",
       "      <td>77.220401</td>\n",
       "      <td>4cbb2592dd41a35df95eeca0</td>\n",
       "      <td>Indian Restaurant</td>\n",
       "    </tr>\n",
       "    <tr>\n",
       "      <td>4</td>\n",
       "      <td>12</td>\n",
       "      <td>Connaught Place</td>\n",
       "      <td>28.631383</td>\n",
       "      <td>77.219792</td>\n",
       "      <td>Johnny Rockets</td>\n",
       "      <td>28.630457</td>\n",
       "      <td>77.219594</td>\n",
       "      <td>571a5505498ef32d7975392f</td>\n",
       "      <td>Bistro</td>\n",
       "    </tr>\n",
       "    <tr>\n",
       "      <td>...</td>\n",
       "      <td>...</td>\n",
       "      <td>...</td>\n",
       "      <td>...</td>\n",
       "      <td>...</td>\n",
       "      <td>...</td>\n",
       "      <td>...</td>\n",
       "      <td>...</td>\n",
       "      <td>...</td>\n",
       "      <td>...</td>\n",
       "    </tr>\n",
       "    <tr>\n",
       "      <td>346</td>\n",
       "      <td>528</td>\n",
       "      <td>South Extension</td>\n",
       "      <td>28.568566</td>\n",
       "      <td>77.220568</td>\n",
       "      <td>Bengali Sweets</td>\n",
       "      <td>28.569538</td>\n",
       "      <td>77.220940</td>\n",
       "      <td>4b9646a6f964a5208cc334e3</td>\n",
       "      <td>Indian Restaurant</td>\n",
       "    </tr>\n",
       "    <tr>\n",
       "      <td>347</td>\n",
       "      <td>529</td>\n",
       "      <td>South Extension</td>\n",
       "      <td>28.568566</td>\n",
       "      <td>77.220568</td>\n",
       "      <td>McDonald's</td>\n",
       "      <td>28.568451</td>\n",
       "      <td>77.219503</td>\n",
       "      <td>4bed2b00bac3c9b677e0fde9</td>\n",
       "      <td>Fast Food Restaurant</td>\n",
       "    </tr>\n",
       "    <tr>\n",
       "      <td>348</td>\n",
       "      <td>530</td>\n",
       "      <td>South Extension</td>\n",
       "      <td>28.568566</td>\n",
       "      <td>77.220568</td>\n",
       "      <td>Pind Balluchi</td>\n",
       "      <td>28.569525</td>\n",
       "      <td>77.224301</td>\n",
       "      <td>4c9a40ba78fc236a28f53397</td>\n",
       "      <td>Food Truck</td>\n",
       "    </tr>\n",
       "    <tr>\n",
       "      <td>349</td>\n",
       "      <td>532</td>\n",
       "      <td>Sriniwaspuri</td>\n",
       "      <td>28.565220</td>\n",
       "      <td>77.254704</td>\n",
       "      <td>AIESEC Delhi IIT Office</td>\n",
       "      <td>28.562111</td>\n",
       "      <td>77.251912</td>\n",
       "      <td>4dbfe4d91e72dd48b1fb6de3</td>\n",
       "      <td>Wine Bar</td>\n",
       "    </tr>\n",
       "    <tr>\n",
       "      <td>350</td>\n",
       "      <td>533</td>\n",
       "      <td>Sriniwaspuri</td>\n",
       "      <td>28.565220</td>\n",
       "      <td>77.254704</td>\n",
       "      <td>Ravi Bajaj Café</td>\n",
       "      <td>28.561066</td>\n",
       "      <td>77.255532</td>\n",
       "      <td>4d32d86ec6cba35d7651257a</td>\n",
       "      <td>Café</td>\n",
       "    </tr>\n",
       "  </tbody>\n",
       "</table>\n",
       "<p>351 rows × 9 columns</p>\n",
       "</div>"
      ],
      "text/plain": [
       "     index     Neighborhood  Neighborhood Latitude  Neighborhood Longitude  \\\n",
       "0        1  Barakhamba Road              28.629142               77.226149   \n",
       "1        3  Barakhamba Road              28.629142               77.226149   \n",
       "2        4  Barakhamba Road              28.629142               77.226149   \n",
       "3       10  Connaught Place              28.631383               77.219792   \n",
       "4       12  Connaught Place              28.631383               77.219792   \n",
       "..     ...              ...                    ...                     ...   \n",
       "346    528  South Extension              28.568566               77.220568   \n",
       "347    529  South Extension              28.568566               77.220568   \n",
       "348    530  South Extension              28.568566               77.220568   \n",
       "349    532     Sriniwaspuri              28.565220               77.254704   \n",
       "350    533     Sriniwaspuri              28.565220               77.254704   \n",
       "\n",
       "                       Venue  Venue Latitude  Venue Longitude  \\\n",
       "0                    Tamasha       28.629663        77.221835   \n",
       "1                       Chew       28.632002        77.222706   \n",
       "2           Cha Bar | चा बार       28.630920        77.222194   \n",
       "3             Rajdhani Thali       28.629999        77.220401   \n",
       "4             Johnny Rockets       28.630457        77.219594   \n",
       "..                       ...             ...              ...   \n",
       "346           Bengali Sweets       28.569538        77.220940   \n",
       "347               McDonald's       28.568451        77.219503   \n",
       "348            Pind Balluchi       28.569525        77.224301   \n",
       "349  AIESEC Delhi IIT Office       28.562111        77.251912   \n",
       "350          Ravi Bajaj Café       28.561066        77.255532   \n",
       "\n",
       "                     Venue ID        Venue Category  \n",
       "0    56c6e01ccd10173283f8534e             Gastropub  \n",
       "1    52e226ef498e7591ee3213db      Asian Restaurant  \n",
       "2    51690773e4b09433491d990e              Tea Room  \n",
       "3    4cbb2592dd41a35df95eeca0     Indian Restaurant  \n",
       "4    571a5505498ef32d7975392f                Bistro  \n",
       "..                        ...                   ...  \n",
       "346  4b9646a6f964a5208cc334e3     Indian Restaurant  \n",
       "347  4bed2b00bac3c9b677e0fde9  Fast Food Restaurant  \n",
       "348  4c9a40ba78fc236a28f53397            Food Truck  \n",
       "349  4dbfe4d91e72dd48b1fb6de3              Wine Bar  \n",
       "350  4d32d86ec6cba35d7651257a                  Café  \n",
       "\n",
       "[351 rows x 9 columns]"
      ]
     },
     "execution_count": 31,
     "metadata": {},
     "output_type": "execute_result"
    }
   ],
   "source": [
    "delhiVenues.reset_index()"
   ]
  },
  {
   "cell_type": "markdown",
   "metadata": {},
   "source": [
    "### Fetch likes for venues in Borough New Delhi and South Delhi"
   ]
  },
  {
   "cell_type": "code",
   "execution_count": 32,
   "metadata": {},
   "outputs": [],
   "source": [
    "# dictionary storing likes count based on the venue ID\n",
    "likes = {'Venue ID': [], 'Likes Count':[]}"
   ]
  },
  {
   "cell_type": "code",
   "execution_count": 33,
   "metadata": {},
   "outputs": [],
   "source": [
    "# function reads the json output and fetches relevant values i.e. likes count and append it to dictionary\n",
    "def getLikes(data):\n",
    "    results = requests.get(url).json()[\"response\"]\n",
    "    count = results['likes']['count']\n",
    "    likes['Likes Count'].append(count)\n",
    "    return likes"
   ]
  },
  {
   "cell_type": "code",
   "execution_count": 34,
   "metadata": {},
   "outputs": [],
   "source": [
    "# make GET request to likes endpoint\n",
    "for venue_id in delhiVenues['Venue ID']:\n",
    "        url = 'https://api.foursquare.com/v2/venues/{}/likes?&client_id={}&client_secret={}&v={}'.format(\n",
    "        venue_id,\n",
    "        CLIENT_ID, \n",
    "        CLIENT_SECRET, \n",
    "        VERSION\n",
    "        )\n",
    "        getLikes(likes)\n",
    "        likes['Venue ID'].append(venue_id)"
   ]
  },
  {
   "cell_type": "code",
   "execution_count": 35,
   "metadata": {},
   "outputs": [],
   "source": [
    "likesDf = pd.DataFrame()\n",
    "likesDf['Venue ID'] = likes['Venue ID']\n",
    "likesDf['Likes Count'] = likes['Likes Count']"
   ]
  },
  {
   "cell_type": "code",
   "execution_count": 36,
   "metadata": {},
   "outputs": [
    {
     "data": {
      "text/plain": [
       "(351, 2)"
      ]
     },
     "execution_count": 36,
     "metadata": {},
     "output_type": "execute_result"
    }
   ],
   "source": [
    "likesDf.shape"
   ]
  },
  {
   "cell_type": "code",
   "execution_count": 37,
   "metadata": {},
   "outputs": [],
   "source": [
    "# join likesDf to delhiVenues on Venue ID\n",
    "newDf = delhiVenues.join(likesDf.set_index('Venue ID'), on='Venue ID')"
   ]
  },
  {
   "cell_type": "code",
   "execution_count": 38,
   "metadata": {},
   "outputs": [],
   "source": [
    "newDf.dropna(inplace = True)"
   ]
  },
  {
   "cell_type": "code",
   "execution_count": 39,
   "metadata": {},
   "outputs": [
    {
     "data": {
      "text/plain": [
       "(383, 9)"
      ]
     },
     "execution_count": 39,
     "metadata": {},
     "output_type": "execute_result"
    }
   ],
   "source": [
    "newDf.shape"
   ]
  },
  {
   "cell_type": "code",
   "execution_count": 40,
   "metadata": {},
   "outputs": [
    {
     "data": {
      "text/plain": [
       "array([ 20,  26,  74,  25,   8,  28, 374, 174,   6,  14,  48,  99,  22,\n",
       "        29,  30,  53,  89,   7,  56, 106,  31,  71, 178,  38,  10,  97,\n",
       "         3,  12,  15,   5,   0,   2,   1, 251,  39,  27, 121,   9,  23,\n",
       "        55,  37,  32,  16,  11,   4,  34,  18,  13,  42,  92,  72,  33,\n",
       "        24, 170, 197,  46, 109, 285,  44, 124,  19, 107,  35,  52,  61],\n",
       "      dtype=int64)"
      ]
     },
     "execution_count": 40,
     "metadata": {},
     "output_type": "execute_result"
    }
   ],
   "source": [
    "newDf['Likes Count'].unique()"
   ]
  },
  {
   "cell_type": "code",
   "execution_count": 41,
   "metadata": {},
   "outputs": [
    {
     "data": {
      "text/html": [
       "<div>\n",
       "<style scoped>\n",
       "    .dataframe tbody tr th:only-of-type {\n",
       "        vertical-align: middle;\n",
       "    }\n",
       "\n",
       "    .dataframe tbody tr th {\n",
       "        vertical-align: top;\n",
       "    }\n",
       "\n",
       "    .dataframe thead th {\n",
       "        text-align: right;\n",
       "    }\n",
       "</style>\n",
       "<table border=\"1\" class=\"dataframe\">\n",
       "  <thead>\n",
       "    <tr style=\"text-align: right;\">\n",
       "      <th></th>\n",
       "      <th>Neighborhood</th>\n",
       "      <th>Neighborhood Latitude</th>\n",
       "      <th>Neighborhood Longitude</th>\n",
       "      <th>Venue</th>\n",
       "      <th>Venue Latitude</th>\n",
       "      <th>Venue Longitude</th>\n",
       "      <th>Venue ID</th>\n",
       "      <th>Venue Category</th>\n",
       "      <th>Likes Count</th>\n",
       "    </tr>\n",
       "  </thead>\n",
       "  <tbody>\n",
       "    <tr>\n",
       "      <td>1</td>\n",
       "      <td>Barakhamba Road</td>\n",
       "      <td>28.629142</td>\n",
       "      <td>77.226149</td>\n",
       "      <td>Tamasha</td>\n",
       "      <td>28.629663</td>\n",
       "      <td>77.221835</td>\n",
       "      <td>56c6e01ccd10173283f8534e</td>\n",
       "      <td>Gastropub</td>\n",
       "      <td>20</td>\n",
       "    </tr>\n",
       "    <tr>\n",
       "      <td>1</td>\n",
       "      <td>Barakhamba Road</td>\n",
       "      <td>28.629142</td>\n",
       "      <td>77.226149</td>\n",
       "      <td>Tamasha</td>\n",
       "      <td>28.629663</td>\n",
       "      <td>77.221835</td>\n",
       "      <td>56c6e01ccd10173283f8534e</td>\n",
       "      <td>Gastropub</td>\n",
       "      <td>20</td>\n",
       "    </tr>\n",
       "    <tr>\n",
       "      <td>3</td>\n",
       "      <td>Barakhamba Road</td>\n",
       "      <td>28.629142</td>\n",
       "      <td>77.226149</td>\n",
       "      <td>Chew</td>\n",
       "      <td>28.632002</td>\n",
       "      <td>77.222706</td>\n",
       "      <td>52e226ef498e7591ee3213db</td>\n",
       "      <td>Asian Restaurant</td>\n",
       "      <td>26</td>\n",
       "    </tr>\n",
       "    <tr>\n",
       "      <td>3</td>\n",
       "      <td>Barakhamba Road</td>\n",
       "      <td>28.629142</td>\n",
       "      <td>77.226149</td>\n",
       "      <td>Chew</td>\n",
       "      <td>28.632002</td>\n",
       "      <td>77.222706</td>\n",
       "      <td>52e226ef498e7591ee3213db</td>\n",
       "      <td>Asian Restaurant</td>\n",
       "      <td>26</td>\n",
       "    </tr>\n",
       "    <tr>\n",
       "      <td>4</td>\n",
       "      <td>Barakhamba Road</td>\n",
       "      <td>28.629142</td>\n",
       "      <td>77.226149</td>\n",
       "      <td>Cha Bar | चा बार</td>\n",
       "      <td>28.630920</td>\n",
       "      <td>77.222194</td>\n",
       "      <td>51690773e4b09433491d990e</td>\n",
       "      <td>Tea Room</td>\n",
       "      <td>74</td>\n",
       "    </tr>\n",
       "  </tbody>\n",
       "</table>\n",
       "</div>"
      ],
      "text/plain": [
       "      Neighborhood  Neighborhood Latitude  Neighborhood Longitude  \\\n",
       "1  Barakhamba Road              28.629142               77.226149   \n",
       "1  Barakhamba Road              28.629142               77.226149   \n",
       "3  Barakhamba Road              28.629142               77.226149   \n",
       "3  Barakhamba Road              28.629142               77.226149   \n",
       "4  Barakhamba Road              28.629142               77.226149   \n",
       "\n",
       "              Venue  Venue Latitude  Venue Longitude  \\\n",
       "1           Tamasha       28.629663        77.221835   \n",
       "1           Tamasha       28.629663        77.221835   \n",
       "3              Chew       28.632002        77.222706   \n",
       "3              Chew       28.632002        77.222706   \n",
       "4  Cha Bar | चा बार       28.630920        77.222194   \n",
       "\n",
       "                   Venue ID    Venue Category  Likes Count  \n",
       "1  56c6e01ccd10173283f8534e         Gastropub           20  \n",
       "1  56c6e01ccd10173283f8534e         Gastropub           20  \n",
       "3  52e226ef498e7591ee3213db  Asian Restaurant           26  \n",
       "3  52e226ef498e7591ee3213db  Asian Restaurant           26  \n",
       "4  51690773e4b09433491d990e          Tea Room           74  "
      ]
     },
     "execution_count": 41,
     "metadata": {},
     "output_type": "execute_result"
    }
   ],
   "source": [
    "newDf.head()"
   ]
  },
  {
   "cell_type": "code",
   "execution_count": 42,
   "metadata": {},
   "outputs": [
    {
     "data": {
      "text/html": [
       "<div>\n",
       "<style scoped>\n",
       "    .dataframe tbody tr th:only-of-type {\n",
       "        vertical-align: middle;\n",
       "    }\n",
       "\n",
       "    .dataframe tbody tr th {\n",
       "        vertical-align: top;\n",
       "    }\n",
       "\n",
       "    .dataframe thead th {\n",
       "        text-align: right;\n",
       "    }\n",
       "</style>\n",
       "<table border=\"1\" class=\"dataframe\">\n",
       "  <thead>\n",
       "    <tr style=\"text-align: right;\">\n",
       "      <th></th>\n",
       "      <th>Neighborhood</th>\n",
       "      <th>Neighborhood Latitude</th>\n",
       "      <th>Neighborhood Longitude</th>\n",
       "      <th>Venue Latitude</th>\n",
       "      <th>Venue Longitude</th>\n",
       "      <th>Likes Count</th>\n",
       "    </tr>\n",
       "  </thead>\n",
       "  <tbody>\n",
       "    <tr>\n",
       "      <td>0</td>\n",
       "      <td>Alaknanda</td>\n",
       "      <td>28.529336</td>\n",
       "      <td>77.251632</td>\n",
       "      <td>28.528475</td>\n",
       "      <td>77.249834</td>\n",
       "      <td>2.181818</td>\n",
       "    </tr>\n",
       "    <tr>\n",
       "      <td>1</td>\n",
       "      <td>Barakhamba Road</td>\n",
       "      <td>28.629142</td>\n",
       "      <td>77.226149</td>\n",
       "      <td>28.630862</td>\n",
       "      <td>77.222245</td>\n",
       "      <td>40.000000</td>\n",
       "    </tr>\n",
       "    <tr>\n",
       "      <td>2</td>\n",
       "      <td>Chhattarpur</td>\n",
       "      <td>28.507007</td>\n",
       "      <td>77.175417</td>\n",
       "      <td>28.506753</td>\n",
       "      <td>77.175013</td>\n",
       "      <td>0.500000</td>\n",
       "    </tr>\n",
       "    <tr>\n",
       "      <td>3</td>\n",
       "      <td>Chittaranjan Park</td>\n",
       "      <td>28.538752</td>\n",
       "      <td>77.249249</td>\n",
       "      <td>28.540817</td>\n",
       "      <td>77.249825</td>\n",
       "      <td>1.500000</td>\n",
       "    </tr>\n",
       "    <tr>\n",
       "      <td>4</td>\n",
       "      <td>Connaught Place</td>\n",
       "      <td>28.631383</td>\n",
       "      <td>77.219792</td>\n",
       "      <td>28.631872</td>\n",
       "      <td>77.219801</td>\n",
       "      <td>49.880952</td>\n",
       "    </tr>\n",
       "  </tbody>\n",
       "</table>\n",
       "</div>"
      ],
      "text/plain": [
       "        Neighborhood  Neighborhood Latitude  Neighborhood Longitude  \\\n",
       "0          Alaknanda              28.529336               77.251632   \n",
       "1    Barakhamba Road              28.629142               77.226149   \n",
       "2        Chhattarpur              28.507007               77.175417   \n",
       "3  Chittaranjan Park              28.538752               77.249249   \n",
       "4    Connaught Place              28.631383               77.219792   \n",
       "\n",
       "   Venue Latitude  Venue Longitude  Likes Count  \n",
       "0       28.528475        77.249834     2.181818  \n",
       "1       28.630862        77.222245    40.000000  \n",
       "2       28.506753        77.175013     0.500000  \n",
       "3       28.540817        77.249825     1.500000  \n",
       "4       28.631872        77.219801    49.880952  "
      ]
     },
     "execution_count": 42,
     "metadata": {},
     "output_type": "execute_result"
    }
   ],
   "source": [
    "# group on Neighborhood\n",
    "delhi_grouped = newDf.groupby('Neighborhood').mean().reset_index()\n",
    "delhi_grouped.head()"
   ]
  },
  {
   "cell_type": "markdown",
   "metadata": {},
   "source": [
    "## Clustering"
   ]
  },
  {
   "cell_type": "code",
   "execution_count": 43,
   "metadata": {},
   "outputs": [],
   "source": [
    "# drop columns other than likes column\n",
    "clusterDf = delhi_grouped.drop(columns = ['Neighborhood','Neighborhood Latitude','Neighborhood Longitude','Venue Latitude'\n",
    "                                         ,'Venue Longitude'], axis = 1)"
   ]
  },
  {
   "cell_type": "code",
   "execution_count": 44,
   "metadata": {},
   "outputs": [
    {
     "data": {
      "text/plain": [
       "(41, 1)"
      ]
     },
     "execution_count": 44,
     "metadata": {},
     "output_type": "execute_result"
    }
   ],
   "source": [
    "clusterDf.shape"
   ]
  },
  {
   "cell_type": "code",
   "execution_count": 45,
   "metadata": {},
   "outputs": [
    {
     "name": "stdout",
     "output_type": "stream",
     "text": [
      "1 2 3 4 5 6 7 8 9 "
     ]
    }
   ],
   "source": [
    "# Use elbow technique to get apt number of clusters\n",
    "sum_of_squared_distances = []\n",
    "K = range(1,10)\n",
    "for k in K:\n",
    "    print(k, end=' ')\n",
    "    kmeans = KMeans(n_clusters=k).fit(clusterDf)\n",
    "    sum_of_squared_distances.append(kmeans.inertia_)"
   ]
  },
  {
   "cell_type": "code",
   "execution_count": 46,
   "metadata": {},
   "outputs": [
    {
     "data": {
      "image/png": "[encoded data removed]",
      "text/plain": [
       "<Figure size 432x288 with 1 Axes>"
      ]
     },
     "metadata": {
      "needs_background": "light"
     },
     "output_type": "display_data"
    }
   ],
   "source": [
    "plt.plot(K, sum_of_squared_distances, 'bx-')\n",
    "plt.xlabel('k')\n",
    "plt.ylabel('sum_of_squared_distances')\n",
    "plt.title('Elbow Method For Optimal k');"
   ]
  },
  {
   "cell_type": "markdown",
   "metadata": {},
   "source": [
    "#### From the above graph, k = 3 is ideal number of cluster"
   ]
  },
  {
   "cell_type": "code",
   "execution_count": 47,
   "metadata": {},
   "outputs": [],
   "source": [
    "# fit on the dataset with 3 clusters\n",
    "kmeans = KMeans(n_clusters=3, random_state = 0).fit(clusterDf)"
   ]
  },
  {
   "cell_type": "code",
   "execution_count": 48,
   "metadata": {},
   "outputs": [
    {
     "data": {
      "text/plain": [
       "array([0, 1, 0, 0, 1, 0, 0, 0, 0, 0])"
      ]
     },
     "execution_count": 48,
     "metadata": {},
     "output_type": "execute_result"
    }
   ],
   "source": [
    "kmeans.labels_[0:10]"
   ]
  },
  {
   "cell_type": "code",
   "execution_count": 49,
   "metadata": {},
   "outputs": [],
   "source": [
    "# append cluster column to delhi_grouped \n",
    "delhi_grouped.insert(0,'Cluster',kmeans.labels_)"
   ]
  },
  {
   "cell_type": "code",
   "execution_count": 50,
   "metadata": {},
   "outputs": [
    {
     "data": {
      "text/html": [
       "<div>\n",
       "<style scoped>\n",
       "    .dataframe tbody tr th:only-of-type {\n",
       "        vertical-align: middle;\n",
       "    }\n",
       "\n",
       "    .dataframe tbody tr th {\n",
       "        vertical-align: top;\n",
       "    }\n",
       "\n",
       "    .dataframe thead th {\n",
       "        text-align: right;\n",
       "    }\n",
       "</style>\n",
       "<table border=\"1\" class=\"dataframe\">\n",
       "  <thead>\n",
       "    <tr style=\"text-align: right;\">\n",
       "      <th></th>\n",
       "      <th>Cluster</th>\n",
       "      <th>Neighborhood</th>\n",
       "      <th>Neighborhood Latitude</th>\n",
       "      <th>Neighborhood Longitude</th>\n",
       "      <th>Venue Latitude</th>\n",
       "      <th>Venue Longitude</th>\n",
       "      <th>Likes Count</th>\n",
       "    </tr>\n",
       "  </thead>\n",
       "  <tbody>\n",
       "    <tr>\n",
       "      <td>0</td>\n",
       "      <td>0</td>\n",
       "      <td>Alaknanda</td>\n",
       "      <td>28.529336</td>\n",
       "      <td>77.251632</td>\n",
       "      <td>28.528475</td>\n",
       "      <td>77.249834</td>\n",
       "      <td>2.181818</td>\n",
       "    </tr>\n",
       "    <tr>\n",
       "      <td>1</td>\n",
       "      <td>1</td>\n",
       "      <td>Barakhamba Road</td>\n",
       "      <td>28.629142</td>\n",
       "      <td>77.226149</td>\n",
       "      <td>28.630862</td>\n",
       "      <td>77.222245</td>\n",
       "      <td>40.000000</td>\n",
       "    </tr>\n",
       "    <tr>\n",
       "      <td>2</td>\n",
       "      <td>0</td>\n",
       "      <td>Chhattarpur</td>\n",
       "      <td>28.507007</td>\n",
       "      <td>77.175417</td>\n",
       "      <td>28.506753</td>\n",
       "      <td>77.175013</td>\n",
       "      <td>0.500000</td>\n",
       "    </tr>\n",
       "    <tr>\n",
       "      <td>3</td>\n",
       "      <td>0</td>\n",
       "      <td>Chittaranjan Park</td>\n",
       "      <td>28.538752</td>\n",
       "      <td>77.249249</td>\n",
       "      <td>28.540817</td>\n",
       "      <td>77.249825</td>\n",
       "      <td>1.500000</td>\n",
       "    </tr>\n",
       "    <tr>\n",
       "      <td>4</td>\n",
       "      <td>1</td>\n",
       "      <td>Connaught Place</td>\n",
       "      <td>28.631383</td>\n",
       "      <td>77.219792</td>\n",
       "      <td>28.631872</td>\n",
       "      <td>77.219801</td>\n",
       "      <td>49.880952</td>\n",
       "    </tr>\n",
       "  </tbody>\n",
       "</table>\n",
       "</div>"
      ],
      "text/plain": [
       "   Cluster       Neighborhood  Neighborhood Latitude  Neighborhood Longitude  \\\n",
       "0        0          Alaknanda              28.529336               77.251632   \n",
       "1        1    Barakhamba Road              28.629142               77.226149   \n",
       "2        0        Chhattarpur              28.507007               77.175417   \n",
       "3        0  Chittaranjan Park              28.538752               77.249249   \n",
       "4        1    Connaught Place              28.631383               77.219792   \n",
       "\n",
       "   Venue Latitude  Venue Longitude  Likes Count  \n",
       "0       28.528475        77.249834     2.181818  \n",
       "1       28.630862        77.222245    40.000000  \n",
       "2       28.506753        77.175013     0.500000  \n",
       "3       28.540817        77.249825     1.500000  \n",
       "4       28.631872        77.219801    49.880952  "
      ]
     },
     "execution_count": 50,
     "metadata": {},
     "output_type": "execute_result"
    }
   ],
   "source": [
    "delhi_grouped.head()"
   ]
  },
  {
   "cell_type": "code",
   "execution_count": 51,
   "metadata": {},
   "outputs": [
    {
     "data": {
      "text/html": [
       "<div style=\"width:100%;\"><div style=\"position:relative;width:100%;height:0;padding-bottom:60%;\"><iframe src=\"about:blank\" style=\"position:absolute;width:100%;height:100%;left:0;top:0;border:none !important;\" data-html=PCFET0NUWVBFIGh0bWw+CjxoZWFkPiAgICAKICAgIDxtZXRhIGh0dHAtZXF1aXY9ImNvbnRlbnQtdHlwZSIgY29udGVudD0idGV4dC9odG1sOyBjaGFyc2V0PVVURi04IiAvPgogICAgPHNjcmlwdD5MX1BSRUZFUl9DQU5WQVMgPSBmYWxzZTsgTF9OT19UT1VDSCA9IGZhbHNlOyBMX0RJU0FCTEVfM0QgPSBmYWxzZTs8L3NjcmlwdD4KICAgIDxzY3JpcHQgc3JjPSJodHRwczovL2Nkbi5qc2RlbGl2ci5uZXQvbnBtL2xlYWZsZXRAMS4yLjAvZGlzdC9sZWFmbGV0LmpzIj48L3NjcmlwdD4KICAgIDxzY3JpcHQgc3JjPSJodHRwczovL2FqYXguZ29vZ2xlYXBpcy5jb20vYWpheC9saWJzL2pxdWVyeS8xLjExLjEvanF1ZXJ5Lm1pbi5qcyI+PC9zY3JpcHQ+CiAgICA8c2NyaXB0IHNyYz0iaHR0cHM6Ly9tYXhjZG4uYm9vdHN0cmFwY2RuLmNvbS9ib290c3RyYXAvMy4yLjAvanMvYm9vdHN0cmFwLm1pbi5qcyI+PC9zY3JpcHQ+CiAgICA8c2NyaXB0IHNyYz0iaHR0cHM6Ly9jZG5qcy5jbG91ZGZsYXJlLmNvbS9hamF4L2xpYnMvTGVhZmxldC5hd2Vzb21lLW1hcmtlcnMvMi4wLjIvbGVhZmxldC5hd2Vzb21lLW1hcmtlcnMuanMiPjwvc2NyaXB0PgogICAgPGxpbmsgcmVsPSJzdHlsZXNoZWV0IiBocmVmPSJodHRwczovL2Nkbi5qc2RlbGl2ci5uZXQvbnBtL2xlYWZsZXRAMS4yLjAvZGlzdC9sZWFmbGV0LmNzcyIvPgogICAgPGxpbmsgcmVsPSJzdHlsZXNoZWV0IiBocmVmPSJodHRwczovL21heGNkbi5ib290c3RyYXBjZG4uY29tL2Jvb3RzdHJhcC8zLjIuMC9jc3MvYm9vdHN0cmFwLm1pbi5jc3MiLz4KICAgIDxsaW5rIHJlbD0ic3R5bGVzaGVldCIgaHJlZj0iaHR0cHM6Ly9tYXhjZG4uYm9vdHN0cmFwY2RuLmNvbS9ib290c3RyYXAvMy4yLjAvY3NzL2Jvb3RzdHJhcC10aGVtZS5taW4uY3NzIi8+CiAgICA8bGluayByZWw9InN0eWxlc2hlZXQiIGhyZWY9Imh0dHBzOi8vbWF4Y2RuLmJvb3RzdHJhcGNkbi5jb20vZm9udC1hd2Vzb21lLzQuNi4zL2Nzcy9mb250LWF3ZXNvbWUubWluLmNzcyIvPgogICAgPGxpbmsgcmVsPSJzdHlsZXNoZWV0IiBocmVmPSJodHRwczovL2NkbmpzLmNsb3VkZmxhcmUuY29tL2FqYXgvbGlicy9MZWFmbGV0LmF3ZXNvbWUtbWFya2Vycy8yLjAuMi9sZWFmbGV0LmF3ZXNvbWUtbWFya2Vycy5jc3MiLz4KICAgIDxsaW5rIHJlbD0ic3R5bGVzaGVldCIgaHJlZj0iaHR0cHM6Ly9yYXdnaXQuY29tL3B5dGhvbi12aXN1YWxpemF0aW9uL2ZvbGl1bS9tYXN0ZXIvZm9saXVtL3RlbXBsYXRlcy9sZWFmbGV0LmF3ZXNvbWUucm90YXRlLmNzcyIvPgogICAgPHN0eWxlPmh0bWwsIGJvZHkge3dpZHRoOiAxMDAlO2hlaWdodDogMTAwJTttYXJnaW46IDA7cGFkZGluZzogMDt9PC9zdHlsZT4KICAgIDxzdHlsZT4jbWFwIHtwb3NpdGlvbjphYnNvbHV0ZTt0b3A6MDtib3R0b206MDtyaWdodDowO2xlZnQ6MDt9PC9zdHlsZT4KICAgIAogICAgICAgICAgICA8c3R5bGU+ICNtYXBfZjk2MDFlZmY4YjU3NGIxOTkzY2I0ZDU1NmJiNzFkNTYgewogICAgICAgICAgICAgICAgcG9zaXRpb24gOiByZWxhdGl2ZTsKICAgICAgICAgICAgICAgIHdpZHRoIDogMTAwLjAlOwogICAgICAgICAgICAgICAgaGVpZ2h0OiAxMDAuMCU7CiAgICAgICAgICAgICAgICBsZWZ0OiAwLjAlOwogICAgICAgICAgICAgICAgdG9wOiAwLjAlOwogICAgICAgICAgICAgICAgfQogICAgICAgICAgICA8L3N0eWxlPgogICAgICAgIAo8L2hlYWQ+Cjxib2R5PiAgICAKICAgIAogICAgICAgICAgICA8ZGl2IGNsYXNzPSJmb2xpdW0tbWFwIiBpZD0ibWFwX2Y5NjAxZWZmOGI1NzRiMTk5M2NiNGQ1NTZiYjcxZDU2IiA+PC9kaXY+CiAgICAgICAgCjwvYm9keT4KPHNjcmlwdD4gICAgCiAgICAKCiAgICAgICAgICAgIAogICAgICAgICAgICAgICAgdmFyIGJvdW5kcyA9IG51bGw7CiAgICAgICAgICAgIAoKICAgICAgICAgICAgdmFyIG1hcF9mOTYwMWVmZjhiNTc0YjE5OTNjYjRkNTU2YmI3MWQ1NiA9IEwubWFwKAogICAgICAgICAgICAgICAgICAgICAgICAgICAgICAgICAgJ21hcF9mOTYwMWVmZjhiNTc0YjE5OTNjYjRkNTU2YmI3MWQ1NicsCiAgICAgICAgICAgICAgICAgICAgICAgICAgICAgICAgICB7Y2VudGVyOiBbMjguNjE0MTc5Myw3Ny4yMDIyNjYyXSwKICAgICAgICAgICAgICAgICAgICAgICAgICAgICAgICAgIHpvb206IDExLAogICAgICAgICAgICAgICAgICAgICAgICAgICAgICAgICAgbWF4Qm91bmRzOiBib3VuZHMsCiAgICAgICAgICAgICAgICAgICAgICAgICAgICAgICAgICBsYXllcnM6IFtdLAogICAgICAgICAgICAgICAgICAgICAgICAgICAgICAgICAgd29ybGRDb3B5SnVtcDogZmFsc2UsCiAgICAgICAgICAgICAgICAgICAgICAgICAgICAgICAgICBjcnM6IEwuQ1JTLkVQU0czODU3CiAgICAgICAgICAgICAgICAgICAgICAgICAgICAgICAgIH0pOwogICAgICAgICAgICAKICAgICAgICAKICAgIAogICAgICAgICAgICB2YXIgdGlsZV9sYXllcl8wZTM0ZGVkMWU0MDM0MGIxYWZiNzQ3MWM0OGFjY2YwNiA9IEwudGlsZUxheWVyKAogICAgICAgICAgICAgICAgJ2h0dHBzOi8ve3N9LnRpbGUub3BlbnN0cmVldG1hcC5vcmcve3p9L3t4fS97eX0ucG5nJywKICAgICAgICAgICAgICAgIHsKICAiYXR0cmlidXRpb24iOiBudWxsLAogICJkZXRlY3RSZXRpbmEiOiBmYWxzZSwKICAibWF4Wm9vbSI6IDE4LAogICJtaW5ab29tIjogMSwKICAibm9XcmFwIjogZmFsc2UsCiAgInN1YmRvbWFpbnMiOiAiYWJjIgp9CiAgICAgICAgICAgICAgICApLmFkZFRvKG1hcF9mOTYwMWVmZjhiNTc0YjE5OTNjYjRkNTU2YmI3MWQ1Nik7CiAgICAgICAgCiAgICAKICAgICAgICAgICAgdmFyIGNpcmNsZV9tYXJrZXJfNWY2YjgyODFmZDY0NGMwY2I1ZmE1ZGNlZThhY2ZlYzcgPSBMLmNpcmNsZU1hcmtlcigKICAgICAgICAgICAgICAgIFsyOC41MjkzMzY0LDc3LjI1MTYzMjNdLAogICAgICAgICAgICAgICAgewogICJidWJibGluZ01vdXNlRXZlbnRzIjogdHJ1ZSwKICAiY29sb3IiOiAiI2ZmMDAwMCIsCiAgImRhc2hBcnJheSI6IG51bGwsCiAgImRhc2hPZmZzZXQiOiBudWxsLAogICJmaWxsIjogdHJ1ZSwKICAiZmlsbENvbG9yIjogIiNmZjAwMDAiLAogICJmaWxsT3BhY2l0eSI6IDAuNywKICAiZmlsbFJ1bGUiOiAiZXZlbm9kZCIsCiAgImxpbmVDYXAiOiAicm91bmQiLAogICJsaW5lSm9pbiI6ICJyb3VuZCIsCiAgIm9wYWNpdHkiOiAxLjAsCiAgInJhZGl1cyI6IDUsCiAgInN0cm9rZSI6IHRydWUsCiAgIndlaWdodCI6IDMKfQogICAgICAgICAgICAgICAgKS5hZGRUbyhtYXBfZjk2MDFlZmY4YjU3NGIxOTkzY2I0ZDU1NmJiNzFkNTYpOwogICAgICAgICAgICAKICAgIAogICAgICAgICAgICB2YXIgcG9wdXBfNDgxYTQyNmI4NjQxNDZlM2FlOGQwYWYwY2U4Y2QzMzAgPSBMLnBvcHVwKHttYXhXaWR0aDogJzMwMCd9KTsKCiAgICAgICAgICAgIAogICAgICAgICAgICAgICAgdmFyIGh0bWxfNGQ5NTk3OTQ3MDc0NGY1M2E5ZTAxMTNiMzE1ZmM0MjQgPSAkKCc8ZGl2IGlkPSJodG1sXzRkOTU5Nzk0NzA3NDRmNTNhOWUwMTEzYjMxNWZjNDI0IiBzdHlsZT0id2lkdGg6IDEwMC4wJTsgaGVpZ2h0OiAxMDAuMCU7Ij5BbGFrbmFuZGEgQ2x1c3RlciAwPC9kaXY+JylbMF07CiAgICAgICAgICAgICAgICBwb3B1cF80ODFhNDI2Yjg2NDE0NmUzYWU4ZDBhZjBjZThjZDMzMC5zZXRDb250ZW50KGh0bWxfNGQ5NTk3OTQ3MDc0NGY1M2E5ZTAxMTNiMzE1ZmM0MjQpOwogICAgICAgICAgICAKCiAgICAgICAgICAgIGNpcmNsZV9tYXJrZXJfNWY2YjgyODFmZDY0NGMwY2I1ZmE1ZGNlZThhY2ZlYzcuYmluZFBvcHVwKHBvcHVwXzQ4MWE0MjZiODY0MTQ2ZTNhZThkMGFmMGNlOGNkMzMwKTsKCiAgICAgICAgICAgIAogICAgICAgIAogICAgCiAgICAgICAgICAgIHZhciBjaXJjbGVfbWFya2VyXzJlYjAwMjRlNjNiZTQ4OTk5YjZiYTQyMDJlYzg0MDRjID0gTC5jaXJjbGVNYXJrZXIoCiAgICAgICAgICAgICAgICBbMjguNjI5MTQxNyw3Ny4yMjYxNDg5MDAwMDAwMV0sCiAgICAgICAgICAgICAgICB7CiAgImJ1YmJsaW5nTW91c2VFdmVudHMiOiB0cnVlLAogICJjb2xvciI6ICIjODAwMGZmIiwKICAiZGFzaEFycmF5IjogbnVsbCwKICAiZGFzaE9mZnNldCI6IG51bGwsCiAgImZpbGwiOiB0cnVlLAogICJmaWxsQ29sb3IiOiAiIzgwMDBmZiIsCiAgImZpbGxPcGFjaXR5IjogMC43LAogICJmaWxsUnVsZSI6ICJldmVub2RkIiwKICAibGluZUNhcCI6ICJyb3VuZCIsCiAgImxpbmVKb2luIjogInJvdW5kIiwKICAib3BhY2l0eSI6IDEuMCwKICAicmFkaXVzIjogNSwKICAic3Ryb2tlIjogdHJ1ZSwKICAid2VpZ2h0IjogMwp9CiAgICAgICAgICAgICAgICApLmFkZFRvKG1hcF9mOTYwMWVmZjhiNTc0YjE5OTNjYjRkNTU2YmI3MWQ1Nik7CiAgICAgICAgICAgIAogICAgCiAgICAgICAgICAgIHZhciBwb3B1cF85ZGEzNjIxNWVmMDI0OGExOGQ5ODQzNzBkMWViOTI2MiA9IEwucG9wdXAoe21heFdpZHRoOiAnMzAwJ30pOwoKICAgICAgICAgICAgCiAgICAgICAgICAgICAgICB2YXIgaHRtbF9iNDhjODgyNzVjNzg0MzgxYjU3Mjg4YzQ0ZGM1NzAxZiA9ICQoJzxkaXYgaWQ9Imh0bWxfYjQ4Yzg4Mjc1Yzc4NDM4MWI1NzI4OGM0NGRjNTcwMWYiIHN0eWxlPSJ3aWR0aDogMTAwLjAlOyBoZWlnaHQ6IDEwMC4wJTsiPkJhcmFraGFtYmEgUm9hZCBDbHVzdGVyIDE8L2Rpdj4nKVswXTsKICAgICAgICAgICAgICAgIHBvcHVwXzlkYTM2MjE1ZWYwMjQ4YTE4ZDk4NDM3MGQxZWI5MjYyLnNldENvbnRlbnQoaHRtbF9iNDhjODgyNzVjNzg0MzgxYjU3Mjg4YzQ0ZGM1NzAxZik7CiAgICAgICAgICAgIAoKICAgICAgICAgICAgY2lyY2xlX21hcmtlcl8yZWIwMDI0ZTYzYmU0ODk5OWI2YmE0MjAyZWM4NDA0Yy5iaW5kUG9wdXAocG9wdXBfOWRhMzYyMTVlZjAyNDhhMThkOTg0MzcwZDFlYjkyNjIpOwoKICAgICAgICAgICAgCiAgICAgICAgCiAgICAKICAgICAgICAgICAgdmFyIGNpcmNsZV9tYXJrZXJfMWQ4NzE4YTFiYTA5NDQ0OWI1YmU5YmE1NDk3YjQ3NjAgPSBMLmNpcmNsZU1hcmtlcigKICAgICAgICAgICAgICAgIFsyOC41MDcwMDczMDAwMDAwMDUsNzcuMTc1NDE3MV0sCiAgICAgICAgICAgICAgICB7CiAgImJ1YmJsaW5nTW91c2VFdmVudHMiOiB0cnVlLAogICJjb2xvciI6ICIjZmYwMDAwIiwKICAiZGFzaEFycmF5IjogbnVsbCwKICAiZGFzaE9mZnNldCI6IG51bGwsCiAgImZpbGwiOiB0cnVlLAogICJmaWxsQ29sb3IiOiAiI2ZmMDAwMCIsCiAgImZpbGxPcGFjaXR5IjogMC43LAogICJmaWxsUnVsZSI6ICJldmVub2RkIiwKICAibGluZUNhcCI6ICJyb3VuZCIsCiAgImxpbmVKb2luIjogInJvdW5kIiwKICAib3BhY2l0eSI6IDEuMCwKICAicmFkaXVzIjogNSwKICAic3Ryb2tlIjogdHJ1ZSwKICAid2VpZ2h0IjogMwp9CiAgICAgICAgICAgICAgICApLmFkZFRvKG1hcF9mOTYwMWVmZjhiNTc0YjE5OTNjYjRkNTU2YmI3MWQ1Nik7CiAgICAgICAgICAgIAogICAgCiAgICAgICAgICAgIHZhciBwb3B1cF80MTk2NzA4NjYxZDU0ZjZjOGE0YzIwYmIzOTYwY2JmNiA9IEwucG9wdXAoe21heFdpZHRoOiAnMzAwJ30pOwoKICAgICAgICAgICAgCiAgICAgICAgICAgICAgICB2YXIgaHRtbF9jMzMzMjllMDU3ZmY0OTc4YmZlYjJkYjY4YzA0YTE0ZCA9ICQoJzxkaXYgaWQ9Imh0bWxfYzMzMzI5ZTA1N2ZmNDk3OGJmZWIyZGI2OGMwNGExNGQiIHN0eWxlPSJ3aWR0aDogMTAwLjAlOyBoZWlnaHQ6IDEwMC4wJTsiPkNoaGF0dGFycHVyIENsdXN0ZXIgMDwvZGl2PicpWzBdOwogICAgICAgICAgICAgICAgcG9wdXBfNDE5NjcwODY2MWQ1NGY2YzhhNGMyMGJiMzk2MGNiZjYuc2V0Q29udGVudChodG1sX2MzMzMyOWUwNTdmZjQ5NzhiZmViMmRiNjhjMDRhMTRkKTsKICAgICAgICAgICAgCgogICAgICAgICAgICBjaXJjbGVfbWFya2VyXzFkODcxOGExYmEwOTQ0NDliNWJlOWJhNTQ5N2I0NzYwLmJpbmRQb3B1cChwb3B1cF80MTk2NzA4NjYxZDU0ZjZjOGE0YzIwYmIzOTYwY2JmNik7CgogICAgICAgICAgICAKICAgICAgICAKICAgIAogICAgICAgICAgICB2YXIgY2lyY2xlX21hcmtlcl80N2EzODUyNmE0ZDY0YjMyYjAxOTUzZTA2MDQzYTY3OSA9IEwuY2lyY2xlTWFya2VyKAogICAgICAgICAgICAgICAgWzI4LjUzODc1MjMsNzcuMjQ5MjQ5MzQ1MTU1N10sCiAgICAgICAgICAgICAgICB7CiAgImJ1YmJsaW5nTW91c2VFdmVudHMiOiB0cnVlLAogICJjb2xvciI6ICIjZmYwMDAwIiwKICAiZGFzaEFycmF5IjogbnVsbCwKICAiZGFzaE9mZnNldCI6IG51bGwsCiAgImZpbGwiOiB0cnVlLAogICJmaWxsQ29sb3IiOiAiI2ZmMDAwMCIsCiAgImZpbGxPcGFjaXR5IjogMC43LAogICJmaWxsUnVsZSI6ICJldmVub2RkIiwKICAibGluZUNhcCI6ICJyb3VuZCIsCiAgImxpbmVKb2luIjogInJvdW5kIiwKICAib3BhY2l0eSI6IDEuMCwKICAicmFkaXVzIjogNSwKICAic3Ryb2tlIjogdHJ1ZSwKICAid2VpZ2h0IjogMwp9CiAgICAgICAgICAgICAgICApLmFkZFRvKG1hcF9mOTYwMWVmZjhiNTc0YjE5OTNjYjRkNTU2YmI3MWQ1Nik7CiAgICAgICAgICAgIAogICAgCiAgICAgICAgICAgIHZhciBwb3B1cF9hNDU2OTk3ZDAyZGM0YjY1YTA5YzEwYTEzYjAxYTIxMSA9IEwucG9wdXAoe21heFdpZHRoOiAnMzAwJ30pOwoKICAgICAgICAgICAgCiAgICAgICAgICAgICAgICB2YXIgaHRtbF8xYjdjY2Y3M2Y2NDI0ZmEzODhhZDFlZTUzNDYxMzgyMCA9ICQoJzxkaXYgaWQ9Imh0bWxfMWI3Y2NmNzNmNjQyNGZhMzg4YWQxZWU1MzQ2MTM4MjAiIHN0eWxlPSJ3aWR0aDogMTAwLjAlOyBoZWlnaHQ6IDEwMC4wJTsiPkNoaXR0YXJhbmphbiBQYXJrIENsdXN0ZXIgMDwvZGl2PicpWzBdOwogICAgICAgICAgICAgICAgcG9wdXBfYTQ1Njk5N2QwMmRjNGI2NWEwOWMxMGExM2IwMWEyMTEuc2V0Q29udGVudChodG1sXzFiN2NjZjczZjY0MjRmYTM4OGFkMWVlNTM0NjEzODIwKTsKICAgICAgICAgICAgCgogICAgICAgICAgICBjaXJjbGVfbWFya2VyXzQ3YTM4NTI2YTRkNjRiMzJiMDE5NTNlMDYwNDNhNjc5LmJpbmRQb3B1cChwb3B1cF9hNDU2OTk3ZDAyZGM0YjY1YTA5YzEwYTEzYjAxYTIxMSk7CgogICAgICAgICAgICAKICAgICAgICAKICAgIAogICAgICAgICAgICB2YXIgY2lyY2xlX21hcmtlcl83ODZjYmUzMGY5ZTY0ZGQxYTEzNWYyMzcyODg5Yzc5MiA9IEwuY2lyY2xlTWFya2VyKAogICAgICAgICAgICAgICAgWzI4LjYzMTM4MjY5OTk5OTk5Niw3Ny4yMTk3OTI0MDAwMDAwNl0sCiAgICAgICAgICAgICAgICB7CiAgImJ1YmJsaW5nTW91c2VFdmVudHMiOiB0cnVlLAogICJjb2xvciI6ICIjODAwMGZmIiwKICAiZGFzaEFycmF5IjogbnVsbCwKICAiZGFzaE9mZnNldCI6IG51bGwsCiAgImZpbGwiOiB0cnVlLAogICJmaWxsQ29sb3IiOiAiIzgwMDBmZiIsCiAgImZpbGxPcGFjaXR5IjogMC43LAogICJmaWxsUnVsZSI6ICJldmVub2RkIiwKICAibGluZUNhcCI6ICJyb3VuZCIsCiAgImxpbmVKb2luIjogInJvdW5kIiwKICAib3BhY2l0eSI6IDEuMCwKICAicmFkaXVzIjogNSwKICAic3Ryb2tlIjogdHJ1ZSwKICAid2VpZ2h0IjogMwp9CiAgICAgICAgICAgICAgICApLmFkZFRvKG1hcF9mOTYwMWVmZjhiNTc0YjE5OTNjYjRkNTU2YmI3MWQ1Nik7CiAgICAgICAgICAgIAogICAgCiAgICAgICAgICAgIHZhciBwb3B1cF9hZWFmNzBjM2VlZDI0YzVlYThmNjRlZWIzOGI5NDFkMCA9IEwucG9wdXAoe21heFdpZHRoOiAnMzAwJ30pOwoKICAgICAgICAgICAgCiAgICAgICAgICAgICAgICB2YXIgaHRtbF8yOGM5NzA3MzA3ZmM0NGQ5OGNhOTdiZjJlNDc1ZGI0ZiA9ICQoJzxkaXYgaWQ9Imh0bWxfMjhjOTcwNzMwN2ZjNDRkOThjYTk3YmYyZTQ3NWRiNGYiIHN0eWxlPSJ3aWR0aDogMTAwLjAlOyBoZWlnaHQ6IDEwMC4wJTsiPkNvbm5hdWdodCBQbGFjZSBDbHVzdGVyIDE8L2Rpdj4nKVswXTsKICAgICAgICAgICAgICAgIHBvcHVwX2FlYWY3MGMzZWVkMjRjNWVhOGY2NGVlYjM4Yjk0MWQwLnNldENvbnRlbnQoaHRtbF8yOGM5NzA3MzA3ZmM0NGQ5OGNhOTdiZjJlNDc1ZGI0Zik7CiAgICAgICAgICAgIAoKICAgICAgICAgICAgY2lyY2xlX21hcmtlcl83ODZjYmUzMGY5ZTY0ZGQxYTEzNWYyMzcyODg5Yzc5Mi5iaW5kUG9wdXAocG9wdXBfYWVhZjcwYzNlZWQyNGM1ZWE4ZjY0ZWViMzhiOTQxZDApOwoKICAgICAgICAgICAgCiAgICAgICAgCiAgICAKICAgICAgICAgICAgdmFyIGNpcmNsZV9tYXJrZXJfYmIwZjJmOGVjMGEyNGE4OGE0M2JiYmNmMTNkNWUwNjkgPSBMLmNpcmNsZU1hcmtlcigKICAgICAgICAgICAgICAgIFsyOC41NjIxOTk3LDc3LjI0NzYxMzA5OTk5OTk4XSwKICAgICAgICAgICAgICAgIHsKICAiYnViYmxpbmdNb3VzZUV2ZW50cyI6IHRydWUsCiAgImNvbG9yIjogIiNmZjAwMDAiLAogICJkYXNoQXJyYXkiOiBudWxsLAogICJkYXNoT2Zmc2V0IjogbnVsbCwKICAiZmlsbCI6IHRydWUsCiAgImZpbGxDb2xvciI6ICIjZmYwMDAwIiwKICAiZmlsbE9wYWNpdHkiOiAwLjcsCiAgImZpbGxSdWxlIjogImV2ZW5vZGQiLAogICJsaW5lQ2FwIjogInJvdW5kIiwKICAibGluZUpvaW4iOiAicm91bmQiLAogICJvcGFjaXR5IjogMS4wLAogICJyYWRpdXMiOiA1LAogICJzdHJva2UiOiB0cnVlLAogICJ3ZWlnaHQiOiAzCn0KICAgICAgICAgICAgICAgICkuYWRkVG8obWFwX2Y5NjAxZWZmOGI1NzRiMTk5M2NiNGQ1NTZiYjcxZDU2KTsKICAgICAgICAgICAgCiAgICAKICAgICAgICAgICAgdmFyIHBvcHVwXzBhNWY0YTM0NGJlNzQ0MTdhODMxNGNkNDQ5NTU2YjkwID0gTC5wb3B1cCh7bWF4V2lkdGg6ICczMDAnfSk7CgogICAgICAgICAgICAKICAgICAgICAgICAgICAgIHZhciBodG1sXzViNDQyMDFkM2ZlYzQzZjNiZmJiYzQ2ZWFhOWEzOTA2ID0gJCgnPGRpdiBpZD0iaHRtbF81YjQ0MjAxZDNmZWM0M2YzYmZiYmM0NmVhYTlhMzkwNiIgc3R5bGU9IndpZHRoOiAxMDAuMCU7IGhlaWdodDogMTAwLjAlOyI+RGF5YW5hbmQgQ29sb255IENsdXN0ZXIgMDwvZGl2PicpWzBdOwogICAgICAgICAgICAgICAgcG9wdXBfMGE1ZjRhMzQ0YmU3NDQxN2E4MzE0Y2Q0NDk1NTZiOTAuc2V0Q29udGVudChodG1sXzViNDQyMDFkM2ZlYzQzZjNiZmJiYzQ2ZWFhOWEzOTA2KTsKICAgICAgICAgICAgCgogICAgICAgICAgICBjaXJjbGVfbWFya2VyX2JiMGYyZjhlYzBhMjRhODhhNDNiYmJjZjEzZDVlMDY5LmJpbmRQb3B1cChwb3B1cF8wYTVmNGEzNDRiZTc0NDE3YTgzMTRjZDQ0OTU1NmI5MCk7CgogICAgICAgICAgICAKICAgICAgICAKICAgIAogICAgICAgICAgICB2YXIgY2lyY2xlX21hcmtlcl8wY2E4YTYwYzExNWU0ZjdiYTU2NjVmZDk1YzE1Y2E3OSA9IEwuY2lyY2xlTWFya2VyKAogICAgICAgICAgICAgICAgWzI4LjU3MTc5MDksNzcuMjMyMDEwMjAwMDAwMDJdLAogICAgICAgICAgICAgICAgewogICJidWJibGluZ01vdXNlRXZlbnRzIjogdHJ1ZSwKICAiY29sb3IiOiAiI2ZmMDAwMCIsCiAgImRhc2hBcnJheSI6IG51bGwsCiAgImRhc2hPZmZzZXQiOiBudWxsLAogICJmaWxsIjogdHJ1ZSwKICAiZmlsbENvbG9yIjogIiNmZjAwMDAiLAogICJmaWxsT3BhY2l0eSI6IDAuNywKICAiZmlsbFJ1bGUiOiAiZXZlbm9kZCIsCiAgImxpbmVDYXAiOiAicm91bmQiLAogICJsaW5lSm9pbiI6ICJyb3VuZCIsCiAgIm9wYWNpdHkiOiAxLjAsCiAgInJhZGl1cyI6IDUsCiAgInN0cm9rZSI6IHRydWUsCiAgIndlaWdodCI6IDMKfQogICAgICAgICAgICAgICAgKS5hZGRUbyhtYXBfZjk2MDFlZmY4YjU3NGIxOTkzY2I0ZDU1NmJiNzFkNTYpOwogICAgICAgICAgICAKICAgIAogICAgICAgICAgICB2YXIgcG9wdXBfMmNkZTVlZmRhZWMwNGVhNzlmMGIwMjAyMWQ2MDYyYmIgPSBMLnBvcHVwKHttYXhXaWR0aDogJzMwMCd9KTsKCiAgICAgICAgICAgIAogICAgICAgICAgICAgICAgdmFyIGh0bWxfZTAyYzIwZTkzNjUyNDYxYWE3YTQ5OTk1MGQxM2QxODUgPSAkKCc8ZGl2IGlkPSJodG1sX2UwMmMyMGU5MzY1MjQ2MWFhN2E0OTk5NTBkMTNkMTg1IiBzdHlsZT0id2lkdGg6IDEwMC4wJTsgaGVpZ2h0OiAxMDAuMCU7Ij5EZWZlbmNlIENvbG9ueSBDbHVzdGVyIDA8L2Rpdj4nKVswXTsKICAgICAgICAgICAgICAgIHBvcHVwXzJjZGU1ZWZkYWVjMDRlYTc5ZjBiMDIwMjFkNjA2MmJiLnNldENvbnRlbnQoaHRtbF9lMDJjMjBlOTM2NTI0NjFhYTdhNDk5OTUwZDEzZDE4NSk7CiAgICAgICAgICAgIAoKICAgICAgICAgICAgY2lyY2xlX21hcmtlcl8wY2E4YTYwYzExNWU0ZjdiYTU2NjVmZDk1YzE1Y2E3OS5iaW5kUG9wdXAocG9wdXBfMmNkZTVlZmRhZWMwNGVhNzlmMGIwMjAyMWQ2MDYyYmIpOwoKICAgICAgICAgICAgCiAgICAgICAgCiAgICAKICAgICAgICAgICAgdmFyIGNpcmNsZV9tYXJrZXJfMDMwZGNjMmQ4YzBlNDQ2NmJjNTFjZDQ5MWMxYThlNTcgPSBMLmNpcmNsZU1hcmtlcigKICAgICAgICAgICAgICAgIFsyOC41NTcwMzIyMDAwMDAwMDIsNzcuMjQ0NjEzOTIwNjg1M10sCiAgICAgICAgICAgICAgICB7CiAgImJ1YmJsaW5nTW91c2VFdmVudHMiOiB0cnVlLAogICJjb2xvciI6ICIjZmYwMDAwIiwKICAiZGFzaEFycmF5IjogbnVsbCwKICAiZGFzaE9mZnNldCI6IG51bGwsCiAgImZpbGwiOiB0cnVlLAogICJmaWxsQ29sb3IiOiAiI2ZmMDAwMCIsCiAgImZpbGxPcGFjaXR5IjogMC43LAogICJmaWxsUnVsZSI6ICJldmVub2RkIiwKICAibGluZUNhcCI6ICJyb3VuZCIsCiAgImxpbmVKb2luIjogInJvdW5kIiwKICAib3BhY2l0eSI6IDEuMCwKICAicmFkaXVzIjogNSwKICAic3Ryb2tlIjogdHJ1ZSwKICAid2VpZ2h0IjogMwp9CiAgICAgICAgICAgICAgICApLmFkZFRvKG1hcF9mOTYwMWVmZjhiNTc0YjE5OTNjYjRkNTU2YmI3MWQ1Nik7CiAgICAgICAgICAgIAogICAgCiAgICAgICAgICAgIHZhciBwb3B1cF8wZDJhOGQ3M2RhOGY0OGJhOTQ5NDVlMDMxODkyYmJkMCA9IEwucG9wdXAoe21heFdpZHRoOiAnMzAwJ30pOwoKICAgICAgICAgICAgCiAgICAgICAgICAgICAgICB2YXIgaHRtbF9hN2RlYjY5ZDE3YmM0Yjg1YmVmMTQ0ZWM5ZmExNGJiMyA9ICQoJzxkaXYgaWQ9Imh0bWxfYTdkZWI2OWQxN2JjNGI4NWJlZjE0NGVjOWZhMTRiYjMiIHN0eWxlPSJ3aWR0aDogMTAwLjAlOyBoZWlnaHQ6IDEwMC4wJTsiPkVhc3Qgb2YgS2FpbGFzaCBDbHVzdGVyIDA8L2Rpdj4nKVswXTsKICAgICAgICAgICAgICAgIHBvcHVwXzBkMmE4ZDczZGE4ZjQ4YmE5NDk0NWUwMzE4OTJiYmQwLnNldENvbnRlbnQoaHRtbF9hN2RlYjY5ZDE3YmM0Yjg1YmVmMTQ0ZWM5ZmExNGJiMyk7CiAgICAgICAgICAgIAoKICAgICAgICAgICAgY2lyY2xlX21hcmtlcl8wMzBkY2MyZDhjMGU0NDY2YmM1MWNkNDkxYzFhOGU1Ny5iaW5kUG9wdXAocG9wdXBfMGQyYThkNzNkYThmNDhiYTk0OTQ1ZTAzMTg5MmJiZDApOwoKICAgICAgICAgICAgCiAgICAgICAgCiAgICAKICAgICAgICAgICAgdmFyIGNpcmNsZV9tYXJrZXJfMDZhZjkzOGIxYzdhNDBiNGE4Nzc4ZjVlZTdlMTllMTUgPSBMLmNpcmNsZU1hcmtlcigKICAgICAgICAgICAgICAgIFsyOC41NjY3NTEzMDAwMDAwMDQsNzcuMjYxOTE4MV0sCiAgICAgICAgICAgICAgICB7CiAgImJ1YmJsaW5nTW91c2VFdmVudHMiOiB0cnVlLAogICJjb2xvciI6ICIjZmYwMDAwIiwKICAiZGFzaEFycmF5IjogbnVsbCwKICAiZGFzaE9mZnNldCI6IG51bGwsCiAgImZpbGwiOiB0cnVlLAogICJmaWxsQ29sb3IiOiAiI2ZmMDAwMCIsCiAgImZpbGxPcGFjaXR5IjogMC43LAogICJmaWxsUnVsZSI6ICJldmVub2RkIiwKICAibGluZUNhcCI6ICJyb3VuZCIsCiAgImxpbmVKb2luIjogInJvdW5kIiwKICAib3BhY2l0eSI6IDEuMCwKICAicmFkaXVzIjogNSwKICAic3Ryb2tlIjogdHJ1ZSwKICAid2VpZ2h0IjogMwp9CiAgICAgICAgICAgICAgICApLmFkZFRvKG1hcF9mOTYwMWVmZjhiNTc0YjE5OTNjYjRkNTU2YmI3MWQ1Nik7CiAgICAgICAgICAgIAogICAgCiAgICAgICAgICAgIHZhciBwb3B1cF82NDk2MTU2NjViZGE0ZWFhYTU2MzhmODU5M2ViYjg5NyA9IEwucG9wdXAoe21heFdpZHRoOiAnMzAwJ30pOwoKICAgICAgICAgICAgCiAgICAgICAgICAgICAgICB2YXIgaHRtbF8xOTNkY2I3OGY3MDU0ZDM0ODY5ZWZjNTA0ZmZkNTg4YiA9ICQoJzxkaXYgaWQ9Imh0bWxfMTkzZGNiNzhmNzA1NGQzNDg2OWVmYzUwNGZmZDU4OGIiIHN0eWxlPSJ3aWR0aDogMTAwLjAlOyBoZWlnaHQ6IDEwMC4wJTsiPkZyaWVuZHMgQ29sb255IENsdXN0ZXIgMDwvZGl2PicpWzBdOwogICAgICAgICAgICAgICAgcG9wdXBfNjQ5NjE1NjY1YmRhNGVhYWE1NjM4Zjg1OTNlYmI4OTcuc2V0Q29udGVudChodG1sXzE5M2RjYjc4ZjcwNTRkMzQ4NjllZmM1MDRmZmQ1ODhiKTsKICAgICAgICAgICAgCgogICAgICAgICAgICBjaXJjbGVfbWFya2VyXzA2YWY5MzhiMWM3YTQwYjRhODc3OGY1ZWU3ZTE5ZTE1LmJpbmRQb3B1cChwb3B1cF82NDk2MTU2NjViZGE0ZWFhYTU2MzhmODU5M2ViYjg5Nyk7CgogICAgICAgICAgICAKICAgICAgICAKICAgIAogICAgICAgICAgICB2YXIgY2lyY2xlX21hcmtlcl9hMjY3NjU2YjQyZDY0N2JmYjY0OWU4OTBjMjIwOTQxMiA9IEwuY2lyY2xlTWFya2VyKAogICAgICAgICAgICAgICAgWzI4LjYzMzcxODY1LDc3LjIwNTYyNjYyMDk4MjA5XSwKICAgICAgICAgICAgICAgIHsKICAiYnViYmxpbmdNb3VzZUV2ZW50cyI6IHRydWUsCiAgImNvbG9yIjogIiNmZjAwMDAiLAogICJkYXNoQXJyYXkiOiBudWxsLAogICJkYXNoT2Zmc2V0IjogbnVsbCwKICAiZmlsbCI6IHRydWUsCiAgImZpbGxDb2xvciI6ICIjZmYwMDAwIiwKICAiZmlsbE9wYWNpdHkiOiAwLjcsCiAgImZpbGxSdWxlIjogImV2ZW5vZGQiLAogICJsaW5lQ2FwIjogInJvdW5kIiwKICAibGluZUpvaW4iOiAicm91bmQiLAogICJvcGFjaXR5IjogMS4wLAogICJyYWRpdXMiOiA1LAogICJzdHJva2UiOiB0cnVlLAogICJ3ZWlnaHQiOiAzCn0KICAgICAgICAgICAgICAgICkuYWRkVG8obWFwX2Y5NjAxZWZmOGI1NzRiMTk5M2NiNGQ1NTZiYjcxZDU2KTsKICAgICAgICAgICAgCiAgICAKICAgICAgICAgICAgdmFyIHBvcHVwXzhkNzdiNzMyYmMzOTRjYmVhMTE4NGQ4NGNjMmQ1MTQyID0gTC5wb3B1cCh7bWF4V2lkdGg6ICczMDAnfSk7CgogICAgICAgICAgICAKICAgICAgICAgICAgICAgIHZhciBodG1sXzI4Yjc3MTZjZDUxMjQ2MDliODlhNDY2ODcxM2U2ZTFhID0gJCgnPGRpdiBpZD0iaHRtbF8yOGI3NzE2Y2Q1MTI0NjA5Yjg5YTQ2Njg3MTNlNmUxYSIgc3R5bGU9IndpZHRoOiAxMDAuMCU7IGhlaWdodDogMTAwLjAlOyI+R29sZSBNYXJrZXQgQ2x1c3RlciAwPC9kaXY+JylbMF07CiAgICAgICAgICAgICAgICBwb3B1cF84ZDc3YjczMmJjMzk0Y2JlYTExODRkODRjYzJkNTE0Mi5zZXRDb250ZW50KGh0bWxfMjhiNzcxNmNkNTEyNDYwOWI4OWE0NjY4NzEzZTZlMWEpOwogICAgICAgICAgICAKCiAgICAgICAgICAgIGNpcmNsZV9tYXJrZXJfYTI2NzY1NmI0MmQ2NDdiZmI2NDllODkwYzIyMDk0MTIuYmluZFBvcHVwKHBvcHVwXzhkNzdiNzMyYmMzOTRjYmVhMTE4NGQ4NGNjMmQ1MTQyKTsKCiAgICAgICAgICAgIAogICAgICAgIAogICAgCiAgICAgICAgICAgIHZhciBjaXJjbGVfbWFya2VyXzhjYWQ1NDBiZTNkNDQ3Yzk5NDk4YWRkOTczNGFkMGJhID0gTC5jaXJjbGVNYXJrZXIoCiAgICAgICAgICAgICAgICBbMjguNTk1OTY5ODAwMDAwMDAyLDc3LjIzMTE2MjhdLAogICAgICAgICAgICAgICAgewogICJidWJibGluZ01vdXNlRXZlbnRzIjogdHJ1ZSwKICAiY29sb3IiOiAiI2ZmMDAwMCIsCiAgImRhc2hBcnJheSI6IG51bGwsCiAgImRhc2hPZmZzZXQiOiBudWxsLAogICJmaWxsIjogdHJ1ZSwKICAiZmlsbENvbG9yIjogIiNmZjAwMDAiLAogICJmaWxsT3BhY2l0eSI6IDAuNywKICAiZmlsbFJ1bGUiOiAiZXZlbm9kZCIsCiAgImxpbmVDYXAiOiAicm91bmQiLAogICJsaW5lSm9pbiI6ICJyb3VuZCIsCiAgIm9wYWNpdHkiOiAxLjAsCiAgInJhZGl1cyI6IDUsCiAgInN0cm9rZSI6IHRydWUsCiAgIndlaWdodCI6IDMKfQogICAgICAgICAgICAgICAgKS5hZGRUbyhtYXBfZjk2MDFlZmY4YjU3NGIxOTkzY2I0ZDU1NmJiNzFkNTYpOwogICAgICAgICAgICAKICAgIAogICAgICAgICAgICB2YXIgcG9wdXBfNWEyZDAxYTQ0ZDNhNDVlYmI0ZDczMjBmZmJkZmFiYTYgPSBMLnBvcHVwKHttYXhXaWR0aDogJzMwMCd9KTsKCiAgICAgICAgICAgIAogICAgICAgICAgICAgICAgdmFyIGh0bWxfY2FmNDc0NTI2ZWMxNGJjMGFiZTdjYzRiNzQzMTliMjMgPSAkKCc8ZGl2IGlkPSJodG1sX2NhZjQ3NDUyNmVjMTRiYzBhYmU3Y2M0Yjc0MzE5YjIzIiBzdHlsZT0id2lkdGg6IDEwMC4wJTsgaGVpZ2h0OiAxMDAuMCU7Ij5Hb2xmIExpbmtzIENsdXN0ZXIgMDwvZGl2PicpWzBdOwogICAgICAgICAgICAgICAgcG9wdXBfNWEyZDAxYTQ0ZDNhNDVlYmI0ZDczMjBmZmJkZmFiYTYuc2V0Q29udGVudChodG1sX2NhZjQ3NDUyNmVjMTRiYzBhYmU3Y2M0Yjc0MzE5YjIzKTsKICAgICAgICAgICAgCgogICAgICAgICAgICBjaXJjbGVfbWFya2VyXzhjYWQ1NDBiZTNkNDQ3Yzk5NDk4YWRkOTczNGFkMGJhLmJpbmRQb3B1cChwb3B1cF81YTJkMDFhNDRkM2E0NWViYjRkNzMyMGZmYmRmYWJhNik7CgogICAgICAgICAgICAKICAgICAgICAKICAgIAogICAgICAgICAgICB2YXIgY2lyY2xlX21hcmtlcl9iMWY0MjhkNTJiZjM0ZjE3OGRiMjdiNjZjZDcxMTdiMCA9IEwuY2lyY2xlTWFya2VyKAogICAgICAgICAgICAgICAgWzI4LjU1NDYzMjcwMDAwMDAxLDc3LjIyODU2OTgwMDAwMDAyXSwKICAgICAgICAgICAgICAgIHsKICAiYnViYmxpbmdNb3VzZUV2ZW50cyI6IHRydWUsCiAgImNvbG9yIjogIiNmZjAwMDAiLAogICJkYXNoQXJyYXkiOiBudWxsLAogICJkYXNoT2Zmc2V0IjogbnVsbCwKICAiZmlsbCI6IHRydWUsCiAgImZpbGxDb2xvciI6ICIjZmYwMDAwIiwKICAiZmlsbE9wYWNpdHkiOiAwLjcsCiAgImZpbGxSdWxlIjogImV2ZW5vZGQiLAogICJsaW5lQ2FwIjogInJvdW5kIiwKICAibGluZUpvaW4iOiAicm91bmQiLAogICJvcGFjaXR5IjogMS4wLAogICJyYWRpdXMiOiA1LAogICJzdHJva2UiOiB0cnVlLAogICJ3ZWlnaHQiOiAzCn0KICAgICAgICAgICAgICAgICkuYWRkVG8obWFwX2Y5NjAxZWZmOGI1NzRiMTk5M2NiNGQ1NTZiYjcxZDU2KTsKICAgICAgICAgICAgCiAgICAKICAgICAgICAgICAgdmFyIHBvcHVwXzFiM2NhZWVjZGUyODRhYjNhYTE5MmU4NzE2ZDgzMGRkID0gTC5wb3B1cCh7bWF4V2lkdGg6ICczMDAnfSk7CgogICAgICAgICAgICAKICAgICAgICAgICAgICAgIHZhciBodG1sXzI5ODkzNGYyNmZjNjQ4ZjU5MWViNzgxYTY2MzVjNzczID0gJCgnPGRpdiBpZD0iaHRtbF8yOTg5MzRmMjZmYzY0OGY1OTFlYjc4MWE2NjM1Yzc3MyIgc3R5bGU9IndpZHRoOiAxMDAuMCU7IGhlaWdodDogMTAwLjAlOyI+R3JlYXRlciBLYWlsYXNoIENsdXN0ZXIgMDwvZGl2PicpWzBdOwogICAgICAgICAgICAgICAgcG9wdXBfMWIzY2FlZWNkZTI4NGFiM2FhMTkyZTg3MTZkODMwZGQuc2V0Q29udGVudChodG1sXzI5ODkzNGYyNmZjNjQ4ZjU5MWViNzgxYTY2MzVjNzczKTsKICAgICAgICAgICAgCgogICAgICAgICAgICBjaXJjbGVfbWFya2VyX2IxZjQyOGQ1MmJmMzRmMTc4ZGIyN2I2NmNkNzExN2IwLmJpbmRQb3B1cChwb3B1cF8xYjNjYWVlY2RlMjg0YWIzYWExOTJlODcxNmQ4MzBkZCk7CgogICAgICAgICAgICAKICAgICAgICAKICAgIAogICAgICAgICAgICB2YXIgY2lyY2xlX21hcmtlcl8xZmFhNGQ3NDgyZGE0OTE5OTUxNmVkYmRhODk0ZDU3OSA9IEwuY2lyY2xlTWFya2VyKAogICAgICAgICAgICAgICAgWzI4LjU1ODAwMjE5OTk5OTk5Nyw3Ny4yMDY4MjExMDAwMDAwMV0sCiAgICAgICAgICAgICAgICB7CiAgImJ1YmJsaW5nTW91c2VFdmVudHMiOiB0cnVlLAogICJjb2xvciI6ICIjZmYwMDAwIiwKICAiZGFzaEFycmF5IjogbnVsbCwKICAiZGFzaE9mZnNldCI6IG51bGwsCiAgImZpbGwiOiB0cnVlLAogICJmaWxsQ29sb3IiOiAiI2ZmMDAwMCIsCiAgImZpbGxPcGFjaXR5IjogMC43LAogICJmaWxsUnVsZSI6ICJldmVub2RkIiwKICAibGluZUNhcCI6ICJyb3VuZCIsCiAgImxpbmVKb2luIjogInJvdW5kIiwKICAib3BhY2l0eSI6IDEuMCwKICAicmFkaXVzIjogNSwKICAic3Ryb2tlIjogdHJ1ZSwKICAid2VpZ2h0IjogMwp9CiAgICAgICAgICAgICAgICApLmFkZFRvKG1hcF9mOTYwMWVmZjhiNTc0YjE5OTNjYjRkNTU2YmI3MWQ1Nik7CiAgICAgICAgICAgIAogICAgCiAgICAgICAgICAgIHZhciBwb3B1cF85ZGJkYmIwNmQyM2Y0M2MyOWNjOGZiNTgyMTY2M2I3OSA9IEwucG9wdXAoe21heFdpZHRoOiAnMzAwJ30pOwoKICAgICAgICAgICAgCiAgICAgICAgICAgICAgICB2YXIgaHRtbF82NTgzZjI4Y2FhNzY0NzY5YTYxNGM5NDE1YjlkMDJjYSA9ICQoJzxkaXYgaWQ9Imh0bWxfNjU4M2YyOGNhYTc2NDc2OWE2MTRjOTQxNWI5ZDAyY2EiIHN0eWxlPSJ3aWR0aDogMTAwLjAlOyBoZWlnaHQ6IDEwMC4wJTsiPkdyZWVuIFBhcmsgQ2x1c3RlciAwPC9kaXY+JylbMF07CiAgICAgICAgICAgICAgICBwb3B1cF85ZGJkYmIwNmQyM2Y0M2MyOWNjOGZiNTgyMTY2M2I3OS5zZXRDb250ZW50KGh0bWxfNjU4M2YyOGNhYTc2NDc2OWE2MTRjOTQxNWI5ZDAyY2EpOwogICAgICAgICAgICAKCiAgICAgICAgICAgIGNpcmNsZV9tYXJrZXJfMWZhYTRkNzQ4MmRhNDkxOTk1MTZlZGJkYTg5NGQ1NzkuYmluZFBvcHVwKHBvcHVwXzlkYmRiYjA2ZDIzZjQzYzI5Y2M4ZmI1ODIxNjYzYjc5KTsKCiAgICAgICAgICAgIAogICAgICAgIAogICAgCiAgICAgICAgICAgIHZhciBjaXJjbGVfbWFya2VyX2JjNGJhNGQ3ZTBhNzQ4Mjg5NDJkNDc4MzU3OWJjYjAyID0gTC5jaXJjbGVNYXJrZXIoCiAgICAgICAgICAgICAgICBbMjguNTQ0MjU2NDAwMDAwMDAyLDc3LjIwNjcwNzIwMDAwMDAxXSwKICAgICAgICAgICAgICAgIHsKICAiYnViYmxpbmdNb3VzZUV2ZW50cyI6IHRydWUsCiAgImNvbG9yIjogIiM4MGZmYjQiLAogICJkYXNoQXJyYXkiOiBudWxsLAogICJkYXNoT2Zmc2V0IjogbnVsbCwKICAiZmlsbCI6IHRydWUsCiAgImZpbGxDb2xvciI6ICIjODBmZmI0IiwKICAiZmlsbE9wYWNpdHkiOiAwLjcsCiAgImZpbGxSdWxlIjogImV2ZW5vZGQiLAogICJsaW5lQ2FwIjogInJvdW5kIiwKICAibGluZUpvaW4iOiAicm91bmQiLAogICJvcGFjaXR5IjogMS4wLAogICJyYWRpdXMiOiA1LAogICJzdHJva2UiOiB0cnVlLAogICJ3ZWlnaHQiOiAzCn0KICAgICAgICAgICAgICAgICkuYWRkVG8obWFwX2Y5NjAxZWZmOGI1NzRiMTk5M2NiNGQ1NTZiYjcxZDU2KTsKICAgICAgICAgICAgCiAgICAKICAgICAgICAgICAgdmFyIHBvcHVwX2RjZDhlMWExZDEyYzQ5MTM5MTVjOWFlMzE2YzhmYjI3ID0gTC5wb3B1cCh7bWF4V2lkdGg6ICczMDAnfSk7CgogICAgICAgICAgICAKICAgICAgICAgICAgICAgIHZhciBodG1sX2E1ODY5ZTA0MTRkZDQzMzU5ZWY3N2VlYjE2MzQ1OTY0ID0gJCgnPGRpdiBpZD0iaHRtbF9hNTg2OWUwNDE0ZGQ0MzM1OWVmNzdlZWIxNjM0NTk2NCIgc3R5bGU9IndpZHRoOiAxMDAuMCU7IGhlaWdodDogMTAwLjAlOyI+SGF1eiBLaGFzIENsdXN0ZXIgMjwvZGl2PicpWzBdOwogICAgICAgICAgICAgICAgcG9wdXBfZGNkOGUxYTFkMTJjNDkxMzkxNWM5YWUzMTZjOGZiMjcuc2V0Q29udGVudChodG1sX2E1ODY5ZTA0MTRkZDQzMzU5ZWY3N2VlYjE2MzQ1OTY0KTsKICAgICAgICAgICAgCgogICAgICAgICAgICBjaXJjbGVfbWFya2VyX2JjNGJhNGQ3ZTBhNzQ4Mjg5NDJkNDc4MzU3OWJjYjAyLmJpbmRQb3B1cChwb3B1cF9kY2Q4ZTFhMWQxMmM0OTEzOTE1YzlhZTMxNmM4ZmIyNyk7CgogICAgICAgICAgICAKICAgICAgICAKICAgIAogICAgICAgICAgICB2YXIgY2lyY2xlX21hcmtlcl9jY2ZmOWZlYTg4Nzg0MjQ2YjUyOTZlY2Y5YTA4YzgyZiA9IEwuY2lyY2xlTWFya2VyKAogICAgICAgICAgICAgICAgWzI4LjU1Mzg1NDg1MDAwMDAwNCw3Ny4xOTQ3MTI3NTg1Mjk5Ml0sCiAgICAgICAgICAgICAgICB7CiAgImJ1YmJsaW5nTW91c2VFdmVudHMiOiB0cnVlLAogICJjb2xvciI6ICIjODBmZmI0IiwKICAiZGFzaEFycmF5IjogbnVsbCwKICAiZGFzaE9mZnNldCI6IG51bGwsCiAgImZpbGwiOiB0cnVlLAogICJmaWxsQ29sb3IiOiAiIzgwZmZiNCIsCiAgImZpbGxPcGFjaXR5IjogMC43LAogICJmaWxsUnVsZSI6ICJldmVub2RkIiwKICAibGluZUNhcCI6ICJyb3VuZCIsCiAgImxpbmVKb2luIjogInJvdW5kIiwKICAib3BhY2l0eSI6IDEuMCwKICAicmFkaXVzIjogNSwKICAic3Ryb2tlIjogdHJ1ZSwKICAid2VpZ2h0IjogMwp9CiAgICAgICAgICAgICAgICApLmFkZFRvKG1hcF9mOTYwMWVmZjhiNTc0YjE5OTNjYjRkNTU2YmI3MWQ1Nik7CiAgICAgICAgICAgIAogICAgCiAgICAgICAgICAgIHZhciBwb3B1cF9mMWZmYWI1Njc4OGE0YjE3YTI2YTZmZjc0OGNjMzY3OSA9IEwucG9wdXAoe21heFdpZHRoOiAnMzAwJ30pOwoKICAgICAgICAgICAgCiAgICAgICAgICAgICAgICB2YXIgaHRtbF81NzA5YTE2MDhjYWE0Y2E3YjNkMDYzYTExN2Y2ZDU2NiA9ICQoJzxkaXYgaWQ9Imh0bWxfNTcwOWExNjA4Y2FhNGNhN2IzZDA2M2ExMTdmNmQ1NjYiIHN0eWxlPSJ3aWR0aDogMTAwLjAlOyBoZWlnaHQ6IDEwMC4wJTsiPkhhdXogS2hhcyBWaWxsYWdlIENsdXN0ZXIgMjwvZGl2PicpWzBdOwogICAgICAgICAgICAgICAgcG9wdXBfZjFmZmFiNTY3ODhhNGIxN2EyNmE2ZmY3NDhjYzM2Nzkuc2V0Q29udGVudChodG1sXzU3MDlhMTYwOGNhYTRjYTdiM2QwNjNhMTE3ZjZkNTY2KTsKICAgICAgICAgICAgCgogICAgICAgICAgICBjaXJjbGVfbWFya2VyX2NjZmY5ZmVhODg3ODQyNDZiNTI5NmVjZjlhMDhjODJmLmJpbmRQb3B1cChwb3B1cF9mMWZmYWI1Njc4OGE0YjE3YTI2YTZmZjc0OGNjMzY3OSk7CgogICAgICAgICAgICAKICAgICAgICAKICAgIAogICAgICAgICAgICB2YXIgY2lyY2xlX21hcmtlcl80ZGMwODVhMGEzZDk0NzI1YTk5ZWIyZjc4ODA0ZGVmOSA9IEwuY2lyY2xlTWFya2VyKAogICAgICAgICAgICAgICAgWzI4LjU4MjQ1NzA0OTk5OTk5NSw3Ny4yNDE1MDAwNzI3Mzg0XSwKICAgICAgICAgICAgICAgIHsKICAiYnViYmxpbmdNb3VzZUV2ZW50cyI6IHRydWUsCiAgImNvbG9yIjogIiNmZjAwMDAiLAogICJkYXNoQXJyYXkiOiBudWxsLAogICJkYXNoT2Zmc2V0IjogbnVsbCwKICAiZmlsbCI6IHRydWUsCiAgImZpbGxDb2xvciI6ICIjZmYwMDAwIiwKICAiZmlsbE9wYWNpdHkiOiAwLjcsCiAgImZpbGxSdWxlIjogImV2ZW5vZGQiLAogICJsaW5lQ2FwIjogInJvdW5kIiwKICAibGluZUpvaW4iOiAicm91bmQiLAogICJvcGFjaXR5IjogMS4wLAogICJyYWRpdXMiOiA1LAogICJzdHJva2UiOiB0cnVlLAogICJ3ZWlnaHQiOiAzCn0KICAgICAgICAgICAgICAgICkuYWRkVG8obWFwX2Y5NjAxZWZmOGI1NzRiMTk5M2NiNGQ1NTZiYjcxZDU2KTsKICAgICAgICAgICAgCiAgICAKICAgICAgICAgICAgdmFyIHBvcHVwXzhmMzczYzNlM2Y3ZDQxNDhiMWRhMmJlNTRkNTQzNDQ2ID0gTC5wb3B1cCh7bWF4V2lkdGg6ICczMDAnfSk7CgogICAgICAgICAgICAKICAgICAgICAgICAgICAgIHZhciBodG1sXzUxNjEyNzNlN2QyNzQzMjk4OWQ0M2YwNTgxYTQ2OGJjID0gJCgnPGRpdiBpZD0iaHRtbF81MTYxMjczZTdkMjc0MzI5ODlkNDNmMDU4MWE0NjhiYyIgc3R5bGU9IndpZHRoOiAxMDAuMCU7IGhlaWdodDogMTAwLjAlOyI+SmFuZ3B1cmEgQ2x1c3RlciAwPC9kaXY+JylbMF07CiAgICAgICAgICAgICAgICBwb3B1cF84ZjM3M2MzZTNmN2Q0MTQ4YjFkYTJiZTU0ZDU0MzQ0Ni5zZXRDb250ZW50KGh0bWxfNTE2MTI3M2U3ZDI3NDMyOTg5ZDQzZjA1ODFhNDY4YmMpOwogICAgICAgICAgICAKCiAgICAgICAgICAgIGNpcmNsZV9tYXJrZXJfNGRjMDg1YTBhM2Q5NDcyNWE5OWViMmY3ODgwNGRlZjkuYmluZFBvcHVwKHBvcHVwXzhmMzczYzNlM2Y3ZDQxNDhiMWRhMmJlNTRkNTQzNDQ2KTsKCiAgICAgICAgICAgIAogICAgICAgIAogICAgCiAgICAgICAgICAgIHZhciBjaXJjbGVfbWFya2VyXzU5YTExMmFiZTU0YjRmOTQ5NTc1NGFhOGIxZWE3NGM4ID0gTC5jaXJjbGVNYXJrZXIoCiAgICAgICAgICAgICAgICBbMjguNTQyMjMyNyw3Ny4yOTQzODU1OTk3NjQ1XSwKICAgICAgICAgICAgICAgIHsKICAiYnViYmxpbmdNb3VzZUV2ZW50cyI6IHRydWUsCiAgImNvbG9yIjogIiNmZjAwMDAiLAogICJkYXNoQXJyYXkiOiBudWxsLAogICJkYXNoT2Zmc2V0IjogbnVsbCwKICAiZmlsbCI6IHRydWUsCiAgImZpbGxDb2xvciI6ICIjZmYwMDAwIiwKICAiZmlsbE9wYWNpdHkiOiAwLjcsCiAgImZpbGxSdWxlIjogImV2ZW5vZGQiLAogICJsaW5lQ2FwIjogInJvdW5kIiwKICAibGluZUpvaW4iOiAicm91bmQiLAogICJvcGFjaXR5IjogMS4wLAogICJyYWRpdXMiOiA1LAogICJzdHJva2UiOiB0cnVlLAogICJ3ZWlnaHQiOiAzCn0KICAgICAgICAgICAgICAgICkuYWRkVG8obWFwX2Y5NjAxZWZmOGI1NzRiMTk5M2NiNGQ1NTZiYjcxZDU2KTsKICAgICAgICAgICAgCiAgICAKICAgICAgICAgICAgdmFyIHBvcHVwX2ExYjdhNTYwOGFkZTRkNTg5MTAzY2U5OTkyY2ZhOTQxID0gTC5wb3B1cCh7bWF4V2lkdGg6ICczMDAnfSk7CgogICAgICAgICAgICAKICAgICAgICAgICAgICAgIHZhciBodG1sXzdmZmI2NjI0OTc0YzQwNzJhZWFmMjRjMGFhYWJlZmE3ID0gJCgnPGRpdiBpZD0iaHRtbF83ZmZiNjYyNDk3NGM0MDcyYWVhZjI0YzBhYWFiZWZhNyIgc3R5bGU9IndpZHRoOiAxMDAuMCU7IGhlaWdodDogMTAwLjAlOyI+SmFzb2xhIENsdXN0ZXIgMDwvZGl2PicpWzBdOwogICAgICAgICAgICAgICAgcG9wdXBfYTFiN2E1NjA4YWRlNGQ1ODkxMDNjZTk5OTJjZmE5NDEuc2V0Q29udGVudChodG1sXzdmZmI2NjI0OTc0YzQwNzJhZWFmMjRjMGFhYWJlZmE3KTsKICAgICAgICAgICAgCgogICAgICAgICAgICBjaXJjbGVfbWFya2VyXzU5YTExMmFiZTU0YjRmOTQ5NTc1NGFhOGIxZWE3NGM4LmJpbmRQb3B1cChwb3B1cF9hMWI3YTU2MDhhZGU0ZDU4OTEwM2NlOTk5MmNmYTk0MSk7CgogICAgICAgICAgICAKICAgICAgICAKICAgIAogICAgICAgICAgICB2YXIgY2lyY2xlX21hcmtlcl8yOGI4N2M2YjNiNGU0M2Y3OWYzMjVlZjYzYTcxYzAxMiA9IEwuY2lyY2xlTWFya2VyKAogICAgICAgICAgICAgICAgWzI4LjU1MzA1MjIwMDAwMDAwMyw3Ny4yNDI5Njk0XSwKICAgICAgICAgICAgICAgIHsKICAiYnViYmxpbmdNb3VzZUV2ZW50cyI6IHRydWUsCiAgImNvbG9yIjogIiM4MDAwZmYiLAogICJkYXNoQXJyYXkiOiBudWxsLAogICJkYXNoT2Zmc2V0IjogbnVsbCwKICAiZmlsbCI6IHRydWUsCiAgImZpbGxDb2xvciI6ICIjODAwMGZmIiwKICAiZmlsbE9wYWNpdHkiOiAwLjcsCiAgImZpbGxSdWxlIjogImV2ZW5vZGQiLAogICJsaW5lQ2FwIjogInJvdW5kIiwKICAibGluZUpvaW4iOiAicm91bmQiLAogICJvcGFjaXR5IjogMS4wLAogICJyYWRpdXMiOiA1LAogICJzdHJva2UiOiB0cnVlLAogICJ3ZWlnaHQiOiAzCn0KICAgICAgICAgICAgICAgICkuYWRkVG8obWFwX2Y5NjAxZWZmOGI1NzRiMTk5M2NiNGQ1NTZiYjcxZDU2KTsKICAgICAgICAgICAgCiAgICAKICAgICAgICAgICAgdmFyIHBvcHVwXzhkMGEzMWFlZmQwMjQ2NjM5ZWFjYzExZWU2MTYwNzNhID0gTC5wb3B1cCh7bWF4V2lkdGg6ICczMDAnfSk7CgogICAgICAgICAgICAKICAgICAgICAgICAgICAgIHZhciBodG1sXzI4YWMyYzBhZmUzNTRlMDg4MWI3YmY5NGRmYjg3OWMzID0gJCgnPGRpdiBpZD0iaHRtbF8yOGFjMmMwYWZlMzU0ZTA4ODFiN2JmOTRkZmI4NzljMyIgc3R5bGU9IndpZHRoOiAxMDAuMCU7IGhlaWdodDogMTAwLjAlOyI+S2FpbGFzaCBDb2xvbnkgQ2x1c3RlciAxPC9kaXY+JylbMF07CiAgICAgICAgICAgICAgICBwb3B1cF84ZDBhMzFhZWZkMDI0NjYzOWVhY2MxMWVlNjE2MDczYS5zZXRDb250ZW50KGh0bWxfMjhhYzJjMGFmZTM1NGUwODgxYjdiZjk0ZGZiODc5YzMpOwogICAgICAgICAgICAKCiAgICAgICAgICAgIGNpcmNsZV9tYXJrZXJfMjhiODdjNmIzYjRlNDNmNzlmMzI1ZWY2M2E3MWMwMTIuYmluZFBvcHVwKHBvcHVwXzhkMGEzMWFlZmQwMjQ2NjM5ZWFjYzExZWU2MTYwNzNhKTsKCiAgICAgICAgICAgIAogICAgICAgIAogICAgCiAgICAgICAgICAgIHZhciBjaXJjbGVfbWFya2VyXzBjZDU4OTUxZTliOTQ2NDhiY2ViZjEwZTE2YTlhZjE5ID0gTC5jaXJjbGVNYXJrZXIoCiAgICAgICAgICAgICAgICBbMjguNjAwMTM1NCw3Ny4yMjY0OTA2NDA4NzM2Ml0sCiAgICAgICAgICAgICAgICB7CiAgImJ1YmJsaW5nTW91c2VFdmVudHMiOiB0cnVlLAogICJjb2xvciI6ICIjODBmZmI0IiwKICAiZGFzaEFycmF5IjogbnVsbCwKICAiZGFzaE9mZnNldCI6IG51bGwsCiAgImZpbGwiOiB0cnVlLAogICJmaWxsQ29sb3IiOiAiIzgwZmZiNCIsCiAgImZpbGxPcGFjaXR5IjogMC43LAogICJmaWxsUnVsZSI6ICJldmVub2RkIiwKICAibGluZUNhcCI6ICJyb3VuZCIsCiAgImxpbmVKb2luIjogInJvdW5kIiwKICAib3BhY2l0eSI6IDEuMCwKICAicmFkaXVzIjogNSwKICAic3Ryb2tlIjogdHJ1ZSwKICAid2VpZ2h0IjogMwp9CiAgICAgICAgICAgICAgICApLmFkZFRvKG1hcF9mOTYwMWVmZjhiNTc0YjE5OTNjYjRkNTU2YmI3MWQ1Nik7CiAgICAgICAgICAgIAogICAgCiAgICAgICAgICAgIHZhciBwb3B1cF8zY2JhMzYwOGQ5NWE0MWE1ODZkYjcyYjM1MDk1YmE4ZiA9IEwucG9wdXAoe21heFdpZHRoOiAnMzAwJ30pOwoKICAgICAgICAgICAgCiAgICAgICAgICAgICAgICB2YXIgaHRtbF83Nzk4NzJkMjUyYjY0ZmY2YjcyOTgwZGZhOTQwNTA3NCA9ICQoJzxkaXYgaWQ9Imh0bWxfNzc5ODcyZDI1MmI2NGZmNmI3Mjk4MGRmYTk0MDUwNzQiIHN0eWxlPSJ3aWR0aDogMTAwLjAlOyBoZWlnaHQ6IDEwMC4wJTsiPktoYW4gTWFya2V0IENsdXN0ZXIgMjwvZGl2PicpWzBdOwogICAgICAgICAgICAgICAgcG9wdXBfM2NiYTM2MDhkOTVhNDFhNTg2ZGI3MmIzNTA5NWJhOGYuc2V0Q29udGVudChodG1sXzc3OTg3MmQyNTJiNjRmZjZiNzI5ODBkZmE5NDA1MDc0KTsKICAgICAgICAgICAgCgogICAgICAgICAgICBjaXJjbGVfbWFya2VyXzBjZDU4OTUxZTliOTQ2NDhiY2ViZjEwZTE2YTlhZjE5LmJpbmRQb3B1cChwb3B1cF8zY2JhMzYwOGQ5NWE0MWE1ODZkYjcyYjM1MDk1YmE4Zik7CgogICAgICAgICAgICAKICAgICAgICAKICAgIAogICAgICAgICAgICB2YXIgY2lyY2xlX21hcmtlcl9hOGFiMDc1YWE5MGM0OGMxYjE5NDY0MjdmY2ZmMTM4MCA9IEwuY2lyY2xlTWFya2VyKAogICAgICAgICAgICAgICAgWzI4LjUxMjc5ODIwMDAwMDAwMiw3Ny4yMzIzOTQ5XSwKICAgICAgICAgICAgICAgIHsKICAiYnViYmxpbmdNb3VzZUV2ZW50cyI6IHRydWUsCiAgImNvbG9yIjogIiNmZjAwMDAiLAogICJkYXNoQXJyYXkiOiBudWxsLAogICJkYXNoT2Zmc2V0IjogbnVsbCwKICAiZmlsbCI6IHRydWUsCiAgImZpbGxDb2xvciI6ICIjZmYwMDAwIiwKICAiZmlsbE9wYWNpdHkiOiAwLjcsCiAgImZpbGxSdWxlIjogImV2ZW5vZGQiLAogICJsaW5lQ2FwIjogInJvdW5kIiwKICAibGluZUpvaW4iOiAicm91bmQiLAogICJvcGFjaXR5IjogMS4wLAogICJyYWRpdXMiOiA1LAogICJzdHJva2UiOiB0cnVlLAogICJ3ZWlnaHQiOiAzCn0KICAgICAgICAgICAgICAgICkuYWRkVG8obWFwX2Y5NjAxZWZmOGI1NzRiMTk5M2NiNGQ1NTZiYjcxZDU2KTsKICAgICAgICAgICAgCiAgICAKICAgICAgICAgICAgdmFyIHBvcHVwXzlkZGVhMzkyZTU5NTRlZTc5NDJjNDljOTQyNTcxM2E5ID0gTC5wb3B1cCh7bWF4V2lkdGg6ICczMDAnfSk7CgogICAgICAgICAgICAKICAgICAgICAgICAgICAgIHZhciBodG1sX2NiYzhjMjlmZjQzYTQ0NmE5MDA5ZGExYWQ5NTI3ZTBlID0gJCgnPGRpdiBpZD0iaHRtbF9jYmM4YzI5ZmY0M2E0NDZhOTAwOWRhMWFkOTUyN2UwZSIgc3R5bGU9IndpZHRoOiAxMDAuMCU7IGhlaWdodDogMTAwLjAlOyI+S2hhbnB1ciBDbHVzdGVyIDA8L2Rpdj4nKVswXTsKICAgICAgICAgICAgICAgIHBvcHVwXzlkZGVhMzkyZTU5NTRlZTc5NDJjNDljOTQyNTcxM2E5LnNldENvbnRlbnQoaHRtbF9jYmM4YzI5ZmY0M2E0NDZhOTAwOWRhMWFkOTUyN2UwZSk7CiAgICAgICAgICAgIAoKICAgICAgICAgICAgY2lyY2xlX21hcmtlcl9hOGFiMDc1YWE5MGM0OGMxYjE5NDY0MjdmY2ZmMTM4MC5iaW5kUG9wdXAocG9wdXBfOWRkZWEzOTJlNTk1NGVlNzk0MmM0OWM5NDI1NzEzYTkpOwoKICAgICAgICAgICAgCiAgICAgICAgCiAgICAKICAgICAgICAgICAgdmFyIGNpcmNsZV9tYXJrZXJfZDBjYzIwY2RkY2U4NGJhMzgzODNjODJiZjliZDZjOTAgPSBMLmNpcmNsZU1hcmtlcigKICAgICAgICAgICAgICAgIFsyOC41Mjk4ODUxOTk5OTk5OTUsNzcuMjE4MDc3MDk5OTk5OTddLAogICAgICAgICAgICAgICAgewogICJidWJibGluZ01vdXNlRXZlbnRzIjogdHJ1ZSwKICAiY29sb3IiOiAiIzgwMDBmZiIsCiAgImRhc2hBcnJheSI6IG51bGwsCiAgImRhc2hPZmZzZXQiOiBudWxsLAogICJmaWxsIjogdHJ1ZSwKICAiZmlsbENvbG9yIjogIiM4MDAwZmYiLAogICJmaWxsT3BhY2l0eSI6IDAuNywKICAiZmlsbFJ1bGUiOiAiZXZlbm9kZCIsCiAgImxpbmVDYXAiOiAicm91bmQiLAogICJsaW5lSm9pbiI6ICJyb3VuZCIsCiAgIm9wYWNpdHkiOiAxLjAsCiAgInJhZGl1cyI6IDUsCiAgInN0cm9rZSI6IHRydWUsCiAgIndlaWdodCI6IDMKfQogICAgICAgICAgICAgICAgKS5hZGRUbyhtYXBfZjk2MDFlZmY4YjU3NGIxOTkzY2I0ZDU1NmJiNzFkNTYpOwogICAgICAgICAgICAKICAgIAogICAgICAgICAgICB2YXIgcG9wdXBfOTA5NjNkN2E1MzY5NDQ2YmI4YmQwNGVkM2I5NWY3OGMgPSBMLnBvcHVwKHttYXhXaWR0aDogJzMwMCd9KTsKCiAgICAgICAgICAgIAogICAgICAgICAgICAgICAgdmFyIGh0bWxfY2NmYjBjYzU2YzQwNDA3ZWJkNjhhMzdkNjBhYTJhYWUgPSAkKCc8ZGl2IGlkPSJodG1sX2NjZmIwY2M1NmM0MDQwN2ViZDY4YTM3ZDYwYWEyYWFlIiBzdHlsZT0id2lkdGg6IDEwMC4wJTsgaGVpZ2h0OiAxMDAuMCU7Ij5LaGlya2kgVmlsbGFnZSBDbHVzdGVyIDE8L2Rpdj4nKVswXTsKICAgICAgICAgICAgICAgIHBvcHVwXzkwOTYzZDdhNTM2OTQ0NmJiOGJkMDRlZDNiOTVmNzhjLnNldENvbnRlbnQoaHRtbF9jY2ZiMGNjNTZjNDA0MDdlYmQ2OGEzN2Q2MGFhMmFhZSk7CiAgICAgICAgICAgIAoKICAgICAgICAgICAgY2lyY2xlX21hcmtlcl9kMGNjMjBjZGRjZTg0YmEzODM4M2M4MmJmOWJkNmM5MC5iaW5kUG9wdXAocG9wdXBfOTA5NjNkN2E1MzY5NDQ2YmI4YmQwNGVkM2I5NWY3OGMpOwoKICAgICAgICAgICAgCiAgICAgICAgCiAgICAKICAgICAgICAgICAgdmFyIGNpcmNsZV9tYXJrZXJfNGYyYmZjZTczNGQxNGYzZDkwY2UxMzNhZjJhMGRmNDAgPSBMLmNpcmNsZU1hcmtlcigKICAgICAgICAgICAgICAgIFsyOC41NjU0NjIyOTk5OTk5OTcsNzcuMjQ1NjI3MTk5OTk5OTldLAogICAgICAgICAgICAgICAgewogICJidWJibGluZ01vdXNlRXZlbnRzIjogdHJ1ZSwKICAiY29sb3IiOiAiI2ZmMDAwMCIsCiAgImRhc2hBcnJheSI6IG51bGwsCiAgImRhc2hPZmZzZXQiOiBudWxsLAogICJmaWxsIjogdHJ1ZSwKICAiZmlsbENvbG9yIjogIiNmZjAwMDAiLAogICJmaWxsT3BhY2l0eSI6IDAuNywKICAiZmlsbFJ1bGUiOiAiZXZlbm9kZCIsCiAgImxpbmVDYXAiOiAicm91bmQiLAogICJsaW5lSm9pbiI6ICJyb3VuZCIsCiAgIm9wYWNpdHkiOiAxLjAsCiAgInJhZGl1cyI6IDUsCiAgInN0cm9rZSI6IHRydWUsCiAgIndlaWdodCI6IDMKfQogICAgICAgICAgICAgICAgKS5hZGRUbyhtYXBfZjk2MDFlZmY4YjU3NGIxOTkzY2I0ZDU1NmJiNzFkNTYpOwogICAgICAgICAgICAKICAgIAogICAgICAgICAgICB2YXIgcG9wdXBfN2I5OGRiZmExNjczNDM3ZWExM2MwNzFmMWI0YTA3NGQgPSBMLnBvcHVwKHttYXhXaWR0aDogJzMwMCd9KTsKCiAgICAgICAgICAgIAogICAgICAgICAgICAgICAgdmFyIGh0bWxfMWU5N2VhYWQwY2VmNGEzYmE2NTU5NTMxZWI0MDIwNjAgPSAkKCc8ZGl2IGlkPSJodG1sXzFlOTdlYWFkMGNlZjRhM2JhNjU1OTUzMWViNDAyMDYwIiBzdHlsZT0id2lkdGg6IDEwMC4wJTsgaGVpZ2h0OiAxMDAuMCU7Ij5MYWpwYXQgTmFnYXIgQ2x1c3RlciAwPC9kaXY+JylbMF07CiAgICAgICAgICAgICAgICBwb3B1cF83Yjk4ZGJmYTE2NzM0MzdlYTEzYzA3MWYxYjRhMDc0ZC5zZXRDb250ZW50KGh0bWxfMWU5N2VhYWQwY2VmNGEzYmE2NTU5NTMxZWI0MDIwNjApOwogICAgICAgICAgICAKCiAgICAgICAgICAgIGNpcmNsZV9tYXJrZXJfNGYyYmZjZTczNGQxNGYzZDkwY2UxMzNhZjJhMGRmNDAuYmluZFBvcHVwKHBvcHVwXzdiOThkYmZhMTY3MzQzN2VhMTNjMDcxZjFiNGEwNzRkKTsKCiAgICAgICAgICAgIAogICAgICAgIAogICAgCiAgICAgICAgICAgIHZhciBjaXJjbGVfbWFya2VyXzg3NjljMzkxNTc1OTQ4NDFiODAwMWNmN2VkM2JhMDAwID0gTC5jaXJjbGVNYXJrZXIoCiAgICAgICAgICAgICAgICBbMjguNTkwNzAyMTUsNzcuMjIwOTIwNTczMTU4NzldLAogICAgICAgICAgICAgICAgewogICJidWJibGluZ01vdXNlRXZlbnRzIjogdHJ1ZSwKICAiY29sb3IiOiAiI2ZmMDAwMCIsCiAgImRhc2hBcnJheSI6IG51bGwsCiAgImRhc2hPZmZzZXQiOiBudWxsLAogICJmaWxsIjogdHJ1ZSwKICAiZmlsbENvbG9yIjogIiNmZjAwMDAiLAogICJmaWxsT3BhY2l0eSI6IDAuNywKICAiZmlsbFJ1bGUiOiAiZXZlbm9kZCIsCiAgImxpbmVDYXAiOiAicm91bmQiLAogICJsaW5lSm9pbiI6ICJyb3VuZCIsCiAgIm9wYWNpdHkiOiAxLjAsCiAgInJhZGl1cyI6IDUsCiAgInN0cm9rZSI6IHRydWUsCiAgIndlaWdodCI6IDMKfQogICAgICAgICAgICAgICAgKS5hZGRUbyhtYXBfZjk2MDFlZmY4YjU3NGIxOTkzY2I0ZDU1NmJiNzFkNTYpOwogICAgICAgICAgICAKICAgIAogICAgICAgICAgICB2YXIgcG9wdXBfNWMyMjE5MjU5MTc4NDhjMWE4M2JkNTBmMDhiNTMzYzMgPSBMLnBvcHVwKHttYXhXaWR0aDogJzMwMCd9KTsKCiAgICAgICAgICAgIAogICAgICAgICAgICAgICAgdmFyIGh0bWxfMmNjZTlhM2YwMjgwNDdiNjlmMTc3OGQ4NWNmYzJhNmQgPSAkKCc8ZGl2IGlkPSJodG1sXzJjY2U5YTNmMDI4MDQ3YjY5ZjE3NzhkODVjZmMyYTZkIiBzdHlsZT0id2lkdGg6IDEwMC4wJTsgaGVpZ2h0OiAxMDAuMCU7Ij5Mb2RpIENvbG9ueSBDbHVzdGVyIDA8L2Rpdj4nKVswXTsKICAgICAgICAgICAgICAgIHBvcHVwXzVjMjIxOTI1OTE3ODQ4YzFhODNiZDUwZjA4YjUzM2MzLnNldENvbnRlbnQoaHRtbF8yY2NlOWEzZjAyODA0N2I2OWYxNzc4ZDg1Y2ZjMmE2ZCk7CiAgICAgICAgICAgIAoKICAgICAgICAgICAgY2lyY2xlX21hcmtlcl84NzY5YzM5MTU3NTk0ODQxYjgwMDFjZjdlZDNiYTAwMC5iaW5kUG9wdXAocG9wdXBfNWMyMjE5MjU5MTc4NDhjMWE4M2JkNTBmMDhiNTMzYzMpOwoKICAgICAgICAgICAgCiAgICAgICAgCiAgICAKICAgICAgICAgICAgdmFyIGNpcmNsZV9tYXJrZXJfOWYxZGI2Mzc5NzZjNDJhNWI3ZTgwYWViNmE2YWMwNTEgPSBMLmNpcmNsZU1hcmtlcigKICAgICAgICAgICAgICAgIFsyOC41NzIwMDEzMDAwMDAwMDQsNzcuMjYzMzcxOF0sCiAgICAgICAgICAgICAgICB7CiAgImJ1YmJsaW5nTW91c2VFdmVudHMiOiB0cnVlLAogICJjb2xvciI6ICIjZmYwMDAwIiwKICAiZGFzaEFycmF5IjogbnVsbCwKICAiZGFzaE9mZnNldCI6IG51bGwsCiAgImZpbGwiOiB0cnVlLAogICJmaWxsQ29sb3IiOiAiI2ZmMDAwMCIsCiAgImZpbGxPcGFjaXR5IjogMC43LAogICJmaWxsUnVsZSI6ICJldmVub2RkIiwKICAibGluZUNhcCI6ICJyb3VuZCIsCiAgImxpbmVKb2luIjogInJvdW5kIiwKICAib3BhY2l0eSI6IDEuMCwKICAicmFkaXVzIjogNSwKICAic3Ryb2tlIjogdHJ1ZSwKICAid2VpZ2h0IjogMwp9CiAgICAgICAgICAgICAgICApLmFkZFRvKG1hcF9mOTYwMWVmZjhiNTc0YjE5OTNjYjRkNTU2YmI3MWQ1Nik7CiAgICAgICAgICAgIAogICAgCiAgICAgICAgICAgIHZhciBwb3B1cF9mYjQ2M2M5ODAyOWQ0OTlmYWM3NjEzYTlkMWQwNTU4ZiA9IEwucG9wdXAoe21heFdpZHRoOiAnMzAwJ30pOwoKICAgICAgICAgICAgCiAgICAgICAgICAgICAgICB2YXIgaHRtbF9kYjVhOTI5MjY5YTY0YWY4YjNlMjM3ZWM0ZTVhOTc5NyA9ICQoJzxkaXYgaWQ9Imh0bWxfZGI1YTkyOTI2OWE2NGFmOGIzZTIzN2VjNGU1YTk3OTciIHN0eWxlPSJ3aWR0aDogMTAwLjAlOyBoZWlnaHQ6IDEwMC4wJTsiPk1haGFyYW5pIEJhZ2ggQ2x1c3RlciAwPC9kaXY+JylbMF07CiAgICAgICAgICAgICAgICBwb3B1cF9mYjQ2M2M5ODAyOWQ0OTlmYWM3NjEzYTlkMWQwNTU4Zi5zZXRDb250ZW50KGh0bWxfZGI1YTkyOTI2OWE2NGFmOGIzZTIzN2VjNGU1YTk3OTcpOwogICAgICAgICAgICAKCiAgICAgICAgICAgIGNpcmNsZV9tYXJrZXJfOWYxZGI2Mzc5NzZjNDJhNWI3ZTgwYWViNmE2YWMwNTEuYmluZFBvcHVwKHBvcHVwX2ZiNDYzYzk4MDI5ZDQ5OWZhYzc2MTNhOWQxZDA1NThmKTsKCiAgICAgICAgICAgIAogICAgICAgIAogICAgCiAgICAgICAgICAgIHZhciBjaXJjbGVfbWFya2VyX2QwZTJmN2VmMDAyYjQwZjg5NmY2ZWQ5YWVkYzdmNDgzID0gTC5jaXJjbGVNYXJrZXIoCiAgICAgICAgICAgICAgICBbMjguNTMzOTIwMDk5OTk5OTk2LDc3LjIxMjQ0NzM5OTk5OTk5XSwKICAgICAgICAgICAgICAgIHsKICAiYnViYmxpbmdNb3VzZUV2ZW50cyI6IHRydWUsCiAgImNvbG9yIjogIiNmZjAwMDAiLAogICJkYXNoQXJyYXkiOiBudWxsLAogICJkYXNoT2Zmc2V0IjogbnVsbCwKICAiZmlsbCI6IHRydWUsCiAgImZpbGxDb2xvciI6ICIjZmYwMDAwIiwKICAiZmlsbE9wYWNpdHkiOiAwLjcsCiAgImZpbGxSdWxlIjogImV2ZW5vZGQiLAogICJsaW5lQ2FwIjogInJvdW5kIiwKICAibGluZUpvaW4iOiAicm91bmQiLAogICJvcGFjaXR5IjogMS4wLAogICJyYWRpdXMiOiA1LAogICJzdHJva2UiOiB0cnVlLAogICJ3ZWlnaHQiOiAzCn0KICAgICAgICAgICAgICAgICkuYWRkVG8obWFwX2Y5NjAxZWZmOGI1NzRiMTk5M2NiNGQ1NTZiYjcxZDU2KTsKICAgICAgICAgICAgCiAgICAKICAgICAgICAgICAgdmFyIHBvcHVwXzkwNGU4NjllMWVjZjRmNjg4ZGY5NzM3ZWM0OGY4MTJhID0gTC5wb3B1cCh7bWF4V2lkdGg6ICczMDAnfSk7CgogICAgICAgICAgICAKICAgICAgICAgICAgICAgIHZhciBodG1sX2E4MDM4YzNlMWIxNDRjM2VhNWRmMzE1YjNjZDI4ODQ2ID0gJCgnPGRpdiBpZD0iaHRtbF9hODAzOGMzZTFiMTQ0YzNlYTVkZjMxNWIzY2QyODg0NiIgc3R5bGU9IndpZHRoOiAxMDAuMCU7IGhlaWdodDogMTAwLjAlOyI+TWFsdml5YSBOYWdhciBDbHVzdGVyIDA8L2Rpdj4nKVswXTsKICAgICAgICAgICAgICAgIHBvcHVwXzkwNGU4NjllMWVjZjRmNjg4ZGY5NzM3ZWM0OGY4MTJhLnNldENvbnRlbnQoaHRtbF9hODAzOGMzZTFiMTQ0YzNlYTVkZjMxNWIzY2QyODg0Nik7CiAgICAgICAgICAgIAoKICAgICAgICAgICAgY2lyY2xlX21hcmtlcl9kMGUyZjdlZjAwMmI0MGY4OTZmNmVkOWFlZGM3ZjQ4My5iaW5kUG9wdXAocG9wdXBfOTA0ZTg2OWUxZWNmNGY2ODhkZjk3MzdlYzQ4ZjgxMmEpOwoKICAgICAgICAgICAgCiAgICAgICAgCiAgICAKICAgICAgICAgICAgdmFyIGNpcmNsZV9tYXJrZXJfMzJmMTJmNjc0ZTVjNDllNzg4MmQyNTJiOGRmZTM5ZjIgPSBMLmNpcmNsZU1hcmtlcigKICAgICAgICAgICAgICAgIFsyOC41MjE4MjYyMDAwMDAwMDMsNzcuMTc4MzIzMjAwMDAwMDFdLAogICAgICAgICAgICAgICAgewogICJidWJibGluZ01vdXNlRXZlbnRzIjogdHJ1ZSwKICAiY29sb3IiOiAiI2ZmMDAwMCIsCiAgImRhc2hBcnJheSI6IG51bGwsCiAgImRhc2hPZmZzZXQiOiBudWxsLAogICJmaWxsIjogdHJ1ZSwKICAiZmlsbENvbG9yIjogIiNmZjAwMDAiLAogICJmaWxsT3BhY2l0eSI6IDAuNywKICAiZmlsbFJ1bGUiOiAiZXZlbm9kZCIsCiAgImxpbmVDYXAiOiAicm91bmQiLAogICJsaW5lSm9pbiI6ICJyb3VuZCIsCiAgIm9wYWNpdHkiOiAxLjAsCiAgInJhZGl1cyI6IDUsCiAgInN0cm9rZSI6IHRydWUsCiAgIndlaWdodCI6IDMKfQogICAgICAgICAgICAgICAgKS5hZGRUbyhtYXBfZjk2MDFlZmY4YjU3NGIxOTkzY2I0ZDU1NmJiNzFkNTYpOwogICAgICAgICAgICAKICAgIAogICAgICAgICAgICB2YXIgcG9wdXBfYjM5Y2NiZDZhNGM5NDY2Njk2MTliZTg5Nzk1ZmI2ZjUgPSBMLnBvcHVwKHttYXhXaWR0aDogJzMwMCd9KTsKCiAgICAgICAgICAgIAogICAgICAgICAgICAgICAgdmFyIGh0bWxfNDcyMzFmNTk4YmVjNDhkMGE1ZjQ0YjgyYjE1ZWViZDAgPSAkKCc8ZGl2IGlkPSJodG1sXzQ3MjMxZjU5OGJlYzQ4ZDBhNWY0NGI4MmIxNWVlYmQwIiBzdHlsZT0id2lkdGg6IDEwMC4wJTsgaGVpZ2h0OiAxMDAuMCU7Ij5NZWhyYXVsaSBDbHVzdGVyIDA8L2Rpdj4nKVswXTsKICAgICAgICAgICAgICAgIHBvcHVwX2IzOWNjYmQ2YTRjOTQ2NjY5NjE5YmU4OTc5NWZiNmY1LnNldENvbnRlbnQoaHRtbF80NzIzMWY1OThiZWM0OGQwYTVmNDRiODJiMTVlZWJkMCk7CiAgICAgICAgICAgIAoKICAgICAgICAgICAgY2lyY2xlX21hcmtlcl8zMmYxMmY2NzRlNWM0OWU3ODgyZDI1MmI4ZGZlMzlmMi5iaW5kUG9wdXAocG9wdXBfYjM5Y2NiZDZhNGM5NDY2Njk2MTliZTg5Nzk1ZmI2ZjUpOwoKICAgICAgICAgICAgCiAgICAgICAgCiAgICAKICAgICAgICAgICAgdmFyIGNpcmNsZV9tYXJrZXJfN2Q4ODAwYzQyZjkxNDQxOGI5MWNlNDc3Zjk5YmY2ZWMgPSBMLmNpcmNsZU1hcmtlcigKICAgICAgICAgICAgICAgIFsyOC41NTkyNTExLDc3LjIxNjE2NjVdLAogICAgICAgICAgICAgICAgewogICJidWJibGluZ01vdXNlRXZlbnRzIjogdHJ1ZSwKICAiY29sb3IiOiAiIzgwZmZiNCIsCiAgImRhc2hBcnJheSI6IG51bGwsCiAgImRhc2hPZmZzZXQiOiBudWxsLAogICJmaWxsIjogdHJ1ZSwKICAiZmlsbENvbG9yIjogIiM4MGZmYjQiLAogICJmaWxsT3BhY2l0eSI6IDAuNywKICAiZmlsbFJ1bGUiOiAiZXZlbm9kZCIsCiAgImxpbmVDYXAiOiAicm91bmQiLAogICJsaW5lSm9pbiI6ICJyb3VuZCIsCiAgIm9wYWNpdHkiOiAxLjAsCiAgInJhZGl1cyI6IDUsCiAgInN0cm9rZSI6IHRydWUsCiAgIndlaWdodCI6IDMKfQogICAgICAgICAgICAgICAgKS5hZGRUbyhtYXBfZjk2MDFlZmY4YjU3NGIxOTkzY2I0ZDU1NmJiNzFkNTYpOwogICAgICAgICAgICAKICAgIAogICAgICAgICAgICB2YXIgcG9wdXBfMTNlNzU4NTlkMTlhNDRkYzg3NTMxN2RlY2U1M2ZkN2IgPSBMLnBvcHVwKHttYXhXaWR0aDogJzMwMCd9KTsKCiAgICAgICAgICAgIAogICAgICAgICAgICAgICAgdmFyIGh0bWxfMmUwMzRkYWFhYzRhNGE1OGE3ZTgzZTg1ZTI2M2UzNWQgPSAkKCc8ZGl2IGlkPSJodG1sXzJlMDM0ZGFhYWM0YTRhNThhN2U4M2U4NWUyNjNlMzVkIiBzdHlsZT0id2lkdGg6IDEwMC4wJTsgaGVpZ2h0OiAxMDAuMCU7Ij5OZWV0aSBCYWdoIENsdXN0ZXIgMjwvZGl2PicpWzBdOwogICAgICAgICAgICAgICAgcG9wdXBfMTNlNzU4NTlkMTlhNDRkYzg3NTMxN2RlY2U1M2ZkN2Iuc2V0Q29udGVudChodG1sXzJlMDM0ZGFhYWM0YTRhNThhN2U4M2U4NWUyNjNlMzVkKTsKICAgICAgICAgICAgCgogICAgICAgICAgICBjaXJjbGVfbWFya2VyXzdkODgwMGM0MmY5MTQ0MThiOTFjZTQ3N2Y5OWJmNmVjLmJpbmRQb3B1cChwb3B1cF8xM2U3NTg1OWQxOWE0NGRjODc1MzE3ZGVjZTUzZmQ3Yik7CgogICAgICAgICAgICAKICAgICAgICAKICAgIAogICAgICAgICAgICB2YXIgY2lyY2xlX21hcmtlcl8zMTkyMDU5NDVjZWE0NDcwOWQ5ZTRhNWIxZWQzODc4ZCA9IEwuY2lyY2xlTWFya2VyKAogICAgICAgICAgICAgICAgWzI4LjU0OTI1NzM1LDc3LjI1Mjk1MTk5NTA4ODIxXSwKICAgICAgICAgICAgICAgIHsKICAiYnViYmxpbmdNb3VzZUV2ZW50cyI6IHRydWUsCiAgImNvbG9yIjogIiM4MGZmYjQiLAogICJkYXNoQXJyYXkiOiBudWxsLAogICJkYXNoT2Zmc2V0IjogbnVsbCwKICAiZmlsbCI6IHRydWUsCiAgImZpbGxDb2xvciI6ICIjODBmZmI0IiwKICAiZmlsbE9wYWNpdHkiOiAwLjcsCiAgImZpbGxSdWxlIjogImV2ZW5vZGQiLAogICJsaW5lQ2FwIjogInJvdW5kIiwKICAibGluZUpvaW4iOiAicm91bmQiLAogICJvcGFjaXR5IjogMS4wLAogICJyYWRpdXMiOiA1LAogICJzdHJva2UiOiB0cnVlLAogICJ3ZWlnaHQiOiAzCn0KICAgICAgICAgICAgICAgICkuYWRkVG8obWFwX2Y5NjAxZWZmOGI1NzRiMTk5M2NiNGQ1NTZiYjcxZDU2KTsKICAgICAgICAgICAgCiAgICAKICAgICAgICAgICAgdmFyIHBvcHVwXzZkODNkODJiYTRmOTRjYjhhNmMyMTIxNzkyYjc0Yjg0ID0gTC5wb3B1cCh7bWF4V2lkdGg6ICczMDAnfSk7CgogICAgICAgICAgICAKICAgICAgICAgICAgICAgIHZhciBodG1sX2VkMTcxYjEzYmU2YTQ4MzliY2Y3N2M4ODU5MjEyNmFlID0gJCgnPGRpdiBpZD0iaHRtbF9lZDE3MWIxM2JlNmE0ODM5YmNmNzdjODg1OTIxMjZhZSIgc3R5bGU9IndpZHRoOiAxMDAuMCU7IGhlaWdodDogMTAwLjAlOyI+TmVocnUgUGxhY2UgQ2x1c3RlciAyPC9kaXY+JylbMF07CiAgICAgICAgICAgICAgICBwb3B1cF82ZDgzZDgyYmE0Zjk0Y2I4YTZjMjEyMTc5MmI3NGI4NC5zZXRDb250ZW50KGh0bWxfZWQxNzFiMTNiZTZhNDgzOWJjZjc3Yzg4NTkyMTI2YWUpOwogICAgICAgICAgICAKCiAgICAgICAgICAgIGNpcmNsZV9tYXJrZXJfMzE5MjA1OTQ1Y2VhNDQ3MDlkOWU0YTViMWVkMzg3OGQuYmluZFBvcHVwKHBvcHVwXzZkODNkODJiYTRmOTRjYjhhNmMyMTIxNzkyYjc0Yjg0KTsKCiAgICAgICAgICAgIAogICAgICAgIAogICAgCiAgICAgICAgICAgIHZhciBjaXJjbGVfbWFya2VyXzhiNmE3MWJlZTVjYzQ2N2I5MTU0YTcwYTVkYTA2NWQzID0gTC5jaXJjbGVNYXJrZXIoCiAgICAgICAgICAgICAgICBbMjguNTczNTM0Mjk5OTk5OTk1LDc3LjE4NjM1OTI5OTk5OTk5XSwKICAgICAgICAgICAgICAgIHsKICAiYnViYmxpbmdNb3VzZUV2ZW50cyI6IHRydWUsCiAgImNvbG9yIjogIiNmZjAwMDAiLAogICJkYXNoQXJyYXkiOiBudWxsLAogICJkYXNoT2Zmc2V0IjogbnVsbCwKICAiZmlsbCI6IHRydWUsCiAgImZpbGxDb2xvciI6ICIjZmYwMDAwIiwKICAiZmlsbE9wYWNpdHkiOiAwLjcsCiAgImZpbGxSdWxlIjogImV2ZW5vZGQiLAogICJsaW5lQ2FwIjogInJvdW5kIiwKICAibGluZUpvaW4iOiAicm91bmQiLAogICJvcGFjaXR5IjogMS4wLAogICJyYWRpdXMiOiA1LAogICJzdHJva2UiOiB0cnVlLAogICJ3ZWlnaHQiOiAzCn0KICAgICAgICAgICAgICAgICkuYWRkVG8obWFwX2Y5NjAxZWZmOGI1NzRiMTk5M2NiNGQ1NTZiYjcxZDU2KTsKICAgICAgICAgICAgCiAgICAKICAgICAgICAgICAgdmFyIHBvcHVwX2MyMDFjMGY0NDZkMTRiNjY5NWQ4MTYyZDgzOTQ3MjA0ID0gTC5wb3B1cCh7bWF4V2lkdGg6ICczMDAnfSk7CgogICAgICAgICAgICAKICAgICAgICAgICAgICAgIHZhciBodG1sXzNhYjYyNTBlYmVhMDQ0Njg4OWY2MTgxZDk0MzFkNWNhID0gJCgnPGRpdiBpZD0iaHRtbF8zYWI2MjUwZWJlYTA0NDY4ODlmNjE4MWQ5NDMxZDVjYSIgc3R5bGU9IndpZHRoOiAxMDAuMCU7IGhlaWdodDogMTAwLjAlOyI+TmV0YWppIE5hZ2FyIENsdXN0ZXIgMDwvZGl2PicpWzBdOwogICAgICAgICAgICAgICAgcG9wdXBfYzIwMWMwZjQ0NmQxNGI2Njk1ZDgxNjJkODM5NDcyMDQuc2V0Q29udGVudChodG1sXzNhYjYyNTBlYmVhMDQ0Njg4OWY2MTgxZDk0MzFkNWNhKTsKICAgICAgICAgICAgCgogICAgICAgICAgICBjaXJjbGVfbWFya2VyXzhiNmE3MWJlZTVjYzQ2N2I5MTU0YTcwYTVkYTA2NWQzLmJpbmRQb3B1cChwb3B1cF9jMjAxYzBmNDQ2ZDE0YjY2OTVkODE2MmQ4Mzk0NzIwNCk7CgogICAgICAgICAgICAKICAgICAgICAKICAgIAogICAgICAgICAgICB2YXIgY2lyY2xlX21hcmtlcl9mNzVhOTk4OTVmZjU0MTQ5YTE5OThkNmU3N2FkYWIxMSA9IEwuY2lyY2xlTWFya2VyKAogICAgICAgICAgICAgICAgWzI4LjU2NzEwMDgwMDAwMDAwMiw3Ny4yNjk3NjQyOTk5OTk5OV0sCiAgICAgICAgICAgICAgICB7CiAgImJ1YmJsaW5nTW91c2VFdmVudHMiOiB0cnVlLAogICJjb2xvciI6ICIjZmYwMDAwIiwKICAiZGFzaEFycmF5IjogbnVsbCwKICAiZGFzaE9mZnNldCI6IG51bGwsCiAgImZpbGwiOiB0cnVlLAogICJmaWxsQ29sb3IiOiAiI2ZmMDAwMCIsCiAgImZpbGxPcGFjaXR5IjogMC43LAogICJmaWxsUnVsZSI6ICJldmVub2RkIiwKICAibGluZUNhcCI6ICJyb3VuZCIsCiAgImxpbmVKb2luIjogInJvdW5kIiwKICAib3BhY2l0eSI6IDEuMCwKICAicmFkaXVzIjogNSwKICAic3Ryb2tlIjogdHJ1ZSwKICAid2VpZ2h0IjogMwp9CiAgICAgICAgICAgICAgICApLmFkZFRvKG1hcF9mOTYwMWVmZjhiNTc0YjE5OTNjYjRkNTU2YmI3MWQ1Nik7CiAgICAgICAgICAgIAogICAgCiAgICAgICAgICAgIHZhciBwb3B1cF9hYjA0ZjM2N2VkMjc0MWExYjE1MDNlZTUzN2FhYmVmOCA9IEwucG9wdXAoe21heFdpZHRoOiAnMzAwJ30pOwoKICAgICAgICAgICAgCiAgICAgICAgICAgICAgICB2YXIgaHRtbF8zYjg3MGU3NTM5ZjE0ZGI5OWUzMDIzN2Q1MjBmMmFlMiA9ICQoJzxkaXYgaWQ9Imh0bWxfM2I4NzBlNzUzOWYxNGRiOTllMzAyMzdkNTIwZjJhZTIiIHN0eWxlPSJ3aWR0aDogMTAwLjAlOyBoZWlnaHQ6IDEwMC4wJTsiPk5ldyBGcmllbmRzIENvbG9ueSBDbHVzdGVyIDA8L2Rpdj4nKVswXTsKICAgICAgICAgICAgICAgIHBvcHVwX2FiMDRmMzY3ZWQyNzQxYTFiMTUwM2VlNTM3YWFiZWY4LnNldENvbnRlbnQoaHRtbF8zYjg3MGU3NTM5ZjE0ZGI5OWUzMDIzN2Q1MjBmMmFlMik7CiAgICAgICAgICAgIAoKICAgICAgICAgICAgY2lyY2xlX21hcmtlcl9mNzVhOTk4OTVmZjU0MTQ5YTE5OThkNmU3N2FkYWIxMS5iaW5kUG9wdXAocG9wdXBfYWIwNGYzNjdlZDI3NDFhMWIxNTAzZWU1MzdhYWJlZjgpOwoKICAgICAgICAgICAgCiAgICAgICAgCiAgICAKICAgICAgICAgICAgdmFyIGNpcmNsZV9tYXJrZXJfYWRlYWIzNmZlMTI1NGYyN2IwMjgzNDhjMTBiZWY5OWYgPSBMLmNpcmNsZU1hcmtlcigKICAgICAgICAgICAgICAgIFsyOC41ODgzNjUwMDAwMDAwMDMsNzcuMjQ0OTU0Nl0sCiAgICAgICAgICAgICAgICB7CiAgImJ1YmJsaW5nTW91c2VFdmVudHMiOiB0cnVlLAogICJjb2xvciI6ICIjZmYwMDAwIiwKICAiZGFzaEFycmF5IjogbnVsbCwKICAiZGFzaE9mZnNldCI6IG51bGwsCiAgImZpbGwiOiB0cnVlLAogICJmaWxsQ29sb3IiOiAiI2ZmMDAwMCIsCiAgImZpbGxPcGFjaXR5IjogMC43LAogICJmaWxsUnVsZSI6ICJldmVub2RkIiwKICAibGluZUNhcCI6ICJyb3VuZCIsCiAgImxpbmVKb2luIjogInJvdW5kIiwKICAib3BhY2l0eSI6IDEuMCwKICAicmFkaXVzIjogNSwKICAic3Ryb2tlIjogdHJ1ZSwKICAid2VpZ2h0IjogMwp9CiAgICAgICAgICAgICAgICApLmFkZFRvKG1hcF9mOTYwMWVmZjhiNTc0YjE5OTNjYjRkNTU2YmI3MWQ1Nik7CiAgICAgICAgICAgIAogICAgCiAgICAgICAgICAgIHZhciBwb3B1cF9hOGYzYjZlOGY1YTM0NDJiYTRkZjYzYzU3YmE2ODVkNSA9IEwucG9wdXAoe21heFdpZHRoOiAnMzAwJ30pOwoKICAgICAgICAgICAgCiAgICAgICAgICAgICAgICB2YXIgaHRtbF8wNDQ1YjViNGVjNTE0MDVhOTBiMWM2MDQ2ZWJjNzRiNiA9ICQoJzxkaXYgaWQ9Imh0bWxfMDQ0NWI1YjRlYzUxNDA1YTkwYjFjNjA0NmViYzc0YjYiIHN0eWxlPSJ3aWR0aDogMTAwLjAlOyBoZWlnaHQ6IDEwMC4wJTsiPk5pemFtdWRkaW4gV2VzdCBDbHVzdGVyIDA8L2Rpdj4nKVswXTsKICAgICAgICAgICAgICAgIHBvcHVwX2E4ZjNiNmU4ZjVhMzQ0MmJhNGRmNjNjNTdiYTY4NWQ1LnNldENvbnRlbnQoaHRtbF8wNDQ1YjViNGVjNTE0MDVhOTBiMWM2MDQ2ZWJjNzRiNik7CiAgICAgICAgICAgIAoKICAgICAgICAgICAgY2lyY2xlX21hcmtlcl9hZGVhYjM2ZmUxMjU0ZjI3YjAyODM0OGMxMGJlZjk5Zi5iaW5kUG9wdXAocG9wdXBfYThmM2I2ZThmNWEzNDQyYmE0ZGY2M2M1N2JhNjg1ZDUpOwoKICAgICAgICAgICAgCiAgICAgICAgCiAgICAKICAgICAgICAgICAgdmFyIGNpcmNsZV9tYXJrZXJfY2QxOTU0ZmMzZTQ1NGQ3NWI1Y2VjZTY0MzIwNjBjZmYgPSBMLmNpcmNsZU1hcmtlcigKICAgICAgICAgICAgICAgIFsyOC41NjM2NjE2LDc3LjI4OTA1NDZdLAogICAgICAgICAgICAgICAgewogICJidWJibGluZ01vdXNlRXZlbnRzIjogdHJ1ZSwKICAiY29sb3IiOiAiI2ZmMDAwMCIsCiAgImRhc2hBcnJheSI6IG51bGwsCiAgImRhc2hPZmZzZXQiOiBudWxsLAogICJmaWxsIjogdHJ1ZSwKICAiZmlsbENvbG9yIjogIiNmZjAwMDAiLAogICJmaWxsT3BhY2l0eSI6IDAuNywKICAiZmlsbFJ1bGUiOiAiZXZlbm9kZCIsCiAgImxpbmVDYXAiOiAicm91bmQiLAogICJsaW5lSm9pbiI6ICJyb3VuZCIsCiAgIm9wYWNpdHkiOiAxLjAsCiAgInJhZGl1cyI6IDUsCiAgInN0cm9rZSI6IHRydWUsCiAgIndlaWdodCI6IDMKfQogICAgICAgICAgICAgICAgKS5hZGRUbyhtYXBfZjk2MDFlZmY4YjU3NGIxOTkzY2I0ZDU1NmJiNzFkNTYpOwogICAgICAgICAgICAKICAgIAogICAgICAgICAgICB2YXIgcG9wdXBfZWU0ZTM2ZmRkNDkwNGFlNjk4MzRhZDI4ZmQwNmU4MTcgPSBMLnBvcHVwKHttYXhXaWR0aDogJzMwMCd9KTsKCiAgICAgICAgICAgIAogICAgICAgICAgICAgICAgdmFyIGh0bWxfYzM1MzJiNjIzOWVkNDZkY2I1ZWE1OGJkMDllNjY5YjYgPSAkKCc8ZGl2IGlkPSJodG1sX2MzNTMyYjYyMzllZDQ2ZGNiNWVhNThiZDA5ZTY2OWI2IiBzdHlsZT0id2lkdGg6IDEwMC4wJTsgaGVpZ2h0OiAxMDAuMCU7Ij5Pa2hsYSBDbHVzdGVyIDA8L2Rpdj4nKVswXTsKICAgICAgICAgICAgICAgIHBvcHVwX2VlNGUzNmZkZDQ5MDRhZTY5ODM0YWQyOGZkMDZlODE3LnNldENvbnRlbnQoaHRtbF9jMzUzMmI2MjM5ZWQ0NmRjYjVlYTU4YmQwOWU2NjliNik7CiAgICAgICAgICAgIAoKICAgICAgICAgICAgY2lyY2xlX21hcmtlcl9jZDE5NTRmYzNlNDU0ZDc1YjVjZWNlNjQzMjA2MGNmZi5iaW5kUG9wdXAocG9wdXBfZWU0ZTM2ZmRkNDkwNGFlNjk4MzRhZDI4ZmQwNmU4MTcpOwoKICAgICAgICAgICAgCiAgICAgICAgCiAgICAKICAgICAgICAgICAgdmFyIGNpcmNsZV9tYXJrZXJfMzUwZjllMTM1Yzg3NDM3ZTliNDIxOGY4MWZhOTYxMjQgPSBMLmNpcmNsZU1hcmtlcigKICAgICAgICAgICAgICAgIFsyOC41NjU2NDE5LDc3LjE5MzQzODIwMDAwMDAyXSwKICAgICAgICAgICAgICAgIHsKICAiYnViYmxpbmdNb3VzZUV2ZW50cyI6IHRydWUsCiAgImNvbG9yIjogIiNmZjAwMDAiLAogICJkYXNoQXJyYXkiOiBudWxsLAogICJkYXNoT2Zmc2V0IjogbnVsbCwKICAiZmlsbCI6IHRydWUsCiAgImZpbGxDb2xvciI6ICIjZmYwMDAwIiwKICAiZmlsbE9wYWNpdHkiOiAwLjcsCiAgImZpbGxSdWxlIjogImV2ZW5vZGQiLAogICJsaW5lQ2FwIjogInJvdW5kIiwKICAibGluZUpvaW4iOiAicm91bmQiLAogICJvcGFjaXR5IjogMS4wLAogICJyYWRpdXMiOiA1LAogICJzdHJva2UiOiB0cnVlLAogICJ3ZWlnaHQiOiAzCn0KICAgICAgICAgICAgICAgICkuYWRkVG8obWFwX2Y5NjAxZWZmOGI1NzRiMTk5M2NiNGQ1NTZiYjcxZDU2KTsKICAgICAgICAgICAgCiAgICAKICAgICAgICAgICAgdmFyIHBvcHVwXzNmMDg4MDg2ZjA4YTQxOTY4YWU2YzdmMzkzZmNiMmYxID0gTC5wb3B1cCh7bWF4V2lkdGg6ICczMDAnfSk7CgogICAgICAgICAgICAKICAgICAgICAgICAgICAgIHZhciBodG1sX2ExOWZiZjc4MDg3YjQ5NjQ4YzgwMDQ1ZTI2YTBkZDJhID0gJCgnPGRpdiBpZD0iaHRtbF9hMTlmYmY3ODA4N2I0OTY0OGM4MDA0NWUyNmEwZGQyYSIgc3R5bGU9IndpZHRoOiAxMDAuMCU7IGhlaWdodDogMTAwLjAlOyI+U2FmZGFyanVuZyBFbmNsYXZlIENsdXN0ZXIgMDwvZGl2PicpWzBdOwogICAgICAgICAgICAgICAgcG9wdXBfM2YwODgwODZmMDhhNDE5NjhhZTZjN2YzOTNmY2IyZjEuc2V0Q29udGVudChodG1sX2ExOWZiZjc4MDg3YjQ5NjQ4YzgwMDQ1ZTI2YTBkZDJhKTsKICAgICAgICAgICAgCgogICAgICAgICAgICBjaXJjbGVfbWFya2VyXzM1MGY5ZTEzNWM4NzQzN2U5YjQyMThmODFmYTk2MTI0LmJpbmRQb3B1cChwb3B1cF8zZjA4ODA4NmYwOGE0MTk2OGFlNmM3ZjM5M2ZjYjJmMSk7CgogICAgICAgICAgICAKICAgICAgICAKICAgIAogICAgICAgICAgICB2YXIgY2lyY2xlX21hcmtlcl82NGRhMGZmNzBhM2I0M2UwYjY3MjAwOTM4NWE0YWI2MCA9IEwuY2lyY2xlTWFya2VyKAogICAgICAgICAgICAgICAgWzI4LjUyNDQxMDY5OTk5OTk5LDc3LjIxMzcyNTMwMDAwMDAxXSwKICAgICAgICAgICAgICAgIHsKICAiYnViYmxpbmdNb3VzZUV2ZW50cyI6IHRydWUsCiAgImNvbG9yIjogIiM4MDAwZmYiLAogICJkYXNoQXJyYXkiOiBudWxsLAogICJkYXNoT2Zmc2V0IjogbnVsbCwKICAiZmlsbCI6IHRydWUsCiAgImZpbGxDb2xvciI6ICIjODAwMGZmIiwKICAiZmlsbE9wYWNpdHkiOiAwLjcsCiAgImZpbGxSdWxlIjogImV2ZW5vZGQiLAogICJsaW5lQ2FwIjogInJvdW5kIiwKICAibGluZUpvaW4iOiAicm91bmQiLAogICJvcGFjaXR5IjogMS4wLAogICJyYWRpdXMiOiA1LAogICJzdHJva2UiOiB0cnVlLAogICJ3ZWlnaHQiOiAzCn0KICAgICAgICAgICAgICAgICkuYWRkVG8obWFwX2Y5NjAxZWZmOGI1NzRiMTk5M2NiNGQ1NTZiYjcxZDU2KTsKICAgICAgICAgICAgCiAgICAKICAgICAgICAgICAgdmFyIHBvcHVwX2E5NDYwZmRmMTkwMzQyMjliOGExMjBhYTE0NTNkYWNkID0gTC5wb3B1cCh7bWF4V2lkdGg6ICczMDAnfSk7CgogICAgICAgICAgICAKICAgICAgICAgICAgICAgIHZhciBodG1sXzA4Y2I5MTdmNmY0NzRjMDU4MzQ3MjlhYmI5MDUxMDZhID0gJCgnPGRpdiBpZD0iaHRtbF8wOGNiOTE3ZjZmNDc0YzA1ODM0NzI5YWJiOTA1MTA2YSIgc3R5bGU9IndpZHRoOiAxMDAuMCU7IGhlaWdodDogMTAwLjAlOyI+U2FrZXQgQ2x1c3RlciAxPC9kaXY+JylbMF07CiAgICAgICAgICAgICAgICBwb3B1cF9hOTQ2MGZkZjE5MDM0MjI5YjhhMTIwYWExNDUzZGFjZC5zZXRDb250ZW50KGh0bWxfMDhjYjkxN2Y2ZjQ3NGMwNTgzNDcyOWFiYjkwNTEwNmEpOwogICAgICAgICAgICAKCiAgICAgICAgICAgIGNpcmNsZV9tYXJrZXJfNjRkYTBmZjcwYTNiNDNlMGI2NzIwMDkzODVhNGFiNjAuYmluZFBvcHVwKHBvcHVwX2E5NDYwZmRmMTkwMzQyMjliOGExMjBhYTE0NTNkYWNkKTsKCiAgICAgICAgICAgIAogICAgICAgIAogICAgCiAgICAgICAgICAgIHZhciBjaXJjbGVfbWFya2VyX2VhNWJlY2Y5M2FlNzRmYTZiNzZjNTcwZTM3MjBlMjBhID0gTC5jaXJjbGVNYXJrZXIoCiAgICAgICAgICAgICAgICBbMjguNTMzNDc4NDk5OTk5OTk4LDc3LjI5MzUyMzIwMDAwMDAxXSwKICAgICAgICAgICAgICAgIHsKICAiYnViYmxpbmdNb3VzZUV2ZW50cyI6IHRydWUsCiAgImNvbG9yIjogIiNmZjAwMDAiLAogICJkYXNoQXJyYXkiOiBudWxsLAogICJkYXNoT2Zmc2V0IjogbnVsbCwKICAiZmlsbCI6IHRydWUsCiAgImZpbGxDb2xvciI6ICIjZmYwMDAwIiwKICAiZmlsbE9wYWNpdHkiOiAwLjcsCiAgImZpbGxSdWxlIjogImV2ZW5vZGQiLAogICJsaW5lQ2FwIjogInJvdW5kIiwKICAibGluZUpvaW4iOiAicm91bmQiLAogICJvcGFjaXR5IjogMS4wLAogICJyYWRpdXMiOiA1LAogICJzdHJva2UiOiB0cnVlLAogICJ3ZWlnaHQiOiAzCn0KICAgICAgICAgICAgICAgICkuYWRkVG8obWFwX2Y5NjAxZWZmOGI1NzRiMTk5M2NiNGQ1NTZiYjcxZDU2KTsKICAgICAgICAgICAgCiAgICAKICAgICAgICAgICAgdmFyIHBvcHVwXzEyNjk4MTNlNmM1ZjQ1ODg5M2ViMzExZTY5ZjRlOTdlID0gTC5wb3B1cCh7bWF4V2lkdGg6ICczMDAnfSk7CgogICAgICAgICAgICAKICAgICAgICAgICAgICAgIHZhciBodG1sXzAzNjhhMWE3NTAwZjQwNjliZGIxOWZkZDNlNDdjZWJhID0gJCgnPGRpdiBpZD0iaHRtbF8wMzY4YTFhNzUwMGY0MDY5YmRiMTlmZGQzZTQ3Y2ViYSIgc3R5bGU9IndpZHRoOiAxMDAuMCU7IGhlaWdodDogMTAwLjAlOyI+U2FyaXRhIFZpaGFyIENsdXN0ZXIgMDwvZGl2PicpWzBdOwogICAgICAgICAgICAgICAgcG9wdXBfMTI2OTgxM2U2YzVmNDU4ODkzZWIzMTFlNjlmNGU5N2Uuc2V0Q29udGVudChodG1sXzAzNjhhMWE3NTAwZjQwNjliZGIxOWZkZDNlNDdjZWJhKTsKICAgICAgICAgICAgCgogICAgICAgICAgICBjaXJjbGVfbWFya2VyX2VhNWJlY2Y5M2FlNzRmYTZiNzZjNTcwZTM3MjBlMjBhLmJpbmRQb3B1cChwb3B1cF8xMjY5ODEzZTZjNWY0NTg4OTNlYjMxMWU2OWY0ZTk3ZSk7CgogICAgICAgICAgICAKICAgICAgICAKICAgIAogICAgICAgICAgICB2YXIgY2lyY2xlX21hcmtlcl9iMzJhYzU4NjVmZWM0ODg2YmU3Y2VhNGI4MzM3NjI1ZSA9IEwuY2lyY2xlTWFya2VyKAogICAgICAgICAgICAgICAgWzI4LjU3NDE1NzUwMDAwMDAwNSw3Ny4xOTUzNzAzXSwKICAgICAgICAgICAgICAgIHsKICAiYnViYmxpbmdNb3VzZUV2ZW50cyI6IHRydWUsCiAgImNvbG9yIjogIiNmZjAwMDAiLAogICJkYXNoQXJyYXkiOiBudWxsLAogICJkYXNoT2Zmc2V0IjogbnVsbCwKICAiZmlsbCI6IHRydWUsCiAgImZpbGxDb2xvciI6ICIjZmYwMDAwIiwKICAiZmlsbE9wYWNpdHkiOiAwLjcsCiAgImZpbGxSdWxlIjogImV2ZW5vZGQiLAogICJsaW5lQ2FwIjogInJvdW5kIiwKICAibGluZUpvaW4iOiAicm91bmQiLAogICJvcGFjaXR5IjogMS4wLAogICJyYWRpdXMiOiA1LAogICJzdHJva2UiOiB0cnVlLAogICJ3ZWlnaHQiOiAzCn0KICAgICAgICAgICAgICAgICkuYWRkVG8obWFwX2Y5NjAxZWZmOGI1NzRiMTk5M2NiNGQ1NTZiYjcxZDU2KTsKICAgICAgICAgICAgCiAgICAKICAgICAgICAgICAgdmFyIHBvcHVwX2Y0MWYzMzE5NzdlZTQ0OTdhZmEyNWE1NTY0YmMwNzdjID0gTC5wb3B1cCh7bWF4V2lkdGg6ICczMDAnfSk7CgogICAgICAgICAgICAKICAgICAgICAgICAgICAgIHZhciBodG1sX2Q0ZDhiNWZkNTI2ODQ2MTI4ZjY3NWZlNzFkOWQxNDRjID0gJCgnPGRpdiBpZD0iaHRtbF9kNGQ4YjVmZDUyNjg0NjEyOGY2NzVmZTcxZDlkMTQ0YyIgc3R5bGU9IndpZHRoOiAxMDAuMCU7IGhlaWdodDogMTAwLjAlOyI+U2Fyb2ppbmkgTmFnYXIgQ2x1c3RlciAwPC9kaXY+JylbMF07CiAgICAgICAgICAgICAgICBwb3B1cF9mNDFmMzMxOTc3ZWU0NDk3YWZhMjVhNTU2NGJjMDc3Yy5zZXRDb250ZW50KGh0bWxfZDRkOGI1ZmQ1MjY4NDYxMjhmNjc1ZmU3MWQ5ZDE0NGMpOwogICAgICAgICAgICAKCiAgICAgICAgICAgIGNpcmNsZV9tYXJrZXJfYjMyYWM1ODY1ZmVjNDg4NmJlN2NlYTRiODMzNzYyNWUuYmluZFBvcHVwKHBvcHVwX2Y0MWYzMzE5NzdlZTQ0OTdhZmEyNWE1NTY0YmMwNzdjKTsKCiAgICAgICAgICAgIAogICAgICAgIAogICAgCiAgICAgICAgICAgIHZhciBjaXJjbGVfbWFya2VyXzIyZWVkMzY2ZDk0OTRhYWE4YTc5ZmMzOGU2OTNhN2VlID0gTC5jaXJjbGVNYXJrZXIoCiAgICAgICAgICAgICAgICBbMjguNTM3NDc4Myw3Ny4yMDIwODg4XSwKICAgICAgICAgICAgICAgIHsKICAiYnViYmxpbmdNb3VzZUV2ZW50cyI6IHRydWUsCiAgImNvbG9yIjogIiNmZjAwMDAiLAogICJkYXNoQXJyYXkiOiBudWxsLAogICJkYXNoT2Zmc2V0IjogbnVsbCwKICAiZmlsbCI6IHRydWUsCiAgImZpbGxDb2xvciI6ICIjZmYwMDAwIiwKICAiZmlsbE9wYWNpdHkiOiAwLjcsCiAgImZpbGxSdWxlIjogImV2ZW5vZGQiLAogICJsaW5lQ2FwIjogInJvdW5kIiwKICAibGluZUpvaW4iOiAicm91bmQiLAogICJvcGFjaXR5IjogMS4wLAogICJyYWRpdXMiOiA1LAogICJzdHJva2UiOiB0cnVlLAogICJ3ZWlnaHQiOiAzCn0KICAgICAgICAgICAgICAgICkuYWRkVG8obWFwX2Y5NjAxZWZmOGI1NzRiMTk5M2NiNGQ1NTZiYjcxZDU2KTsKICAgICAgICAgICAgCiAgICAKICAgICAgICAgICAgdmFyIHBvcHVwX2JlMTgzNjlmMDA5NjRjZWRiNzcxNTM2MTZiMTM0MzYwID0gTC5wb3B1cCh7bWF4V2lkdGg6ICczMDAnfSk7CgogICAgICAgICAgICAKICAgICAgICAgICAgICAgIHZhciBodG1sX2E2YzQ5NmM5NWQyNjRmYmNiNDM3ZWE4OGZmYjRmYjljID0gJCgnPGRpdiBpZD0iaHRtbF9hNmM0OTZjOTVkMjY0ZmJjYjQzN2VhODhmZmI0ZmI5YyIgc3R5bGU9IndpZHRoOiAxMDAuMCU7IGhlaWdodDogMTAwLjAlOyI+U2Fydm9kYXlhIEVuY2xhdmUgQ2x1c3RlciAwPC9kaXY+JylbMF07CiAgICAgICAgICAgICAgICBwb3B1cF9iZTE4MzY5ZjAwOTY0Y2VkYjc3MTUzNjE2YjEzNDM2MC5zZXRDb250ZW50KGh0bWxfYTZjNDk2Yzk1ZDI2NGZiY2I0MzdlYTg4ZmZiNGZiOWMpOwogICAgICAgICAgICAKCiAgICAgICAgICAgIGNpcmNsZV9tYXJrZXJfMjJlZWQzNjZkOTQ5NGFhYThhNzlmYzM4ZTY5M2E3ZWUuYmluZFBvcHVwKHBvcHVwX2JlMTgzNjlmMDA5NjRjZWRiNzcxNTM2MTZiMTM0MzYwKTsKCiAgICAgICAgICAgIAogICAgICAgIAogICAgCiAgICAgICAgICAgIHZhciBjaXJjbGVfbWFya2VyX2U3M2M0ODhhNTYzZDRhNTQ4YWQ5NDI3YWE5NzljNzMwID0gTC5jaXJjbGVNYXJrZXIoCiAgICAgICAgICAgICAgICBbMjguNTQ4MzMwMyw3Ny4yMTQxMDRdLAogICAgICAgICAgICAgICAgewogICJidWJibGluZ01vdXNlRXZlbnRzIjogdHJ1ZSwKICAiY29sb3IiOiAiIzgwZmZiNCIsCiAgImRhc2hBcnJheSI6IG51bGwsCiAgImRhc2hPZmZzZXQiOiBudWxsLAogICJmaWxsIjogdHJ1ZSwKICAiZmlsbENvbG9yIjogIiM4MGZmYjQiLAogICJmaWxsT3BhY2l0eSI6IDAuNywKICAiZmlsbFJ1bGUiOiAiZXZlbm9kZCIsCiAgImxpbmVDYXAiOiAicm91bmQiLAogICJsaW5lSm9pbiI6ICJyb3VuZCIsCiAgIm9wYWNpdHkiOiAxLjAsCiAgInJhZGl1cyI6IDUsCiAgInN0cm9rZSI6IHRydWUsCiAgIndlaWdodCI6IDMKfQogICAgICAgICAgICAgICAgKS5hZGRUbyhtYXBfZjk2MDFlZmY4YjU3NGIxOTkzY2I0ZDU1NmJiNzFkNTYpOwogICAgICAgICAgICAKICAgIAogICAgICAgICAgICB2YXIgcG9wdXBfODg3MzNjNGZjOGY0NGJjYzg0NjRkNDQ2NjMxYWI0MDggPSBMLnBvcHVwKHttYXhXaWR0aDogJzMwMCd9KTsKCiAgICAgICAgICAgIAogICAgICAgICAgICAgICAgdmFyIGh0bWxfZDFhZjY0M2RkZGZmNGI2OWExZjYzYjhlNmQ0MTg3MzkgPSAkKCc8ZGl2IGlkPSJodG1sX2QxYWY2NDNkZGRmZjRiNjlhMWY2M2I4ZTZkNDE4NzM5IiBzdHlsZT0id2lkdGg6IDEwMC4wJTsgaGVpZ2h0OiAxMDAuMCU7Ij5TaGFocHVyIEphdCBDbHVzdGVyIDI8L2Rpdj4nKVswXTsKICAgICAgICAgICAgICAgIHBvcHVwXzg4NzMzYzRmYzhmNDRiY2M4NDY0ZDQ0NjYzMWFiNDA4LnNldENvbnRlbnQoaHRtbF9kMWFmNjQzZGRkZmY0YjY5YTFmNjNiOGU2ZDQxODczOSk7CiAgICAgICAgICAgIAoKICAgICAgICAgICAgY2lyY2xlX21hcmtlcl9lNzNjNDg4YTU2M2Q0YTU0OGFkOTQyN2FhOTc5YzczMC5iaW5kUG9wdXAocG9wdXBfODg3MzNjNGZjOGY0NGJjYzg0NjRkNDQ2NjMxYWI0MDgpOwoKICAgICAgICAgICAgCiAgICAgICAgCiAgICAKICAgICAgICAgICAgdmFyIGNpcmNsZV9tYXJrZXJfYzZmNDY4ZDZjZTliNGNkYTg5MjYzZmY5MDU1NDczYTkgPSBMLmNpcmNsZU1hcmtlcigKICAgICAgICAgICAgICAgIFsyOC41NTIxNDYzOTk5OTk5OTgsNzcuMjI0Njk4M10sCiAgICAgICAgICAgICAgICB7CiAgImJ1YmJsaW5nTW91c2VFdmVudHMiOiB0cnVlLAogICJjb2xvciI6ICIjZmYwMDAwIiwKICAiZGFzaEFycmF5IjogbnVsbCwKICAiZGFzaE9mZnNldCI6IG51bGwsCiAgImZpbGwiOiB0cnVlLAogICJmaWxsQ29sb3IiOiAiI2ZmMDAwMCIsCiAgImZpbGxPcGFjaXR5IjogMC43LAogICJmaWxsUnVsZSI6ICJldmVub2RkIiwKICAibGluZUNhcCI6ICJyb3VuZCIsCiAgImxpbmVKb2luIjogInJvdW5kIiwKICAib3BhY2l0eSI6IDEuMCwKICAicmFkaXVzIjogNSwKICAic3Ryb2tlIjogdHJ1ZSwKICAid2VpZ2h0IjogMwp9CiAgICAgICAgICAgICAgICApLmFkZFRvKG1hcF9mOTYwMWVmZjhiNTc0YjE5OTNjYjRkNTU2YmI3MWQ1Nik7CiAgICAgICAgICAgIAogICAgCiAgICAgICAgICAgIHZhciBwb3B1cF9kODQ4YjIyNGFkNjI0NjI0YjFhOTk5ZDU4MTA5MGE5MyA9IEwucG9wdXAoe21heFdpZHRoOiAnMzAwJ30pOwoKICAgICAgICAgICAgCiAgICAgICAgICAgICAgICB2YXIgaHRtbF80YjBjZmRiMjliNzQ0Y2YzOGIxYzUzN2RhYTdkNzRhOSA9ICQoJzxkaXYgaWQ9Imh0bWxfNGIwY2ZkYjI5Yjc0NGNmMzhiMWM1MzdkYWE3ZDc0YTkiIHN0eWxlPSJ3aWR0aDogMTAwLjAlOyBoZWlnaHQ6IDEwMC4wJTsiPlNpcmkgRm9ydCBDbHVzdGVyIDA8L2Rpdj4nKVswXTsKICAgICAgICAgICAgICAgIHBvcHVwX2Q4NDhiMjI0YWQ2MjQ2MjRiMWE5OTlkNTgxMDkwYTkzLnNldENvbnRlbnQoaHRtbF80YjBjZmRiMjliNzQ0Y2YzOGIxYzUzN2RhYTdkNzRhOSk7CiAgICAgICAgICAgIAoKICAgICAgICAgICAgY2lyY2xlX21hcmtlcl9jNmY0NjhkNmNlOWI0Y2RhODkyNjNmZjkwNTU0NzNhOS5iaW5kUG9wdXAocG9wdXBfZDg0OGIyMjRhZDYyNDYyNGIxYTk5OWQ1ODEwOTBhOTMpOwoKICAgICAgICAgICAgCiAgICAgICAgCiAgICAKICAgICAgICAgICAgdmFyIGNpcmNsZV9tYXJrZXJfMjc5OTEwZWE4ZGNkNDJiNGJmMTE4ZWY5MjI5NzU1ZWYgPSBMLmNpcmNsZU1hcmtlcigKICAgICAgICAgICAgICAgIFsyOC41Njg1NjY0LDc3LjIyMDU2NzY5OTk5OTk5XSwKICAgICAgICAgICAgICAgIHsKICAiYnViYmxpbmdNb3VzZUV2ZW50cyI6IHRydWUsCiAgImNvbG9yIjogIiNmZjAwMDAiLAogICJkYXNoQXJyYXkiOiBudWxsLAogICJkYXNoT2Zmc2V0IjogbnVsbCwKICAiZmlsbCI6IHRydWUsCiAgImZpbGxDb2xvciI6ICIjZmYwMDAwIiwKICAiZmlsbE9wYWNpdHkiOiAwLjcsCiAgImZpbGxSdWxlIjogImV2ZW5vZGQiLAogICJsaW5lQ2FwIjogInJvdW5kIiwKICAibGluZUpvaW4iOiAicm91bmQiLAogICJvcGFjaXR5IjogMS4wLAogICJyYWRpdXMiOiA1LAogICJzdHJva2UiOiB0cnVlLAogICJ3ZWlnaHQiOiAzCn0KICAgICAgICAgICAgICAgICkuYWRkVG8obWFwX2Y5NjAxZWZmOGI1NzRiMTk5M2NiNGQ1NTZiYjcxZDU2KTsKICAgICAgICAgICAgCiAgICAKICAgICAgICAgICAgdmFyIHBvcHVwX2NiZGQ2OGU5ODQ0MTQzMTBiOTU5ZmJhN2Y3NDhiMmUyID0gTC5wb3B1cCh7bWF4V2lkdGg6ICczMDAnfSk7CgogICAgICAgICAgICAKICAgICAgICAgICAgICAgIHZhciBodG1sXzhlNmE0NGQzODQwZjQyYjBiYWNiN2NhMWQ0Y2NkNTAxID0gJCgnPGRpdiBpZD0iaHRtbF84ZTZhNDRkMzg0MGY0MmIwYmFjYjdjYTFkNGNjZDUwMSIgc3R5bGU9IndpZHRoOiAxMDAuMCU7IGhlaWdodDogMTAwLjAlOyI+U291dGggRXh0ZW5zaW9uIENsdXN0ZXIgMDwvZGl2PicpWzBdOwogICAgICAgICAgICAgICAgcG9wdXBfY2JkZDY4ZTk4NDQxNDMxMGI5NTlmYmE3Zjc0OGIyZTIuc2V0Q29udGVudChodG1sXzhlNmE0NGQzODQwZjQyYjBiYWNiN2NhMWQ0Y2NkNTAxKTsKICAgICAgICAgICAgCgogICAgICAgICAgICBjaXJjbGVfbWFya2VyXzI3OTkxMGVhOGRjZDQyYjRiZjExOGVmOTIyOTc1NWVmLmJpbmRQb3B1cChwb3B1cF9jYmRkNjhlOTg0NDE0MzEwYjk1OWZiYTdmNzQ4YjJlMik7CgogICAgICAgICAgICAKICAgICAgICAKICAgIAogICAgICAgICAgICB2YXIgY2lyY2xlX21hcmtlcl9mMDY2NGY3NTEyMzU0MjA2YWU3OGRmY2Y5MThkZmQyZCA9IEwuY2lyY2xlTWFya2VyKAogICAgICAgICAgICAgICAgWzI4LjU2NTIyMDM5OTk5OTk5OCw3Ny4yNTQ3MDQxXSwKICAgICAgICAgICAgICAgIHsKICAiYnViYmxpbmdNb3VzZUV2ZW50cyI6IHRydWUsCiAgImNvbG9yIjogIiNmZjAwMDAiLAogICJkYXNoQXJyYXkiOiBudWxsLAogICJkYXNoT2Zmc2V0IjogbnVsbCwKICAiZmlsbCI6IHRydWUsCiAgImZpbGxDb2xvciI6ICIjZmYwMDAwIiwKICAiZmlsbE9wYWNpdHkiOiAwLjcsCiAgImZpbGxSdWxlIjogImV2ZW5vZGQiLAogICJsaW5lQ2FwIjogInJvdW5kIiwKICAibGluZUpvaW4iOiAicm91bmQiLAogICJvcGFjaXR5IjogMS4wLAogICJyYWRpdXMiOiA1LAogICJzdHJva2UiOiB0cnVlLAogICJ3ZWlnaHQiOiAzCn0KICAgICAgICAgICAgICAgICkuYWRkVG8obWFwX2Y5NjAxZWZmOGI1NzRiMTk5M2NiNGQ1NTZiYjcxZDU2KTsKICAgICAgICAgICAgCiAgICAKICAgICAgICAgICAgdmFyIHBvcHVwXzEwYjRlMDY2MjAzMDQ3ZWE4OWFmYzk2NmRjYzExMWRmID0gTC5wb3B1cCh7bWF4V2lkdGg6ICczMDAnfSk7CgogICAgICAgICAgICAKICAgICAgICAgICAgICAgIHZhciBodG1sXzNmZGJkMGU1MTQ5MTQ3ZDVhMWIwYTViZWNjYjY3MjZmID0gJCgnPGRpdiBpZD0iaHRtbF8zZmRiZDBlNTE0OTE0N2Q1YTFiMGE1YmVjY2I2NzI2ZiIgc3R5bGU9IndpZHRoOiAxMDAuMCU7IGhlaWdodDogMTAwLjAlOyI+U3Jpbml3YXNwdXJpIENsdXN0ZXIgMDwvZGl2PicpWzBdOwogICAgICAgICAgICAgICAgcG9wdXBfMTBiNGUwNjYyMDMwNDdlYTg5YWZjOTY2ZGNjMTExZGYuc2V0Q29udGVudChodG1sXzNmZGJkMGU1MTQ5MTQ3ZDVhMWIwYTViZWNjYjY3MjZmKTsKICAgICAgICAgICAgCgogICAgICAgICAgICBjaXJjbGVfbWFya2VyX2YwNjY0Zjc1MTIzNTQyMDZhZTc4ZGZjZjkxOGRmZDJkLmJpbmRQb3B1cChwb3B1cF8xMGI0ZTA2NjIwMzA0N2VhODlhZmM5NjZkY2MxMTFkZik7CgogICAgICAgICAgICAKICAgICAgICAKPC9zY3JpcHQ+ onload=\"this.contentDocument.open();this.contentDocument.write(atob(this.getAttribute('data-html')));this.contentDocument.close();\" allowfullscreen webkitallowfullscreen mozallowfullscreen></iframe></div></div>"
      ],
      "text/plain": [
       "<folium.folium.Map at 0x1b70f81b648>"
      ]
     },
     "execution_count": 51,
     "metadata": {},
     "output_type": "execute_result"
    }
   ],
   "source": [
    "kclusters = 3\n",
    "# create map\n",
    "map_clusters = folium.Map(location=[latitude, longitude], zoom_start=11)\n",
    "\n",
    "# set color scheme for the clusters\n",
    "x = np.arange(kclusters)\n",
    "ys = [i + x + (i*x)**2 for i in range(kclusters)]\n",
    "colors_array = cm.rainbow(np.linspace(0, 1, len(ys)))\n",
    "rainbow = [colors.rgb2hex(i) for i in colors_array]\n",
    "\n",
    "# add markers to the map\n",
    "markers_colors = []\n",
    "for lat, lon, poi, cluster in zip(delhi_grouped['Neighborhood Latitude'], delhi_grouped['Neighborhood Longitude'], delhi_grouped['Neighborhood'], delhi_grouped['Cluster']):\n",
    "    label = folium.Popup(str(poi) + ' Cluster ' + str(cluster), parse_html=True)\n",
    "    folium.CircleMarker(\n",
    "        [lat, lon],\n",
    "        radius=5,\n",
    "        popup=label,\n",
    "        color=rainbow[cluster-1],\n",
    "        fill=True,\n",
    "        fill_color=rainbow[cluster-1],\n",
    "        fill_opacity=0.7).add_to(map_clusters)\n",
    "       \n",
    "map_clusters"
   ]
  },
  {
   "cell_type": "code",
   "execution_count": 52,
   "metadata": {},
   "outputs": [
    {
     "data": {
      "text/html": [
       "<div>\n",
       "<style scoped>\n",
       "    .dataframe tbody tr th:only-of-type {\n",
       "        vertical-align: middle;\n",
       "    }\n",
       "\n",
       "    .dataframe tbody tr th {\n",
       "        vertical-align: top;\n",
       "    }\n",
       "\n",
       "    .dataframe thead th {\n",
       "        text-align: right;\n",
       "    }\n",
       "</style>\n",
       "<table border=\"1\" class=\"dataframe\">\n",
       "  <thead>\n",
       "    <tr style=\"text-align: right;\">\n",
       "      <th></th>\n",
       "      <th>Neighborhood</th>\n",
       "      <th>Venue Longitude</th>\n",
       "      <th>Likes Count</th>\n",
       "    </tr>\n",
       "  </thead>\n",
       "  <tbody>\n",
       "    <tr>\n",
       "      <td>0</td>\n",
       "      <td>Alaknanda</td>\n",
       "      <td>77.249834</td>\n",
       "      <td>2.181818</td>\n",
       "    </tr>\n",
       "    <tr>\n",
       "      <td>2</td>\n",
       "      <td>Chhattarpur</td>\n",
       "      <td>77.175013</td>\n",
       "      <td>0.500000</td>\n",
       "    </tr>\n",
       "    <tr>\n",
       "      <td>3</td>\n",
       "      <td>Chittaranjan Park</td>\n",
       "      <td>77.249825</td>\n",
       "      <td>1.500000</td>\n",
       "    </tr>\n",
       "    <tr>\n",
       "      <td>5</td>\n",
       "      <td>Dayanand Colony</td>\n",
       "      <td>77.245805</td>\n",
       "      <td>5.000000</td>\n",
       "    </tr>\n",
       "    <tr>\n",
       "      <td>6</td>\n",
       "      <td>Defence Colony</td>\n",
       "      <td>77.230621</td>\n",
       "      <td>9.812500</td>\n",
       "    </tr>\n",
       "    <tr>\n",
       "      <td>7</td>\n",
       "      <td>East of Kailash</td>\n",
       "      <td>77.244994</td>\n",
       "      <td>2.375000</td>\n",
       "    </tr>\n",
       "    <tr>\n",
       "      <td>8</td>\n",
       "      <td>Friends Colony</td>\n",
       "      <td>77.261516</td>\n",
       "      <td>0.000000</td>\n",
       "    </tr>\n",
       "    <tr>\n",
       "      <td>9</td>\n",
       "      <td>Gole Market</td>\n",
       "      <td>77.207874</td>\n",
       "      <td>3.600000</td>\n",
       "    </tr>\n",
       "    <tr>\n",
       "      <td>10</td>\n",
       "      <td>Golf Links</td>\n",
       "      <td>77.232194</td>\n",
       "      <td>1.000000</td>\n",
       "    </tr>\n",
       "    <tr>\n",
       "      <td>11</td>\n",
       "      <td>Greater Kailash</td>\n",
       "      <td>77.232018</td>\n",
       "      <td>3.818182</td>\n",
       "    </tr>\n",
       "    <tr>\n",
       "      <td>12</td>\n",
       "      <td>Green Park</td>\n",
       "      <td>77.204471</td>\n",
       "      <td>6.652174</td>\n",
       "    </tr>\n",
       "    <tr>\n",
       "      <td>15</td>\n",
       "      <td>Jangpura</td>\n",
       "      <td>77.242569</td>\n",
       "      <td>5.875000</td>\n",
       "    </tr>\n",
       "    <tr>\n",
       "      <td>16</td>\n",
       "      <td>Jasola</td>\n",
       "      <td>77.296701</td>\n",
       "      <td>4.250000</td>\n",
       "    </tr>\n",
       "    <tr>\n",
       "      <td>19</td>\n",
       "      <td>Khanpur</td>\n",
       "      <td>77.232170</td>\n",
       "      <td>0.666667</td>\n",
       "    </tr>\n",
       "    <tr>\n",
       "      <td>21</td>\n",
       "      <td>Lajpat Nagar</td>\n",
       "      <td>77.245697</td>\n",
       "      <td>6.000000</td>\n",
       "    </tr>\n",
       "    <tr>\n",
       "      <td>22</td>\n",
       "      <td>Lodi Colony</td>\n",
       "      <td>77.222404</td>\n",
       "      <td>4.500000</td>\n",
       "    </tr>\n",
       "    <tr>\n",
       "      <td>23</td>\n",
       "      <td>Maharani Bagh</td>\n",
       "      <td>77.264767</td>\n",
       "      <td>0.000000</td>\n",
       "    </tr>\n",
       "    <tr>\n",
       "      <td>24</td>\n",
       "      <td>Malviya Nagar</td>\n",
       "      <td>77.210564</td>\n",
       "      <td>6.285714</td>\n",
       "    </tr>\n",
       "    <tr>\n",
       "      <td>25</td>\n",
       "      <td>Mehrauli</td>\n",
       "      <td>77.180588</td>\n",
       "      <td>6.666667</td>\n",
       "    </tr>\n",
       "    <tr>\n",
       "      <td>28</td>\n",
       "      <td>Netaji Nagar</td>\n",
       "      <td>77.185345</td>\n",
       "      <td>3.666667</td>\n",
       "    </tr>\n",
       "    <tr>\n",
       "      <td>29</td>\n",
       "      <td>New Friends Colony</td>\n",
       "      <td>77.269030</td>\n",
       "      <td>4.000000</td>\n",
       "    </tr>\n",
       "    <tr>\n",
       "      <td>30</td>\n",
       "      <td>Nizamuddin West</td>\n",
       "      <td>77.243583</td>\n",
       "      <td>8.500000</td>\n",
       "    </tr>\n",
       "    <tr>\n",
       "      <td>31</td>\n",
       "      <td>Okhla</td>\n",
       "      <td>77.289999</td>\n",
       "      <td>0.800000</td>\n",
       "    </tr>\n",
       "    <tr>\n",
       "      <td>32</td>\n",
       "      <td>Safdarjung Enclave</td>\n",
       "      <td>77.192545</td>\n",
       "      <td>3.000000</td>\n",
       "    </tr>\n",
       "    <tr>\n",
       "      <td>34</td>\n",
       "      <td>Sarita Vihar</td>\n",
       "      <td>77.292036</td>\n",
       "      <td>4.000000</td>\n",
       "    </tr>\n",
       "    <tr>\n",
       "      <td>35</td>\n",
       "      <td>Sarojini Nagar</td>\n",
       "      <td>77.194986</td>\n",
       "      <td>2.444444</td>\n",
       "    </tr>\n",
       "    <tr>\n",
       "      <td>36</td>\n",
       "      <td>Sarvodaya Enclave</td>\n",
       "      <td>77.198363</td>\n",
       "      <td>10.571429</td>\n",
       "    </tr>\n",
       "    <tr>\n",
       "      <td>38</td>\n",
       "      <td>Siri Fort</td>\n",
       "      <td>77.228343</td>\n",
       "      <td>1.000000</td>\n",
       "    </tr>\n",
       "    <tr>\n",
       "      <td>39</td>\n",
       "      <td>South Extension</td>\n",
       "      <td>77.220119</td>\n",
       "      <td>7.400000</td>\n",
       "    </tr>\n",
       "    <tr>\n",
       "      <td>40</td>\n",
       "      <td>Sriniwaspuri</td>\n",
       "      <td>77.253722</td>\n",
       "      <td>0.000000</td>\n",
       "    </tr>\n",
       "  </tbody>\n",
       "</table>\n",
       "</div>"
      ],
      "text/plain": [
       "          Neighborhood  Venue Longitude  Likes Count\n",
       "0            Alaknanda        77.249834     2.181818\n",
       "2          Chhattarpur        77.175013     0.500000\n",
       "3    Chittaranjan Park        77.249825     1.500000\n",
       "5      Dayanand Colony        77.245805     5.000000\n",
       "6       Defence Colony        77.230621     9.812500\n",
       "7      East of Kailash        77.244994     2.375000\n",
       "8       Friends Colony        77.261516     0.000000\n",
       "9          Gole Market        77.207874     3.600000\n",
       "10          Golf Links        77.232194     1.000000\n",
       "11     Greater Kailash        77.232018     3.818182\n",
       "12          Green Park        77.204471     6.652174\n",
       "15            Jangpura        77.242569     5.875000\n",
       "16              Jasola        77.296701     4.250000\n",
       "19             Khanpur        77.232170     0.666667\n",
       "21        Lajpat Nagar        77.245697     6.000000\n",
       "22         Lodi Colony        77.222404     4.500000\n",
       "23       Maharani Bagh        77.264767     0.000000\n",
       "24       Malviya Nagar        77.210564     6.285714\n",
       "25            Mehrauli        77.180588     6.666667\n",
       "28        Netaji Nagar        77.185345     3.666667\n",
       "29  New Friends Colony        77.269030     4.000000\n",
       "30     Nizamuddin West        77.243583     8.500000\n",
       "31               Okhla        77.289999     0.800000\n",
       "32  Safdarjung Enclave        77.192545     3.000000\n",
       "34        Sarita Vihar        77.292036     4.000000\n",
       "35      Sarojini Nagar        77.194986     2.444444\n",
       "36   Sarvodaya Enclave        77.198363    10.571429\n",
       "38           Siri Fort        77.228343     1.000000\n",
       "39     South Extension        77.220119     7.400000\n",
       "40        Sriniwaspuri        77.253722     0.000000"
      ]
     },
     "execution_count": 52,
     "metadata": {},
     "output_type": "execute_result"
    }
   ],
   "source": [
    "# Cluster 1\n",
    "delhi_grouped.loc[delhi_grouped['Cluster'] == 0, delhi_grouped.columns[[1] + list(range(5, delhi_grouped.shape[1]))]]"
   ]
  },
  {
   "cell_type": "code",
   "execution_count": 53,
   "metadata": {},
   "outputs": [
    {
     "data": {
      "text/html": [
       "<div>\n",
       "<style scoped>\n",
       "    .dataframe tbody tr th:only-of-type {\n",
       "        vertical-align: middle;\n",
       "    }\n",
       "\n",
       "    .dataframe tbody tr th {\n",
       "        vertical-align: top;\n",
       "    }\n",
       "\n",
       "    .dataframe thead th {\n",
       "        text-align: right;\n",
       "    }\n",
       "</style>\n",
       "<table border=\"1\" class=\"dataframe\">\n",
       "  <thead>\n",
       "    <tr style=\"text-align: right;\">\n",
       "      <th></th>\n",
       "      <th>Neighborhood</th>\n",
       "      <th>Venue Longitude</th>\n",
       "      <th>Likes Count</th>\n",
       "    </tr>\n",
       "  </thead>\n",
       "  <tbody>\n",
       "    <tr>\n",
       "      <td>1</td>\n",
       "      <td>Barakhamba Road</td>\n",
       "      <td>77.222245</td>\n",
       "      <td>40.000000</td>\n",
       "    </tr>\n",
       "    <tr>\n",
       "      <td>4</td>\n",
       "      <td>Connaught Place</td>\n",
       "      <td>77.219801</td>\n",
       "      <td>49.880952</td>\n",
       "    </tr>\n",
       "    <tr>\n",
       "      <td>17</td>\n",
       "      <td>Kailash Colony</td>\n",
       "      <td>77.242078</td>\n",
       "      <td>40.400000</td>\n",
       "    </tr>\n",
       "    <tr>\n",
       "      <td>20</td>\n",
       "      <td>Khirki Village</td>\n",
       "      <td>77.218093</td>\n",
       "      <td>41.621622</td>\n",
       "    </tr>\n",
       "    <tr>\n",
       "      <td>33</td>\n",
       "      <td>Saket</td>\n",
       "      <td>77.216635</td>\n",
       "      <td>63.333333</td>\n",
       "    </tr>\n",
       "  </tbody>\n",
       "</table>\n",
       "</div>"
      ],
      "text/plain": [
       "       Neighborhood  Venue Longitude  Likes Count\n",
       "1   Barakhamba Road        77.222245    40.000000\n",
       "4   Connaught Place        77.219801    49.880952\n",
       "17   Kailash Colony        77.242078    40.400000\n",
       "20   Khirki Village        77.218093    41.621622\n",
       "33            Saket        77.216635    63.333333"
      ]
     },
     "execution_count": 53,
     "metadata": {},
     "output_type": "execute_result"
    }
   ],
   "source": [
    "# Cluster 2\n",
    "delhi_grouped.loc[delhi_grouped['Cluster'] == 1, delhi_grouped.columns[[1] + list(range(5, delhi_grouped.shape[1]))]]"
   ]
  },
  {
   "cell_type": "code",
   "execution_count": 54,
   "metadata": {},
   "outputs": [
    {
     "data": {
      "text/html": [
       "<div>\n",
       "<style scoped>\n",
       "    .dataframe tbody tr th:only-of-type {\n",
       "        vertical-align: middle;\n",
       "    }\n",
       "\n",
       "    .dataframe tbody tr th {\n",
       "        vertical-align: top;\n",
       "    }\n",
       "\n",
       "    .dataframe thead th {\n",
       "        text-align: right;\n",
       "    }\n",
       "</style>\n",
       "<table border=\"1\" class=\"dataframe\">\n",
       "  <thead>\n",
       "    <tr style=\"text-align: right;\">\n",
       "      <th></th>\n",
       "      <th>Neighborhood</th>\n",
       "      <th>Venue Longitude</th>\n",
       "      <th>Likes Count</th>\n",
       "    </tr>\n",
       "  </thead>\n",
       "  <tbody>\n",
       "    <tr>\n",
       "      <td>13</td>\n",
       "      <td>Hauz Khas</td>\n",
       "      <td>77.208543</td>\n",
       "      <td>16.000000</td>\n",
       "    </tr>\n",
       "    <tr>\n",
       "      <td>14</td>\n",
       "      <td>Hauz Khas Village</td>\n",
       "      <td>77.194612</td>\n",
       "      <td>13.842105</td>\n",
       "    </tr>\n",
       "    <tr>\n",
       "      <td>18</td>\n",
       "      <td>Khan Market</td>\n",
       "      <td>77.227050</td>\n",
       "      <td>24.264706</td>\n",
       "    </tr>\n",
       "    <tr>\n",
       "      <td>26</td>\n",
       "      <td>Neeti Bagh</td>\n",
       "      <td>77.218434</td>\n",
       "      <td>16.666667</td>\n",
       "    </tr>\n",
       "    <tr>\n",
       "      <td>27</td>\n",
       "      <td>Nehru Place</td>\n",
       "      <td>77.251616</td>\n",
       "      <td>20.058824</td>\n",
       "    </tr>\n",
       "    <tr>\n",
       "      <td>37</td>\n",
       "      <td>Shahpur Jat</td>\n",
       "      <td>77.214227</td>\n",
       "      <td>20.500000</td>\n",
       "    </tr>\n",
       "  </tbody>\n",
       "</table>\n",
       "</div>"
      ],
      "text/plain": [
       "         Neighborhood  Venue Longitude  Likes Count\n",
       "13          Hauz Khas        77.208543    16.000000\n",
       "14  Hauz Khas Village        77.194612    13.842105\n",
       "18        Khan Market        77.227050    24.264706\n",
       "26         Neeti Bagh        77.218434    16.666667\n",
       "27        Nehru Place        77.251616    20.058824\n",
       "37        Shahpur Jat        77.214227    20.500000"
      ]
     },
     "execution_count": 54,
     "metadata": {},
     "output_type": "execute_result"
    }
   ],
   "source": [
    "# Cluster 3\n",
    "delhi_grouped.loc[delhi_grouped['Cluster'] == 2, delhi_grouped.columns[[1] + list(range(5, delhi_grouped.shape[1]))]]"
   ]
  },
  {
   "cell_type": "code",
   "execution_count": null,
   "metadata": {},
   "outputs": [],
   "source": []
  }
 ],
 "metadata": {
  "kernelspec": {
   "display_name": "Python 3",
   "language": "python",
   "name": "python3"
  },
  "language_info": {
   "codemirror_mode": {
    "name": "ipython",
    "version": 3
   },
   "file_extension": ".py",
   "mimetype": "text/x-python",
   "name": "python",
   "nbconvert_exporter": "python",
   "pygments_lexer": "ipython3",
   "version": "3.7.4"
  }
 },
 "nbformat": 4,
 "nbformat_minor": 2
}
